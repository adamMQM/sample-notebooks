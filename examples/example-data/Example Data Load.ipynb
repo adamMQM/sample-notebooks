{
 "cells": [
  {
   "cell_type": "code",
   "execution_count": 10,
   "id": "777f25ae",
   "metadata": {},
   "outputs": [
    {
     "data": {
      "text/html": [
       "\n",
       "    <form action=\"javascript:code_toggle()\"><input type=\"submit\" id=\"toggleButton\" value=\"Toggle Docstring\"></form>\n",
       "    \n",
       "         <script>\n",
       "         function code_toggle() {\n",
       "             if ($('div.cell.code_cell.rendered.selected div.input').css('display')!='none'){\n",
       "                 $('div.cell.code_cell.rendered.selected div.input').hide();\n",
       "             } else {\n",
       "                 $('div.cell.code_cell.rendered.selected div.input').show();\n",
       "             }\n",
       "         }\n",
       "         </script>\n",
       "\n",
       "     "
      ],
      "text/plain": [
       "<IPython.core.display.HTML object>"
      ]
     },
     "metadata": {},
     "output_type": "display_data"
    }
   ],
   "source": [
    "from lusidtools.jupyter_tools import toggle_code\n",
    "\n",
    "\"\"\"Example Data Load\n",
    "\n",
    "Loads some example data into LUSID\n",
    "\n",
    "Attributes\n",
    "----------\n",
    "transactions\n",
    "cutlabels\n",
    "quotes\n",
    "valuation\n",
    "portfolio groups\n",
    "\n",
    "\"\"\"\n",
    "\n",
    "toggle_code(\"Toggle Docstring\")"
   ]
  },
  {
   "cell_type": "markdown",
   "id": "b9deef8e",
   "metadata": {},
   "source": [
    "# Example Data Load"
   ]
  },
  {
   "cell_type": "code",
   "execution_count": 11,
   "id": "46a8fcdd",
   "metadata": {},
   "outputs": [
    {
     "name": "stderr",
     "output_type": "stream",
     "text": [
      "unable to open secrets file \n"
     ]
    }
   ],
   "source": [
    "## Importing required packages\n",
    "import os\n",
    "import pandas as pd\n",
    "import datetime\n",
    "from datetime import timezone\n",
    "import pytz\n",
    "import requests.exceptions\n",
    "\n",
    "import lusid\n",
    "import lusid.models as models\n",
    "from lusidjam.refreshing_token import RefreshingToken\n",
    "\n",
    "pd.set_option(\"display.max_columns\", None)\n",
    "\n",
    "# Authenticate our user and create our API client\n",
    "secrets_path = os.getenv(\"FBN_SECRETS_PATH\", \"\")\n",
    "from lusid.extensions import ArgsConfigurationLoader, EnvironmentVariablesConfigurationLoader, SecretsFileConfigurationLoader, get_api_configuration, get_access_token\n",
    "from lusid.extensions import ApiClientFactory\n",
    "\n",
    "# Initiate an API Factory which is the client side object for interacting with LUSID APIs\n",
    "config_loaders=(\n",
    "    ArgsConfigurationLoader(token = RefreshingToken(), app_name=\"LusidJupyterNotebook\"), \n",
    "    EnvironmentVariablesConfigurationLoader(),\n",
    "    SecretsFileConfigurationLoader(secrets_path))\n",
    "api_factory = lusid.extensions.ApiClientFactory(config_loaders=config_loaders)"
   ]
  },
  {
   "cell_type": "code",
   "execution_count": 12,
   "id": "206b2d5c",
   "metadata": {},
   "outputs": [],
   "source": [
    "# construct the API we want to use\n",
    "cut_label_definitions_api = api_factory.build(lusid.api.CutLabelDefinitionsApi)\n",
    "portfolios_api = api_factory.build(lusid.api.PortfoliosApi)\n",
    "transaction_portfolios_api = api_factory.build(lusid.api.TransactionPortfoliosApi)\n",
    "quotes_api = api_factory.build(lusid.api.QuotesApi)\n",
    "configuration_recipe_api = api_factory.build(lusid.api.ConfigurationRecipeApi)\n",
    "portfolio_groups_api = api_factory.build(lusid.api.PortfolioGroupsApi)\n",
    "instruments_api = api_factory.build(lusid.api.InstrumentsApi)\n",
    "valuations_api = api_factory.build(lusid.api.AggregationApi)"
   ]
  },
  {
   "cell_type": "code",
   "execution_count": 13,
   "id": "3b097da4",
   "metadata": {},
   "outputs": [],
   "source": [
    "scope = \"Finbourne-Examples\"\n",
    "market_data_scope = \"FinbourneMarketData\"\n",
    "\n",
    "datafile = \"ExampleData.xlsx\"\n",
    "date = datetime.datetime(2021, 1, 1, 0, 0, 0, 0, tzinfo=timezone.utc)"
   ]
  },
  {
   "cell_type": "code",
   "execution_count": 14,
   "id": "755491be",
   "metadata": {},
   "outputs": [
    {
     "name": "stderr",
     "output_type": "stream",
     "text": [
      "/Users/adammassoud/work/code/repos/sample-notebooks-1/.venv/lib/python3.11/site-packages/openpyxl/worksheet/_reader.py:329: UserWarning: Data Validation extension is not supported and will be removed\n",
      "  warn(msg)\n"
     ]
    }
   ],
   "source": [
    "## Loading Data\n",
    "portfolios = pd.read_excel(datafile,sheet_name = 'Portfolios')\n",
    "holdings = pd.read_excel(datafile,sheet_name = 'Holdings')\n",
    "transactions = pd.read_excel(datafile,sheet_name = 'Transactions')\n",
    "instruments = pd.read_excel(datafile,sheet_name = 'Instruments')\n",
    "quotes = pd.read_excel(datafile,sheet_name = 'Quotes').fillna('')\n",
    "rates = pd.read_excel(datafile,sheet_name = 'Rates').fillna('')\n",
    "recipes = pd.read_excel(datafile,sheet_name = 'Recipes')\n",
    "groups = pd.read_excel(datafile,sheet_name = 'Groups')"
   ]
  },
  {
   "cell_type": "markdown",
   "id": "f3ee9f06",
   "metadata": {},
   "source": [
    "### Creating CutLabels"
   ]
  },
  {
   "cell_type": "code",
   "execution_count": 15,
   "id": "64ac4608",
   "metadata": {},
   "outputs": [
    {
     "data": {
      "text/plain": [
       "[CutLabelDefinition(code='LDN_Open', display_name='LondonOpen', description='London Market Open Time', cut_local_time=CutLocalTime(hours=8, minutes=0), time_zone='Europe/London', href=None, links=[Link(relation='EntitySchema', href='https://fbn-ci.lusid.com/api/api/schemas/entities/CutLabelDefinition', description=None, method='GET'), Link(relation='RequestLogs', href='http://fbn-ci.lusid.com/app/insights/logs/0HMU6MLR6UEII:00000038', description='A link to the LUSID Insights website showing all logs related to this request', method='GET')]),\n",
       " CutLabelDefinition(code='LDN_Close', display_name='LondonClose', description='London Market Close Time', cut_local_time=CutLocalTime(hours=16, minutes=30), time_zone='Europe/London', href=None, links=[Link(relation='EntitySchema', href='https://fbn-ci.lusid.com/api/api/schemas/entities/CutLabelDefinition', description=None, method='GET'), Link(relation='RequestLogs', href='http://fbn-ci.lusid.com/app/insights/logs/0HMU6MLR6UEII:0000003C', description='A link to the LUSID Insights website showing all logs related to this request', method='GET')]),\n",
       " CutLabelDefinition(code='NY_Close', display_name='NewYorkClose', description='New York Market Close Time', cut_local_time=CutLocalTime(hours=16, minutes=0), time_zone='America/New_York', href=None, links=[Link(relation='EntitySchema', href='https://fbn-ci.lusid.com/api/api/schemas/entities/CutLabelDefinition', description=None, method='GET'), Link(relation='RequestLogs', href='http://fbn-ci.lusid.com/app/insights/logs/0HMU6MQJU59RK:00000185', description='A link to the LUSID Insights website showing all logs related to this request', method='GET')]),\n",
       " CutLabelDefinition(code='NY_Open', display_name='NewYorkOpen', description='New York Market Open Time', cut_local_time=CutLocalTime(hours=9, minutes=30), time_zone='America/New_York', href=None, links=[Link(relation='EntitySchema', href='https://fbn-ci.lusid.com/api/api/schemas/entities/CutLabelDefinition', description=None, method='GET'), Link(relation='RequestLogs', href='http://fbn-ci.lusid.com/app/insights/logs/0HMU6MLR6UEEE:000001DE', description='A link to the LUSID Insights website showing all logs related to this request', method='GET')])]"
      ]
     },
     "execution_count": 15,
     "metadata": {},
     "output_type": "execute_result"
    }
   ],
   "source": [
    "cut_labels = [[\"LDN_Open\",\"LondonOpen\",\"London Market Open Time\", models.CutLocalTime(hours=8, minutes=0), \"Europe/London\"],\n",
    "             [\"LDN_Close\",\"LondonClose\",\"London Market Close Time\", models.CutLocalTime(hours=16, minutes=30), \"Europe/London\"],\n",
    "             [\"NY_Close\",\"NewYorkClose\",\"New York Market Close Time\", models.CutLocalTime(hours=16, minutes=00), \"America/New_York\"],\n",
    "             [\"NY_Open\",\"NewYorkOpen\",\"New York Market Open Time\", models.CutLocalTime(hours=9, minutes=30), \"America/New_York\"]]\n",
    "\n",
    "def create_cut_label(cut_label, overwrite=True):\n",
    "    '''\n",
    "    Input: \n",
    "        cut_label (list): ordered list where \n",
    "                            [0] == code (str), \n",
    "                            [1] == display_name (str), \n",
    "                            [2] == description (str), \n",
    "                            [3] == cut_local_time (models.cutLabelTime),\n",
    "                            [4] == time_zone (str)\n",
    "        overwrite (bool): whether to overwrite existing cutlabel in the provided code if it exists, defaults to True\n",
    "    Output:\n",
    "        resp (lusid.models.cut_label_definition.CutLabelDefinition): Cut Label definition of the created cut label\n",
    "    '''\n",
    "\n",
    "    cut_label_req = models.CreateCutLabelDefinitionRequest(code=cut_label[0],\n",
    "                                                     display_name=cut_label[1],\n",
    "                                                     description=cut_label[2],\n",
    "                                                     cut_local_time=cut_label[3],\n",
    "                                                     time_zone=cut_label[4])\n",
    "    \n",
    "    ## Try creating cutLabel, throws exception if already exists\n",
    "    try:\n",
    "        cut_label_definitions_api.create_cut_label_definition(create_cut_label_definition_request=cut_label_req)\n",
    "    except:\n",
    "        if overwrite:\n",
    "            resp = cut_label_definitions_api.delete_cut_label_definition(code=cut_label[0])\n",
    "            cut_label_definitions_api.create_cut_label_definition(create_cut_label_definition_request=cut_label_req)\n",
    "            \n",
    "    return cut_label_definitions_api.get_cut_label_definition(code=cut_label[0])\n",
    "\n",
    "created_cut_labels = [create_cut_label(c) \n",
    "                      for c in cut_labels]\n",
    "        \n",
    "created_cut_labels"
   ]
  },
  {
   "cell_type": "markdown",
   "id": "ac864349",
   "metadata": {},
   "source": [
    "### Creating Instruments"
   ]
  },
  {
   "cell_type": "code",
   "execution_count": 16,
   "id": "3f3d905a",
   "metadata": {},
   "outputs": [
    {
     "data": {
      "text/plain": [
       "[Instrument(href='https://fbn-ci.lusid.com/api/api/instruments/LusidInstrumentId/LUID_0008ZF31?scope=default', scope='default', lusid_instrument_id='LUID_0008ZF31', version=Version(effective_from=datetime.datetime(1, 1, 1, 0, 0, tzinfo=datetime.timezone.utc), as_at_date=datetime.datetime(2023, 10, 6, 22, 37, 24, 997684, tzinfo=datetime.timezone.utc), as_at_created=datetime.datetime(2023, 10, 6, 22, 37, 24, 997684, tzinfo=datetime.timezone.utc), user_id_created='00uihoufv9AzrEGby2p7', request_id_created='0HMU6MLR6UEEE:000001E0', as_at_modified=datetime.datetime(2023, 10, 6, 22, 37, 24, 997684, tzinfo=datetime.timezone.utc), user_id_modified='00uihoufv9AzrEGby2p7', request_id_modified='0HMU6MLR6UEEE:000001E0', as_at_version_number=1), name='Apple', identifiers={'LusidInstrumentId': 'LUID_0008ZF31', 'Figi': 'BBG000B9XRY4'}, properties=[], lookthrough_portfolio=None, instrument_definition=None, state='Active', asset_class='Unknown', dom_ccy='ZZZ', relationships=[], links=[Link(relation='EntitySchema', href='https://fbn-ci.lusid.com/api/api/schemas/entities/Instrument', description=None, method='GET'), Link(relation='PropertySchema', href='https://fbn-ci.lusid.com/api/api/schemas/properties?propertyKeys=Instrument%2Fdefault%2FCurrency', description=None, method='GET'), Link(relation='RequestLogs', href='http://fbn-ci.lusid.com/app/insights/logs/0HMU6MLR6UEEE:000001E1', description='A link to the LUSID Insights website showing all logs related to this request', method='GET')]),\n",
       " Instrument(href='https://fbn-ci.lusid.com/api/api/instruments/LusidInstrumentId/LUID_0008ZF32?scope=default', scope='default', lusid_instrument_id='LUID_0008ZF32', version=Version(effective_from=datetime.datetime(1, 1, 1, 0, 0, tzinfo=datetime.timezone.utc), as_at_date=datetime.datetime(2023, 10, 6, 22, 37, 26, 30965, tzinfo=datetime.timezone.utc), as_at_created=datetime.datetime(2023, 10, 6, 22, 37, 26, 30965, tzinfo=datetime.timezone.utc), user_id_created='00uihoufv9AzrEGby2p7', request_id_created='0HMU6MQJU59RK:0000018A', as_at_modified=datetime.datetime(2023, 10, 6, 22, 37, 26, 30965, tzinfo=datetime.timezone.utc), user_id_modified='00uihoufv9AzrEGby2p7', request_id_modified='0HMU6MQJU59RK:0000018A', as_at_version_number=1), name='JPMorgan Chase', identifiers={'LusidInstrumentId': 'LUID_0008ZF32', 'Figi': 'BBG000DMBXR2'}, properties=[], lookthrough_portfolio=None, instrument_definition=None, state='Active', asset_class='Unknown', dom_ccy='ZZZ', relationships=[], links=[Link(relation='EntitySchema', href='https://fbn-ci.lusid.com/api/api/schemas/entities/Instrument', description=None, method='GET'), Link(relation='PropertySchema', href='https://fbn-ci.lusid.com/api/api/schemas/properties?propertyKeys=Instrument%2Fdefault%2FCurrency', description=None, method='GET'), Link(relation='RequestLogs', href='http://fbn-ci.lusid.com/app/insights/logs/0HMU6MLR6UEII:0000003F', description='A link to the LUSID Insights website showing all logs related to this request', method='GET')]),\n",
       " Instrument(href='https://fbn-ci.lusid.com/api/api/instruments/LusidInstrumentId/LUID_0008ZF33?scope=default', scope='default', lusid_instrument_id='LUID_0008ZF33', version=Version(effective_from=datetime.datetime(1, 1, 1, 0, 0, tzinfo=datetime.timezone.utc), as_at_date=datetime.datetime(2023, 10, 6, 22, 37, 27, 64987, tzinfo=datetime.timezone.utc), as_at_created=datetime.datetime(2023, 10, 6, 22, 37, 27, 64987, tzinfo=datetime.timezone.utc), user_id_created='00uihoufv9AzrEGby2p7', request_id_created='0HMU6MLR6UEEE:000001E3', as_at_modified=datetime.datetime(2023, 10, 6, 22, 37, 27, 64987, tzinfo=datetime.timezone.utc), user_id_modified='00uihoufv9AzrEGby2p7', request_id_modified='0HMU6MLR6UEEE:000001E3', as_at_version_number=1), name='BP', identifiers={'LusidInstrumentId': 'LUID_0008ZF33', 'Figi': 'BBG000C059M6'}, properties=[], lookthrough_portfolio=None, instrument_definition=None, state='Active', asset_class='Unknown', dom_ccy='ZZZ', relationships=[], links=[Link(relation='EntitySchema', href='https://fbn-ci.lusid.com/api/api/schemas/entities/Instrument', description=None, method='GET'), Link(relation='PropertySchema', href='https://fbn-ci.lusid.com/api/api/schemas/properties?propertyKeys=Instrument%2Fdefault%2FCurrency', description=None, method='GET'), Link(relation='RequestLogs', href='http://fbn-ci.lusid.com/app/insights/logs/0HMU6MQJU59RP:00000259', description='A link to the LUSID Insights website showing all logs related to this request', method='GET')]),\n",
       " Instrument(href='https://fbn-ci.lusid.com/api/api/instruments/LusidInstrumentId/LUID_0008ZF34?scope=default', scope='default', lusid_instrument_id='LUID_0008ZF34', version=Version(effective_from=datetime.datetime(1, 1, 1, 0, 0, tzinfo=datetime.timezone.utc), as_at_date=datetime.datetime(2023, 10, 6, 22, 37, 28, 98888, tzinfo=datetime.timezone.utc), as_at_created=datetime.datetime(2023, 10, 6, 22, 37, 28, 98888, tzinfo=datetime.timezone.utc), user_id_created='00uihoufv9AzrEGby2p7', request_id_created='0HMU6MQJU59RK:0000018E', as_at_modified=datetime.datetime(2023, 10, 6, 22, 37, 28, 98888, tzinfo=datetime.timezone.utc), user_id_modified='00uihoufv9AzrEGby2p7', request_id_modified='0HMU6MQJU59RK:0000018E', as_at_version_number=1), name='Anheuser-Busch InBev', identifiers={'LusidInstrumentId': 'LUID_0008ZF34', 'Figi': 'BBG00DQ4YZ36'}, properties=[], lookthrough_portfolio=None, instrument_definition=None, state='Active', asset_class='Unknown', dom_ccy='ZZZ', relationships=[], links=[Link(relation='EntitySchema', href='https://fbn-ci.lusid.com/api/api/schemas/entities/Instrument', description=None, method='GET'), Link(relation='PropertySchema', href='https://fbn-ci.lusid.com/api/api/schemas/properties?propertyKeys=Instrument%2Fdefault%2FCurrency', description=None, method='GET'), Link(relation='RequestLogs', href='http://fbn-ci.lusid.com/app/insights/logs/0HMU6MQJU59RK:0000018F', description='A link to the LUSID Insights website showing all logs related to this request', method='GET')]),\n",
       " Instrument(href='https://fbn-ci.lusid.com/api/api/instruments/LusidInstrumentId/LUID_0008ZF35?scope=default', scope='default', lusid_instrument_id='LUID_0008ZF35', version=Version(effective_from=datetime.datetime(1, 1, 1, 0, 0, tzinfo=datetime.timezone.utc), as_at_date=datetime.datetime(2023, 10, 6, 22, 37, 31, 21314, tzinfo=datetime.timezone.utc), as_at_created=datetime.datetime(2023, 10, 6, 22, 37, 31, 21314, tzinfo=datetime.timezone.utc), user_id_created='00uihoufv9AzrEGby2p7', request_id_created='0HMU6MLR6UEII:00000041', as_at_modified=datetime.datetime(2023, 10, 6, 22, 37, 31, 21314, tzinfo=datetime.timezone.utc), user_id_modified='00uihoufv9AzrEGby2p7', request_id_modified='0HMU6MLR6UEII:00000041', as_at_version_number=1), name='Toyota Motor', identifiers={'LusidInstrumentId': 'LUID_0008ZF35', 'Figi': 'BBG000BCM915'}, properties=[], lookthrough_portfolio=None, instrument_definition=None, state='Active', asset_class='Unknown', dom_ccy='ZZZ', relationships=[], links=[Link(relation='EntitySchema', href='https://fbn-ci.lusid.com/api/api/schemas/entities/Instrument', description=None, method='GET'), Link(relation='PropertySchema', href='https://fbn-ci.lusid.com/api/api/schemas/properties?propertyKeys=Instrument%2Fdefault%2FCurrency', description=None, method='GET'), Link(relation='RequestLogs', href='http://fbn-ci.lusid.com/app/insights/logs/0HMU6MQJU59RK:00000191', description='A link to the LUSID Insights website showing all logs related to this request', method='GET')]),\n",
       " Instrument(href='https://fbn-ci.lusid.com/api/api/instruments/LusidInstrumentId/LUID_0008ZF36?scope=default', scope='default', lusid_instrument_id='LUID_0008ZF36', version=Version(effective_from=datetime.datetime(1, 1, 1, 0, 0, tzinfo=datetime.timezone.utc), as_at_date=datetime.datetime(2023, 10, 6, 22, 37, 32, 345176, tzinfo=datetime.timezone.utc), as_at_created=datetime.datetime(2023, 10, 6, 22, 37, 32, 345176, tzinfo=datetime.timezone.utc), user_id_created='00uihoufv9AzrEGby2p7', request_id_created='0HMU6MLR6UEII:00000043', as_at_modified=datetime.datetime(2023, 10, 6, 22, 37, 32, 345176, tzinfo=datetime.timezone.utc), user_id_modified='00uihoufv9AzrEGby2p7', request_id_modified='0HMU6MLR6UEII:00000043', as_at_version_number=1), name='Volkswagen', identifiers={'LusidInstrumentId': 'LUID_0008ZF36', 'Figi': 'BBG000BCH458'}, properties=[], lookthrough_portfolio=None, instrument_definition=None, state='Active', asset_class='Unknown', dom_ccy='ZZZ', relationships=[], links=[Link(relation='EntitySchema', href='https://fbn-ci.lusid.com/api/api/schemas/entities/Instrument', description=None, method='GET'), Link(relation='PropertySchema', href='https://fbn-ci.lusid.com/api/api/schemas/properties?propertyKeys=Instrument%2Fdefault%2FCurrency', description=None, method='GET'), Link(relation='RequestLogs', href='http://fbn-ci.lusid.com/app/insights/logs/0HMU6MLR6UEEE:000001E8', description='A link to the LUSID Insights website showing all logs related to this request', method='GET')]),\n",
       " Instrument(href='https://fbn-ci.lusid.com/api/api/instruments/LusidInstrumentId/LUID_0008ZF37?scope=default', scope='default', lusid_instrument_id='LUID_0008ZF37', version=Version(effective_from=datetime.datetime(1, 1, 1, 0, 0, tzinfo=datetime.timezone.utc), as_at_date=datetime.datetime(2023, 10, 6, 22, 37, 34, 96249, tzinfo=datetime.timezone.utc), as_at_created=datetime.datetime(2023, 10, 6, 22, 37, 34, 96249, tzinfo=datetime.timezone.utc), user_id_created='00uihoufv9AzrEGby2p7', request_id_created='0HMU6MLR6UEEE:000001E9', as_at_modified=datetime.datetime(2023, 10, 6, 22, 37, 34, 96249, tzinfo=datetime.timezone.utc), user_id_modified='00uihoufv9AzrEGby2p7', request_id_modified='0HMU6MLR6UEEE:000001E9', as_at_version_number=1), name='HSBC Holdings', identifiers={'LusidInstrumentId': 'LUID_0008ZF37', 'Figi': 'BBG000BS1MT4'}, properties=[], lookthrough_portfolio=None, instrument_definition=None, state='Active', asset_class='Unknown', dom_ccy='ZZZ', relationships=[], links=[Link(relation='EntitySchema', href='https://fbn-ci.lusid.com/api/api/schemas/entities/Instrument', description=None, method='GET'), Link(relation='PropertySchema', href='https://fbn-ci.lusid.com/api/api/schemas/properties?propertyKeys=Instrument%2Fdefault%2FCurrency', description=None, method='GET'), Link(relation='RequestLogs', href='http://fbn-ci.lusid.com/app/insights/logs/0HMU6MLR6UEEE:000001EA', description='A link to the LUSID Insights website showing all logs related to this request', method='GET')]),\n",
       " Instrument(href='https://fbn-ci.lusid.com/api/api/instruments/LusidInstrumentId/LUID_0008ZF38?scope=default', scope='default', lusid_instrument_id='LUID_0008ZF38', version=Version(effective_from=datetime.datetime(1, 1, 1, 0, 0, tzinfo=datetime.timezone.utc), as_at_date=datetime.datetime(2023, 10, 6, 22, 37, 35, 468003, tzinfo=datetime.timezone.utc), as_at_created=datetime.datetime(2023, 10, 6, 22, 37, 35, 468003, tzinfo=datetime.timezone.utc), user_id_created='00uihoufv9AzrEGby2p7', request_id_created='0HMU6MQJU59RP:00000263', as_at_modified=datetime.datetime(2023, 10, 6, 22, 37, 35, 468003, tzinfo=datetime.timezone.utc), user_id_modified='00uihoufv9AzrEGby2p7', request_id_modified='0HMU6MQJU59RP:00000263', as_at_version_number=1), name='Walt Disney', identifiers={'LusidInstrumentId': 'LUID_0008ZF38', 'Figi': 'BBG000BH4R78'}, properties=[], lookthrough_portfolio=None, instrument_definition=None, state='Active', asset_class='Unknown', dom_ccy='ZZZ', relationships=[], links=[Link(relation='EntitySchema', href='https://fbn-ci.lusid.com/api/api/schemas/entities/Instrument', description=None, method='GET'), Link(relation='PropertySchema', href='https://fbn-ci.lusid.com/api/api/schemas/properties?propertyKeys=Instrument%2Fdefault%2FCurrency', description=None, method='GET'), Link(relation='RequestLogs', href='http://fbn-ci.lusid.com/app/insights/logs/0HMU6MLR6UEEE:000001ED', description='A link to the LUSID Insights website showing all logs related to this request', method='GET')]),\n",
       " Instrument(href='https://fbn-ci.lusid.com/api/api/instruments/LusidInstrumentId/LUID_0008ZF39?scope=default', scope='default', lusid_instrument_id='LUID_0008ZF39', version=Version(effective_from=datetime.datetime(1, 1, 1, 0, 0, tzinfo=datetime.timezone.utc), as_at_date=datetime.datetime(2023, 10, 6, 22, 37, 37, 117191, tzinfo=datetime.timezone.utc), as_at_created=datetime.datetime(2023, 10, 6, 22, 37, 37, 117191, tzinfo=datetime.timezone.utc), user_id_created='00uihoufv9AzrEGby2p7', request_id_created='0HMU6MLR6UEE8:000001FE', as_at_modified=datetime.datetime(2023, 10, 6, 22, 37, 37, 117191, tzinfo=datetime.timezone.utc), user_id_modified='00uihoufv9AzrEGby2p7', request_id_modified='0HMU6MLR6UEE8:000001FE', as_at_version_number=1), name='Microsoft', identifiers={'LusidInstrumentId': 'LUID_0008ZF39', 'Figi': 'BBG000BPH459'}, properties=[], lookthrough_portfolio=None, instrument_definition=None, state='Active', asset_class='Unknown', dom_ccy='ZZZ', relationships=[], links=[Link(relation='EntitySchema', href='https://fbn-ci.lusid.com/api/api/schemas/entities/Instrument', description=None, method='GET'), Link(relation='PropertySchema', href='https://fbn-ci.lusid.com/api/api/schemas/properties?propertyKeys=Instrument%2Fdefault%2FCurrency', description=None, method='GET'), Link(relation='RequestLogs', href='http://fbn-ci.lusid.com/app/insights/logs/0HMU6MQJU59RK:00000193', description='A link to the LUSID Insights website showing all logs related to this request', method='GET')]),\n",
       " Instrument(href='https://fbn-ci.lusid.com/api/api/instruments/LusidInstrumentId/LUID_0008ZF3A?scope=default', scope='default', lusid_instrument_id='LUID_0008ZF3A', version=Version(effective_from=datetime.datetime(1, 1, 1, 0, 0, tzinfo=datetime.timezone.utc), as_at_date=datetime.datetime(2023, 10, 6, 22, 37, 38, 910093, tzinfo=datetime.timezone.utc), as_at_created=datetime.datetime(2023, 10, 6, 22, 37, 38, 159450, tzinfo=datetime.timezone.utc), user_id_created='00uihoufv9AzrEGby2p7', request_id_created='0HMU6MQJU59RP:00000266', as_at_modified=datetime.datetime(2023, 10, 6, 22, 37, 38, 159450, tzinfo=datetime.timezone.utc), user_id_modified='00uihoufv9AzrEGby2p7', request_id_modified='0HMU6MQJU59RP:00000266', as_at_version_number=1), name='Softbank', identifiers={'LusidInstrumentId': 'LUID_0008ZF3A', 'Figi': 'BBG000CLY2D3'}, properties=[], lookthrough_portfolio=None, instrument_definition=None, state='Active', asset_class='Unknown', dom_ccy='ZZZ', relationships=[], links=[Link(relation='EntitySchema', href='https://fbn-ci.lusid.com/api/api/schemas/entities/Instrument', description=None, method='GET'), Link(relation='PropertySchema', href='https://fbn-ci.lusid.com/api/api/schemas/properties?propertyKeys=Instrument%2Fdefault%2FCurrency', description=None, method='GET'), Link(relation='RequestLogs', href='http://fbn-ci.lusid.com/app/insights/logs/0HMU6MQJU59RT:00000153', description='A link to the LUSID Insights website showing all logs related to this request', method='GET')]),\n",
       " Instrument(href='https://fbn-ci.lusid.com/api/api/instruments/LusidInstrumentId/LUID_0008ZF3B?scope=default', scope='default', lusid_instrument_id='LUID_0008ZF3B', version=Version(effective_from=datetime.datetime(1, 1, 1, 0, 0, tzinfo=datetime.timezone.utc), as_at_date=datetime.datetime(2023, 10, 6, 22, 37, 39, 906067, tzinfo=datetime.timezone.utc), as_at_created=datetime.datetime(2023, 10, 6, 22, 37, 39, 906067, tzinfo=datetime.timezone.utc), user_id_created='00uihoufv9AzrEGby2p7', request_id_created='0HMU6MLR6UEE8:00000202', as_at_modified=datetime.datetime(2023, 10, 6, 22, 37, 39, 906067, tzinfo=datetime.timezone.utc), user_id_modified='00uihoufv9AzrEGby2p7', request_id_modified='0HMU6MLR6UEE8:00000202', as_at_version_number=1), name='ASTRAZENECA', identifiers={'LusidInstrumentId': 'LUID_0008ZF3B', 'Figi': 'BBG000C0YGB0'}, properties=[], lookthrough_portfolio=None, instrument_definition=None, state='Active', asset_class='Unknown', dom_ccy='ZZZ', relationships=[], links=[Link(relation='EntitySchema', href='https://fbn-ci.lusid.com/api/api/schemas/entities/Instrument', description=None, method='GET'), Link(relation='PropertySchema', href='https://fbn-ci.lusid.com/api/api/schemas/properties?propertyKeys=Instrument%2Fdefault%2FCurrency', description=None, method='GET'), Link(relation='RequestLogs', href='http://fbn-ci.lusid.com/app/insights/logs/0HMU6MQJU59RP:00000269', description='A link to the LUSID Insights website showing all logs related to this request', method='GET')]),\n",
       " Instrument(href='https://fbn-ci.lusid.com/api/api/instruments/LusidInstrumentId/LUID_0008ZF3C?scope=default', scope='default', lusid_instrument_id='LUID_0008ZF3C', version=Version(effective_from=datetime.datetime(1, 1, 1, 0, 0, tzinfo=datetime.timezone.utc), as_at_date=datetime.datetime(2023, 10, 6, 22, 37, 41, 208952, tzinfo=datetime.timezone.utc), as_at_created=datetime.datetime(2023, 10, 6, 22, 37, 41, 208952, tzinfo=datetime.timezone.utc), user_id_created='00uihoufv9AzrEGby2p7', request_id_created='0HMU6MQJU59RK:00000197', as_at_modified=datetime.datetime(2023, 10, 6, 22, 37, 41, 208952, tzinfo=datetime.timezone.utc), user_id_modified='00uihoufv9AzrEGby2p7', request_id_modified='0HMU6MQJU59RK:00000197', as_at_version_number=1), name='INTERCON. HOTEL', identifiers={'LusidInstrumentId': 'LUID_0008ZF3C', 'Figi': 'BBG000C2C436'}, properties=[], lookthrough_portfolio=None, instrument_definition=None, state='Active', asset_class='Unknown', dom_ccy='ZZZ', relationships=[], links=[Link(relation='EntitySchema', href='https://fbn-ci.lusid.com/api/api/schemas/entities/Instrument', description=None, method='GET'), Link(relation='PropertySchema', href='https://fbn-ci.lusid.com/api/api/schemas/properties?propertyKeys=Instrument%2Fdefault%2FCurrency', description=None, method='GET'), Link(relation='RequestLogs', href='http://fbn-ci.lusid.com/app/insights/logs/0HMU6MLR6UEEE:000001F2', description='A link to the LUSID Insights website showing all logs related to this request', method='GET')]),\n",
       " Instrument(href='https://fbn-ci.lusid.com/api/api/instruments/LusidInstrumentId/LUID_0008ZF3D?scope=default', scope='default', lusid_instrument_id='LUID_0008ZF3D', version=Version(effective_from=datetime.datetime(1, 1, 1, 0, 0, tzinfo=datetime.timezone.utc), as_at_date=datetime.datetime(2023, 10, 6, 22, 37, 43, 304937, tzinfo=datetime.timezone.utc), as_at_created=datetime.datetime(2023, 10, 6, 22, 37, 43, 304937, tzinfo=datetime.timezone.utc), user_id_created='00uihoufv9AzrEGby2p7', request_id_created='0HMU6MLR6UEE8:00000205', as_at_modified=datetime.datetime(2023, 10, 6, 22, 37, 43, 304937, tzinfo=datetime.timezone.utc), user_id_modified='00uihoufv9AzrEGby2p7', request_id_modified='0HMU6MLR6UEE8:00000205', as_at_version_number=1), name='LEGAL&GEN.', identifiers={'LusidInstrumentId': 'LUID_0008ZF3D', 'Figi': 'BBG000BDQBV1'}, properties=[], lookthrough_portfolio=None, instrument_definition=None, state='Active', asset_class='Unknown', dom_ccy='ZZZ', relationships=[], links=[Link(relation='EntitySchema', href='https://fbn-ci.lusid.com/api/api/schemas/entities/Instrument', description=None, method='GET'), Link(relation='PropertySchema', href='https://fbn-ci.lusid.com/api/api/schemas/properties?propertyKeys=Instrument%2Fdefault%2FCurrency', description=None, method='GET'), Link(relation='RequestLogs', href='http://fbn-ci.lusid.com/app/insights/logs/0HMU6MQJU59RP:0000026C', description='A link to the LUSID Insights website showing all logs related to this request', method='GET')]),\n",
       " Instrument(href='https://fbn-ci.lusid.com/api/api/instruments/LusidInstrumentId/LUID_0008ZF3E?scope=default', scope='default', lusid_instrument_id='LUID_0008ZF3E', version=Version(effective_from=datetime.datetime(1, 1, 1, 0, 0, tzinfo=datetime.timezone.utc), as_at_date=datetime.datetime(2023, 10, 6, 22, 37, 45, 9212, tzinfo=datetime.timezone.utc), as_at_created=datetime.datetime(2023, 10, 6, 22, 37, 44, 754232, tzinfo=datetime.timezone.utc), user_id_created='00uihoufv9AzrEGby2p7', request_id_created='0HMU6MQJU59RR:0000014A', as_at_modified=datetime.datetime(2023, 10, 6, 22, 37, 44, 754232, tzinfo=datetime.timezone.utc), user_id_modified='00uihoufv9AzrEGby2p7', request_id_modified='0HMU6MQJU59RR:0000014A', as_at_version_number=1), name='MARKS & SP.', identifiers={'LusidInstrumentId': 'LUID_0008ZF3E', 'Figi': 'BBG000BDTRH9'}, properties=[], lookthrough_portfolio=None, instrument_definition=None, state='Active', asset_class='Unknown', dom_ccy='ZZZ', relationships=[], links=[Link(relation='EntitySchema', href='https://fbn-ci.lusid.com/api/api/schemas/entities/Instrument', description=None, method='GET'), Link(relation='PropertySchema', href='https://fbn-ci.lusid.com/api/api/schemas/properties?propertyKeys=Instrument%2Fdefault%2FCurrency', description=None, method='GET'), Link(relation='RequestLogs', href='http://fbn-ci.lusid.com/app/insights/logs/0HMU6MLR6UEEE:000001F5', description='A link to the LUSID Insights website showing all logs related to this request', method='GET')]),\n",
       " Instrument(href='https://fbn-ci.lusid.com/api/api/instruments/LusidInstrumentId/LUID_0008ZF3F?scope=default', scope='default', lusid_instrument_id='LUID_0008ZF3F', version=Version(effective_from=datetime.datetime(1, 1, 1, 0, 0, tzinfo=datetime.timezone.utc), as_at_date=datetime.datetime(2023, 10, 6, 22, 37, 46, 168516, tzinfo=datetime.timezone.utc), as_at_created=datetime.datetime(2023, 10, 6, 22, 37, 46, 168516, tzinfo=datetime.timezone.utc), user_id_created='00uihoufv9AzrEGby2p7', request_id_created='0HMU6MLR6UEE8:00000209', as_at_modified=datetime.datetime(2023, 10, 6, 22, 37, 46, 168516, tzinfo=datetime.timezone.utc), user_id_modified='00uihoufv9AzrEGby2p7', request_id_modified='0HMU6MLR6UEE8:00000209', as_at_version_number=1), name='NATIONAL GRID', identifiers={'LusidInstrumentId': 'LUID_0008ZF3F', 'Figi': 'BBG000FV67D8'}, properties=[], lookthrough_portfolio=None, instrument_definition=None, state='Active', asset_class='Unknown', dom_ccy='ZZZ', relationships=[], links=[Link(relation='EntitySchema', href='https://fbn-ci.lusid.com/api/api/schemas/entities/Instrument', description=None, method='GET'), Link(relation='PropertySchema', href='https://fbn-ci.lusid.com/api/api/schemas/properties?propertyKeys=Instrument%2Fdefault%2FCurrency', description=None, method='GET'), Link(relation='RequestLogs', href='http://fbn-ci.lusid.com/app/insights/logs/0HMU6MQJU59RP:0000026D', description='A link to the LUSID Insights website showing all logs related to this request', method='GET')]),\n",
       " Instrument(href='https://fbn-ci.lusid.com/api/api/instruments/LusidInstrumentId/LUID_0008ZF3G?scope=default', scope='default', lusid_instrument_id='LUID_0008ZF3G', version=Version(effective_from=datetime.datetime(1, 1, 1, 0, 0, tzinfo=datetime.timezone.utc), as_at_date=datetime.datetime(2023, 10, 6, 22, 37, 47, 121959, tzinfo=datetime.timezone.utc), as_at_created=datetime.datetime(2023, 10, 6, 22, 37, 47, 121959, tzinfo=datetime.timezone.utc), user_id_created='00uihoufv9AzrEGby2p7', request_id_created='0HMU6MLR6UEE8:0000020B', as_at_modified=datetime.datetime(2023, 10, 6, 22, 37, 47, 121959, tzinfo=datetime.timezone.utc), user_id_modified='00uihoufv9AzrEGby2p7', request_id_modified='0HMU6MLR6UEE8:0000020B', as_at_version_number=1), name='TAYLOR WIMPEY', identifiers={'LusidInstrumentId': 'LUID_0008ZF3G', 'Figi': 'BBG000BF4HM7'}, properties=[], lookthrough_portfolio=None, instrument_definition=None, state='Active', asset_class='Unknown', dom_ccy='ZZZ', relationships=[], links=[Link(relation='EntitySchema', href='https://fbn-ci.lusid.com/api/api/schemas/entities/Instrument', description=None, method='GET'), Link(relation='PropertySchema', href='https://fbn-ci.lusid.com/api/api/schemas/properties?propertyKeys=Instrument%2Fdefault%2FCurrency', description=None, method='GET'), Link(relation='RequestLogs', href='http://fbn-ci.lusid.com/app/insights/logs/0HMU6MQJU59RK:0000019C', description='A link to the LUSID Insights website showing all logs related to this request', method='GET')]),\n",
       " Instrument(href='https://fbn-ci.lusid.com/api/api/instruments/LusidInstrumentId/LUID_0008ZF3H?scope=default', scope='default', lusid_instrument_id='LUID_0008ZF3H', version=Version(effective_from=datetime.datetime(1, 1, 1, 0, 0, tzinfo=datetime.timezone.utc), as_at_date=datetime.datetime(2023, 10, 6, 22, 37, 48, 564480, tzinfo=datetime.timezone.utc), as_at_created=datetime.datetime(2023, 10, 6, 22, 37, 48, 564480, tzinfo=datetime.timezone.utc), user_id_created='00uihoufv9AzrEGby2p7', request_id_created='0HMU6MQJU59RT:00000155', as_at_modified=datetime.datetime(2023, 10, 6, 22, 37, 48, 564480, tzinfo=datetime.timezone.utc), user_id_modified='00uihoufv9AzrEGby2p7', request_id_modified='0HMU6MQJU59RT:00000155', as_at_version_number=1), name='VODAFONE GRP.', identifiers={'LusidInstrumentId': 'LUID_0008ZF3H', 'Figi': 'BBG000C6K5W3'}, properties=[], lookthrough_portfolio=None, instrument_definition=None, state='Active', asset_class='Unknown', dom_ccy='ZZZ', relationships=[], links=[Link(relation='EntitySchema', href='https://fbn-ci.lusid.com/api/api/schemas/entities/Instrument', description=None, method='GET'), Link(relation='PropertySchema', href='https://fbn-ci.lusid.com/api/api/schemas/properties?propertyKeys=Instrument%2Fdefault%2FCurrency', description=None, method='GET'), Link(relation='RequestLogs', href='http://fbn-ci.lusid.com/app/insights/logs/0HMU6MLR6UEE8:0000020C', description='A link to the LUSID Insights website showing all logs related to this request', method='GET')]),\n",
       " Instrument(href='https://fbn-ci.lusid.com/api/api/instruments/LusidInstrumentId/LUID_0008ZF3I?scope=default', scope='default', lusid_instrument_id='LUID_0008ZF3I', version=Version(effective_from=datetime.datetime(1, 1, 1, 0, 0, tzinfo=datetime.timezone.utc), as_at_date=datetime.datetime(2023, 10, 6, 22, 37, 49, 828688, tzinfo=datetime.timezone.utc), as_at_created=datetime.datetime(2023, 10, 6, 22, 37, 49, 828688, tzinfo=datetime.timezone.utc), user_id_created='00uihoufv9AzrEGby2p7', request_id_created='0HMU6MLR6UEE8:0000020E', as_at_modified=datetime.datetime(2023, 10, 6, 22, 37, 49, 828688, tzinfo=datetime.timezone.utc), user_id_modified='00uihoufv9AzrEGby2p7', request_id_modified='0HMU6MLR6UEE8:0000020E', as_at_version_number=1), name='WHITBREAD', identifiers={'LusidInstrumentId': 'LUID_0008ZF3I', 'Figi': 'BBG000BRVG61'}, properties=[], lookthrough_portfolio=None, instrument_definition=None, state='Active', asset_class='Unknown', dom_ccy='ZZZ', relationships=[], links=[Link(relation='EntitySchema', href='https://fbn-ci.lusid.com/api/api/schemas/entities/Instrument', description=None, method='GET'), Link(relation='PropertySchema', href='https://fbn-ci.lusid.com/api/api/schemas/properties?propertyKeys=Instrument%2Fdefault%2FCurrency', description=None, method='GET'), Link(relation='RequestLogs', href='http://fbn-ci.lusid.com/app/insights/logs/0HMU6MQJU59RT:00000156', description='A link to the LUSID Insights website showing all logs related to this request', method='GET')]),\n",
       " Instrument(href='https://fbn-ci.lusid.com/api/api/instruments/LusidInstrumentId/LUID_0008ZF3J?scope=default', scope='default', lusid_instrument_id='LUID_0008ZF3J', version=Version(effective_from=datetime.datetime(1, 1, 1, 0, 0, tzinfo=datetime.timezone.utc), as_at_date=datetime.datetime(2023, 10, 6, 22, 37, 50, 750424, tzinfo=datetime.timezone.utc), as_at_created=datetime.datetime(2023, 10, 6, 22, 37, 50, 750424, tzinfo=datetime.timezone.utc), user_id_created='00uihoufv9AzrEGby2p7', request_id_created='0HMU6MQJU59RT:00000157', as_at_modified=datetime.datetime(2023, 10, 6, 22, 37, 50, 750424, tzinfo=datetime.timezone.utc), user_id_modified='00uihoufv9AzrEGby2p7', request_id_modified='0HMU6MQJU59RT:00000157', as_at_version_number=1), name='T 2.375% Aug 15, 2024', identifiers={'LusidInstrumentId': 'LUID_0008ZF3J', 'Figi': 'BBG006XYRVX1'}, properties=[], lookthrough_portfolio=None, instrument_definition=None, state='Active', asset_class='Unknown', dom_ccy='ZZZ', relationships=[], links=[Link(relation='EntitySchema', href='https://fbn-ci.lusid.com/api/api/schemas/entities/Instrument', description=None, method='GET'), Link(relation='PropertySchema', href='https://fbn-ci.lusid.com/api/api/schemas/properties?propertyKeys=Instrument%2Fdefault%2FCurrency', description=None, method='GET'), Link(relation='RequestLogs', href='http://fbn-ci.lusid.com/app/insights/logs/0HMU6MLR6UEE8:00000211', description='A link to the LUSID Insights website showing all logs related to this request', method='GET')]),\n",
       " Instrument(href='https://fbn-ci.lusid.com/api/api/instruments/LusidInstrumentId/LUID_0008ZF3K?scope=default', scope='default', lusid_instrument_id='LUID_0008ZF3K', version=Version(effective_from=datetime.datetime(1, 1, 1, 0, 0, tzinfo=datetime.timezone.utc), as_at_date=datetime.datetime(2023, 10, 6, 22, 37, 52, 1099, tzinfo=datetime.timezone.utc), as_at_created=datetime.datetime(2023, 10, 6, 22, 37, 52, 1099, tzinfo=datetime.timezone.utc), user_id_created='00uihoufv9AzrEGby2p7', request_id_created='0HMU6MQJU59RK:000001A1', as_at_modified=datetime.datetime(2023, 10, 6, 22, 37, 52, 1099, tzinfo=datetime.timezone.utc), user_id_modified='00uihoufv9AzrEGby2p7', request_id_modified='0HMU6MQJU59RK:000001A1', as_at_version_number=1), name='T 2% Aug 15, 2025', identifiers={'LusidInstrumentId': 'LUID_0008ZF3K', 'Figi': 'BBG009R4CLR3'}, properties=[], lookthrough_portfolio=None, instrument_definition=None, state='Active', asset_class='Unknown', dom_ccy='ZZZ', relationships=[], links=[Link(relation='EntitySchema', href='https://fbn-ci.lusid.com/api/api/schemas/entities/Instrument', description=None, method='GET'), Link(relation='PropertySchema', href='https://fbn-ci.lusid.com/api/api/schemas/properties?propertyKeys=Instrument%2Fdefault%2FCurrency', description=None, method='GET'), Link(relation='RequestLogs', href='http://fbn-ci.lusid.com/app/insights/logs/0HMU6MQJU59RK:000001A2', description='A link to the LUSID Insights website showing all logs related to this request', method='GET')]),\n",
       " Instrument(href='https://fbn-ci.lusid.com/api/api/instruments/LusidInstrumentId/LUID_0008ZF3L?scope=default', scope='default', lusid_instrument_id='LUID_0008ZF3L', version=Version(effective_from=datetime.datetime(1, 1, 1, 0, 0, tzinfo=datetime.timezone.utc), as_at_date=datetime.datetime(2023, 10, 6, 22, 37, 53, 428594, tzinfo=datetime.timezone.utc), as_at_created=datetime.datetime(2023, 10, 6, 22, 37, 53, 428594, tzinfo=datetime.timezone.utc), user_id_created='00uihoufv9AzrEGby2p7', request_id_created='0HMU6MLR6UEE8:00000214', as_at_modified=datetime.datetime(2023, 10, 6, 22, 37, 53, 428594, tzinfo=datetime.timezone.utc), user_id_modified='00uihoufv9AzrEGby2p7', request_id_modified='0HMU6MLR6UEE8:00000214', as_at_version_number=1), name='T 2.25% Feb 15, 2027', identifiers={'LusidInstrumentId': 'LUID_0008ZF3L', 'Figi': 'BBG00FX263Y5'}, properties=[], lookthrough_portfolio=None, instrument_definition=None, state='Active', asset_class='Unknown', dom_ccy='ZZZ', relationships=[], links=[Link(relation='EntitySchema', href='https://fbn-ci.lusid.com/api/api/schemas/entities/Instrument', description=None, method='GET'), Link(relation='PropertySchema', href='https://fbn-ci.lusid.com/api/api/schemas/properties?propertyKeys=Instrument%2Fdefault%2FCurrency', description=None, method='GET'), Link(relation='RequestLogs', href='http://fbn-ci.lusid.com/app/insights/logs/0HMU6MQJU59RK:000001A4', description='A link to the LUSID Insights website showing all logs related to this request', method='GET')]),\n",
       " Instrument(href='https://fbn-ci.lusid.com/api/api/instruments/LusidInstrumentId/LUID_0008ZF3M?scope=default', scope='default', lusid_instrument_id='LUID_0008ZF3M', version=Version(effective_from=datetime.datetime(1, 1, 1, 0, 0, tzinfo=datetime.timezone.utc), as_at_date=datetime.datetime(2023, 10, 6, 22, 37, 55, 298044, tzinfo=datetime.timezone.utc), as_at_created=datetime.datetime(2023, 10, 6, 22, 37, 55, 298044, tzinfo=datetime.timezone.utc), user_id_created='00uihoufv9AzrEGby2p7', request_id_created='0HMU6MLR6UEII:00000045', as_at_modified=datetime.datetime(2023, 10, 6, 22, 37, 55, 298044, tzinfo=datetime.timezone.utc), user_id_modified='00uihoufv9AzrEGby2p7', request_id_modified='0HMU6MLR6UEII:00000045', as_at_version_number=1), name='T 2.25% Apr 30, 2021', identifiers={'LusidInstrumentId': 'LUID_0008ZF3M', 'Figi': 'BBG006C082Q1'}, properties=[], lookthrough_portfolio=None, instrument_definition=None, state='Active', asset_class='Unknown', dom_ccy='ZZZ', relationships=[], links=[Link(relation='EntitySchema', href='https://fbn-ci.lusid.com/api/api/schemas/entities/Instrument', description=None, method='GET'), Link(relation='PropertySchema', href='https://fbn-ci.lusid.com/api/api/schemas/properties?propertyKeys=Instrument%2Fdefault%2FCurrency', description=None, method='GET'), Link(relation='RequestLogs', href='http://fbn-ci.lusid.com/app/insights/logs/0HMU6MQJU59RP:00000273', description='A link to the LUSID Insights website showing all logs related to this request', method='GET')]),\n",
       " Instrument(href='https://fbn-ci.lusid.com/api/api/instruments/LusidInstrumentId/LUID_0008ZF3N?scope=default', scope='default', lusid_instrument_id='LUID_0008ZF3N', version=Version(effective_from=datetime.datetime(1, 1, 1, 0, 0, tzinfo=datetime.timezone.utc), as_at_date=datetime.datetime(2023, 10, 6, 22, 37, 56, 433560, tzinfo=datetime.timezone.utc), as_at_created=datetime.datetime(2023, 10, 6, 22, 37, 56, 433560, tzinfo=datetime.timezone.utc), user_id_created='00uihoufv9AzrEGby2p7', request_id_created='0HMU6MQJU59RP:00000276', as_at_modified=datetime.datetime(2023, 10, 6, 22, 37, 56, 433560, tzinfo=datetime.timezone.utc), user_id_modified='00uihoufv9AzrEGby2p7', request_id_modified='0HMU6MQJU59RP:00000276', as_at_version_number=1), name='T 2.25% Nov 15, 2024', identifiers={'LusidInstrumentId': 'LUID_0008ZF3N', 'Figi': 'BBG007GY2HH4'}, properties=[], lookthrough_portfolio=None, instrument_definition=None, state='Active', asset_class='Unknown', dom_ccy='ZZZ', relationships=[], links=[Link(relation='EntitySchema', href='https://fbn-ci.lusid.com/api/api/schemas/entities/Instrument', description=None, method='GET'), Link(relation='PropertySchema', href='https://fbn-ci.lusid.com/api/api/schemas/properties?propertyKeys=Instrument%2Fdefault%2FCurrency', description=None, method='GET'), Link(relation='RequestLogs', href='http://fbn-ci.lusid.com/app/insights/logs/0HMU6MLR6UEEE:000001FD', description='A link to the LUSID Insights website showing all logs related to this request', method='GET')]),\n",
       " Instrument(href='https://fbn-ci.lusid.com/api/api/instruments/LusidInstrumentId/LUID_0008ZF3O?scope=default', scope='default', lusid_instrument_id='LUID_0008ZF3O', version=Version(effective_from=datetime.datetime(1, 1, 1, 0, 0, tzinfo=datetime.timezone.utc), as_at_date=datetime.datetime(2023, 10, 6, 22, 37, 57, 455084, tzinfo=datetime.timezone.utc), as_at_created=datetime.datetime(2023, 10, 6, 22, 37, 57, 455084, tzinfo=datetime.timezone.utc), user_id_created='00uihoufv9AzrEGby2p7', request_id_created='0HMU6MLR6UEII:00000047', as_at_modified=datetime.datetime(2023, 10, 6, 22, 37, 57, 455084, tzinfo=datetime.timezone.utc), user_id_modified='00uihoufv9AzrEGby2p7', request_id_modified='0HMU6MLR6UEII:00000047', as_at_version_number=1), name='T 2.875% Nov 15, 2046', identifiers={'LusidInstrumentId': 'LUID_0008ZF3O', 'Figi': 'BBG00F5RQCH8'}, properties=[], lookthrough_portfolio=None, instrument_definition=None, state='Active', asset_class='Unknown', dom_ccy='ZZZ', relationships=[], links=[Link(relation='EntitySchema', href='https://fbn-ci.lusid.com/api/api/schemas/entities/Instrument', description=None, method='GET'), Link(relation='PropertySchema', href='https://fbn-ci.lusid.com/api/api/schemas/properties?propertyKeys=Instrument%2Fdefault%2FCurrency', description=None, method='GET'), Link(relation='RequestLogs', href='http://fbn-ci.lusid.com/app/insights/logs/0HMU6MQJU59RT:0000015A', description='A link to the LUSID Insights website showing all logs related to this request', method='GET')]),\n",
       " Instrument(href='https://fbn-ci.lusid.com/api/api/instruments/LusidInstrumentId/LUID_0008ZF3P?scope=default', scope='default', lusid_instrument_id='LUID_0008ZF3P', version=Version(effective_from=datetime.datetime(1, 1, 1, 0, 0, tzinfo=datetime.timezone.utc), as_at_date=datetime.datetime(2023, 10, 6, 22, 37, 58, 488183, tzinfo=datetime.timezone.utc), as_at_created=datetime.datetime(2023, 10, 6, 22, 37, 58, 488183, tzinfo=datetime.timezone.utc), user_id_created='00uihoufv9AzrEGby2p7', request_id_created='0HMU6MLR6UEII:00000049', as_at_modified=datetime.datetime(2023, 10, 6, 22, 37, 58, 488183, tzinfo=datetime.timezone.utc), user_id_modified='00uihoufv9AzrEGby2p7', request_id_modified='0HMU6MLR6UEII:00000049', as_at_version_number=1), name='T 2% Feb 15, 2025', identifiers={'LusidInstrumentId': 'LUID_0008ZF3P', 'Figi': 'BBG00827QXY6'}, properties=[], lookthrough_portfolio=None, instrument_definition=None, state='Active', asset_class='Unknown', dom_ccy='ZZZ', relationships=[], links=[Link(relation='EntitySchema', href='https://fbn-ci.lusid.com/api/api/schemas/entities/Instrument', description=None, method='GET'), Link(relation='PropertySchema', href='https://fbn-ci.lusid.com/api/api/schemas/properties?propertyKeys=Instrument%2Fdefault%2FCurrency', description=None, method='GET'), Link(relation='RequestLogs', href='http://fbn-ci.lusid.com/app/insights/logs/0HMU6MQJU59RT:0000015C', description='A link to the LUSID Insights website showing all logs related to this request', method='GET')]),\n",
       " Instrument(href='https://fbn-ci.lusid.com/api/api/instruments/LusidInstrumentId/LUID_0008ZF3Q?scope=default', scope='default', lusid_instrument_id='LUID_0008ZF3Q', version=Version(effective_from=datetime.datetime(1, 1, 1, 0, 0, tzinfo=datetime.timezone.utc), as_at_date=datetime.datetime(2023, 10, 6, 22, 37, 59, 497476, tzinfo=datetime.timezone.utc), as_at_created=datetime.datetime(2023, 10, 6, 22, 37, 59, 497476, tzinfo=datetime.timezone.utc), user_id_created='00uihoufv9AzrEGby2p7', request_id_created='0HMU6MLR6UEII:0000004C', as_at_modified=datetime.datetime(2023, 10, 6, 22, 37, 59, 497476, tzinfo=datetime.timezone.utc), user_id_modified='00uihoufv9AzrEGby2p7', request_id_modified='0HMU6MLR6UEII:0000004C', as_at_version_number=1), name='T 7.125% Feb 15, 2023', identifiers={'LusidInstrumentId': 'LUID_0008ZF3Q', 'Figi': 'BBG000DFN2D7'}, properties=[], lookthrough_portfolio=None, instrument_definition=None, state='Active', asset_class='Unknown', dom_ccy='ZZZ', relationships=[], links=[Link(relation='EntitySchema', href='https://fbn-ci.lusid.com/api/api/schemas/entities/Instrument', description=None, method='GET'), Link(relation='PropertySchema', href='https://fbn-ci.lusid.com/api/api/schemas/properties?propertyKeys=Instrument%2Fdefault%2FCurrency', description=None, method='GET'), Link(relation='RequestLogs', href='http://fbn-ci.lusid.com/app/insights/logs/0HMU6MLR6UEE8:00000219', description='A link to the LUSID Insights website showing all logs related to this request', method='GET')]),\n",
       " Instrument(href='https://fbn-ci.lusid.com/api/api/instruments/LusidInstrumentId/LUID_0008ZF3R?scope=default', scope='default', lusid_instrument_id='LUID_0008ZF3R', version=Version(effective_from=datetime.datetime(1, 1, 1, 0, 0, tzinfo=datetime.timezone.utc), as_at_date=datetime.datetime(2023, 10, 6, 22, 38, 0, 514053, tzinfo=datetime.timezone.utc), as_at_created=datetime.datetime(2023, 10, 6, 22, 38, 0, 514053, tzinfo=datetime.timezone.utc), user_id_created='00uihoufv9AzrEGby2p7', request_id_created='0HMU6MLR6UEII:0000004E', as_at_modified=datetime.datetime(2023, 10, 6, 22, 38, 0, 514053, tzinfo=datetime.timezone.utc), user_id_modified='00uihoufv9AzrEGby2p7', request_id_modified='0HMU6MLR6UEII:0000004E', as_at_version_number=1), name='T 1.875% Aug 31, 2022', identifiers={'LusidInstrumentId': 'LUID_0008ZF3R', 'Figi': 'BBG009TCBQV8'}, properties=[], lookthrough_portfolio=None, instrument_definition=None, state='Active', asset_class='Unknown', dom_ccy='ZZZ', relationships=[], links=[Link(relation='EntitySchema', href='https://fbn-ci.lusid.com/api/api/schemas/entities/Instrument', description=None, method='GET'), Link(relation='PropertySchema', href='https://fbn-ci.lusid.com/api/api/schemas/properties?propertyKeys=Instrument%2Fdefault%2FCurrency', description=None, method='GET'), Link(relation='RequestLogs', href='http://fbn-ci.lusid.com/app/insights/logs/0HMU6MQJU59RK:000001A8', description='A link to the LUSID Insights website showing all logs related to this request', method='GET')]),\n",
       " Instrument(href='https://fbn-ci.lusid.com/api/api/instruments/LusidInstrumentId/LUID_0008ZF3S?scope=default', scope='default', lusid_instrument_id='LUID_0008ZF3S', version=Version(effective_from=datetime.datetime(1, 1, 1, 0, 0, tzinfo=datetime.timezone.utc), as_at_date=datetime.datetime(2023, 10, 6, 22, 38, 1, 622578, tzinfo=datetime.timezone.utc), as_at_created=datetime.datetime(2023, 10, 6, 22, 38, 1, 622578, tzinfo=datetime.timezone.utc), user_id_created='00uihoufv9AzrEGby2p7', request_id_created='0HMU6MLR6UEEE:00000201', as_at_modified=datetime.datetime(2023, 10, 6, 22, 38, 1, 622578, tzinfo=datetime.timezone.utc), user_id_modified='00uihoufv9AzrEGby2p7', request_id_modified='0HMU6MLR6UEEE:00000201', as_at_version_number=1), name='T 1.75% Feb 28, 2022', identifiers={'LusidInstrumentId': 'LUID_0008ZF3S', 'Figi': 'BBG0084GPDG9'}, properties=[], lookthrough_portfolio=None, instrument_definition=None, state='Active', asset_class='Unknown', dom_ccy='ZZZ', relationships=[], links=[Link(relation='EntitySchema', href='https://fbn-ci.lusid.com/api/api/schemas/entities/Instrument', description=None, method='GET'), Link(relation='PropertySchema', href='https://fbn-ci.lusid.com/api/api/schemas/properties?propertyKeys=Instrument%2Fdefault%2FCurrency', description=None, method='GET'), Link(relation='RequestLogs', href='http://fbn-ci.lusid.com/app/insights/logs/0HMU6MQJU59RT:0000015F', description='A link to the LUSID Insights website showing all logs related to this request', method='GET')]),\n",
       " Instrument(href='https://fbn-ci.lusid.com/api/api/instruments/LusidInstrumentId/LUID_0008ZF3T?scope=default', scope='default', lusid_instrument_id='LUID_0008ZF3T', version=Version(effective_from=datetime.datetime(1, 1, 1, 0, 0, tzinfo=datetime.timezone.utc), as_at_date=datetime.datetime(2023, 10, 6, 22, 38, 2, 767356, tzinfo=datetime.timezone.utc), as_at_created=datetime.datetime(2023, 10, 6, 22, 38, 2, 767356, tzinfo=datetime.timezone.utc), user_id_created='00uihoufv9AzrEGby2p7', request_id_created='0HMU6MQJU59RK:000001A9', as_at_modified=datetime.datetime(2023, 10, 6, 22, 38, 2, 767356, tzinfo=datetime.timezone.utc), user_id_modified='00uihoufv9AzrEGby2p7', request_id_modified='0HMU6MQJU59RK:000001A9', as_at_version_number=1), name='VERIZON 4.329% Sep 21, 2028', identifiers={'LusidInstrumentId': 'LUID_0008ZF3T', 'Figi': 'BBG00M1BQWX0'}, properties=[], lookthrough_portfolio=None, instrument_definition=None, state='Active', asset_class='Unknown', dom_ccy='ZZZ', relationships=[], links=[Link(relation='EntitySchema', href='https://fbn-ci.lusid.com/api/api/schemas/entities/Instrument', description=None, method='GET'), Link(relation='PropertySchema', href='https://fbn-ci.lusid.com/api/api/schemas/properties?propertyKeys=Instrument%2Fdefault%2FCurrency', description=None, method='GET'), Link(relation='RequestLogs', href='http://fbn-ci.lusid.com/app/insights/logs/0HMU6MLR6UEII:00000051', description='A link to the LUSID Insights website showing all logs related to this request', method='GET')]),\n",
       " Instrument(href='https://fbn-ci.lusid.com/api/api/instruments/LusidInstrumentId/LUID_0008ZF3U?scope=default', scope='default', lusid_instrument_id='LUID_0008ZF3U', version=Version(effective_from=datetime.datetime(1, 1, 1, 0, 0, tzinfo=datetime.timezone.utc), as_at_date=datetime.datetime(2023, 10, 6, 22, 38, 3, 759300, tzinfo=datetime.timezone.utc), as_at_created=datetime.datetime(2023, 10, 6, 22, 38, 3, 759300, tzinfo=datetime.timezone.utc), user_id_created='00uihoufv9AzrEGby2p7', request_id_created='0HMU6MLR6UEII:00000053', as_at_modified=datetime.datetime(2023, 10, 6, 22, 38, 3, 759300, tzinfo=datetime.timezone.utc), user_id_modified='00uihoufv9AzrEGby2p7', request_id_modified='0HMU6MLR6UEII:00000053', as_at_version_number=1), name='GE 4.418% Nov 15, 2035', identifiers={'LusidInstrumentId': 'LUID_0008ZF3U', 'Figi': 'BBG00D1PBRL9'}, properties=[], lookthrough_portfolio=None, instrument_definition=None, state='Active', asset_class='Unknown', dom_ccy='ZZZ', relationships=[], links=[Link(relation='EntitySchema', href='https://fbn-ci.lusid.com/api/api/schemas/entities/Instrument', description=None, method='GET'), Link(relation='PropertySchema', href='https://fbn-ci.lusid.com/api/api/schemas/properties?propertyKeys=Instrument%2Fdefault%2FCurrency', description=None, method='GET'), Link(relation='RequestLogs', href='http://fbn-ci.lusid.com/app/insights/logs/0HMU6MLR6UEII:00000054', description='A link to the LUSID Insights website showing all logs related to this request', method='GET')]),\n",
       " Instrument(href='https://fbn-ci.lusid.com/api/api/instruments/LusidInstrumentId/LUID_0008ZF3V?scope=default', scope='default', lusid_instrument_id='LUID_0008ZF3V', version=Version(effective_from=datetime.datetime(1, 1, 1, 0, 0, tzinfo=datetime.timezone.utc), as_at_date=datetime.datetime(2023, 10, 6, 22, 38, 5, 215916, tzinfo=datetime.timezone.utc), as_at_created=datetime.datetime(2023, 10, 6, 22, 38, 5, 215916, tzinfo=datetime.timezone.utc), user_id_created='00uihoufv9AzrEGby2p7', request_id_created='0HMU6MLR6UEII:00000056', as_at_modified=datetime.datetime(2023, 10, 6, 22, 38, 5, 215916, tzinfo=datetime.timezone.utc), user_id_modified='00uihoufv9AzrEGby2p7', request_id_modified='0HMU6MLR6UEII:00000056', as_at_version_number=1), name='ANHEUSER-BUSCH 4.9% Feb 01, 2046', identifiers={'LusidInstrumentId': 'LUID_0008ZF3V', 'Figi': 'BBG00BW1V2M4'}, properties=[], lookthrough_portfolio=None, instrument_definition=None, state='Active', asset_class='Unknown', dom_ccy='ZZZ', relationships=[], links=[Link(relation='EntitySchema', href='https://fbn-ci.lusid.com/api/api/schemas/entities/Instrument', description=None, method='GET'), Link(relation='PropertySchema', href='https://fbn-ci.lusid.com/api/api/schemas/properties?propertyKeys=Instrument%2Fdefault%2FCurrency', description=None, method='GET'), Link(relation='RequestLogs', href='http://fbn-ci.lusid.com/app/insights/logs/0HMU6MQJU59RP:0000027B', description='A link to the LUSID Insights website showing all logs related to this request', method='GET')]),\n",
       " Instrument(href='https://fbn-ci.lusid.com/api/api/instruments/LusidInstrumentId/LUID_0008ZF3W?scope=default', scope='default', lusid_instrument_id='LUID_0008ZF3W', version=Version(effective_from=datetime.datetime(1, 1, 1, 0, 0, tzinfo=datetime.timezone.utc), as_at_date=datetime.datetime(2023, 10, 6, 22, 38, 6, 229478, tzinfo=datetime.timezone.utc), as_at_created=datetime.datetime(2023, 10, 6, 22, 38, 6, 229478, tzinfo=datetime.timezone.utc), user_id_created='00uihoufv9AzrEGby2p7', request_id_created='0HMU6MLR6UEE8:0000021D', as_at_modified=datetime.datetime(2023, 10, 6, 22, 38, 6, 229478, tzinfo=datetime.timezone.utc), user_id_modified='00uihoufv9AzrEGby2p7', request_id_modified='0HMU6MLR6UEE8:0000021D', as_at_version_number=1), name='CVS 4.3% Mar 25, 2028', identifiers={'LusidInstrumentId': 'LUID_0008ZF3W', 'Figi': 'BBG00K85WG22'}, properties=[], lookthrough_portfolio=None, instrument_definition=None, state='Active', asset_class='Unknown', dom_ccy='ZZZ', relationships=[], links=[Link(relation='EntitySchema', href='https://fbn-ci.lusid.com/api/api/schemas/entities/Instrument', description=None, method='GET'), Link(relation='PropertySchema', href='https://fbn-ci.lusid.com/api/api/schemas/properties?propertyKeys=Instrument%2Fdefault%2FCurrency', description=None, method='GET'), Link(relation='RequestLogs', href='http://fbn-ci.lusid.com/app/insights/logs/0HMU6MLR6UEE8:0000021E', description='A link to the LUSID Insights website showing all logs related to this request', method='GET')]),\n",
       " Instrument(href='https://fbn-ci.lusid.com/api/api/instruments/LusidInstrumentId/LUID_0008ZF3X?scope=default', scope='default', lusid_instrument_id='LUID_0008ZF3X', version=Version(effective_from=datetime.datetime(1, 1, 1, 0, 0, tzinfo=datetime.timezone.utc), as_at_date=datetime.datetime(2023, 10, 6, 22, 38, 7, 335248, tzinfo=datetime.timezone.utc), as_at_created=datetime.datetime(2023, 10, 6, 22, 38, 7, 335248, tzinfo=datetime.timezone.utc), user_id_created='00uihoufv9AzrEGby2p7', request_id_created='0HMU6MQJU59RK:000001AC', as_at_modified=datetime.datetime(2023, 10, 6, 22, 38, 7, 335248, tzinfo=datetime.timezone.utc), user_id_modified='00uihoufv9AzrEGby2p7', request_id_modified='0HMU6MQJU59RK:000001AC', as_at_version_number=1), name='CVS 5.05% Mar 25, 2048', identifiers={'LusidInstrumentId': 'LUID_0008ZF3X', 'Figi': 'BBG00K85WH93'}, properties=[], lookthrough_portfolio=None, instrument_definition=None, state='Active', asset_class='Unknown', dom_ccy='ZZZ', relationships=[], links=[Link(relation='EntitySchema', href='https://fbn-ci.lusid.com/api/api/schemas/entities/Instrument', description=None, method='GET'), Link(relation='PropertySchema', href='https://fbn-ci.lusid.com/api/api/schemas/properties?propertyKeys=Instrument%2Fdefault%2FCurrency', description=None, method='GET'), Link(relation='RequestLogs', href='http://fbn-ci.lusid.com/app/insights/logs/0HMU6MLR6UEII:00000059', description='A link to the LUSID Insights website showing all logs related to this request', method='GET')]),\n",
       " Instrument(href='https://fbn-ci.lusid.com/api/api/instruments/LusidInstrumentId/LUID_0008ZF3Y?scope=default', scope='default', lusid_instrument_id='LUID_0008ZF3Y', version=Version(effective_from=datetime.datetime(1, 1, 1, 0, 0, tzinfo=datetime.timezone.utc), as_at_date=datetime.datetime(2023, 10, 6, 22, 38, 8, 457089, tzinfo=datetime.timezone.utc), as_at_created=datetime.datetime(2023, 10, 6, 22, 38, 8, 457089, tzinfo=datetime.timezone.utc), user_id_created='00uihoufv9AzrEGby2p7', request_id_created='0HMU6MLR6UEII:0000005B', as_at_modified=datetime.datetime(2023, 10, 6, 22, 38, 8, 457089, tzinfo=datetime.timezone.utc), user_id_modified='00uihoufv9AzrEGby2p7', request_id_modified='0HMU6MLR6UEII:0000005B', as_at_version_number=1), name='GOLDMAN 6.75% Oct 01, 2037', identifiers={'LusidInstrumentId': 'LUID_0008ZF3Y', 'Figi': 'BBG0000H5309'}, properties=[], lookthrough_portfolio=None, instrument_definition=None, state='Active', asset_class='Unknown', dom_ccy='ZZZ', relationships=[], links=[Link(relation='EntitySchema', href='https://fbn-ci.lusid.com/api/api/schemas/entities/Instrument', description=None, method='GET'), Link(relation='PropertySchema', href='https://fbn-ci.lusid.com/api/api/schemas/properties?propertyKeys=Instrument%2Fdefault%2FCurrency', description=None, method='GET'), Link(relation='RequestLogs', href='http://fbn-ci.lusid.com/app/insights/logs/0HMU6MQJU59UI:000000CE', description='A link to the LUSID Insights website showing all logs related to this request', method='GET')]),\n",
       " Instrument(href='https://fbn-ci.lusid.com/api/api/instruments/LusidInstrumentId/LUID_0008ZF3Z?scope=default', scope='default', lusid_instrument_id='LUID_0008ZF3Z', version=Version(effective_from=datetime.datetime(1, 1, 1, 0, 0, tzinfo=datetime.timezone.utc), as_at_date=datetime.datetime(2023, 10, 6, 22, 38, 9, 511320, tzinfo=datetime.timezone.utc), as_at_created=datetime.datetime(2023, 10, 6, 22, 38, 9, 511320, tzinfo=datetime.timezone.utc), user_id_created='00uihoufv9AzrEGby2p7', request_id_created='0HMU6MLR6UEII:0000005F', as_at_modified=datetime.datetime(2023, 10, 6, 22, 38, 9, 511320, tzinfo=datetime.timezone.utc), user_id_modified='00uihoufv9AzrEGby2p7', request_id_modified='0HMU6MLR6UEII:0000005F', as_at_version_number=1), name='CVS 3.7% Mar 09, 2023', identifiers={'LusidInstrumentId': 'LUID_0008ZF3Z', 'Figi': 'BBG00K85TYW4'}, properties=[], lookthrough_portfolio=None, instrument_definition=None, state='Active', asset_class='Unknown', dom_ccy='ZZZ', relationships=[], links=[Link(relation='EntitySchema', href='https://fbn-ci.lusid.com/api/api/schemas/entities/Instrument', description=None, method='GET'), Link(relation='PropertySchema', href='https://fbn-ci.lusid.com/api/api/schemas/properties?propertyKeys=Instrument%2Fdefault%2FCurrency', description=None, method='GET'), Link(relation='RequestLogs', href='http://fbn-ci.lusid.com/app/insights/logs/0HMU6MQJU59RT:00000167', description='A link to the LUSID Insights website showing all logs related to this request', method='GET')]),\n",
       " Instrument(href='https://fbn-ci.lusid.com/api/api/instruments/LusidInstrumentId/LUID_0008ZF40?scope=default', scope='default', lusid_instrument_id='LUID_0008ZF40', version=Version(effective_from=datetime.datetime(1, 1, 1, 0, 0, tzinfo=datetime.timezone.utc), as_at_date=datetime.datetime(2023, 10, 6, 22, 38, 10, 608165, tzinfo=datetime.timezone.utc), as_at_created=datetime.datetime(2023, 10, 6, 22, 38, 10, 608165, tzinfo=datetime.timezone.utc), user_id_created='00uihoufv9AzrEGby2p7', request_id_created='0HMU6MQJU59RT:00000169', as_at_modified=datetime.datetime(2023, 10, 6, 22, 38, 10, 608165, tzinfo=datetime.timezone.utc), user_id_modified='00uihoufv9AzrEGby2p7', request_id_modified='0HMU6MQJU59RT:00000169', as_at_version_number=1), name='ANHEUSER-BUSCH 3.3% Feb 01, 2023', identifiers={'LusidInstrumentId': 'LUID_0008ZF40', 'Figi': 'BBG00BW1LJT1'}, properties=[], lookthrough_portfolio=None, instrument_definition=None, state='Active', asset_class='Unknown', dom_ccy='ZZZ', relationships=[], links=[Link(relation='EntitySchema', href='https://fbn-ci.lusid.com/api/api/schemas/entities/Instrument', description=None, method='GET'), Link(relation='PropertySchema', href='https://fbn-ci.lusid.com/api/api/schemas/properties?propertyKeys=Instrument%2Fdefault%2FCurrency', description=None, method='GET'), Link(relation='RequestLogs', href='http://fbn-ci.lusid.com/app/insights/logs/0HMU6MQJU59RT:0000016A', description='A link to the LUSID Insights website showing all logs related to this request', method='GET')]),\n",
       " Instrument(href='https://fbn-ci.lusid.com/api/api/instruments/LusidInstrumentId/LUID_0008ZF41?scope=default', scope='default', lusid_instrument_id='LUID_0008ZF41', version=Version(effective_from=datetime.datetime(1, 1, 1, 0, 0, tzinfo=datetime.timezone.utc), as_at_date=datetime.datetime(2023, 10, 6, 22, 38, 11, 677658, tzinfo=datetime.timezone.utc), as_at_created=datetime.datetime(2023, 10, 6, 22, 38, 11, 677658, tzinfo=datetime.timezone.utc), user_id_created='00uihoufv9AzrEGby2p7', request_id_created='0HMU6MLR6UEII:00000064', as_at_modified=datetime.datetime(2023, 10, 6, 22, 38, 11, 677658, tzinfo=datetime.timezone.utc), user_id_modified='00uihoufv9AzrEGby2p7', request_id_modified='0HMU6MLR6UEII:00000064', as_at_version_number=1), name='VERIZON 4.862% Aug 21, 2046', identifiers={'LusidInstrumentId': 'LUID_0008ZF41', 'Figi': 'BBG0083CP3G1'}, properties=[], lookthrough_portfolio=None, instrument_definition=None, state='Active', asset_class='Unknown', dom_ccy='ZZZ', relationships=[], links=[Link(relation='EntitySchema', href='https://fbn-ci.lusid.com/api/api/schemas/entities/Instrument', description=None, method='GET'), Link(relation='PropertySchema', href='https://fbn-ci.lusid.com/api/api/schemas/properties?propertyKeys=Instrument%2Fdefault%2FCurrency', description=None, method='GET'), Link(relation='RequestLogs', href='http://fbn-ci.lusid.com/app/insights/logs/0HMU6MQJU59RT:0000016C', description='A link to the LUSID Insights website showing all logs related to this request', method='GET')]),\n",
       " Instrument(href='https://fbn-ci.lusid.com/api/api/instruments/LusidInstrumentId/LUID_0008ZF42?scope=default', scope='default', lusid_instrument_id='LUID_0008ZF42', version=Version(effective_from=datetime.datetime(1, 1, 1, 0, 0, tzinfo=datetime.timezone.utc), as_at_date=datetime.datetime(2023, 10, 6, 22, 38, 12, 861636, tzinfo=datetime.timezone.utc), as_at_created=datetime.datetime(2023, 10, 6, 22, 38, 12, 861636, tzinfo=datetime.timezone.utc), user_id_created='00uihoufv9AzrEGby2p7', request_id_created='0HMU6MQJU59RT:0000016E', as_at_modified=datetime.datetime(2023, 10, 6, 22, 38, 12, 861636, tzinfo=datetime.timezone.utc), user_id_modified='00uihoufv9AzrEGby2p7', request_id_modified='0HMU6MQJU59RT:0000016E', as_at_version_number=1), name='APPLE 2.4% May 03, 2023', identifiers={'LusidInstrumentId': 'LUID_0008ZF42', 'Figi': 'BBG004HST063'}, properties=[], lookthrough_portfolio=None, instrument_definition=None, state='Active', asset_class='Unknown', dom_ccy='ZZZ', relationships=[], links=[Link(relation='EntitySchema', href='https://fbn-ci.lusid.com/api/api/schemas/entities/Instrument', description=None, method='GET'), Link(relation='PropertySchema', href='https://fbn-ci.lusid.com/api/api/schemas/properties?propertyKeys=Instrument%2Fdefault%2FCurrency', description=None, method='GET'), Link(relation='RequestLogs', href='http://fbn-ci.lusid.com/app/insights/logs/0HMU6MQJU59RT:0000016F', description='A link to the LUSID Insights website showing all logs related to this request', method='GET')])]"
      ]
     },
     "execution_count": 16,
     "metadata": {},
     "output_type": "execute_result"
    }
   ],
   "source": [
    "def create_instrument(instrument, overwrite=True):\n",
    "    '''\n",
    "    Input: \n",
    "        instrument (dict): dictionary with fields \n",
    "                            'name' == name of the instrument (str), \n",
    "                            'Figi' == Figi identifier (str), \n",
    "                            'P:Instrument/default/Currency' == default currency (str)\n",
    "        overwrite (bool): whether to overwrite existing instrument (hard-delete) in the provided code if it exists, defaults to True\n",
    "    Output:\n",
    "        resp (lusid.models.instrument.Instrument): Instrument that was created\n",
    "    '''\n",
    "    ## Checks if Instrument already exist\n",
    "    try:\n",
    "        # Check if Instrument with FIGI already exist\n",
    "        resp = instruments_api.get_instrument(\"Figi\",instrument['Figi'])\n",
    "        if overwrite:\n",
    "            resp = instruments_api.delete_instruments(request_body = [resp.lusid_instrument_id],delete_mode = 'Hard')\n",
    "        else:\n",
    "            return resp\n",
    "\n",
    "    except:\n",
    "        pass\n",
    "\n",
    "    instrument_req = {\"inst\":models.InstrumentDefinition(\n",
    "                                    name=instrument[\"name\"],\n",
    "                                    identifiers={\"Figi\":models.InstrumentIdValue(value = instrument['Figi'])},\n",
    "                                    properties=[lusid.ModelProperty(key=\"Instrument/default/Currency\",\n",
    "                                                                    value=lusid.PropertyValue(label_value=instrument['P:Instrument/default/Currency'])\n",
    "                                                                   )\n",
    "                                               ]\n",
    "                                    )\n",
    "                    }\n",
    "    instruments_api.upsert_instruments(request_body=instrument_req)\n",
    "    return instruments_api.get_instrument(\"Figi\",instrument['Figi'],property_keys=['Instrument/default/Currency'])\n",
    "\n",
    "created_instruments = [create_instrument(inst.to_dict()) \n",
    "                       for i,inst in instruments.iterrows()]\n",
    "    \n",
    "created_instruments"
   ]
  },
  {
   "cell_type": "markdown",
   "id": "11dedbe8",
   "metadata": {},
   "source": [
    "### Creating Portfolios"
   ]
  },
  {
   "cell_type": "code",
   "execution_count": 17,
   "id": "1bfa9cd5",
   "metadata": {},
   "outputs": [
    {
     "data": {
      "text/plain": [
       "[Portfolio(href='https://fbn-ci.lusid.com/api/api/portfolios/Finbourne-Examples/UK-Equities?effectiveAt=2023-10-06T22%3A38%3A14.4476840%2B00%3A00&asAt=2023-10-06T22%3A38%3A14.0736230%2B00%3A00', id=ResourceId(scope='Finbourne-Examples', code='UK-Equities'), type='Transaction', display_name='UK Equity Fund', description=None, created=datetime.datetime(2021, 1, 1, 0, 0, tzinfo=datetime.timezone.utc), parent_portfolio_id=None, version=Version(effective_from=datetime.datetime(2023, 10, 6, 22, 38, 14, 447684, tzinfo=datetime.timezone.utc), as_at_date=datetime.datetime(2023, 10, 6, 22, 38, 14, 73623, tzinfo=datetime.timezone.utc), as_at_created=datetime.datetime(2023, 10, 6, 22, 38, 14, 73623, tzinfo=datetime.timezone.utc), user_id_created='00uihoufv9AzrEGby2p7', request_id_created='0HMU6MQJU59UI:000000D0', as_at_modified=datetime.datetime(2023, 10, 6, 22, 38, 14, 73623, tzinfo=datetime.timezone.utc), user_id_modified='00uihoufv9AzrEGby2p7', request_id_modified='0HMU6MQJU59UI:000000D0', as_at_version_number=1), is_derived=False, base_currency='GBP', properties={}, relationships=[], instrument_scopes=[], accounting_method='Default', amortisation_method='NoAmortisation', transaction_type_scope='default', links=[Link(relation='Properties', href='https://fbn-ci.lusid.com/api/api/portfolios/Finbourne-Examples/UK-Equities/properties?effectiveAt=2023-10-06T22%3A38%3A14.4476840%2B00%3A00&asAt=2023-10-06T22%3A38%3A14.0736230%2B00%3A00', description=None, method='GET'), Link(relation='Commands', href='https://fbn-ci.lusid.com/api/api/portfolios/Finbourne-Examples/UK-Equities/commands?toAsAt=2023-10-06T22%3A38%3A14.0736230%2B00%3A00', description=None, method='GET'), Link(relation='Details', href='https://fbn-ci.lusid.com/api/api/transactionportfolios/Finbourne-Examples/UK-Equities/details?effectiveAt=2023-10-06T22%3A38%3A14.4476840%2B00%3A00&asAt=2023-10-06T22%3A38%3A14.0736230%2B00%3A00', description=None, method='GET'), Link(relation='Transactions', href='https://fbn-ci.lusid.com/api/api/transactionportfolios/Finbourne-Examples/UK-Equities/transactions?effectiveAt=2023-10-06T22%3A38%3A14.4476840%2B00%3A00&asAt=2023-10-06T22%3A38%3A14.0736230%2B00%3A00', description=None, method='GET'), Link(relation='Holdings', href='https://fbn-ci.lusid.com/api/api/transactionportfolios/Finbourne-Examples/UK-Equities/holdings?effectiveAt=2023-10-06T22%3A38%3A14.4476840%2B00%3A00&asAt=2023-10-06T22%3A38%3A14.0736230%2B00%3A00', description=None, method='GET'), Link(relation='HoldingsAdjustments', href='https://fbn-ci.lusid.com/api/api/transactionportfolios/Finbourne-Examples/UK-Equities/holdingsadjustments/2023-10-06T22%3A38%3A14.4476840%2B00%3A00?asAt=2023-10-06T22%3A38%3A14.0736230%2B00%3A00', description=None, method='GET'), Link(relation='EntitySchema', href='https://fbn-ci.lusid.com/api/api/schemas/entities/Portfolio', description=None, method='GET'), Link(relation='RequestLogs', href='http://fbn-ci.lusid.com/app/insights/logs/0HMU6MQJU59UI:000000D1', description='A link to the LUSID Insights website showing all logs related to this request', method='GET')]),\n",
       " Portfolio(href='https://fbn-ci.lusid.com/api/api/portfolios/Finbourne-Examples/Global-Equity?effectiveAt=2023-10-06T22%3A38%3A15.9278140%2B00%3A00&asAt=2023-10-06T22%3A38%3A15.5180910%2B00%3A00', id=ResourceId(scope='Finbourne-Examples', code='Global-Equity'), type='Transaction', display_name='Global Equity Fund', description=None, created=datetime.datetime(2021, 1, 1, 0, 0, tzinfo=datetime.timezone.utc), parent_portfolio_id=None, version=Version(effective_from=datetime.datetime(2023, 10, 6, 22, 38, 15, 927814, tzinfo=datetime.timezone.utc), as_at_date=datetime.datetime(2023, 10, 6, 22, 38, 15, 518091, tzinfo=datetime.timezone.utc), as_at_created=datetime.datetime(2023, 10, 6, 22, 38, 15, 518091, tzinfo=datetime.timezone.utc), user_id_created='00uihoufv9AzrEGby2p7', request_id_created='0HMU6MLR6UEII:0000006A', as_at_modified=datetime.datetime(2023, 10, 6, 22, 38, 15, 518091, tzinfo=datetime.timezone.utc), user_id_modified='00uihoufv9AzrEGby2p7', request_id_modified='0HMU6MLR6UEII:0000006A', as_at_version_number=1), is_derived=False, base_currency='GBP', properties={}, relationships=[], instrument_scopes=[], accounting_method='Default', amortisation_method='NoAmortisation', transaction_type_scope='default', links=[Link(relation='Properties', href='https://fbn-ci.lusid.com/api/api/portfolios/Finbourne-Examples/Global-Equity/properties?effectiveAt=2023-10-06T22%3A38%3A15.9278140%2B00%3A00&asAt=2023-10-06T22%3A38%3A15.5180910%2B00%3A00', description=None, method='GET'), Link(relation='Commands', href='https://fbn-ci.lusid.com/api/api/portfolios/Finbourne-Examples/Global-Equity/commands?toAsAt=2023-10-06T22%3A38%3A15.5180910%2B00%3A00', description=None, method='GET'), Link(relation='Details', href='https://fbn-ci.lusid.com/api/api/transactionportfolios/Finbourne-Examples/Global-Equity/details?effectiveAt=2023-10-06T22%3A38%3A15.9278140%2B00%3A00&asAt=2023-10-06T22%3A38%3A15.5180910%2B00%3A00', description=None, method='GET'), Link(relation='Transactions', href='https://fbn-ci.lusid.com/api/api/transactionportfolios/Finbourne-Examples/Global-Equity/transactions?effectiveAt=2023-10-06T22%3A38%3A15.9278140%2B00%3A00&asAt=2023-10-06T22%3A38%3A15.5180910%2B00%3A00', description=None, method='GET'), Link(relation='Holdings', href='https://fbn-ci.lusid.com/api/api/transactionportfolios/Finbourne-Examples/Global-Equity/holdings?effectiveAt=2023-10-06T22%3A38%3A15.9278140%2B00%3A00&asAt=2023-10-06T22%3A38%3A15.5180910%2B00%3A00', description=None, method='GET'), Link(relation='HoldingsAdjustments', href='https://fbn-ci.lusid.com/api/api/transactionportfolios/Finbourne-Examples/Global-Equity/holdingsadjustments/2023-10-06T22%3A38%3A15.9278140%2B00%3A00?asAt=2023-10-06T22%3A38%3A15.5180910%2B00%3A00', description=None, method='GET'), Link(relation='EntitySchema', href='https://fbn-ci.lusid.com/api/api/schemas/entities/Portfolio', description=None, method='GET'), Link(relation='RequestLogs', href='http://fbn-ci.lusid.com/app/insights/logs/0HMU6MLR6UEII:0000006B', description='A link to the LUSID Insights website showing all logs related to this request', method='GET')]),\n",
       " Portfolio(href='https://fbn-ci.lusid.com/api/api/portfolios/Finbourne-Examples/US-Treasury-Bond?effectiveAt=2023-10-06T22%3A38%3A17.2733910%2B00%3A00&asAt=2023-10-06T22%3A38%3A16.9629670%2B00%3A00', id=ResourceId(scope='Finbourne-Examples', code='US-Treasury-Bond'), type='Transaction', display_name='US$ Treasury Bond Fund', description=None, created=datetime.datetime(2021, 1, 1, 0, 0, tzinfo=datetime.timezone.utc), parent_portfolio_id=None, version=Version(effective_from=datetime.datetime(2023, 10, 6, 22, 38, 17, 273391, tzinfo=datetime.timezone.utc), as_at_date=datetime.datetime(2023, 10, 6, 22, 38, 16, 962967, tzinfo=datetime.timezone.utc), as_at_created=datetime.datetime(2023, 10, 6, 22, 38, 16, 962967, tzinfo=datetime.timezone.utc), user_id_created='00uihoufv9AzrEGby2p7', request_id_created='0HMU6MQJU59UI:000000D5', as_at_modified=datetime.datetime(2023, 10, 6, 22, 38, 16, 962967, tzinfo=datetime.timezone.utc), user_id_modified='00uihoufv9AzrEGby2p7', request_id_modified='0HMU6MQJU59UI:000000D5', as_at_version_number=1), is_derived=False, base_currency='USD', properties={}, relationships=[], instrument_scopes=[], accounting_method='Default', amortisation_method='NoAmortisation', transaction_type_scope='default', links=[Link(relation='Properties', href='https://fbn-ci.lusid.com/api/api/portfolios/Finbourne-Examples/US-Treasury-Bond/properties?effectiveAt=2023-10-06T22%3A38%3A17.2733910%2B00%3A00&asAt=2023-10-06T22%3A38%3A16.9629670%2B00%3A00', description=None, method='GET'), Link(relation='Commands', href='https://fbn-ci.lusid.com/api/api/portfolios/Finbourne-Examples/US-Treasury-Bond/commands?toAsAt=2023-10-06T22%3A38%3A16.9629670%2B00%3A00', description=None, method='GET'), Link(relation='Details', href='https://fbn-ci.lusid.com/api/api/transactionportfolios/Finbourne-Examples/US-Treasury-Bond/details?effectiveAt=2023-10-06T22%3A38%3A17.2733910%2B00%3A00&asAt=2023-10-06T22%3A38%3A16.9629670%2B00%3A00', description=None, method='GET'), Link(relation='Transactions', href='https://fbn-ci.lusid.com/api/api/transactionportfolios/Finbourne-Examples/US-Treasury-Bond/transactions?effectiveAt=2023-10-06T22%3A38%3A17.2733910%2B00%3A00&asAt=2023-10-06T22%3A38%3A16.9629670%2B00%3A00', description=None, method='GET'), Link(relation='Holdings', href='https://fbn-ci.lusid.com/api/api/transactionportfolios/Finbourne-Examples/US-Treasury-Bond/holdings?effectiveAt=2023-10-06T22%3A38%3A17.2733910%2B00%3A00&asAt=2023-10-06T22%3A38%3A16.9629670%2B00%3A00', description=None, method='GET'), Link(relation='HoldingsAdjustments', href='https://fbn-ci.lusid.com/api/api/transactionportfolios/Finbourne-Examples/US-Treasury-Bond/holdingsadjustments/2023-10-06T22%3A38%3A17.2733910%2B00%3A00?asAt=2023-10-06T22%3A38%3A16.9629670%2B00%3A00', description=None, method='GET'), Link(relation='EntitySchema', href='https://fbn-ci.lusid.com/api/api/schemas/entities/Portfolio', description=None, method='GET'), Link(relation='RequestLogs', href='http://fbn-ci.lusid.com/app/insights/logs/0HMU6MQJU59RT:00000174', description='A link to the LUSID Insights website showing all logs related to this request', method='GET')]),\n",
       " Portfolio(href='https://fbn-ci.lusid.com/api/api/portfolios/Finbourne-Examples/US-Corporate-Bond?effectiveAt=2023-10-06T22%3A38%3A18.7982060%2B00%3A00&asAt=2023-10-06T22%3A38%3A18.4122900%2B00%3A00', id=ResourceId(scope='Finbourne-Examples', code='US-Corporate-Bond'), type='Transaction', display_name='US Corporate Bond Fund', description=None, created=datetime.datetime(2021, 1, 1, 0, 0, tzinfo=datetime.timezone.utc), parent_portfolio_id=None, version=Version(effective_from=datetime.datetime(2023, 10, 6, 22, 38, 18, 798206, tzinfo=datetime.timezone.utc), as_at_date=datetime.datetime(2023, 10, 6, 22, 38, 18, 412290, tzinfo=datetime.timezone.utc), as_at_created=datetime.datetime(2023, 10, 6, 22, 38, 18, 412290, tzinfo=datetime.timezone.utc), user_id_created='00uihoufv9AzrEGby2p7', request_id_created='0HMU6MQJU59RT:00000176', as_at_modified=datetime.datetime(2023, 10, 6, 22, 38, 18, 412290, tzinfo=datetime.timezone.utc), user_id_modified='00uihoufv9AzrEGby2p7', request_id_modified='0HMU6MQJU59RT:00000176', as_at_version_number=1), is_derived=False, base_currency='USD', properties={}, relationships=[], instrument_scopes=[], accounting_method='Default', amortisation_method='NoAmortisation', transaction_type_scope='default', links=[Link(relation='Properties', href='https://fbn-ci.lusid.com/api/api/portfolios/Finbourne-Examples/US-Corporate-Bond/properties?effectiveAt=2023-10-06T22%3A38%3A18.7982060%2B00%3A00&asAt=2023-10-06T22%3A38%3A18.4122900%2B00%3A00', description=None, method='GET'), Link(relation='Commands', href='https://fbn-ci.lusid.com/api/api/portfolios/Finbourne-Examples/US-Corporate-Bond/commands?toAsAt=2023-10-06T22%3A38%3A18.4122900%2B00%3A00', description=None, method='GET'), Link(relation='Details', href='https://fbn-ci.lusid.com/api/api/transactionportfolios/Finbourne-Examples/US-Corporate-Bond/details?effectiveAt=2023-10-06T22%3A38%3A18.7982060%2B00%3A00&asAt=2023-10-06T22%3A38%3A18.4122900%2B00%3A00', description=None, method='GET'), Link(relation='Transactions', href='https://fbn-ci.lusid.com/api/api/transactionportfolios/Finbourne-Examples/US-Corporate-Bond/transactions?effectiveAt=2023-10-06T22%3A38%3A18.7982060%2B00%3A00&asAt=2023-10-06T22%3A38%3A18.4122900%2B00%3A00', description=None, method='GET'), Link(relation='Holdings', href='https://fbn-ci.lusid.com/api/api/transactionportfolios/Finbourne-Examples/US-Corporate-Bond/holdings?effectiveAt=2023-10-06T22%3A38%3A18.7982060%2B00%3A00&asAt=2023-10-06T22%3A38%3A18.4122900%2B00%3A00', description=None, method='GET'), Link(relation='HoldingsAdjustments', href='https://fbn-ci.lusid.com/api/api/transactionportfolios/Finbourne-Examples/US-Corporate-Bond/holdingsadjustments/2023-10-06T22%3A38%3A18.7982060%2B00%3A00?asAt=2023-10-06T22%3A38%3A18.4122900%2B00%3A00', description=None, method='GET'), Link(relation='EntitySchema', href='https://fbn-ci.lusid.com/api/api/schemas/entities/Portfolio', description=None, method='GET'), Link(relation='RequestLogs', href='http://fbn-ci.lusid.com/app/insights/logs/0HMU6MQJU59RT:00000177', description='A link to the LUSID Insights website showing all logs related to this request', method='GET')])]"
      ]
     },
     "execution_count": 17,
     "metadata": {},
     "output_type": "execute_result"
    }
   ],
   "source": [
    "def create_portfolio(portfolio, overwrite=True):\n",
    "    '''\n",
    "    Input: \n",
    "        portfolio (dict): dictionary with fields \n",
    "                            'Code' == Code for the portfolio (str), \n",
    "                            'Display Name' == Display name of the identifier (str), \n",
    "                            'Base Currency' == Base Currency (str)\n",
    "        overwrite (bool): whether to overwrite existing portfolio (hard-delete) in the provided code if it exists, defaults to True\n",
    "    Output:\n",
    "        resp (lusid.models.portfolio.Portfolio): Portfolio that was created\n",
    "    '''\n",
    "    port_req = models.CreateTransactionPortfolioRequest(code=portfolio['Code'],\n",
    "                                                       display_name=portfolio['Display Name'],\n",
    "                                                       base_currency=portfolio['Base Currency'],\n",
    "                                                       created=date)\n",
    "    \n",
    "    ## Try creating portfolio, throws exception if already exists\n",
    "    try:\n",
    "        transaction_portfolios_api.create_portfolio(scope=scope,create_transaction_portfolio_request=port_req)\n",
    "    except:\n",
    "        if overwrite:\n",
    "            portfolios_api.delete_portfolio(scope=scope,code=portfolio['Code'])\n",
    "            transaction_portfolios_api.create_portfolio(scope=scope,create_transaction_portfolio_request=port_req)\n",
    "    \n",
    "    return portfolios_api.get_portfolio(scope=scope,code=portfolio['Code'])\n",
    "\n",
    "created_portfolios = [create_portfolio(port.to_dict()) \n",
    "                      for i,port in portfolios.iterrows()]\n",
    "\n",
    "created_portfolios"
   ]
  },
  {
   "cell_type": "markdown",
   "id": "c6ec941c",
   "metadata": {},
   "source": [
    "### Creating Portfolio Groups"
   ]
  },
  {
   "cell_type": "code",
   "execution_count": 18,
   "id": "7dd1d925",
   "metadata": {},
   "outputs": [
    {
     "data": {
      "text/plain": [
       "[PortfolioGroup(href='https://fbn-ci.lusid.com/api/api/portfoliogroups/Finbourne-Examples/US-FI?effectiveAt=2021-01-01T00%3A00%3A00.0000000%2B00%3A00&asAt=2023-10-06T22%3A38%3A19.4244320%2B00%3A00', id=ResourceId(scope='Finbourne-Examples', code='US-FI'), display_name='US Fixed Income group', description='Contains Finbourne US Fixed Income portfolios', created=datetime.datetime(2021, 1, 1, 0, 0, tzinfo=datetime.timezone.utc), portfolios=[ResourceId(scope='Finbourne-Examples', code='US-Treasury-Bond'), ResourceId(scope='Finbourne-Examples', code='US-Corporate-Bond')], sub_groups=[], relationships=[], version=Version(effective_from=datetime.datetime(2021, 1, 1, 0, 0, tzinfo=datetime.timezone.utc), as_at_date=datetime.datetime(2023, 10, 6, 22, 38, 19, 424432, tzinfo=datetime.timezone.utc), as_at_created=datetime.datetime(2023, 10, 6, 22, 38, 19, 424432, tzinfo=datetime.timezone.utc), user_id_created='00uihoufv9AzrEGby2p7', request_id_created='0HMU6MLR6UEII:0000006E', as_at_modified=datetime.datetime(2023, 10, 6, 22, 38, 19, 424432, tzinfo=datetime.timezone.utc), user_id_modified='00uihoufv9AzrEGby2p7', request_id_modified='0HMU6MLR6UEII:0000006E', as_at_version_number=1), links=[Link(relation='EntitySchema', href='https://fbn-ci.lusid.com/api/api/schemas/entities/PortfolioGroup', description=None, method='GET'), Link(relation='RequestLogs', href='http://fbn-ci.lusid.com/app/insights/logs/0HMU6MLR6UEEE:00000203', description='A link to the LUSID Insights website showing all logs related to this request', method='GET')]),\n",
       " PortfolioGroup(href='https://fbn-ci.lusid.com/api/api/portfoliogroups/Finbourne-Examples/Finbourne-Examples-Fund?effectiveAt=2021-01-01T00%3A00%3A00.0000000%2B00%3A00&asAt=2023-10-06T22%3A38%3A20.6206000%2B00%3A00', id=ResourceId(scope='Finbourne-Examples', code='Finbourne-Examples-Fund'), display_name='Finbourne Examples group', description='Contains Finbourne Examples portfolios', created=datetime.datetime(2021, 1, 1, 0, 0, tzinfo=datetime.timezone.utc), portfolios=[ResourceId(scope='Finbourne-Examples', code='UK-Equities'), ResourceId(scope='Finbourne-Examples', code='Global-Equity')], sub_groups=[ResourceId(scope='Finbourne-Examples', code='US-FI')], relationships=[], version=Version(effective_from=datetime.datetime(2021, 1, 1, 0, 0, tzinfo=datetime.timezone.utc), as_at_date=datetime.datetime(2023, 10, 6, 22, 38, 20, 620600, tzinfo=datetime.timezone.utc), as_at_created=datetime.datetime(2023, 10, 6, 22, 38, 20, 620600, tzinfo=datetime.timezone.utc), user_id_created='00uihoufv9AzrEGby2p7', request_id_created='0HMU6MLR6UEE8:00000223', as_at_modified=datetime.datetime(2023, 10, 6, 22, 38, 20, 620600, tzinfo=datetime.timezone.utc), user_id_modified='00uihoufv9AzrEGby2p7', request_id_modified='0HMU6MLR6UEE8:00000223', as_at_version_number=1), links=[Link(relation='EntitySchema', href='https://fbn-ci.lusid.com/api/api/schemas/entities/PortfolioGroup', description=None, method='GET'), Link(relation='RequestLogs', href='http://fbn-ci.lusid.com/app/insights/logs/0HMU6MQJU59RT:00000179', description='A link to the LUSID Insights website showing all logs related to this request', method='GET')])]"
      ]
     },
     "execution_count": 18,
     "metadata": {},
     "output_type": "execute_result"
    }
   ],
   "source": [
    "port_groups = groups[['Group Name', 'Display Name', 'Description','Created Date']].drop_duplicates().reset_index(drop=True)\n",
    "port_groups['Sub-groups'] = [list(set(groups.query(f\"`Group Name`=='{grp['Group Name']}' and `Display Name`=='{grp['Display Name']}' and Description == '{grp['Description']}' and `Created Date` == '{grp['Created Date']}' \").dropna(subset=['Sub-groups'])['Sub-groups'])) \n",
    "                            for i,grp in port_groups.iterrows()]\n",
    "port_groups['Portfolios'] = [list(set(groups.query(f\"`Group Name`=='{grp['Group Name']}' and `Display Name`=='{grp['Display Name']}' and Description == '{grp['Description']}' and `Created Date` == '{grp['Created Date']}' \").dropna(subset=['Portfolios'])['Portfolios'])) \n",
    "                            for i,grp in port_groups.iterrows()]\n",
    "portfolio_groups = [port_groups.iloc[i].to_dict() for i in range(len(port_groups))]\n",
    "portfolio_groups.reverse()\n",
    "\n",
    "def create_portfolio_group(portfolio_group, overwrite=True):\n",
    "    '''\n",
    "    Input: \n",
    "        portfolio_group (dict): dictionary with fields \n",
    "                                'Group Name': code of the portfolio group (str),\n",
    "                                'Display Name': Display name of the portfolio group (str),\n",
    "                                'Description': Description of the portfolio group (str),\n",
    "                                'Created Date': Date of creation in YYYY-MM-DDTHH:mm:ssZ (str),\n",
    "                                'Sub-groups': list of codes of sub portfolio groups that must exist (list[(str)]),\n",
    "                                'Portfolios': list of codes of portfolio that must exist (list[(str)])\n",
    "        overwrite (bool): whether to overwrite existing portfolioGroup (hard-delete) in the provided code if it exists, defaults to True\n",
    "    Output:\n",
    "        resp (lusid.models.portfolio_group.PortfolioGroup): portfolio_group that was created\n",
    "    '''\n",
    "    port_grp_req = models.CreatePortfolioGroupRequest(code=portfolio_group['Group Name'],\n",
    "                                                    created=portfolio_group['Created Date'],\n",
    "                                                    values=[lusid.ResourceId(scope=scope, code = port) \n",
    "                                                            for port in portfolio_group['Portfolios']], \n",
    "                                                    sub_groups=[lusid.ResourceId(scope=scope, code = subGrp) \n",
    "                                                                for subGrp in portfolio_group['Sub-groups']],\n",
    "                                                    description=portfolio_group['Description'],\n",
    "                                                    display_name=portfolio_group['Display Name'])\n",
    "    \n",
    "    ## Try creating portfolio, throws exception if already exists\n",
    "    try:\n",
    "        portfolio_groups_api.create_portfolio_group(scope=scope,create_portfolio_group_request=port_grp_req)\n",
    "    except:\n",
    "        if overwrite:\n",
    "            portfolio_groups_api.delete_portfolio_group(scope=scope, code= portfolio_group['Group Name'])\n",
    "            portfolio_groups_api.create_portfolio_group(scope=scope,create_portfolio_group_request=port_grp_req)\n",
    "    \n",
    "    return portfolio_groups_api.get_portfolio_group(scope=scope, code= portfolio_group['Group Name'])\n",
    "\n",
    "created_portfolio_groups = [create_portfolio_group(grp) \n",
    "                            for grp in portfolio_groups]\n",
    "    \n",
    "created_portfolio_groups"
   ]
  },
  {
   "cell_type": "markdown",
   "id": "b8446f8d",
   "metadata": {},
   "source": [
    "### Set Holdings"
   ]
  },
  {
   "cell_type": "code",
   "execution_count": 19,
   "id": "dfe5b7ba",
   "metadata": {},
   "outputs": [
    {
     "data": {
      "text/plain": [
       "[AdjustHolding(href='https://fbn-ci.lusid.com/api/api/transactionportfolios/Finbourne-Examples/Global-Equity/holdings?asAt=2023-10-06T22%3A38%3A15.5180910%2B00%3A00', version=Version(effective_from=datetime.datetime(2021, 1, 1, 0, 0, tzinfo=datetime.timezone.utc), as_at_date=datetime.datetime(2023, 10, 6, 22, 38, 21, 741487, tzinfo=datetime.timezone.utc), as_at_created=None, user_id_created=None, request_id_created=None, as_at_modified=None, user_id_modified=None, request_id_modified=None, as_at_version_number=None), metadata={}, links=[Link(relation='Root', href='https://fbn-ci.lusid.com/api/api/portfolios/Finbourne-Examples/Global-Equity?effectiveAt=2021-01-01T00%3A00%3A00.0000000%2B00%3A00&asAt=2023-10-06T22%3A38%3A15.5180910%2B00%3A00', description=None, method='GET'), Link(relation='Holdings', href='https://fbn-ci.lusid.com/api/api/transactionportfolios/Finbourne-Examples/Global-Equity/holdings?effectiveAt=2021-01-01T00%3A00%3A00.0000000%2B00%3A00&asAt=2023-10-06T22%3A38%3A15.5180910%2B00%3A00', description=None, method='GET'), Link(relation='RequestLogs', href='http://fbn-ci.lusid.com/app/insights/logs/0HMU6MLR6UEF7:000000F7', description='A link to the LUSID Insights website showing all logs related to this request', method='GET')]),\n",
       " AdjustHolding(href='https://fbn-ci.lusid.com/api/api/transactionportfolios/Finbourne-Examples/UK-Equities/holdings?asAt=2023-10-06T22%3A38%3A14.0736230%2B00%3A00', version=Version(effective_from=datetime.datetime(2021, 1, 1, 0, 0, tzinfo=datetime.timezone.utc), as_at_date=datetime.datetime(2023, 10, 6, 22, 38, 22, 695716, tzinfo=datetime.timezone.utc), as_at_created=None, user_id_created=None, request_id_created=None, as_at_modified=None, user_id_modified=None, request_id_modified=None, as_at_version_number=None), metadata={}, links=[Link(relation='Root', href='https://fbn-ci.lusid.com/api/api/portfolios/Finbourne-Examples/UK-Equities?effectiveAt=2021-01-01T00%3A00%3A00.0000000%2B00%3A00&asAt=2023-10-06T22%3A38%3A14.0736230%2B00%3A00', description=None, method='GET'), Link(relation='Holdings', href='https://fbn-ci.lusid.com/api/api/transactionportfolios/Finbourne-Examples/UK-Equities/holdings?effectiveAt=2021-01-01T00%3A00%3A00.0000000%2B00%3A00&asAt=2023-10-06T22%3A38%3A14.0736230%2B00%3A00', description=None, method='GET'), Link(relation='RequestLogs', href='http://fbn-ci.lusid.com/app/insights/logs/0HMU6MQJU59UI:000000DA', description='A link to the LUSID Insights website showing all logs related to this request', method='GET')]),\n",
       " AdjustHolding(href='https://fbn-ci.lusid.com/api/api/transactionportfolios/Finbourne-Examples/US-Treasury-Bond/holdings?asAt=2023-10-06T22%3A38%3A16.9629670%2B00%3A00', version=Version(effective_from=datetime.datetime(2021, 1, 1, 0, 0, tzinfo=datetime.timezone.utc), as_at_date=datetime.datetime(2023, 10, 6, 22, 38, 23, 570412, tzinfo=datetime.timezone.utc), as_at_created=None, user_id_created=None, request_id_created=None, as_at_modified=None, user_id_modified=None, request_id_modified=None, as_at_version_number=None), metadata={}, links=[Link(relation='Root', href='https://fbn-ci.lusid.com/api/api/portfolios/Finbourne-Examples/US-Treasury-Bond?effectiveAt=2021-01-01T00%3A00%3A00.0000000%2B00%3A00&asAt=2023-10-06T22%3A38%3A16.9629670%2B00%3A00', description=None, method='GET'), Link(relation='Holdings', href='https://fbn-ci.lusid.com/api/api/transactionportfolios/Finbourne-Examples/US-Treasury-Bond/holdings?effectiveAt=2021-01-01T00%3A00%3A00.0000000%2B00%3A00&asAt=2023-10-06T22%3A38%3A16.9629670%2B00%3A00', description=None, method='GET'), Link(relation='RequestLogs', href='http://fbn-ci.lusid.com/app/insights/logs/0HMU6MLR6UEE8:00000226', description='A link to the LUSID Insights website showing all logs related to this request', method='GET')]),\n",
       " AdjustHolding(href='https://fbn-ci.lusid.com/api/api/transactionportfolios/Finbourne-Examples/US-Corporate-Bond/holdings?asAt=2023-10-06T22%3A38%3A18.4122900%2B00%3A00', version=Version(effective_from=datetime.datetime(2021, 1, 1, 0, 0, tzinfo=datetime.timezone.utc), as_at_date=datetime.datetime(2023, 10, 6, 22, 38, 24, 452248, tzinfo=datetime.timezone.utc), as_at_created=None, user_id_created=None, request_id_created=None, as_at_modified=None, user_id_modified=None, request_id_modified=None, as_at_version_number=None), metadata={}, links=[Link(relation='Root', href='https://fbn-ci.lusid.com/api/api/portfolios/Finbourne-Examples/US-Corporate-Bond?effectiveAt=2021-01-01T00%3A00%3A00.0000000%2B00%3A00&asAt=2023-10-06T22%3A38%3A18.4122900%2B00%3A00', description=None, method='GET'), Link(relation='Holdings', href='https://fbn-ci.lusid.com/api/api/transactionportfolios/Finbourne-Examples/US-Corporate-Bond/holdings?effectiveAt=2021-01-01T00%3A00%3A00.0000000%2B00%3A00&asAt=2023-10-06T22%3A38%3A18.4122900%2B00%3A00', description=None, method='GET'), Link(relation='RequestLogs', href='http://fbn-ci.lusid.com/app/insights/logs/0HMU6MLR6UEF7:000000F9', description='A link to the LUSID Insights website showing all logs related to this request', method='GET')])]"
      ]
     },
     "execution_count": 19,
     "metadata": {},
     "output_type": "execute_result"
    }
   ],
   "source": [
    "def set_holdings(scope, port, port_holdings):\n",
    "    '''\n",
    "    Input: \n",
    "        port_holdings (pandas.DataFrame): pandas dataframe with the following columns \n",
    "                                'Portfolio Code': code of the portfolio (str),\n",
    "                                'instrument_uid': identifier of the instrument (identifierkey:value) (dict),\n",
    "                                'Instrument Name': name of the instrument (str),\n",
    "                                'Holding Type': type of the holding (str),\n",
    "                                'units': number of the given instrument (float),\n",
    "                                'price': price of the instrument (float),\n",
    "                                'cost.currency': CCY code (str),\n",
    "                                'purchase_date': purchase date in UTC (pandas._libs.tslibs.timestamps.Timestamp),\n",
    "                                'settlement_date': settlmeent date in UTC (pandas._libs.tslibs.timestamps.Timestamp),\n",
    "                                'cost.amount': cost of the transaction to get this holding in cost currency (float),\n",
    "                                'portfolio_cost': cost of the transaction to get this holding in portfolio currency (float)\n",
    "    Output:\n",
    "        resp (lusid.models.adjust_holding.AdjustHolding): AdjustHolding response\n",
    "    '''\n",
    "    holdingsReq = [models.AdjustHoldingRequest(instrument_identifiers={hold['instrument_uid'].split(':')[0]:hold['instrument_uid'].split(':')[1]},\n",
    "                                           tax_lots=[models.TargetTaxLotRequest(units=hold['units'],\n",
    "                                                                                cost=models.CurrencyAndAmount(amount=hold['cost.amount'],\n",
    "                                                                                                              currency=hold['cost.currency']),\n",
    "                                                                                portfolio_cost=hold['portfolio_cost'],\n",
    "                                                                                price=hold['price'],\n",
    "                                                                                purchase_date=pytz.timezone('UTC').localize(hold['purchase_date'].to_pydatetime()).isoformat(),\n",
    "                                                                                settlement_date=pytz.timezone('UTC').localize(hold['settlement_date'].to_pydatetime()).isoformat())],\n",
    "                                          currency=hold['cost.currency']) \n",
    "               for i,hold in port_holdings.iterrows()]\n",
    "\n",
    "    resp = transaction_portfolios_api.set_holdings(scope=scope,\n",
    "                                          code=port,\n",
    "                                          effective_at=date.isoformat(),\n",
    "                                          adjust_holding_request=holdingsReq)\n",
    "    return resp\n",
    "\n",
    "set_holdings_response = [set_holdings(scope, port, holdings.query(f\"`Portfolio Code` == '{port}'\")) \n",
    "                         for port in holdings['Portfolio Code'].unique()]\n",
    "    \n",
    "set_holdings_response"
   ]
  },
  {
   "cell_type": "markdown",
   "id": "6da88775",
   "metadata": {},
   "source": [
    "### Create Transactions"
   ]
  },
  {
   "cell_type": "code",
   "execution_count": 20,
   "id": "0833572a",
   "metadata": {},
   "outputs": [
    {
     "data": {
      "text/plain": [
       "[UpsertPortfolioTransactionsResponse(version=Version(effective_from=datetime.datetime(2021, 5, 2, 0, 0, tzinfo=datetime.timezone.utc), as_at_date=datetime.datetime(2023, 10, 6, 22, 38, 25, 600962, tzinfo=datetime.timezone.utc), as_at_created=datetime.datetime(2023, 10, 6, 22, 38, 15, 518091, tzinfo=datetime.timezone.utc), user_id_created='00uihoufv9AzrEGby2p7', request_id_created='0HMU6MLR6UEII:0000006A', as_at_modified=datetime.datetime(2023, 10, 6, 22, 38, 21, 741487, tzinfo=datetime.timezone.utc), user_id_modified='00uihoufv9AzrEGby2p7', request_id_modified='0HMU6MLR6UEF7:000000F7', as_at_version_number=2), href='https://fbn-ci.lusid.com/api/api/transactionportfolios/Finbourne-Examples/Global-Equity/transactions?asAt=2023-10-06T22%3A38%3A25.6009620%2B00%3A00', metadata={}, links=[Link(relation='Root', href='https://fbn-ci.lusid.com/api/api/portfolios/Finbourne-Examples/Global-Equity?effectiveAt=2021-05-02T00%3A00%3A00.0000000%2B00%3A00&asAt=2023-10-06T22%3A38%3A25.6009620%2B00%3A00', description=None, method='GET'), Link(relation='EntitySchema', href='https://fbn-ci.lusid.com/api/api/schemas/entities/UpsertPortfolioTransactionsResponse', description=None, method='GET'), Link(relation='RequestLogs', href='http://fbn-ci.lusid.com/app/insights/logs/0HMU6MLR6UEE8:00000227', description='A link to the LUSID Insights website showing all logs related to this request', method='GET')]),\n",
       " UpsertPortfolioTransactionsResponse(version=Version(effective_from=datetime.datetime(2021, 4, 15, 0, 0, tzinfo=datetime.timezone.utc), as_at_date=datetime.datetime(2023, 10, 6, 22, 38, 26, 550140, tzinfo=datetime.timezone.utc), as_at_created=datetime.datetime(2023, 10, 6, 22, 38, 14, 73623, tzinfo=datetime.timezone.utc), user_id_created='00uihoufv9AzrEGby2p7', request_id_created='0HMU6MQJU59UI:000000D0', as_at_modified=datetime.datetime(2023, 10, 6, 22, 38, 22, 695716, tzinfo=datetime.timezone.utc), user_id_modified='00uihoufv9AzrEGby2p7', request_id_modified='0HMU6MQJU59UI:000000DA', as_at_version_number=2), href='https://fbn-ci.lusid.com/api/api/transactionportfolios/Finbourne-Examples/UK-Equities/transactions?asAt=2023-10-06T22%3A38%3A26.5501400%2B00%3A00', metadata={}, links=[Link(relation='Root', href='https://fbn-ci.lusid.com/api/api/portfolios/Finbourne-Examples/UK-Equities?effectiveAt=2021-04-15T00%3A00%3A00.0000000%2B00%3A00&asAt=2023-10-06T22%3A38%3A26.5501400%2B00%3A00', description=None, method='GET'), Link(relation='EntitySchema', href='https://fbn-ci.lusid.com/api/api/schemas/entities/UpsertPortfolioTransactionsResponse', description=None, method='GET'), Link(relation='RequestLogs', href='http://fbn-ci.lusid.com/app/insights/logs/0HMU6MLR6UEE8:00000228', description='A link to the LUSID Insights website showing all logs related to this request', method='GET')]),\n",
       " UpsertPortfolioTransactionsResponse(version=Version(effective_from=datetime.datetime(2021, 4, 15, 0, 0, tzinfo=datetime.timezone.utc), as_at_date=datetime.datetime(2023, 10, 6, 22, 38, 27, 907887, tzinfo=datetime.timezone.utc), as_at_created=datetime.datetime(2023, 10, 6, 22, 38, 16, 962967, tzinfo=datetime.timezone.utc), user_id_created='00uihoufv9AzrEGby2p7', request_id_created='0HMU6MQJU59UI:000000D5', as_at_modified=datetime.datetime(2023, 10, 6, 22, 38, 23, 570412, tzinfo=datetime.timezone.utc), user_id_modified='00uihoufv9AzrEGby2p7', request_id_modified='0HMU6MLR6UEE8:00000226', as_at_version_number=2), href='https://fbn-ci.lusid.com/api/api/transactionportfolios/Finbourne-Examples/US-Treasury-Bond/transactions?asAt=2023-10-06T22%3A38%3A27.9078870%2B00%3A00', metadata={}, links=[Link(relation='Root', href='https://fbn-ci.lusid.com/api/api/portfolios/Finbourne-Examples/US-Treasury-Bond?effectiveAt=2021-04-15T00%3A00%3A00.0000000%2B00%3A00&asAt=2023-10-06T22%3A38%3A27.9078870%2B00%3A00', description=None, method='GET'), Link(relation='EntitySchema', href='https://fbn-ci.lusid.com/api/api/schemas/entities/UpsertPortfolioTransactionsResponse', description=None, method='GET'), Link(relation='RequestLogs', href='http://fbn-ci.lusid.com/app/insights/logs/0HMU6MLR6UEE8:00000229', description='A link to the LUSID Insights website showing all logs related to this request', method='GET')]),\n",
       " UpsertPortfolioTransactionsResponse(version=Version(effective_from=datetime.datetime(2021, 4, 15, 0, 0, tzinfo=datetime.timezone.utc), as_at_date=datetime.datetime(2023, 10, 6, 22, 38, 28, 680847, tzinfo=datetime.timezone.utc), as_at_created=datetime.datetime(2023, 10, 6, 22, 38, 18, 412290, tzinfo=datetime.timezone.utc), user_id_created='00uihoufv9AzrEGby2p7', request_id_created='0HMU6MQJU59RT:00000176', as_at_modified=datetime.datetime(2023, 10, 6, 22, 38, 24, 452248, tzinfo=datetime.timezone.utc), user_id_modified='00uihoufv9AzrEGby2p7', request_id_modified='0HMU6MLR6UEF7:000000F9', as_at_version_number=2), href='https://fbn-ci.lusid.com/api/api/transactionportfolios/Finbourne-Examples/US-Corporate-Bond/transactions?asAt=2023-10-06T22%3A38%3A28.6808470%2B00%3A00', metadata={}, links=[Link(relation='Root', href='https://fbn-ci.lusid.com/api/api/portfolios/Finbourne-Examples/US-Corporate-Bond?effectiveAt=2021-04-15T00%3A00%3A00.0000000%2B00%3A00&asAt=2023-10-06T22%3A38%3A28.6808470%2B00%3A00', description=None, method='GET'), Link(relation='EntitySchema', href='https://fbn-ci.lusid.com/api/api/schemas/entities/UpsertPortfolioTransactionsResponse', description=None, method='GET'), Link(relation='RequestLogs', href='http://fbn-ci.lusid.com/app/insights/logs/0HMU6MQJU59UI:000000DE', description='A link to the LUSID Insights website showing all logs related to this request', method='GET')])]"
      ]
     },
     "execution_count": 20,
     "metadata": {},
     "output_type": "execute_result"
    }
   ],
   "source": [
    "upsert_transaction_response = []\n",
    "\n",
    "def upsert_transactions(scope, port, port_trans):\n",
    "    '''\n",
    "    Input: \n",
    "        port_trans (pandas.DataFrame): pandas dataframe with the following columns \n",
    "                                'Portfolio Code': code of the portfolio (str),\n",
    "                                'transaction_id' : ID of this transaction (str),\n",
    "                                'instrument_uid': identifier of the instrument (identifierkey:value) (dict),\n",
    "                                'type' : type of this transaction (str),\n",
    "                                'transaction_date' : transaction date in UTC (pandas._libs.tslibs.timestamps.Timestamp),\n",
    "                                'settlement_date': settlement date in UTC (pandas._libs.tslibs.timestamps.Timestamp),\n",
    "                                'units': number of the given instrument (float),\n",
    "                                'total_consideration.currency' : CCY code (str),\n",
    "                                'transaction_price.price' : price at which the instrument was transacted at (float),\n",
    "                                'total_consideration.amount' : amount of the particular instrument transacted (float),\n",
    "                                'source : source of this transaction (str)'\n",
    "    Output:\n",
    "        resp (lusid.models.adjust_holding.AdjustHolding): AdjustHolding response\n",
    "    '''\n",
    "    trans_req = [models.TransactionRequest(transaction_id=trans['transaction_id'], \n",
    "                                          type=trans['type'],\n",
    "                                          instrument_identifiers={trans['instrument_uid'].split(':')[0]:trans['instrument_uid'].split(':')[1]}, \n",
    "                                          transaction_date=pytz.timezone('UTC').localize(trans['transaction_date'].to_pydatetime()).isoformat(),\n",
    "                                          settlement_date=pytz.timezone('UTC').localize(trans['settlement_date'].to_pydatetime()).isoformat(), \n",
    "                                          units=trans['units'],\n",
    "                                          transaction_price=models.TransactionPrice(price=trans['transaction_price.price']),\n",
    "                                          total_consideration=models.CurrencyAndAmount(amount=trans['total_consideration.amount'],\n",
    "                                                                                       currency=trans['total_consideration.currency']),\n",
    "                                          source=trans['source'])\n",
    "                for i,trans in port_trans.iterrows()]\n",
    "\n",
    "    resp = transaction_portfolios_api.upsert_transactions(scope=scope,\n",
    "                                                        code=port,\n",
    "                                                        transaction_request=trans_req)\n",
    "    return resp\n",
    "\n",
    "\n",
    "upsert_transaction_response = [upsert_transactions(scope, port, transactions.query(f\"`Portfolio Code` == '{port}'\")) \n",
    "                               for port in transactions['Portfolio Code'].unique()]    \n",
    "\n",
    "upsert_transaction_response"
   ]
  },
  {
   "cell_type": "markdown",
   "id": "34396f00",
   "metadata": {},
   "source": [
    "### Create Quotes"
   ]
  },
  {
   "cell_type": "code",
   "execution_count": 21,
   "id": "96501eba",
   "metadata": {},
   "outputs": [
    {
     "name": "stdout",
     "output_type": "stream",
     "text": [
      "Failures:  [{}, {}, {}, {}, {}]\n"
     ]
    }
   ],
   "source": [
    "quotes_req = {\n",
    "    f\"{quote['instrument_uid']}-{str(quote['effective_at'])}-{quote['field']}\":\n",
    "    lusid.UpsertQuoteRequest(\n",
    "        quote_id=lusid.QuoteId(\n",
    "            quote_series_id = lusid.QuoteSeriesId(provider = quote['provider'],\n",
    "                                                  price_source=quote[\"source\"],\n",
    "                                                  instrument_id = quote['instrument_uid'], \n",
    "                                                  instrument_id_type=quote['instrument_uid_type'], \n",
    "                                                  quote_type=quote['quote_type'], \n",
    "                                                  field=quote['field']),\n",
    "            effective_at= pytz.timezone('UTC').localize(quote['effective_at'].to_pydatetime()).isoformat()), \n",
    "        metric_value=lusid.MetricValue(value=quote['metric_value'],\n",
    "                                       unit=quote['metric_unit']))\n",
    "    for i,quote in quotes.iterrows()\n",
    "}\n",
    "    \n",
    "## Upserting Quotes\n",
    "quote_numbers = len(quotes_req)\n",
    "max_per_upsert = 500\n",
    "number_of_Req = quote_numbers/max_per_upsert\n",
    "quote_keys = list(quotes_req.keys())\n",
    "upsert_results = []\n",
    "for i in range(int(number_of_Req)):\n",
    "    request_keys = quote_keys[i*max_per_upsert : (i+1)*max_per_upsert]\n",
    "    request = dict(zip(request_keys, [quotes_req[key] for key in request_keys]))\n",
    "    upsert_results.append(quotes_api.upsert_quotes(scope=market_data_scope, request_body=request))\n",
    "    \n",
    "if quote_numbers - ((i+1)*max_per_upsert) > 0:\n",
    "    request_keys = quote_keys[((i+1)*max_per_upsert) : ]\n",
    "    request = dict(zip(request_keys, [quotes_req[key] for key in request_keys]))\n",
    "    upsert_results.append(quotes_api.upsert_quotes(scope=market_data_scope, request_body=request))\n",
    "\n",
    "    \n",
    "print(\"Failures: \", [i.failed for i in upsert_results])"
   ]
  },
  {
   "cell_type": "markdown",
   "id": "0ee5b49b",
   "metadata": {},
   "source": [
    "### Create FX Rates"
   ]
  },
  {
   "cell_type": "code",
   "execution_count": 22,
   "id": "e171be13",
   "metadata": {},
   "outputs": [
    {
     "name": "stdout",
     "output_type": "stream",
     "text": [
      "Failures:  [{}, {}, {}, {}, {}]\n"
     ]
    }
   ],
   "source": [
    "rates_req = {\n",
    "    f\"{rate['instrument_uid']}-{str(rate['effective_at'])}-{rate['field']}\" :\n",
    "    lusid.UpsertQuoteRequest(\n",
    "        quote_id=lusid.QuoteId(\n",
    "            quote_series_id = lusid.QuoteSeriesId(provider = 'Client', \n",
    "                                                  price_source=rate[\"source\"],\n",
    "                                                  instrument_id = rate['instrument_uid'], \n",
    "                                                  instrument_id_type=rate['instrument_uid_type'], \n",
    "                                                  quote_type=rate['quote_type'], \n",
    "                                                  field=rate['field']),\n",
    "            effective_at = pytz.timezone('UTC').localize(rate['effective_at'].to_pydatetime()).isoformat()), \n",
    "        metric_value=lusid.MetricValue(value=rate['metric_value'],\n",
    "                                       unit=rate['metric_unit']))\n",
    "    for i,rate in rates.iterrows()\n",
    "}\n",
    "\n",
    "## Upserting Quotes\n",
    "quote_numbers = len(rates_req)\n",
    "max_per_upsert = 500\n",
    "number_of_Req = quote_numbers/max_per_upsert\n",
    "quote_keys = list(rates_req.keys())\n",
    "upsert_results = []\n",
    "for i in range(int(number_of_Req)):\n",
    "    request_keys = quote_keys[i*max_per_upsert : (i+1)*max_per_upsert]\n",
    "    request = dict(zip(request_keys, [rates_req[key] for key in request_keys]))\n",
    "    upsert_results.append(quotes_api.upsert_quotes(scope=market_data_scope, request_body=request))\n",
    "    \n",
    "if quote_numbers - ((i+1)*max_per_upsert) > 0:\n",
    "    request_keys = quote_keys[((i+1)*max_per_upsert) : ]\n",
    "    request = dict(zip(request_keys, [rates_req[key] for key in request_keys]))\n",
    "    upsert_results.append(quotes_api.upsert_quotes(scope=market_data_scope, request_body=request))\n",
    "\n",
    "    \n",
    "print(\"Failures: \", [i.failed for i in upsert_results])"
   ]
  },
  {
   "cell_type": "markdown",
   "id": "78afc7ca",
   "metadata": {},
   "source": [
    "### Create Recipes"
   ]
  },
  {
   "cell_type": "code",
   "execution_count": 23,
   "id": "aad6e7db",
   "metadata": {},
   "outputs": [
    {
     "data": {
      "text/plain": [
       "[GetRecipeResponse(href=None, value=ConfigurationRecipe(scope='Finbourne-Examples', code='FinbourneExamplesRecipeMidThenBid', market=MarketContext(market_rules=[MarketDataKeyRule(key='Equity.Figi.*', supplier='Client', data_scope='FinbourneMarketData', quote_type='Price', field='Mid', quote_interval='10Y.0D', as_at=None, price_source='', mask=None, source_system='Lusid'), MarketDataKeyRule(key='Equity.Figi.*', supplier='Client', data_scope='FinbourneMarketData', quote_type='Price', field='Bid', quote_interval='10Y.0D', as_at=None, price_source='', mask=None, source_system='Lusid'), MarketDataKeyRule(key='Equity.LusidInstrumentId.*', supplier='Client', data_scope='FinbourneMarketData', quote_type='Price', field='Mid', quote_interval='10Y.0D', as_at=None, price_source='', mask=None, source_system='Lusid'), MarketDataKeyRule(key='Equity.LusidInstrumentId.*', supplier='Client', data_scope='FinbourneMarketData', quote_type='Price', field='Bid', quote_interval='10Y.0D', as_at=None, price_source='', mask=None, source_system='Lusid'), MarketDataKeyRule(key='Fx.CurrencyPair.*', supplier='Client', data_scope='FinbourneMarketData', quote_type='Price', field='Mid', quote_interval='10Y.0D', as_at=None, price_source='', mask=None, source_system='Lusid'), MarketDataKeyRule(key='Fx.CurrencyPair.*', supplier='Client', data_scope='FinbourneMarketData', quote_type='Price', field='Bid', quote_interval='10Y.0D', as_at=None, price_source='', mask=None, source_system='Lusid')], suppliers=MarketContextSuppliers(commodity='Client', credit='Client', equity='Client', fx='Client', rates='Client'), options=MarketOptions(default_supplier='DataScope', default_instrument_code_type='Figi', default_scope='FinbourneMarketData', attempt_to_infer_missing_fx=False, calendar_scope='CoppClarkHolidayCalendars', convention_scope='Conventions'), specific_rules=[]), pricing=PricingContext(model_rules=[], model_choice={}, options=PricingOptions(model_selection=ModelSelection(library='Lusid', model='SimpleStatic'), use_instrument_type_to_determine_pricer=False, allow_any_instruments_with_sec_uid_to_price_off_lookup=False, allow_partially_successful_evaluation=False, produce_separate_result_for_linear_otc_legs=False, enable_use_of_cached_unit_results=False, window_valuation_on_instrument_start_end=False, remove_contingent_cashflows_in_payment_diary=False, use_child_sub_holding_keys_for_portfolio_expansion=False, validate_domestic_and_quote_currencies_are_consistent=False, conserved_quantity_for_lookthrough_expansion='PV'), result_data_rules=[]), aggregation=AggregationContext(options=AggregationOptions(use_ansi_like_syntax=False, allow_partial_entitlement_success=False, apply_iso4217_rounding=False)), inherited_recipes=[], description='For each instrument (Equity and Fx) use Mid Price if available, Bid if not', holding=HoldingContext(tax_lot_level_holdings=True)), links=[Link(relation='RequestLogs', href='http://fbn-ci.lusid.com/app/insights/logs/0HMU6MQJU59RT:0000017F', description='A link to the LUSID Insights website showing all logs related to this request', method='GET')]),\n",
       " GetRecipeResponse(href=None, value=ConfigurationRecipe(scope='Finbourne-Examples', code='FinbourneExamplesRecipeBidThenMid', market=MarketContext(market_rules=[MarketDataKeyRule(key='Equity.Figi.*', supplier='Client', data_scope='FinbourneMarketData', quote_type='Price', field='Bid', quote_interval='10Y.0D', as_at=None, price_source='', mask=None, source_system='Lusid'), MarketDataKeyRule(key='Equity.Figi.*', supplier='Client', data_scope='FinbourneMarketData', quote_type='Price', field='Mid', quote_interval='10Y.0D', as_at=None, price_source='', mask=None, source_system='Lusid'), MarketDataKeyRule(key='Equity.LusidInstrumentId.*', supplier='Client', data_scope='FinbourneMarketData', quote_type='Price', field='Bid', quote_interval='10Y.0D', as_at=None, price_source='', mask=None, source_system='Lusid'), MarketDataKeyRule(key='Equity.LusidInstrumentId.*', supplier='Client', data_scope='FinbourneMarketData', quote_type='Price', field='Mid', quote_interval='10Y.0D', as_at=None, price_source='', mask=None, source_system='Lusid'), MarketDataKeyRule(key='Fx.CurrencyPair.*', supplier='Client', data_scope='FinbourneMarketData', quote_type='Price', field='Bid', quote_interval='10Y.0D', as_at=None, price_source='', mask=None, source_system='Lusid'), MarketDataKeyRule(key='Fx.CurrencyPair.*', supplier='Client', data_scope='FinbourneMarketData', quote_type='Price', field='Mid', quote_interval='10Y.0D', as_at=None, price_source='', mask=None, source_system='Lusid')], suppliers=MarketContextSuppliers(commodity='Client', credit='Client', equity='Client', fx='Client', rates='Client'), options=MarketOptions(default_supplier='DataScope', default_instrument_code_type='Figi', default_scope='FinbourneMarketData', attempt_to_infer_missing_fx=False, calendar_scope='CoppClarkHolidayCalendars', convention_scope='Conventions'), specific_rules=[]), pricing=PricingContext(model_rules=[], model_choice={}, options=PricingOptions(model_selection=ModelSelection(library='Lusid', model='SimpleStatic'), use_instrument_type_to_determine_pricer=False, allow_any_instruments_with_sec_uid_to_price_off_lookup=False, allow_partially_successful_evaluation=False, produce_separate_result_for_linear_otc_legs=False, enable_use_of_cached_unit_results=False, window_valuation_on_instrument_start_end=False, remove_contingent_cashflows_in_payment_diary=False, use_child_sub_holding_keys_for_portfolio_expansion=False, validate_domestic_and_quote_currencies_are_consistent=False, conserved_quantity_for_lookthrough_expansion='PV'), result_data_rules=[]), aggregation=AggregationContext(options=AggregationOptions(use_ansi_like_syntax=False, allow_partial_entitlement_success=False, apply_iso4217_rounding=False)), inherited_recipes=[], description='For each instrument (Equity and Fx) use Bid Price if available, Mid if not', holding=HoldingContext(tax_lot_level_holdings=True)), links=[Link(relation='RequestLogs', href='http://fbn-ci.lusid.com/app/insights/logs/0HMU6MLR6UEF7:000000FE', description='A link to the LUSID Insights website showing all logs related to this request', method='GET')]),\n",
       " GetRecipeResponse(href=None, value=ConfigurationRecipe(scope='Finbourne-Examples', code='FinbourneExamplesRecipeLusidFlatFX', market=MarketContext(market_rules=[MarketDataKeyRule(key='Equity.Figi.*', supplier='Lusid', data_scope='FinbourneMarketData', quote_type='Price', field='Mid', quote_interval='10Y.0D', as_at=None, price_source='', mask=None, source_system='Lusid'), MarketDataKeyRule(key='Equity.LusidInstrumentId.*', supplier='Lusid', data_scope='FinbourneMarketData', quote_type='Price', field='Mid', quote_interval='10Y.0D', as_at=None, price_source='', mask=None, source_system='Lusid'), MarketDataKeyRule(key='Fx.CurrencyPair.*', supplier='Lusid', data_scope='FinbourneMarketData', quote_type='Price', field='Mid', quote_interval='10Y.0D', as_at=None, price_source='', mask=None, source_system='Lusid')], suppliers=MarketContextSuppliers(commodity='Client', credit='Client', equity='Client', fx='Client', rates='Client'), options=MarketOptions(default_supplier='DataScope', default_instrument_code_type='Figi', default_scope='FinbourneMarketData', attempt_to_infer_missing_fx=False, calendar_scope='CoppClarkHolidayCalendars', convention_scope='Conventions'), specific_rules=[]), pricing=PricingContext(model_rules=[], model_choice={}, options=PricingOptions(model_selection=ModelSelection(library='Lusid', model='SimpleStatic'), use_instrument_type_to_determine_pricer=False, allow_any_instruments_with_sec_uid_to_price_off_lookup=False, allow_partially_successful_evaluation=False, produce_separate_result_for_linear_otc_legs=False, enable_use_of_cached_unit_results=False, window_valuation_on_instrument_start_end=False, remove_contingent_cashflows_in_payment_diary=False, use_child_sub_holding_keys_for_portfolio_expansion=False, validate_domestic_and_quote_currencies_are_consistent=False, conserved_quantity_for_lookthrough_expansion='PV'), result_data_rules=[]), aggregation=AggregationContext(options=AggregationOptions(use_ansi_like_syntax=False, allow_partial_entitlement_success=False, apply_iso4217_rounding=False)), inherited_recipes=[], description='Change supplier to Lusid for FX, to show an arbitrary constant FX rate', holding=HoldingContext(tax_lot_level_holdings=True)), links=[Link(relation='RequestLogs', href='http://fbn-ci.lusid.com/app/insights/logs/0HMU6MLR6UEE8:00000236', description='A link to the LUSID Insights website showing all logs related to this request', method='GET')])]"
      ]
     },
     "execution_count": 23,
     "metadata": {},
     "output_type": "execute_result"
    }
   ],
   "source": [
    "created_recipes = []\n",
    "\n",
    "def create_recipe(code, rec_rules):\n",
    "    '''\n",
    "    Input: \n",
    "        rec_rules (pandas.DataFrame): pandas dataframe with the following columns \n",
    "                                'Description' : description of the recipe (str),\n",
    "                                'Key' : market data key (str),\n",
    "                                'Supplier' : supplier of the market data (str),\n",
    "                                'QuoteType' : type of the quote (str),\n",
    "                                'QuoteInterval' : interval of the quote (str),\n",
    "                                'Field' : field of the quote (str)\n",
    "    Output:\n",
    "        resp (lusid.models.adjust_holding.AdjustHolding): AdjustHolding response\n",
    "    '''\n",
    "    description = rec_rules.Description.unique()[0]\n",
    "    supplier = \"Client\" #rec_rules.Supplier.unique()[0]\n",
    "    recipe_req = models.UpsertRecipeRequest(\n",
    "                        configuration_recipe=lusid.ConfigurationRecipe(\n",
    "                            scope=scope,\n",
    "                            code=code,\n",
    "                            description=description,\n",
    "                            market=models.MarketContext(market_rules=[\n",
    "                                models.MarketDataKeyRule(key=rule['Key'],\n",
    "                                   supplier=rule['Supplier'],\n",
    "                                   data_scope=market_data_scope,\n",
    "                                   quote_type=rule['QuoteType'],\n",
    "                                   field=rule['Field'],\n",
    "                                   quote_interval=rule['QuoteInterval'])\n",
    "                            for i,rule in rec_rules.iterrows()],\n",
    "                            suppliers=lusid.MarketContextSuppliers(\n",
    "                                commodity=supplier,\n",
    "                                credit=supplier,\n",
    "                                equity=supplier,\n",
    "                                fx=supplier,\n",
    "                                rates=supplier),\n",
    "                           options=models.MarketOptions(\n",
    "                                default_supplier='DataScope',\n",
    "                                default_instrument_code_type='Figi',\n",
    "                                default_scope=market_data_scope)\n",
    "                               )\n",
    "                        )\n",
    "                ) \n",
    "\n",
    "    configuration_recipe_api.upsert_configuration_recipe(upsert_recipe_request = recipe_req)\n",
    "    return configuration_recipe_api.get_configuration_recipe(scope=scope, code=code)\n",
    "\n",
    "created_recipes = [create_recipe(rec, recipes.query(f\"Code == '{rec}'\")) \n",
    "                   for rec in recipes['Code'].unique()]\n",
    "\n",
    "created_recipes"
   ]
  },
  {
   "cell_type": "code",
   "execution_count": 24,
   "id": "97a95359",
   "metadata": {},
   "outputs": [
    {
     "data": {
      "text/plain": [
       "['FinbourneExamplesRecipeMidThenBid',\n",
       " 'FinbourneExamplesRecipeBidThenMid',\n",
       " 'FinbourneExamplesRecipeLusidFlatFX']"
      ]
     },
     "execution_count": 24,
     "metadata": {},
     "output_type": "execute_result"
    }
   ],
   "source": [
    "[i.value.code for i in created_recipes]"
   ]
  },
  {
   "cell_type": "markdown",
   "id": "a522d74d",
   "metadata": {},
   "source": [
    "### Test Aggregation using created Recipe"
   ]
  },
  {
   "cell_type": "code",
   "execution_count": 27,
   "id": "7071e27c",
   "metadata": {},
   "outputs": [
    {
     "data": {
      "text/plain": [
       "ListAggregationResponse(aggregation_effective_at=datetime.datetime(2021, 5, 17, 0, 0, tzinfo=datetime.timezone.utc), aggregation_as_at=datetime.datetime(2023, 10, 6, 22, 39, 59, 676508, tzinfo=datetime.timezone.utc), href=None, data=[{'Instrument/default/Name': 'Apple', 'Instrument/default/LusidInstrumentId': 'LUID_0008ZF31', 'Holding/default/Type': 'Position', 'Holding/default/PV': 2268000000.0, 'Holding/default/Units': 12000000.0, 'Holding/default/Cost': 2390760000.0, 'Holding/default/ExchangeRate': 1.0, 'Holding/default/Price': 189.0}, {'Instrument/default/Name': 'JPMorgan Chase', 'Instrument/default/LusidInstrumentId': 'LUID_0008ZF32', 'Holding/default/Type': 'Position', 'Holding/default/PV': 2365265294.117647, 'Holding/default/Units': 21352941.17647059, 'Holding/default/Cost': 2379056470.59, 'Holding/default/ExchangeRate': 1.0, 'Holding/default/Price': 110.77}, {'Instrument/default/Name': 'BP', 'Instrument/default/LusidInstrumentId': 'LUID_0008ZF33', 'Holding/default/Type': 'Position', 'Holding/default/PV': 1633331764.7058823, 'Holding/default/Units': 2937647.0588235296, 'Holding/default/Cost': 1390072117.65, 'Holding/default/ExchangeRate': 1.0, 'Holding/default/Price': 556.0}, {'Instrument/default/Name': 'Anheuser-Busch InBev', 'Instrument/default/LusidInstrumentId': 'LUID_0008ZF34', 'Holding/default/Type': 'Position', 'Holding/default/PV': 1156719882.3529413, 'Holding/default/Units': 15568235.294117646, 'Holding/default/Cost': 1257652294.12, 'Holding/default/ExchangeRate': 1.0, 'Holding/default/Price': 74.3}, {'Instrument/default/Name': 'Toyota Motor', 'Instrument/default/LusidInstrumentId': 'LUID_0008ZF35', 'Holding/default/Type': 'Position', 'Holding/default/PV': 71434758458.82353, 'Holding/default/Units': 10986582.352941176, 'Holding/default/Cost': 71971057729.0, 'Holding/default/ExchangeRate': 1.0, 'Holding/default/Price': 6502.0}, {'Instrument/default/Name': 'Volkswagen', 'Instrument/default/LusidInstrumentId': 'LUID_0008ZF36', 'Holding/default/Type': 'Position', 'Holding/default/PV': 1256862974.7058823, 'Holding/default/Units': 8390273.529411765, 'Holding/default/Cost': 1329858354.41, 'Holding/default/ExchangeRate': 1.0, 'Holding/default/Price': 149.8}, {'Instrument/default/Name': 'HSBC Holdings', 'Instrument/default/LusidInstrumentId': 'LUID_0008ZF37', 'Holding/default/Type': 'Position', 'Holding/default/PV': 310404823.52941173, 'Holding/default/Units': 474117.6470588235, 'Holding/default/Cost': 310973764.71, 'Holding/default/ExchangeRate': 1.0, 'Holding/default/Price': 654.7}, {'Instrument/default/Name': 'Walt Disney', 'Instrument/default/LusidInstrumentId': 'LUID_0008ZF38', 'Holding/default/Type': 'Position', 'Holding/default/PV': -1106176188.235294, 'Holding/default/Units': -8191470.588235294, 'Holding/default/Cost': -1092849358.82, 'Holding/default/ExchangeRate': 1.0, 'Holding/default/Price': 135.04}, {'Instrument/default/Name': 'Microsoft', 'Instrument/default/LusidInstrumentId': 'LUID_0008ZF39', 'Holding/default/Type': 'Position', 'Holding/default/PV': 1390802532.3529413, 'Holding/default/Units': 10859705.88235294, 'Holding/default/Cost': 1314567397.06, 'Holding/default/ExchangeRate': 1.0, 'Holding/default/Price': 128.07}, {'Instrument/default/Name': 'Softbank', 'Instrument/default/LusidInstrumentId': 'LUID_0008ZF3A', 'Holding/default/Type': 'Position', 'Holding/default/PV': 85490000000.0, 'Holding/default/Units': 8300000.0, 'Holding/default/Cost': 98147500000.0, 'Holding/default/ExchangeRate': 1.0, 'Holding/default/Price': 10300.0}, {'Instrument/default/Name': 'USD', 'Instrument/default/LusidInstrumentId': 'CCY_USD', 'Holding/default/Type': 'Balance', 'Holding/default/PV': -24505476.47058823, 'Holding/default/Units': -24505476.47058823, 'Holding/default/Cost': -24505476.47, 'Holding/default/ExchangeRate': 1.0, 'Holding/default/Price': 1.0}, {'Instrument/default/Name': 'GBP', 'Instrument/default/LusidInstrumentId': 'CCY_GBP', 'Holding/default/Type': 'Balance', 'Holding/default/PV': -27346764.705882356, 'Holding/default/Units': -27346764.705882356, 'Holding/default/Cost': -27346764.71, 'Holding/default/ExchangeRate': 1.0, 'Holding/default/Price': 1.0}, {'Instrument/default/Name': 'EUR', 'Instrument/default/LusidInstrumentId': 'CCY_EUR', 'Holding/default/Type': 'Balance', 'Holding/default/PV': 2076854226.4705884, 'Holding/default/Units': 2076854226.4705884, 'Holding/default/Cost': 2076854226.47, 'Holding/default/ExchangeRate': 1.0, 'Holding/default/Price': 1.0}, {'Instrument/default/Name': 'JPY', 'Instrument/default/LusidInstrumentId': 'CCY_JPY', 'Holding/default/Type': 'Balance', 'Holding/default/PV': -35846029.4117647, 'Holding/default/Units': -35846029.4117647, 'Holding/default/Cost': -35846029.0, 'Holding/default/ExchangeRate': 1.0, 'Holding/default/Price': 1.0}], aggregation_currency='GBP', data_schema=ResultDataSchema(node_value_schema=None, property_schema={'Instrument/default/LusidInstrumentId': FieldSchema(id=ResourceId(scope='default', code='LusidInstrumentId'), display_name='LUSID unique ID (LUID)', description='DEPRECATED LEGACY Key. Full documentation is removed or otherwise not available.', type='String', display_order=0), 'Holding/default/Type': FieldSchema(id=ResourceId(scope='default', code='Type'), display_name='Type', description='The type of the holding (buy, sell, fx, etc.).', type='String', display_order=0), 'Instrument/default/Name': FieldSchema(id=ResourceId(scope='default', code='Name'), display_name='Name', description='DEPRECATED LEGACY Key. Full documentation is removed or otherwise not available.', type='String', display_order=0), 'Holding/default/ExchangeRate': FieldSchema(id=ResourceId(scope='default', code='ExchangeRate'), display_name='Exchange Rate', description='DEPRECATED LEGACY Key. Full documentation is removed or otherwise not available.', type='Decimal', display_order=0), 'Holding/default/Price': FieldSchema(id=ResourceId(scope='default', code='Price'), display_name='Price', description='DEPRECATED LEGACY Key. Full documentation is removed or otherwise not available.', type='Decimal', display_order=0), 'Holding/default/PV': FieldSchema(id=ResourceId(scope='default', code='PV'), display_name='PV', description='DEPRECATED LEGACY Key. Full documentation is removed or otherwise not available.', type='Decimal', display_order=0), 'Holding/default/Units': FieldSchema(id=ResourceId(scope='default', code='Units'), display_name='Units', description='The quantity of, e.g. shares, owned or held in a particular holding. Can relate closely to the quantity in an instrument with an extended definition.', type='Decimal', display_order=0), 'Holding/default/Cost': FieldSchema(id=ResourceId(scope='default', code='Cost'), display_name='Cost', description='The cost of the holding in the portfolio currency.', type='Decimal', display_order=0)}, address_schema={'Instrument/default/LusidInstrumentId': AddressDefinition(display_name='LUSID unique ID (LUID)', type='String', description='DEPRECATED LEGACY Key. Full documentation is removed or otherwise not available.', life_cycle_status='Deprecated', removal_date=datetime.datetime(2021, 9, 1, 0, 0, tzinfo=datetime.timezone.utc), documentation_link=''), 'Holding/default/Type': AddressDefinition(display_name='Type', type='String', description='The type of the holding (buy, sell, fx, etc.).', life_cycle_status='Experimental', removal_date=None, documentation_link=''), 'Instrument/default/Name': AddressDefinition(display_name='Name', type='String', description='DEPRECATED LEGACY Key. Full documentation is removed or otherwise not available.', life_cycle_status='Deprecated', removal_date=datetime.datetime(2021, 9, 1, 0, 0, tzinfo=datetime.timezone.utc), documentation_link=''), 'Holding/default/ExchangeRate': AddressDefinition(display_name='Exchange Rate', type='Decimal', description='DEPRECATED LEGACY Key. Full documentation is removed or otherwise not available.', life_cycle_status='Deprecated', removal_date=datetime.datetime(2021, 9, 1, 0, 0, tzinfo=datetime.timezone.utc), documentation_link=''), 'Holding/default/Price': AddressDefinition(display_name='Price', type='Decimal', description='DEPRECATED LEGACY Key. Full documentation is removed or otherwise not available.', life_cycle_status='Deprecated', removal_date=datetime.datetime(2021, 9, 1, 0, 0, tzinfo=datetime.timezone.utc), documentation_link=''), 'Holding/default/PV': AddressDefinition(display_name='PV', type='Decimal', description='DEPRECATED LEGACY Key. Full documentation is removed or otherwise not available.', life_cycle_status='Deprecated', removal_date=datetime.datetime(2021, 9, 1, 0, 0, tzinfo=datetime.timezone.utc), documentation_link=''), 'Holding/default/Units': AddressDefinition(display_name='Units', type='Decimal', description='The quantity of, e.g. shares, owned or held in a particular holding. Can relate closely to the quantity in an instrument with an extended definition.', life_cycle_status='Experimental', removal_date=None, documentation_link=''), 'Holding/default/Cost': AddressDefinition(display_name='Cost', type='Decimal', description='The cost of the holding in the portfolio currency.', life_cycle_status='Experimental', removal_date=None, documentation_link='')}), aggregation_failures=[], links=[Link(relation='RequestLogs', href='http://fbn-ci.lusid.com/app/insights/logs/0HMU6MLR6UEF7:00000110', description='A link to the LUSID Insights website showing all logs related to this request', method='GET')])"
      ]
     },
     "execution_count": 27,
     "metadata": {},
     "output_type": "execute_result"
    }
   ],
   "source": [
    "AGG_INSTR = \"Instrument/default/Name\"\n",
    "AGG_UID = \"Instrument/default/LusidInstrumentId\"\n",
    "AGG_PV = \"Holding/default/PV\"\n",
    "AGG_PRC = \"Holding/default/Price\"\n",
    "AGG_UNITS = \"Holding/default/Units\"\n",
    "AGG_COST = \"Holding/default/Cost\"\n",
    "AGG_TYPE = \"Holding/default/Type\"\n",
    "AGG_RATE = \"Holding/default/ExchangeRate\"\n",
    "\n",
    "\n",
    "metrics = [\n",
    "    models.AggregateSpec(key=AGG_INSTR, op=\"Value\"),\n",
    "    models.AggregateSpec(key=AGG_UID, op=\"Value\"),\n",
    "    models.AggregateSpec(key=AGG_TYPE, op=\"Value\"),\n",
    "    models.AggregateSpec(key=AGG_PV, op=\"Value\"),\n",
    "    models.AggregateSpec(key=AGG_UNITS, op=\"Value\"),\n",
    "    models.AggregateSpec(key=AGG_COST, op=\"Value\"),\n",
    "    models.AggregateSpec(key=AGG_RATE, op=\"Value\"),\n",
    "    models.AggregateSpec(key=AGG_PRC, op=\"Value\"),\n",
    "    ]\n",
    "\n",
    "\n",
    "valuation_request = models.ValuationRequest(\n",
    "    recipe_id=models.ResourceId(scope=scope, code=created_recipes[0].value.code),\n",
    "    valuation_schedule=models.ValuationSchedule(effective_at=pd.to_datetime('2021-05-17', utc=True).isoformat()),\n",
    "    portfolio_entity_ids=[\n",
    "        models.PortfolioEntityId(\n",
    "                scope=created_portfolios[1].id.scope,\n",
    "                code=created_portfolios[1].id.code,\n",
    "                portfolio_entity_type=\"SinglePortfolio\")\n",
    "    ],\n",
    "    metrics=metrics\n",
    ")\n",
    "\n",
    "valuations_api.get_valuation(valuation_request=valuation_request)"
   ]
  }
 ],
 "metadata": {
  "kernelspec": {
   "display_name": "Python 3 (ipykernel)",
   "language": "python",
   "name": "python3"
  },
  "language_info": {
   "codemirror_mode": {
    "name": "ipython",
    "version": 3
   },
   "file_extension": ".py",
   "mimetype": "text/x-python",
   "name": "python",
   "nbconvert_exporter": "python",
   "pygments_lexer": "ipython3",
   "version": "3.11.2"
  }
 },
 "nbformat": 4,
 "nbformat_minor": 5
}
