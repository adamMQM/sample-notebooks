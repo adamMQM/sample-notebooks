{
 "cells": [
  {
   "cell_type": "code",
   "execution_count": 15,
   "id": "b32d6ce6",
   "metadata": {},
   "outputs": [
    {
     "data": {
      "text/plain": "<IPython.core.display.HTML object>",
      "text/html": "\n    <form action=\"javascript:code_toggle()\"><input type=\"submit\" id=\"toggleButton\" value=\"Toggle Docstring\"></form>\n    \n         <script>\n         function code_toggle() {\n             if ($('div.cell.code_cell.rendered.selected div.input').css('display')!='none'){\n                 $('div.cell.code_cell.rendered.selected div.input').hide();\n             } else {\n                 $('div.cell.code_cell.rendered.selected div.input').show();\n             }\n         }\n         </script>\n\n     "
     },
     "metadata": {},
     "output_type": "display_data"
    }
   ],
   "source": [
    "from lusidtools.jupyter_tools import toggle_code\n",
    "\n",
    "\"\"\"Entitlements based on access metadata\n",
    "\n",
    "Demonstrates the use of access metadata to grant access to portfolios in LUSID.\n",
    "\n",
    "Attributes\n",
    "----------\n",
    "entitlements\n",
    "portfolios\n",
    "access metadata\n",
    "\"\"\"\n",
    "\n",
    "toggle_code(\"Toggle Docstring\")"
   ]
  },
  {
   "cell_type": "markdown",
   "id": "25c94670",
   "metadata": {},
   "source": [
    "# Legal Entity Entitlements use Access Metadata"
   ]
  },
  {
   "cell_type": "raw",
   "source": [
    "This notebook attempt to demonstrate how to add access meta-data to a LUSID entity, in this case a Legal Entity is used. If LUSID finds a data entitlements policy that restricts access based on access metadata, it applies that policy and will restrict access accordingly. "
   ],
   "metadata": {
    "collapsed": false,
    "pycharm": {
     "name": "#%% raw\n"
    }
   }
  },
  {
   "cell_type": "code",
   "execution_count": 16,
   "id": "e9d9d92a",
   "metadata": {},
   "outputs": [
    {
     "data": {
      "text/plain": "<IPython.core.display.HTML object>",
      "text/html": "<style>.container { width:90% !important; }</style>"
     },
     "metadata": {},
     "output_type": "display_data"
    },
    {
     "data": {
      "text/plain": "  api_version build_version excel_version  \\\n0          v0    0.6.8752.0      0.5.2654   \n\n                                               links  \n0  {'relation': 'RequestLogs', 'href': 'http://fb...  ",
      "text/html": "<div>\n<style scoped>\n    .dataframe tbody tr th:only-of-type {\n        vertical-align: middle;\n    }\n\n    .dataframe tbody tr th {\n        vertical-align: top;\n    }\n\n    .dataframe thead th {\n        text-align: right;\n    }\n</style>\n<table border=\"1\" class=\"dataframe\">\n  <thead>\n    <tr style=\"text-align: right;\">\n      <th></th>\n      <th>api_version</th>\n      <th>build_version</th>\n      <th>excel_version</th>\n      <th>links</th>\n    </tr>\n  </thead>\n  <tbody>\n    <tr>\n      <th>0</th>\n      <td>v0</td>\n      <td>0.6.8752.0</td>\n      <td>0.5.2654</td>\n      <td>{'relation': 'RequestLogs', 'href': 'http://fb...</td>\n    </tr>\n  </tbody>\n</table>\n</div>"
     },
     "metadata": {},
     "output_type": "display_data"
    }
   ],
   "source": [
    "# Import Libraries\n",
    "import os\n",
    "import json\n",
    "import pytz\n",
    "import pandas as pd\n",
    "from datetime import datetime, timedelta\n",
    "from IPython.core.display import HTML\n",
    "\n",
    "import lusid\n",
    "from lusid import models as lm\n",
    "import finbourne_access\n",
    "from finbourne_access import models as access_models\n",
    "import finbourne_identity\n",
    "from finbourne_identity import models as identity_models\n",
    "from lusidjam import RefreshingToken\n",
    "\n",
    "# Set DataFrame display formats\n",
    "pd.set_option(\"display.max_columns\", None)\n",
    "pd.set_option(\"display.max_rows\", None)\n",
    "pd.options.display.float_format = \"{:,.2f}\".format\n",
    "display(HTML(\"<style>.container { width:90% !important; }</style>\"))\n",
    "\n",
    "# Authenticate our user and create our API client\n",
    "secrets_path = os.getenv(\"FBN_SECRETS_PATH\")\n",
    "\n",
    "lusid_api_factory = lusid.utilities.ApiClientFactory(\n",
    "    token=RefreshingToken(),\n",
    "    api_secrets_filename=secrets_path,\n",
    "    app_name=\"LusidJupyterNotebook\",\n",
    ")\n",
    "\n",
    "api_client = lusid_api_factory.api_client\n",
    "\n",
    "lusid_api_url = api_client.configuration.host\n",
    "access_api_url = lusid_api_url[: lusid_api_url.rfind(\"/\") + 1] + \"access\"\n",
    "identity_api_url = lusid_api_url[: lusid_api_url.rfind(\"/\") + 1] + \"identity\"\n",
    "\n",
    "access_api_factory = finbourne_access.utilities.ApiClientFactory(\n",
    "    token=api_client.configuration.access_token,\n",
    "    access_url=access_api_url,\n",
    "    app_name=\"LusidJupyterNotebook\",\n",
    ")\n",
    "\n",
    "identity_api_factory = finbourne_identity.utilities.ApiClientFactory(\n",
    "    token=api_client.configuration.access_token,\n",
    "    api_url=identity_api_url,\n",
    "    app_name=\"LusidJupyterNotebook\",\n",
    ")\n",
    "\n",
    "api_status = pd.DataFrame(\n",
    "    lusid_api_factory.build(lusid.api.ApplicationMetadataApi)\n",
    "    .get_lusid_versions()\n",
    "    .to_dict()\n",
    ")\n",
    "\n",
    "display(api_status)"
   ]
  },
  {
   "cell_type": "code",
   "execution_count": 17,
   "id": "37c909ee",
   "metadata": {},
   "outputs": [],
   "source": [
    "# Initialise all APIs used in the notebook\n",
    "data_types_api = lusid_api_factory.build(lusid.DataTypesApi)\n",
    "properties_api = lusid_api_factory.build(lusid.PropertyDefinitionsApi)\n",
    "transaction_portfolios_api = lusid_api_factory.build(lusid.TransactionPortfoliosApi)\n",
    "portfolios_api = lusid_api_factory.build(lusid.PortfoliosApi)\n",
    "policies_api = access_api_factory.build(finbourne_access.PoliciesApi)\n",
    "access_roles_api = access_api_factory.build(finbourne_access.RolesApi)\n",
    "identity_roles_api = identity_api_factory.build(finbourne_identity.RolesApi)\n",
    "legal_entities_api = lusid_api_factory.build(lusid.LegalEntitiesApi)\n",
    "property_definitions_api=lusid_api_factory.build(lusid.PropertyDefinitionsApi)"
   ]
  },
  {
   "cell_type": "markdown",
   "id": "5ed4da5e",
   "metadata": {},
   "source": [
    "# 1. Create custom property definition"
   ]
  },
  {
   "cell_type": "code",
   "execution_count": 18,
   "id": "c0aca411",
   "metadata": {},
   "outputs": [],
   "source": [
    "Prop_request=lm.CreatePropertyDefinitionRequest(scope='LE_Example', \n",
    "                                                code='ExternalId', \n",
    "                                                value_required=True, \n",
    "                                                display_name='Access Property', \n",
    "                                                life_time='Perpetual', \n",
    "                                                property_description='Access Property',\n",
    "                                                domain='LegalEntity',\n",
    "                                                data_type_id=lm.ResourceId(\n",
    "                code='string',\n",
    "                scope='system'\n",
    "            ), constraint_style='Identifier')\n",
    "try:\n",
    "    property_definitions_api.create_property_definition(Prop_request)\n",
    "except lusid.ApiException as e:\n",
    "    detail = json.loads(e.body)\n",
    "    if detail[\"code\"] != 124: # Role with code already exists\n",
    "        raise e"
   ]
  },
  {
   "cell_type": "markdown",
   "id": "7a7bc7d2",
   "metadata": {},
   "source": [
    "## 2. Create legal entity - With Metadata"
   ]
  },
  {
   "cell_type": "code",
   "execution_count": 19,
   "id": "c3f3bdbe",
   "metadata": {},
   "outputs": [
    {
     "data": {
      "text/plain": "'Example Entity Description'"
     },
     "metadata": {},
     "output_type": "display_data"
    },
    {
     "data": {
      "text/plain": "'Example Entity'"
     },
     "metadata": {},
     "output_type": "display_data"
    }
   ],
   "source": [
    "identifiers= {\n",
    "    \"legalEntity/LE_Example/ExternalId\": {\n",
    "      \"key\": \"LegalEntity/LE_Example/ExternalId\",\n",
    "      \"value\": {\n",
    "        \"labelValue\": \"12345\"\n",
    "      }\n",
    "    }\n",
    "  }\n",
    "            \n",
    "\n",
    "display_name= \"Example Entity\" \n",
    "description= \"Example Entity Description\"\n",
    "\n",
    "legal_entity_request= lm.UpsertLegalEntityRequest(identifiers=identifiers, \n",
    "                                                  display_name=display_name,description=description)\n",
    "\n",
    "response=legal_entities_api.upsert_legal_entity(legal_entity_request)\n",
    "display(response.description, response.display_name)"
   ]
  },
  {
   "cell_type": "markdown",
   "id": "3acd8ef8",
   "metadata": {},
   "source": [
    "# 2.1 Upsert Metadata to Entity"
   ]
  },
  {
   "cell_type": "code",
   "execution_count": 20,
   "id": "2eda3abb",
   "metadata": {},
   "outputs": [
    {
     "data": {
      "text/plain": "[[{'provider': 'Lusid', 'value': 'PermissionA'}]]"
     },
     "metadata": {},
     "output_type": "display_data"
    }
   ],
   "source": [
    "metadata=lm.AccessMetadataValue(value='PermissionA' , provider='Lusid')\n",
    "Access_Metadata_Request=lm.UpsertLegalEntityAccessMetadataRequest(metadata=[metadata])\n",
    "response=legal_entities_api.upsert_legal_entity_access_metadata('LE_Example', 'ExternalId', \"12345\", 'Legal_Entity_Metadata', Access_Metadata_Request)\n",
    "display(response.values)"
   ]
  },
  {
   "cell_type": "markdown",
   "id": "6aa84d45",
   "metadata": {},
   "source": [
    "# 3 Create Entity without metadata"
   ]
  },
  {
   "cell_type": "code",
   "execution_count": 21,
   "id": "19a2fa72",
   "metadata": {},
   "outputs": [
    {
     "data": {
      "text/plain": "'Entity without metadata'"
     },
     "metadata": {},
     "output_type": "display_data"
    },
    {
     "data": {
      "text/plain": "'Example Entity without metadata'"
     },
     "metadata": {},
     "output_type": "display_data"
    }
   ],
   "source": [
    "identifiers= {\n",
    "    \"legalEntity/LE_Example/ExternalId\": {\n",
    "      \"key\": \"LegalEntity/LE_Example/ExternalId\",\n",
    "      \"value\": {\n",
    "        \"labelValue\": \"54321\"\n",
    "      }\n",
    "    }\n",
    "  }\n",
    "            \n",
    "\n",
    "display_name= \"Example Entity without metadata\" \n",
    "description= \"Entity without metadata\"\n",
    "\n",
    "legal_entity_request= lm.UpsertLegalEntityRequest(identifiers=identifiers, \n",
    "                                                  display_name=display_name,description=description)\n",
    "\n",
    "response=legal_entities_api.upsert_legal_entity(legal_entity_request)\n",
    "display(response.description, response.display_name)"
   ]
  },
  {
   "cell_type": "markdown",
   "id": "ea898cf2",
   "metadata": {},
   "source": [
    "# 4. Create a Policy for access to legal entity metadata"
   ]
  },
  {
   "cell_type": "code",
   "execution_count": 22,
   "id": "647fea2d",
   "metadata": {},
   "outputs": [],
   "source": [
    "# WhenSpec objects specify the \"lifetime\" of a modification:\n",
    "# when it is activated and when it is deactivated.\n",
    "when_spec = access_models.WhenSpec(\n",
    "    activate=datetime.now(tz=pytz.utc) - timedelta(days=2),\n",
    "    deactivate=datetime(9999, 12, 31, tzinfo=pytz.utc),\n",
    ")"
   ]
  },
  {
   "cell_type": "code",
   "execution_count": 23,
   "id": "f19ba5da",
   "metadata": {},
   "outputs": [],
   "source": [
    "# Create the metadata policy using the policies api\n",
    "try:\n",
    "    policies_api.create_policy(\n",
    "        access_models.PolicyCreationRequest(\n",
    "            code='Legal_Entity_Metadata_Access',\n",
    "            applications=[\"LUSID\"],\n",
    "            grant=access_models.Grant.ALLOW,\n",
    "            selectors=[access_models.SelectorDefinition(\n",
    "                metadata_selector_definition=access_models.MetadataSelectorDefinition(\n",
    "                    expressions=[\n",
    "                        access_models.MetadataExpression(\n",
    "                            metadata_key='Legal_Entity_Metadata',\n",
    "                            operator=access_models.Operator.EQUALS,\n",
    "                            text_value=\"PermissionA\"\n",
    "                        )\n",
    "                    ],\n",
    "                    actions=[\n",
    "                        access_models.ActionId(\n",
    "                            scope=\"default\",\n",
    "                            activity=\"Read\",\n",
    "                            entity=\"LegalEntity\"\n",
    "                        ),\n",
    "                        access_models.ActionId(\n",
    "                            scope=\"default\",\n",
    "                            activity=\"List\",\n",
    "                            entity=\"LegalEntity\"\n",
    "                        )\n",
    "                    ]\n",
    "                )\n",
    "            )],\n",
    "            when=when_spec\n",
    "        )\n",
    "    )\n",
    "    \n",
    "except finbourne_access.ApiException as e:\n",
    "    detail = json.loads(e.body)\n",
    "    if detail[\"code\"] != 613: # PolicyWithCodeAlreadyExists\n",
    "        raise e"
   ]
  },
  {
   "cell_type": "markdown",
   "id": "11958fee",
   "metadata": {},
   "source": [
    "# 5. Add policies to role"
   ]
  },
  {
   "cell_type": "code",
   "execution_count": 26,
   "id": "445a4e21",
   "metadata": {
    "pycharm": {
     "name": "#%%\n"
    }
   },
   "outputs": [],
   "source": [
    "# Create the role using the access API\n",
    "try:\n",
    "    access_roles_api.create_role(\n",
    "        role_creation_request=access_models.RoleCreationRequest(\n",
    "            code='Legal_Entity_Metadata_Access_role',\n",
    "            description='Legal_Entity_PermissionA_Access',\n",
    "            resource=access_models.RoleResourceRequest(\n",
    "                policy_id_role_resource=access_models.PolicyIdRoleResource(\n",
    "                    # Here we apply the policy we defined earlier as well as a default policy to provide basic access\n",
    "                    policies=[\n",
    "                        access_models.PolicyId(\n",
    "                            scope=\"default\",\n",
    "                            code='Legal_Entity_Metadata_Access'),\n",
    "                        access_models.PolicyId(\n",
    "                            scope=\"default\",\n",
    "                            code=\"allow-standard-lusid-features-access\"),\n",
    "                        access_models.PolicyId(\n",
    "                            scope=\"default\",\n",
    "                            code=\"legal_entity\")\n",
    "                    ]\n",
    "                )\n",
    "            ),\n",
    "            when=when_spec\n",
    "        )\n",
    "    )\n",
    "\n",
    "except finbourne_access.ApiException as e:\n",
    "    detail = json.loads(e.body)\n",
    "    if detail[\"code\"] != 615: # Role with code already exists\n",
    "        raise e\n",
    "\n",
    "\n",
    "# Create the same role using the identity API\n",
    "try:\n",
    "    identity_roles_api.create_role(\n",
    "        create_role_request=identity_models.CreateRoleRequest(\n",
    "            name='Legal_Entity_PermissionA_Access_role'\n",
    "        )\n",
    "    )\n",
    "\n",
    "except finbourne_identity.ApiException as e:\n",
    "    detail = json.loads(e.body)\n",
    "    if detail[\"code\"] != 157: # Role with code already exists\n",
    "        raise e"
   ]
  },
  {
   "cell_type": "code",
   "execution_count": null,
   "outputs": [],
   "source": [],
   "metadata": {
    "collapsed": false,
    "pycharm": {
     "name": "#%%\n"
    }
   }
  }
 ],
 "metadata": {
  "kernelspec": {
   "display_name": "Python 3 (ipykernel)",
   "language": "python",
   "name": "python3"
  },
  "language_info": {
   "codemirror_mode": {
    "name": "ipython",
    "version": 3
   },
   "file_extension": ".py",
   "mimetype": "text/x-python",
   "name": "python",
   "nbconvert_exporter": "python",
   "pygments_lexer": "ipython3",
   "version": "3.7.3"
  }
 },
 "nbformat": 4,
 "nbformat_minor": 5
}