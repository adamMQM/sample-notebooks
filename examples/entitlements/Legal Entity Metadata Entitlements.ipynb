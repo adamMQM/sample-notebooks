{
 "cells": [
  {
   "cell_type": "code",
   "execution_count": 11,
   "id": "b32d6ce6",
   "metadata": {},
   "outputs": [
    {
     "data": {
      "text/html": [
       "\n",
       "    <form action=\"javascript:code_toggle()\"><input type=\"submit\" id=\"toggleButton\" value=\"Toggle Docstring\"></form>\n",
       "    \n",
       "         <script>\n",
       "         function code_toggle() {\n",
       "             if ($('div.cell.code_cell.rendered.selected div.input').css('display')!='none'){\n",
       "                 $('div.cell.code_cell.rendered.selected div.input').hide();\n",
       "             } else {\n",
       "                 $('div.cell.code_cell.rendered.selected div.input').show();\n",
       "             }\n",
       "         }\n",
       "         </script>\n",
       "\n",
       "     "
      ],
      "text/plain": [
       "<IPython.core.display.HTML object>"
      ]
     },
     "metadata": {},
     "output_type": "display_data"
    }
   ],
   "source": [
    "from lusidtools.jupyter_tools import toggle_code\n",
    "\n",
    "\"\"\"Entitlements based on access metadata\n",
    "\n",
    "Demonstrates the use of access metadata to grant access to portfolios in LUSID.\n",
    "\n",
    "Attributes\n",
    "----------\n",
    "entitlements\n",
    "portfolios\n",
    "access metadata\n",
    "\"\"\"\n",
    "\n",
    "toggle_code(\"Toggle Docstring\")"
   ]
  },
  {
   "cell_type": "code",
   "execution_count": 12,
   "id": "e9d9d92a",
   "metadata": {},
   "outputs": [
    {
     "data": {
      "text/html": [
       "<style>.container { width:90% !important; }</style>"
      ],
      "text/plain": [
       "<IPython.core.display.HTML object>"
      ]
     },
     "metadata": {},
     "output_type": "display_data"
    },
    {
     "data": {
      "text/html": [
       "<div>\n",
       "<style scoped>\n",
       "    .dataframe tbody tr th:only-of-type {\n",
       "        vertical-align: middle;\n",
       "    }\n",
       "\n",
       "    .dataframe tbody tr th {\n",
       "        vertical-align: top;\n",
       "    }\n",
       "\n",
       "    .dataframe thead th {\n",
       "        text-align: right;\n",
       "    }\n",
       "</style>\n",
       "<table border=\"1\" class=\"dataframe\">\n",
       "  <thead>\n",
       "    <tr style=\"text-align: right;\">\n",
       "      <th></th>\n",
       "      <th>api_version</th>\n",
       "      <th>build_version</th>\n",
       "      <th>excel_version</th>\n",
       "      <th>links</th>\n",
       "    </tr>\n",
       "  </thead>\n",
       "  <tbody>\n",
       "    <tr>\n",
       "      <th>0</th>\n",
       "      <td>v0</td>\n",
       "      <td>0.6.7304.0</td>\n",
       "      <td>0.5.2237</td>\n",
       "      <td>{'relation': 'RequestLogs', 'href': 'http://de...</td>\n",
       "    </tr>\n",
       "  </tbody>\n",
       "</table>\n",
       "</div>"
      ],
      "text/plain": [
       "  api_version build_version excel_version  \\\n",
       "0          v0    0.6.7304.0      0.5.2237   \n",
       "\n",
       "                                               links  \n",
       "0  {'relation': 'RequestLogs', 'href': 'http://de...  "
      ]
     },
     "metadata": {},
     "output_type": "display_data"
    }
   ],
   "source": [
    "# Import Libraries\n",
    "import os\n",
    "import json\n",
    "import pytz\n",
    "import pandas as pd\n",
    "from datetime import datetime, timedelta\n",
    "from IPython.core.display import HTML\n",
    "\n",
    "import lusid\n",
    "from lusid import models as lm\n",
    "import finbourne_access\n",
    "from finbourne_access import models as access_models\n",
    "import finbourne_identity\n",
    "from finbourne_identity import models as identity_models\n",
    "from lusidjam import RefreshingToken\n",
    "\n",
    "# Set DataFrame display formats\n",
    "pd.set_option(\"display.max_columns\", None)\n",
    "pd.set_option(\"display.max_rows\", None)\n",
    "pd.options.display.float_format = \"{:,.2f}\".format\n",
    "display(HTML(\"<style>.container { width:90% !important; }</style>\"))\n",
    "\n",
    "# Authenticate our user and create our API client\n",
    "secrets_path = os.getenv(\"FBN_SECRETS_PATH\")\n",
    "\n",
    "lusid_api_factory = lusid.utilities.ApiClientFactory(\n",
    "    token=RefreshingToken(),\n",
    "    api_secrets_filename=secrets_path,\n",
    "    app_name=\"LusidJupyterNotebook\",\n",
    ")\n",
    "\n",
    "api_client = lusid_api_factory.api_client\n",
    "\n",
    "lusid_api_url = api_client.configuration.host\n",
    "access_api_url = lusid_api_url[: lusid_api_url.rfind(\"/\") + 1] + \"access\"\n",
    "identity_api_url = lusid_api_url[: lusid_api_url.rfind(\"/\") + 1] + \"identity\"\n",
    "\n",
    "access_api_factory = finbourne_access.utilities.ApiClientFactory(\n",
    "    token=api_client.configuration.access_token,\n",
    "    access_url=access_api_url,\n",
    "    app_name=\"LusidJupyterNotebook\",\n",
    ")\n",
    "\n",
    "identity_api_factory = finbourne_identity.utilities.ApiClientFactory(\n",
    "    token=api_client.configuration.access_token,\n",
    "    api_url=identity_api_url,\n",
    "    app_name=\"LusidJupyterNotebook\",\n",
    ")\n",
    "\n",
    "api_status = pd.DataFrame(\n",
    "    lusid_api_factory.build(lusid.api.ApplicationMetadataApi)\n",
    "    .get_lusid_versions()\n",
    "    .to_dict()\n",
    ")\n",
    "\n",
    "display(api_status)"
   ]
  },
  {
   "cell_type": "code",
   "execution_count": 13,
   "id": "37c909ee",
   "metadata": {},
   "outputs": [],
   "source": [
    "# Initialise all APIs used in the notebook\n",
    "data_types_api = lusid_api_factory.build(lusid.DataTypesApi)\n",
    "properties_api = lusid_api_factory.build(lusid.PropertyDefinitionsApi)\n",
    "transaction_portfolios_api = lusid_api_factory.build(lusid.TransactionPortfoliosApi)\n",
    "portfolios_api = lusid_api_factory.build(lusid.PortfoliosApi)\n",
    "policies_api = access_api_factory.build(finbourne_access.PoliciesApi)\n",
    "access_roles_api = access_api_factory.build(finbourne_access.RolesApi)\n",
    "identity_roles_api = identity_api_factory.build(finbourne_identity.RolesApi)\n",
    "legal_entities_api = lusid_api_factory.build(lusid.LegalEntitiesApi)\n",
    "propert_definitions_api=lusid_api_factory.build(lusid.PropertyDefinitionsApi)"
   ]
  },
  {
   "cell_type": "markdown",
   "id": "5ed4da5e",
   "metadata": {},
   "source": [
    "# (1) Create custom property definition"
   ]
  },
  {
   "cell_type": "code",
   "execution_count": 21,
   "id": "c0aca411",
   "metadata": {
    "collapsed": true
   },
   "outputs": [
    {
     "ename": "ApiException",
     "evalue": "(400)\nReason: Bad Request\nHTTP response headers: HTTPHeaderDict({'Date': 'Wed, 30 Jun 2021 12:17:50 GMT', 'Content-Type': 'application/problem+json', 'Transfer-Encoding': 'chunked', 'Connection': 'keep-alive', 'X-Rate-Limit-Limit': '1m', 'X-Rate-Limit-Remaining': '4994', 'X-Rate-Limit-Reset': '2021-06-30T12:18:09.0576754Z', 'lusid-meta-success': 'False', 'lusid-meta-requestId': '0HM9RNDFBOEM1:00000001', 'lusid-meta-correlationId': '0HM9RNDFBOEM1:00000001', 'lusid-meta-duration': '215', 'Strict-Transport-Security': 'max-age=15724800; includeSubDomains', 'Server': 'FINBOURNE', 'Content-Security-Policy': \"default-src 'self' https://*.lusid.com https://*.finbourne.com; script-src 'unsafe-inline' 'self' https://*.lusid.com https://*.finbourne.com; font-src 'self' fonts.googleapis.com; img-src data: 'self' https://*.lusid.com https://*.finbourne.com; style-src 'unsafe-inline' 'self' https://*.lusid.com https://*.finbourne.com; report-uri https://lusid.report-uri.com/r/d/csp/enforce\", 'X-Frame-Options': 'SAMEORIGIN', 'Feature-Policy': \"fullscreen 'self'; geolocation 'self'; autoplay 'self'; accelerometer 'none'; ambient-light-sensor 'none'; battery 'none'; camera 'none'; display-capture 'none'; document-domain 'none'; encrypted-media 'none'; execution-while-not-rendered 'none'; execution-while-out-of-viewport 'none'; gyroscope 'none'; layout-animations 'none'; legacy-image-formats 'none'; magnetometer 'none'; microphone 'none'; midi 'none'; navigation-override 'none'; oversized-images 'none'; payment 'none'; picture-in-picture 'none'; publickey-credentials-get 'none'; sync-xhr 'none'; usb 'none'; vr 'none'; wake-lock 'none'; screen-wake-lock 'none'; web-share 'none'; xr-spatial-tracking 'none'\", 'Referrer-Policy': 'strict-origin-when-cross-origin', 'X-XSS-Protection': '1; mode=block', 'X-Content-Type-Options': 'nosniff', 'Expect-CT': \"max-age=3600, enforce, report-uri='https://lusid.report-uri.com/r/d/ct/enforce'\"})\nHTTP response body: b'{\"name\":\"PropertyAlreadyExists\",\"errorDetails\":[],\"code\":124,\"type\":\"https://docs.lusid.com/#section/Error-Codes/124\",\"title\":\"Error creating Property Definition \\'LegalEntity/LE_Example/ExternalId\\' because it already exists.\",\"status\":400,\"detail\":\"Error creating Property Definition \\'LegalEntity/LE_Example/ExternalId\\' because it already exists.\",\"instance\":\"https://demosetup.lusid.com/app/insights/logs/0HM9RNDFBOEM1:00000001\",\"extensions\":{}}'\n",
     "output_type": "error",
     "traceback": [
      "\u001b[0;31m---------------------------------------------------------------------------\u001b[0m",
      "\u001b[0;31mApiException\u001b[0m                              Traceback (most recent call last)",
      "\u001b[0;32m<ipython-input-21-edcae65357e3>\u001b[0m in \u001b[0;36m<module>\u001b[0;34m\u001b[0m\n\u001b[1;32m     11\u001b[0m             ), constraint_style='Identifier')\n\u001b[1;32m     12\u001b[0m \u001b[0;34m\u001b[0m\u001b[0m\n\u001b[0;32m---> 13\u001b[0;31m \u001b[0moutput\u001b[0m\u001b[0;34m=\u001b[0m\u001b[0mpropert_definitions_api\u001b[0m\u001b[0;34m.\u001b[0m\u001b[0mcreate_property_definition\u001b[0m\u001b[0;34m(\u001b[0m\u001b[0mProp_request\u001b[0m\u001b[0;34m)\u001b[0m\u001b[0;34m\u001b[0m\u001b[0;34m\u001b[0m\u001b[0m\n\u001b[0m",
      "\u001b[0;32m/opt/conda/lib/python3.7/site-packages/lusid/utilities/lusid_retry.py\u001b[0m in \u001b[0;36m__retry\u001b[0;34m(*args, **kwargs)\u001b[0m\n\u001b[1;32m     17\u001b[0m         \u001b[0;32mwhile\u001b[0m \u001b[0mtries\u001b[0m \u001b[0;34m<\u001b[0m \u001b[0mretries\u001b[0m\u001b[0;34m:\u001b[0m\u001b[0;34m\u001b[0m\u001b[0;34m\u001b[0m\u001b[0m\n\u001b[1;32m     18\u001b[0m             \u001b[0;32mtry\u001b[0m\u001b[0;34m:\u001b[0m\u001b[0;34m\u001b[0m\u001b[0;34m\u001b[0m\u001b[0m\n\u001b[0;32m---> 19\u001b[0;31m                 \u001b[0;32mreturn\u001b[0m \u001b[0mfn\u001b[0m\u001b[0;34m(\u001b[0m\u001b[0;34m*\u001b[0m\u001b[0margs\u001b[0m\u001b[0;34m,\u001b[0m \u001b[0;34m**\u001b[0m\u001b[0mkwargs\u001b[0m\u001b[0;34m)\u001b[0m\u001b[0;34m\u001b[0m\u001b[0;34m\u001b[0m\u001b[0m\n\u001b[0m\u001b[1;32m     20\u001b[0m             \u001b[0;32mexcept\u001b[0m \u001b[0mApiException\u001b[0m \u001b[0;32mas\u001b[0m \u001b[0mex\u001b[0m\u001b[0;34m:\u001b[0m\u001b[0;34m\u001b[0m\u001b[0;34m\u001b[0m\u001b[0m\n\u001b[1;32m     21\u001b[0m \u001b[0;34m\u001b[0m\u001b[0m\n",
      "\u001b[0;32m/opt/conda/lib/python3.7/site-packages/lusid/utilities/api_client_factory.py\u001b[0m in \u001b[0;36mwrapper\u001b[0;34m(*args, **kwargs)\u001b[0m\n\u001b[1;32m    104\u001b[0m \u001b[0;34m\u001b[0m\u001b[0m\n\u001b[1;32m    105\u001b[0m                 \u001b[0;32melse\u001b[0m\u001b[0;34m:\u001b[0m\u001b[0;34m\u001b[0m\u001b[0;34m\u001b[0m\u001b[0m\n\u001b[0;32m--> 106\u001b[0;31m                     \u001b[0;32mreturn\u001b[0m \u001b[0mattr\u001b[0m\u001b[0;34m(\u001b[0m\u001b[0;34m*\u001b[0m\u001b[0margs\u001b[0m\u001b[0;34m,\u001b[0m \u001b[0;34m**\u001b[0m\u001b[0mkwargs\u001b[0m\u001b[0;34m)\u001b[0m\u001b[0;34m\u001b[0m\u001b[0;34m\u001b[0m\u001b[0m\n\u001b[0m\u001b[1;32m    107\u001b[0m \u001b[0;34m\u001b[0m\u001b[0m\n\u001b[1;32m    108\u001b[0m             \u001b[0;32mreturn\u001b[0m \u001b[0mwrapper\u001b[0m \u001b[0;32mif\u001b[0m \u001b[0minspect\u001b[0m\u001b[0;34m.\u001b[0m\u001b[0mismethod\u001b[0m\u001b[0;34m(\u001b[0m\u001b[0mattr\u001b[0m\u001b[0;34m)\u001b[0m \u001b[0;32melse\u001b[0m \u001b[0mattr\u001b[0m\u001b[0;34m\u001b[0m\u001b[0;34m\u001b[0m\u001b[0m\n",
      "\u001b[0;32m/opt/conda/lib/python3.7/site-packages/lusid/api/property_definitions_api.py\u001b[0m in \u001b[0;36mcreate_property_definition\u001b[0;34m(self, create_property_definition_request, **kwargs)\u001b[0m\n\u001b[1;32m    177\u001b[0m         \"\"\"\n\u001b[1;32m    178\u001b[0m         \u001b[0mkwargs\u001b[0m\u001b[0;34m[\u001b[0m\u001b[0;34m'_return_http_data_only'\u001b[0m\u001b[0;34m]\u001b[0m \u001b[0;34m=\u001b[0m \u001b[0;32mTrue\u001b[0m\u001b[0;34m\u001b[0m\u001b[0;34m\u001b[0m\u001b[0m\n\u001b[0;32m--> 179\u001b[0;31m         \u001b[0;32mreturn\u001b[0m \u001b[0mself\u001b[0m\u001b[0;34m.\u001b[0m\u001b[0mcreate_property_definition_with_http_info\u001b[0m\u001b[0;34m(\u001b[0m\u001b[0mcreate_property_definition_request\u001b[0m\u001b[0;34m,\u001b[0m \u001b[0;34m**\u001b[0m\u001b[0mkwargs\u001b[0m\u001b[0;34m)\u001b[0m  \u001b[0;31m# noqa: E501\u001b[0m\u001b[0;34m\u001b[0m\u001b[0;34m\u001b[0m\u001b[0m\n\u001b[0m\u001b[1;32m    180\u001b[0m \u001b[0;34m\u001b[0m\u001b[0m\n\u001b[1;32m    181\u001b[0m     \u001b[0;32mdef\u001b[0m \u001b[0mcreate_property_definition_with_http_info\u001b[0m\u001b[0;34m(\u001b[0m\u001b[0mself\u001b[0m\u001b[0;34m,\u001b[0m \u001b[0mcreate_property_definition_request\u001b[0m\u001b[0;34m,\u001b[0m \u001b[0;34m**\u001b[0m\u001b[0mkwargs\u001b[0m\u001b[0;34m)\u001b[0m\u001b[0;34m:\u001b[0m  \u001b[0;31m# noqa: E501\u001b[0m\u001b[0;34m\u001b[0m\u001b[0;34m\u001b[0m\u001b[0m\n",
      "\u001b[0;32m/opt/conda/lib/python3.7/site-packages/lusid/utilities/lusid_retry.py\u001b[0m in \u001b[0;36m__retry\u001b[0;34m(*args, **kwargs)\u001b[0m\n\u001b[1;32m     17\u001b[0m         \u001b[0;32mwhile\u001b[0m \u001b[0mtries\u001b[0m \u001b[0;34m<\u001b[0m \u001b[0mretries\u001b[0m\u001b[0;34m:\u001b[0m\u001b[0;34m\u001b[0m\u001b[0;34m\u001b[0m\u001b[0m\n\u001b[1;32m     18\u001b[0m             \u001b[0;32mtry\u001b[0m\u001b[0;34m:\u001b[0m\u001b[0;34m\u001b[0m\u001b[0;34m\u001b[0m\u001b[0m\n\u001b[0;32m---> 19\u001b[0;31m                 \u001b[0;32mreturn\u001b[0m \u001b[0mfn\u001b[0m\u001b[0;34m(\u001b[0m\u001b[0;34m*\u001b[0m\u001b[0margs\u001b[0m\u001b[0;34m,\u001b[0m \u001b[0;34m**\u001b[0m\u001b[0mkwargs\u001b[0m\u001b[0;34m)\u001b[0m\u001b[0;34m\u001b[0m\u001b[0;34m\u001b[0m\u001b[0m\n\u001b[0m\u001b[1;32m     20\u001b[0m             \u001b[0;32mexcept\u001b[0m \u001b[0mApiException\u001b[0m \u001b[0;32mas\u001b[0m \u001b[0mex\u001b[0m\u001b[0;34m:\u001b[0m\u001b[0;34m\u001b[0m\u001b[0;34m\u001b[0m\u001b[0m\n\u001b[1;32m     21\u001b[0m \u001b[0;34m\u001b[0m\u001b[0m\n",
      "\u001b[0;32m/opt/conda/lib/python3.7/site-packages/lusid/utilities/api_client_factory.py\u001b[0m in \u001b[0;36mwrapper\u001b[0;34m(*args, **kwargs)\u001b[0m\n\u001b[1;32m    104\u001b[0m \u001b[0;34m\u001b[0m\u001b[0m\n\u001b[1;32m    105\u001b[0m                 \u001b[0;32melse\u001b[0m\u001b[0;34m:\u001b[0m\u001b[0;34m\u001b[0m\u001b[0;34m\u001b[0m\u001b[0m\n\u001b[0;32m--> 106\u001b[0;31m                     \u001b[0;32mreturn\u001b[0m \u001b[0mattr\u001b[0m\u001b[0;34m(\u001b[0m\u001b[0;34m*\u001b[0m\u001b[0margs\u001b[0m\u001b[0;34m,\u001b[0m \u001b[0;34m**\u001b[0m\u001b[0mkwargs\u001b[0m\u001b[0;34m)\u001b[0m\u001b[0;34m\u001b[0m\u001b[0;34m\u001b[0m\u001b[0m\n\u001b[0m\u001b[1;32m    107\u001b[0m \u001b[0;34m\u001b[0m\u001b[0m\n\u001b[1;32m    108\u001b[0m             \u001b[0;32mreturn\u001b[0m \u001b[0mwrapper\u001b[0m \u001b[0;32mif\u001b[0m \u001b[0minspect\u001b[0m\u001b[0;34m.\u001b[0m\u001b[0mismethod\u001b[0m\u001b[0;34m(\u001b[0m\u001b[0mattr\u001b[0m\u001b[0;34m)\u001b[0m \u001b[0;32melse\u001b[0m \u001b[0mattr\u001b[0m\u001b[0;34m\u001b[0m\u001b[0;34m\u001b[0m\u001b[0m\n",
      "\u001b[0;32m/opt/conda/lib/python3.7/site-packages/lusid/api/property_definitions_api.py\u001b[0m in \u001b[0;36mcreate_property_definition_with_http_info\u001b[0;34m(self, create_property_definition_request, **kwargs)\u001b[0m\n\u001b[1;32m    268\u001b[0m             \u001b[0m_preload_content\u001b[0m\u001b[0;34m=\u001b[0m\u001b[0mlocal_var_params\u001b[0m\u001b[0;34m.\u001b[0m\u001b[0mget\u001b[0m\u001b[0;34m(\u001b[0m\u001b[0;34m'_preload_content'\u001b[0m\u001b[0;34m,\u001b[0m \u001b[0;32mTrue\u001b[0m\u001b[0;34m)\u001b[0m\u001b[0;34m,\u001b[0m\u001b[0;34m\u001b[0m\u001b[0;34m\u001b[0m\u001b[0m\n\u001b[1;32m    269\u001b[0m             \u001b[0m_request_timeout\u001b[0m\u001b[0;34m=\u001b[0m\u001b[0mlocal_var_params\u001b[0m\u001b[0;34m.\u001b[0m\u001b[0mget\u001b[0m\u001b[0;34m(\u001b[0m\u001b[0;34m'_request_timeout'\u001b[0m\u001b[0;34m)\u001b[0m\u001b[0;34m,\u001b[0m\u001b[0;34m\u001b[0m\u001b[0;34m\u001b[0m\u001b[0m\n\u001b[0;32m--> 270\u001b[0;31m             collection_formats=collection_formats)\n\u001b[0m\u001b[1;32m    271\u001b[0m \u001b[0;34m\u001b[0m\u001b[0m\n\u001b[1;32m    272\u001b[0m     \u001b[0;32mdef\u001b[0m \u001b[0mdelete_property_definition\u001b[0m\u001b[0;34m(\u001b[0m\u001b[0mself\u001b[0m\u001b[0;34m,\u001b[0m \u001b[0mdomain\u001b[0m\u001b[0;34m,\u001b[0m \u001b[0mscope\u001b[0m\u001b[0;34m,\u001b[0m \u001b[0mcode\u001b[0m\u001b[0;34m,\u001b[0m \u001b[0;34m**\u001b[0m\u001b[0mkwargs\u001b[0m\u001b[0;34m)\u001b[0m\u001b[0;34m:\u001b[0m  \u001b[0;31m# noqa: E501\u001b[0m\u001b[0;34m\u001b[0m\u001b[0;34m\u001b[0m\u001b[0m\n",
      "\u001b[0;32m/opt/conda/lib/python3.7/site-packages/lusid/api_client.py\u001b[0m in \u001b[0;36mcall_api\u001b[0;34m(self, resource_path, method, path_params, query_params, header_params, body, post_params, files, response_type, auth_settings, async_req, _return_http_data_only, collection_formats, _preload_content, _request_timeout, _host)\u001b[0m\n\u001b[1;32m    340\u001b[0m                                    \u001b[0mresponse_type\u001b[0m\u001b[0;34m,\u001b[0m \u001b[0mauth_settings\u001b[0m\u001b[0;34m,\u001b[0m\u001b[0;34m\u001b[0m\u001b[0;34m\u001b[0m\u001b[0m\n\u001b[1;32m    341\u001b[0m                                    \u001b[0m_return_http_data_only\u001b[0m\u001b[0;34m,\u001b[0m \u001b[0mcollection_formats\u001b[0m\u001b[0;34m,\u001b[0m\u001b[0;34m\u001b[0m\u001b[0;34m\u001b[0m\u001b[0m\n\u001b[0;32m--> 342\u001b[0;31m                                    _preload_content, _request_timeout, _host)\n\u001b[0m\u001b[1;32m    343\u001b[0m         \u001b[0;32melse\u001b[0m\u001b[0;34m:\u001b[0m\u001b[0;34m\u001b[0m\u001b[0;34m\u001b[0m\u001b[0m\n\u001b[1;32m    344\u001b[0m             thread = self.pool.apply_async(self.__call_api, (resource_path,\n",
      "\u001b[0;32m/opt/conda/lib/python3.7/site-packages/lusid/api_client.py\u001b[0m in \u001b[0;36m__call_api\u001b[0;34m(self, resource_path, method, path_params, query_params, header_params, body, post_params, files, response_type, auth_settings, _return_http_data_only, collection_formats, _preload_content, _request_timeout, _host)\u001b[0m\n\u001b[1;32m    171\u001b[0m             \u001b[0mpost_params\u001b[0m\u001b[0;34m=\u001b[0m\u001b[0mpost_params\u001b[0m\u001b[0;34m,\u001b[0m \u001b[0mbody\u001b[0m\u001b[0;34m=\u001b[0m\u001b[0mbody\u001b[0m\u001b[0;34m,\u001b[0m\u001b[0;34m\u001b[0m\u001b[0;34m\u001b[0m\u001b[0m\n\u001b[1;32m    172\u001b[0m             \u001b[0m_preload_content\u001b[0m\u001b[0;34m=\u001b[0m\u001b[0m_preload_content\u001b[0m\u001b[0;34m,\u001b[0m\u001b[0;34m\u001b[0m\u001b[0;34m\u001b[0m\u001b[0m\n\u001b[0;32m--> 173\u001b[0;31m             _request_timeout=_request_timeout)\n\u001b[0m\u001b[1;32m    174\u001b[0m \u001b[0;34m\u001b[0m\u001b[0m\n\u001b[1;32m    175\u001b[0m         \u001b[0mself\u001b[0m\u001b[0;34m.\u001b[0m\u001b[0mlast_response\u001b[0m \u001b[0;34m=\u001b[0m \u001b[0mresponse_data\u001b[0m\u001b[0;34m\u001b[0m\u001b[0;34m\u001b[0m\u001b[0m\n",
      "\u001b[0;32m/opt/conda/lib/python3.7/site-packages/lusid/api_client.py\u001b[0m in \u001b[0;36mrequest\u001b[0;34m(self, method, url, query_params, headers, post_params, body, _preload_content, _request_timeout)\u001b[0m\n\u001b[1;32m    385\u001b[0m                                          \u001b[0m_preload_content\u001b[0m\u001b[0;34m=\u001b[0m\u001b[0m_preload_content\u001b[0m\u001b[0;34m,\u001b[0m\u001b[0;34m\u001b[0m\u001b[0;34m\u001b[0m\u001b[0m\n\u001b[1;32m    386\u001b[0m                                          \u001b[0m_request_timeout\u001b[0m\u001b[0;34m=\u001b[0m\u001b[0m_request_timeout\u001b[0m\u001b[0;34m,\u001b[0m\u001b[0;34m\u001b[0m\u001b[0;34m\u001b[0m\u001b[0m\n\u001b[0;32m--> 387\u001b[0;31m                                          body=body)\n\u001b[0m\u001b[1;32m    388\u001b[0m         \u001b[0;32melif\u001b[0m \u001b[0mmethod\u001b[0m \u001b[0;34m==\u001b[0m \u001b[0;34m\"PUT\"\u001b[0m\u001b[0;34m:\u001b[0m\u001b[0;34m\u001b[0m\u001b[0;34m\u001b[0m\u001b[0m\n\u001b[1;32m    389\u001b[0m             return self.rest_client.PUT(url,\n",
      "\u001b[0;32m/opt/conda/lib/python3.7/site-packages/lusid/rest.py\u001b[0m in \u001b[0;36mPOST\u001b[0;34m(self, url, headers, query_params, post_params, body, _preload_content, _request_timeout)\u001b[0m\n\u001b[1;32m    270\u001b[0m                             \u001b[0m_preload_content\u001b[0m\u001b[0;34m=\u001b[0m\u001b[0m_preload_content\u001b[0m\u001b[0;34m,\u001b[0m\u001b[0;34m\u001b[0m\u001b[0;34m\u001b[0m\u001b[0m\n\u001b[1;32m    271\u001b[0m                             \u001b[0m_request_timeout\u001b[0m\u001b[0;34m=\u001b[0m\u001b[0m_request_timeout\u001b[0m\u001b[0;34m,\u001b[0m\u001b[0;34m\u001b[0m\u001b[0;34m\u001b[0m\u001b[0m\n\u001b[0;32m--> 272\u001b[0;31m                             body=body)\n\u001b[0m\u001b[1;32m    273\u001b[0m \u001b[0;34m\u001b[0m\u001b[0m\n\u001b[1;32m    274\u001b[0m     def PUT(self, url, headers=None, query_params=None, post_params=None,\n",
      "\u001b[0;32m/opt/conda/lib/python3.7/site-packages/lusid/rest.py\u001b[0m in \u001b[0;36mrequest\u001b[0;34m(self, method, url, query_params, headers, body, post_params, _preload_content, _request_timeout)\u001b[0m\n\u001b[1;32m    223\u001b[0m \u001b[0;34m\u001b[0m\u001b[0m\n\u001b[1;32m    224\u001b[0m         \u001b[0;32mif\u001b[0m \u001b[0;32mnot\u001b[0m \u001b[0;36m200\u001b[0m \u001b[0;34m<=\u001b[0m \u001b[0mr\u001b[0m\u001b[0;34m.\u001b[0m\u001b[0mstatus\u001b[0m \u001b[0;34m<=\u001b[0m \u001b[0;36m299\u001b[0m\u001b[0;34m:\u001b[0m\u001b[0;34m\u001b[0m\u001b[0;34m\u001b[0m\u001b[0m\n\u001b[0;32m--> 225\u001b[0;31m             \u001b[0;32mraise\u001b[0m \u001b[0mApiException\u001b[0m\u001b[0;34m(\u001b[0m\u001b[0mhttp_resp\u001b[0m\u001b[0;34m=\u001b[0m\u001b[0mr\u001b[0m\u001b[0;34m)\u001b[0m\u001b[0;34m\u001b[0m\u001b[0;34m\u001b[0m\u001b[0m\n\u001b[0m\u001b[1;32m    226\u001b[0m \u001b[0;34m\u001b[0m\u001b[0m\n\u001b[1;32m    227\u001b[0m         \u001b[0;32mreturn\u001b[0m \u001b[0mr\u001b[0m\u001b[0;34m\u001b[0m\u001b[0;34m\u001b[0m\u001b[0m\n",
      "\u001b[0;31mApiException\u001b[0m: (400)\nReason: Bad Request\nHTTP response headers: HTTPHeaderDict({'Date': 'Wed, 30 Jun 2021 12:17:50 GMT', 'Content-Type': 'application/problem+json', 'Transfer-Encoding': 'chunked', 'Connection': 'keep-alive', 'X-Rate-Limit-Limit': '1m', 'X-Rate-Limit-Remaining': '4994', 'X-Rate-Limit-Reset': '2021-06-30T12:18:09.0576754Z', 'lusid-meta-success': 'False', 'lusid-meta-requestId': '0HM9RNDFBOEM1:00000001', 'lusid-meta-correlationId': '0HM9RNDFBOEM1:00000001', 'lusid-meta-duration': '215', 'Strict-Transport-Security': 'max-age=15724800; includeSubDomains', 'Server': 'FINBOURNE', 'Content-Security-Policy': \"default-src 'self' https://*.lusid.com https://*.finbourne.com; script-src 'unsafe-inline' 'self' https://*.lusid.com https://*.finbourne.com; font-src 'self' fonts.googleapis.com; img-src data: 'self' https://*.lusid.com https://*.finbourne.com; style-src 'unsafe-inline' 'self' https://*.lusid.com https://*.finbourne.com; report-uri https://lusid.report-uri.com/r/d/csp/enforce\", 'X-Frame-Options': 'SAMEORIGIN', 'Feature-Policy': \"fullscreen 'self'; geolocation 'self'; autoplay 'self'; accelerometer 'none'; ambient-light-sensor 'none'; battery 'none'; camera 'none'; display-capture 'none'; document-domain 'none'; encrypted-media 'none'; execution-while-not-rendered 'none'; execution-while-out-of-viewport 'none'; gyroscope 'none'; layout-animations 'none'; legacy-image-formats 'none'; magnetometer 'none'; microphone 'none'; midi 'none'; navigation-override 'none'; oversized-images 'none'; payment 'none'; picture-in-picture 'none'; publickey-credentials-get 'none'; sync-xhr 'none'; usb 'none'; vr 'none'; wake-lock 'none'; screen-wake-lock 'none'; web-share 'none'; xr-spatial-tracking 'none'\", 'Referrer-Policy': 'strict-origin-when-cross-origin', 'X-XSS-Protection': '1; mode=block', 'X-Content-Type-Options': 'nosniff', 'Expect-CT': \"max-age=3600, enforce, report-uri='https://lusid.report-uri.com/r/d/ct/enforce'\"})\nHTTP response body: b'{\"name\":\"PropertyAlreadyExists\",\"errorDetails\":[],\"code\":124,\"type\":\"https://docs.lusid.com/#section/Error-Codes/124\",\"title\":\"Error creating Property Definition \\'LegalEntity/LE_Example/ExternalId\\' because it already exists.\",\"status\":400,\"detail\":\"Error creating Property Definition \\'LegalEntity/LE_Example/ExternalId\\' because it already exists.\",\"instance\":\"https://demosetup.lusid.com/app/insights/logs/0HM9RNDFBOEM1:00000001\",\"extensions\":{}}'\n"
     ]
    }
   ],
   "source": [
    "Prop_request=lm.CreatePropertyDefinitionRequest(scope='LE_Example', \n",
    "                                                code='ExternalId', \n",
    "                                                value_required=True, \n",
    "                                                display_name='Access Property', \n",
    "                                                life_time='Perpetual', \n",
    "                                                property_description='Access Property',\n",
    "                                                domain='LegalEntity',\n",
    "                                                data_type_id=lm.ResourceId(\n",
    "                code='string',\n",
    "                scope='system'\n",
    "            ), constraint_style='Identifier')\n",
    "\n",
    "propert_definitions_api.create_property_definition(Prop_request)"
   ]
  },
  {
   "cell_type": "markdown",
   "id": "7a7bc7d2",
   "metadata": {},
   "source": [
    "## (2) Create legal entity - With Metadata"
   ]
  },
  {
   "cell_type": "code",
   "execution_count": 15,
   "id": "c3f3bdbe",
   "metadata": {},
   "outputs": [
    {
     "data": {
      "text/plain": [
       "{'description': 'Example Entity Description',\n",
       " 'display_name': 'Example Entity',\n",
       " 'href': 'https://demosetup.lusid.com/api/api/legalentities/LE_Example/ExternalId/12345/?effectiveAt=2021-06-30T12%3A17%3A24.6493670%2B00%3A00&asAt=2021-06-30T12%3A17%3A24.8515750%2B00%3A00',\n",
       " 'identifiers': {'LegalEntity/LE_Example/ExternalId': {'effective_from': datetime.datetime(1, 1, 1, 0, 0, tzinfo=tzlocal()),\n",
       "                                                       'effective_until': datetime.datetime(9999, 12, 31, 23, 59, 59, 999999, tzinfo=tzlocal()),\n",
       "                                                       'key': 'LegalEntity/LE_Example/ExternalId',\n",
       "                                                       'value': {'label_value': '12345',\n",
       "                                                                 'label_value_set': None,\n",
       "                                                                 'metric_value': None}}},\n",
       " 'links': [{'description': None,\n",
       "            'href': 'https://demosetup.lusid.com/api/api/schemas/entities/LegalEntity',\n",
       "            'method': 'GET',\n",
       "            'relation': 'EntitySchema'},\n",
       "           {'description': 'A link to the LUSID Insights website showing all '\n",
       "                           'logs related to this request',\n",
       "            'href': 'http://demosetup.lusid.com/app/insights/logs/0HM9RNDNCOA32:00000001',\n",
       "            'method': 'GET',\n",
       "            'relation': 'RequestLogs'}],\n",
       " 'lusid_legal_entity_id': None,\n",
       " 'properties': {},\n",
       " 'version': {'as_at_date': datetime.datetime(2021, 6, 30, 12, 17, 24, 851575, tzinfo=tzlocal()),\n",
       "             'effective_from': datetime.datetime(2021, 6, 30, 12, 17, 24, 649367, tzinfo=tzlocal())}}"
      ]
     },
     "execution_count": 15,
     "metadata": {},
     "output_type": "execute_result"
    }
   ],
   "source": [
    "identifiers= {\n",
    "    \"legalEntity/LE_Example/ExternalId\": {\n",
    "      \"key\": \"LegalEntity/LE_Example/ExternalId\",\n",
    "      \"value\": {\n",
    "        \"labelValue\": \"12345\"\n",
    "      }\n",
    "    }\n",
    "  }\n",
    "            \n",
    "\n",
    "display_name= \"Example Entity\" \n",
    "description= \"Example Entity Description\"\n",
    "\n",
    "legal_entity_request= lm.UpsertLegalEntityRequest(identifiers=identifiers, \n",
    "                                                  display_name=display_name,description=description)\n",
    "\n",
    "legal_entities_api.upsert_legal_entity(legal_entity_request)"
   ]
  },
  {
   "cell_type": "markdown",
   "id": "3acd8ef8",
   "metadata": {},
   "source": [
    "# 2.1 Upsert Metadata to Entity"
   ]
  },
  {
   "cell_type": "code",
   "execution_count": 16,
   "id": "2eda3abb",
   "metadata": {},
   "outputs": [
    {
     "data": {
      "text/plain": [
       "{'href': 'https://demosetup.lusid.com/api/api/persons/LE_Example/ExternalId/12345/metadata/Legal_Entity_Metadata',\n",
       " 'links': [{'description': 'A link to the LUSID Insights website showing all '\n",
       "                           'logs related to this request',\n",
       "            'href': 'http://demosetup.lusid.com/app/insights/logs/0HM9RNDKKGH2J:00000001',\n",
       "            'method': 'GET',\n",
       "            'relation': 'RequestLogs'}],\n",
       " 'next_page': None,\n",
       " 'previous_page': None,\n",
       " 'values': [[{'provider': 'Lusid', 'value': 'PermissionA'}]]}"
      ]
     },
     "execution_count": 16,
     "metadata": {},
     "output_type": "execute_result"
    }
   ],
   "source": [
    "metadata=lm.AccessMetadataValue(value='PermissionA' , provider='Lusid')\n",
    "Access_Metadata_Request=lm.UpsertLegalEntityAccessMetadataRequest(metadata=[metadata])\n",
    "legal_entities_api.upsert_legal_entity_access_metadata('LE_Example', 'ExternalId', \"12345\", 'Legal_Entity_Metadata', Access_Metadata_Request)"
   ]
  },
  {
   "cell_type": "markdown",
   "id": "6aa84d45",
   "metadata": {},
   "source": [
    "# 2.2 Create Entity without metadata"
   ]
  },
  {
   "cell_type": "code",
   "execution_count": 17,
   "id": "19a2fa72",
   "metadata": {},
   "outputs": [
    {
     "data": {
      "text/plain": [
       "{'description': 'Entity without metadata',\n",
       " 'display_name': 'Example Entity without metadata',\n",
       " 'href': 'https://demosetup.lusid.com/api/api/legalentities/LE_Example/ExternalId/54321/?effectiveAt=2021-06-30T12%3A17%3A26.1987660%2B00%3A00&asAt=2021-06-30T12%3A17%3A26.5631630%2B00%3A00',\n",
       " 'identifiers': {'LegalEntity/LE_Example/ExternalId': {'effective_from': datetime.datetime(1, 1, 1, 0, 0, tzinfo=tzlocal()),\n",
       "                                                       'effective_until': datetime.datetime(9999, 12, 31, 23, 59, 59, 999999, tzinfo=tzlocal()),\n",
       "                                                       'key': 'LegalEntity/LE_Example/ExternalId',\n",
       "                                                       'value': {'label_value': '54321',\n",
       "                                                                 'label_value_set': None,\n",
       "                                                                 'metric_value': None}}},\n",
       " 'links': [{'description': None,\n",
       "            'href': 'https://demosetup.lusid.com/api/api/schemas/entities/LegalEntity',\n",
       "            'method': 'GET',\n",
       "            'relation': 'EntitySchema'},\n",
       "           {'description': 'A link to the LUSID Insights website showing all '\n",
       "                           'logs related to this request',\n",
       "            'href': 'http://demosetup.lusid.com/app/insights/logs/0HM9RNDFBOELN:00000001',\n",
       "            'method': 'GET',\n",
       "            'relation': 'RequestLogs'}],\n",
       " 'lusid_legal_entity_id': None,\n",
       " 'properties': {},\n",
       " 'version': {'as_at_date': datetime.datetime(2021, 6, 30, 12, 17, 26, 563163, tzinfo=tzlocal()),\n",
       "             'effective_from': datetime.datetime(2021, 6, 30, 12, 17, 26, 198766, tzinfo=tzlocal())}}"
      ]
     },
     "execution_count": 17,
     "metadata": {},
     "output_type": "execute_result"
    }
   ],
   "source": [
    "identifiers= {\n",
    "    \"legalEntity/LE_Example/ExternalId\": {\n",
    "      \"key\": \"LegalEntity/LE_Example/ExternalId\",\n",
    "      \"value\": {\n",
    "        \"labelValue\": \"54321\"\n",
    "      }\n",
    "    }\n",
    "  }\n",
    "            \n",
    "\n",
    "display_name= \"Example Entity without metadata\" \n",
    "description= \"Entity without metadata\"\n",
    "\n",
    "legal_entity_request= lm.UpsertLegalEntityRequest(identifiers=identifiers, \n",
    "                                                  display_name=display_name,description=description)\n",
    "\n",
    "legal_entities_api.upsert_legal_entity(legal_entity_request)"
   ]
  },
  {
   "cell_type": "markdown",
   "id": "ea898cf2",
   "metadata": {},
   "source": [
    "# (3) Create a Policy for access to legal entity metadata"
   ]
  },
  {
   "cell_type": "code",
   "execution_count": 48,
   "id": "647fea2d",
   "metadata": {},
   "outputs": [],
   "source": [
    "# WhenSpec objects specify the \"lifetime\" of a modification:\n",
    "# when it is activated and when it is deactivated.\n",
    "when_spec = access_models.WhenSpec(\n",
    "    activate=datetime.now(tz=pytz.utc) - timedelta(days=2),\n",
    "    deactivate=datetime(9999, 12, 31, tzinfo=pytz.utc),\n",
    ")"
   ]
  },
  {
   "cell_type": "code",
   "execution_count": 49,
   "id": "f19ba5da",
   "metadata": {},
   "outputs": [],
   "source": [
    "# Create the metadata policy using the policies api\n",
    "try:\n",
    "    policies_api.create_policy(\n",
    "        access_models.PolicyCreationRequest(\n",
    "            code='Legal_Entity_PermissionA_Access',\n",
    "            applications=[\"LUSID\"],\n",
    "            grant=access_models.Grant.ALLOW,\n",
    "            selectors=[access_models.SelectorDefinition(\n",
    "                metadata_selector_definition=access_models.MetadataSelectorDefinition(\n",
    "                    expressions=[\n",
    "                        access_models.MetadataExpression(\n",
    "                            metadata_key='Legal_Entity_Metadata',\n",
    "                            operator=access_models.Operator.EQUALS,\n",
    "                            text_value=\"PermissionA\"\n",
    "                        )\n",
    "                    ],\n",
    "                    actions=[\n",
    "                        access_models.ActionId(\n",
    "                            scope=\"default\",\n",
    "                            activity=\"Read\",\n",
    "                            entity=\"LegalEntity\"\n",
    "                        ),\n",
    "                        access_models.ActionId(\n",
    "                            scope=\"default\",\n",
    "                            activity=\"List\",\n",
    "                            entity=\"LegalEntity\"\n",
    "                        )\n",
    "                    ]\n",
    "                )\n",
    "            )],\n",
    "            when=when_spec\n",
    "        )\n",
    "    )\n",
    "    \n",
    "except finbourne_access.ApiException as e:\n",
    "    detail = json.loads(e.body)\n",
    "    if detail[\"code\"] != 613: # PolicyWithCodeAlreadyExists\n",
    "        raise e"
   ]
  },
  {
   "cell_type": "markdown",
   "id": "11958fee",
   "metadata": {},
   "source": [
    "# (4) Add policies to role"
   ]
  },
  {
   "cell_type": "code",
   "execution_count": 55,
   "id": "445a4e21",
   "metadata": {},
   "outputs": [],
   "source": [
    "# Create the role using the access API\n",
    "try:\n",
    "    access_roles_api.create_role(\n",
    "        role_creation_request=access_models.RoleCreationRequest(\n",
    "            code='Legal_Entity_PermissionA_Access_role',\n",
    "            description='Legal_Entity_PermissionA_Access',\n",
    "            resource=access_models.RoleResourceRequest(\n",
    "                policy_id_role_resource=access_models.PolicyIdRoleResource(\n",
    "                    # Here we apply the policy we defined earlier as well as a default policy to provide basic access\n",
    "                    policies=[\n",
    "                        access_models.PolicyId(\n",
    "                            scope=\"default\",\n",
    "                            code='Legal_Entity_PermissionA_Access'),\n",
    "                        access_models.PolicyId(\n",
    "                            scope=\"default\",\n",
    "                            code=\"allow-standard-lusid-features-access\"),\n",
    "                        access_models.PolicyId(\n",
    "                            scope=\"default\",\n",
    "                            code=\"legal_entity\")\n",
    "                    ]\n",
    "                )\n",
    "            ),\n",
    "            when=when_spec\n",
    "        )\n",
    "    )\n",
    "\n",
    "except finbourne_access.ApiException as e:\n",
    "    detail = json.loads(e.body)\n",
    "    if detail[\"code\"] != 613: # Role with code already exists\n",
    "        raise e\n",
    "\n",
    "\n",
    "# Create the same role using the identity API\n",
    "try:\n",
    "    identity_roles_api.create_role(\n",
    "        create_role_request=identity_models.CreateRoleRequest(\n",
    "            name='Legal_Entity_PermissionA_Access_role'\n",
    "        )\n",
    "    )\n",
    "\n",
    "except finbourne_identity.ApiException as e:\n",
    "    detail = json.loads(e.body)\n",
    "    if detail[\"code\"] != 157: # Role with code already exists\n",
    "        raise e"
   ]
  },
  {
   "cell_type": "markdown",
   "id": "ded56aaa",
   "metadata": {},
   "source": [
    "# (5) Assign role to user in UI"
   ]
  },
  {
   "cell_type": "code",
   "execution_count": null,
   "id": "211cbab6",
   "metadata": {},
   "outputs": [],
   "source": []
  },
  {
   "cell_type": "code",
   "execution_count": null,
   "id": "9829c162",
   "metadata": {},
   "outputs": [],
   "source": []
  }
 ],
 "metadata": {
  "kernelspec": {
   "display_name": "Python 3",
   "language": "python",
   "name": "python3"
  },
  "language_info": {
   "codemirror_mode": {
    "name": "ipython",
    "version": 3
   },
   "file_extension": ".py",
   "mimetype": "text/x-python",
   "name": "python",
   "nbconvert_exporter": "python",
   "pygments_lexer": "ipython3",
   "version": "3.7.3"
  }
 },
 "nbformat": 4,
 "nbformat_minor": 5
}
