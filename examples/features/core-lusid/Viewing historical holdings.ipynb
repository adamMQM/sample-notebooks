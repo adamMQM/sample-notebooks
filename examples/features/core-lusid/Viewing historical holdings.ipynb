{
 "cells": [
  {
   "cell_type": "code",
   "execution_count": 11,
   "metadata": {},
   "outputs": [
    {
     "name": "stdout",
     "output_type": "stream",
     "text": [
      "LUSID Environment Initialised\n",
      "LUSID version :  0.6.9517.0\n",
      "Scope: As_at_DEMO-3ad8-26a5-77fa-0c\n",
      "Code: PORT_0001\n"
     ]
    }
   ],
   "source": [
    "import os\n",
    "import lusid\n",
    "import datetime\n",
    "import pandas as pd\n",
    "import lusid.models as models\n",
    "from lusidtools.cocoon import load_from_data_frame\n",
    "from lusidtools.cocoon.utilities import create_scope_id, identify_cash_items\n",
    "from lusid.utilities import ApiClientFactory\n",
    "from lusidtools.cocoon.transaction_type_upload import (\n",
    "    create_transaction_type_configuration,\n",
    ")\n",
    "from lusidtools.cocoon.cocoon_printer import (\n",
    "    format_instruments_response,\n",
    "    format_portfolios_response\n",
    ")\n",
    "from lusidjam import RefreshingToken\n",
    "\n",
    "# Authenticate our user and create our API client\n",
    "secrets_path = os.getenv(\"FBN_SECRETS_PATH\")\n",
    "\n",
    "api_factory = lusid.utilities.ApiClientFactory(\n",
    "    token=RefreshingToken(),\n",
    "    api_secrets_filename = secrets_path,\n",
    "    app_name=\"LusidJupyterNotebook\")\n",
    "\n",
    "print('LUSID Environment Initialised')\n",
    "print('LUSID version : ', api_factory.build(lusid.api.ApplicationMetadataApi).get_lusid_versions().build_version)\n",
    "\n",
    "# Define our scope and portfolio code\n",
    "scope = \"As_at_DEMO-\"+ create_scope_id()\n",
    "code = \"PORT_0001\"\n",
    "print(f\"Scope: {scope}\")\n",
    "print(f\"Code: {code}\")"
   ]
  },
  {
   "cell_type": "code",
   "execution_count": 12,
   "metadata": {},
   "outputs": [],
   "source": [
    "mapping = {\n",
    "    \"instruments\" : {\n",
    "        \"identifier_mapping\": {\n",
    "            \"ClientInternal\": \"Internal_id\",\n",
    "        },\n",
    "        \"required\": {\n",
    "            \"name\": \"instr_id\"\n",
    "        },\n",
    "    },\n",
    "    \"portfolios\": {\n",
    "        \"required\": {\n",
    "            \"code\": \"Portfolio\",\n",
    "            \"display_name\":  \"$As-at_POC\",\n",
    "            \"base_currency\": \"$GBP\",\n",
    "            \"created\": \"$2018-01-01T00:00:00+00:00\"\n",
    "        },\n",
    "    }\n",
    "}"
   ]
  },
  {
   "cell_type": "code",
   "execution_count": 13,
   "metadata": {},
   "outputs": [
    {
     "data": {
      "text/html": [
       "<div>\n",
       "<style scoped>\n",
       "    .dataframe tbody tr th:only-of-type {\n",
       "        vertical-align: middle;\n",
       "    }\n",
       "\n",
       "    .dataframe tbody tr th {\n",
       "        vertical-align: top;\n",
       "    }\n",
       "\n",
       "    .dataframe thead th {\n",
       "        text-align: right;\n",
       "    }\n",
       "</style>\n",
       "<table border=\"1\" class=\"dataframe\">\n",
       "  <thead>\n",
       "    <tr style=\"text-align: right;\">\n",
       "      <th></th>\n",
       "      <th>success</th>\n",
       "      <th>failed</th>\n",
       "      <th>errors</th>\n",
       "    </tr>\n",
       "  </thead>\n",
       "  <tbody>\n",
       "    <tr>\n",
       "      <th>0</th>\n",
       "      <td>1</td>\n",
       "      <td>0</td>\n",
       "      <td>0</td>\n",
       "    </tr>\n",
       "  </tbody>\n",
       "</table>\n",
       "</div>"
      ],
      "text/plain": [
       "   success  failed  errors\n",
       "0        1       0       0"
      ]
     },
     "execution_count": 13,
     "metadata": {},
     "output_type": "execute_result"
    }
   ],
   "source": [
    "# Call LUSID to upsert instruments\n",
    "response = load_from_data_frame(\n",
    "        api_factory=api_factory,\n",
    "        scope=scope,\n",
    "        data_frame=pd.DataFrame({\"instr_id\":['GBP'], 'Internal_id':['GBP']}),\n",
    "        mapping_required=mapping[\"instruments\"][\"required\"],\n",
    "        file_type=\"instruments\",\n",
    "        mapping_optional={},\n",
    "        identifier_mapping=mapping[\"instruments\"][\"identifier_mapping\"]\n",
    ")\n",
    "\n",
    "# format response object\n",
    "success, failed, errors = format_instruments_response(response)\n",
    "\n",
    "pd.DataFrame(data=[{\"success\": len(success), \"failed\": len(failed), \"errors\": len(errors)}])"
   ]
  },
  {
   "cell_type": "code",
   "execution_count": 16,
   "metadata": {},
   "outputs": [
    {
     "data": {
      "text/html": [
       "<div>\n",
       "<style scoped>\n",
       "    .dataframe tbody tr th:only-of-type {\n",
       "        vertical-align: middle;\n",
       "    }\n",
       "\n",
       "    .dataframe tbody tr th {\n",
       "        vertical-align: top;\n",
       "    }\n",
       "\n",
       "    .dataframe thead th {\n",
       "        text-align: right;\n",
       "    }\n",
       "</style>\n",
       "<table border=\"1\" class=\"dataframe\">\n",
       "  <thead>\n",
       "    <tr style=\"text-align: right;\">\n",
       "      <th></th>\n",
       "      <th>success</th>\n",
       "      <th>failed</th>\n",
       "      <th>errors</th>\n",
       "    </tr>\n",
       "  </thead>\n",
       "  <tbody>\n",
       "    <tr>\n",
       "      <th>0</th>\n",
       "      <td>1</td>\n",
       "      <td>0</td>\n",
       "      <td>0</td>\n",
       "    </tr>\n",
       "  </tbody>\n",
       "</table>\n",
       "</div>"
      ],
      "text/plain": [
       "   success  failed  errors\n",
       "0        1       0       0"
      ]
     },
     "execution_count": 16,
     "metadata": {},
     "output_type": "execute_result"
    }
   ],
   "source": [
    "# call LUSID to create a portfolio or update details of an existing portfolio\n",
    "response = load_from_data_frame(\n",
    "        api_factory=api_factory,\n",
    "        scope=scope,\n",
    "        data_frame=pd.DataFrame({'Portfolio':['PORT_0001']}),\n",
    "        mapping_required=mapping[\"portfolios\"][\"required\"],\n",
    "        file_type=\"portfolios\",\n",
    "        mapping_optional={},\n",
    ")\n",
    "# format response object\n",
    "success, errors = format_portfolios_response(response)\n",
    "\n",
    "pd.DataFrame(data=[{\"success\": len(success), \"failed\": len(failed), \"errors\": len(errors)}])"
   ]
  },
  {
   "cell_type": "code",
   "execution_count": 17,
   "metadata": {},
   "outputs": [],
   "source": [
    "\n",
    "\n",
    "holding_adjustment = [\n",
    "        models.AdjustHoldingRequest(\n",
    "            instrument_identifiers={\n",
    "                'Instrument/default/Currency': 'GBP'},\n",
    "            tax_lots=[\n",
    "                models.TargetTaxLotRequest(\n",
    "                    units=999,\n",
    "                    cost=models.CurrencyAndAmount(\n",
    "                        amount=999,\n",
    "                        currency='GBP'),\n",
    "                    portfolio_cost=999,\n",
    "                    price=1)\n",
    "                    ]\n",
    "        )\n",
    "    ]\n",
    "\n",
    "day1_initial_response = api_factory.build(lusid.api.TransactionPortfoliosApi).set_holdings(\n",
    "        scope=scope,\n",
    "        code=code,\n",
    "        effective_at=datetime.datetime(2022, 3, 3, 12, tzinfo=datetime.timezone.utc),\n",
    "        adjust_holding_request=holding_adjustment)"
   ]
  },
  {
   "cell_type": "code",
   "execution_count": 18,
   "metadata": {},
   "outputs": [],
   "source": [
    "holding_adjustment = [\n",
    "        models.AdjustHoldingRequest(\n",
    "            instrument_identifiers={\n",
    "                'Instrument/default/Currency': 'GBP'},\n",
    "            tax_lots=[\n",
    "                models.TargetTaxLotRequest(\n",
    "                    units=1000,\n",
    "                    cost=models.CurrencyAndAmount(\n",
    "                        amount=1000,\n",
    "                        currency='GBP'),\n",
    "                    portfolio_cost=1000,\n",
    "                    price=1)\n",
    "                    ]\n",
    "        )\n",
    "    ]\n",
    "\n",
    "day1_amended_response = api_factory.build(lusid.api.TransactionPortfoliosApi).set_holdings(\n",
    "        scope=scope,\n",
    "        code=code,\n",
    "        effective_at=datetime.datetime(2022, 3, 3, 12, 30, tzinfo=datetime.timezone.utc),\n",
    "        adjust_holding_request=holding_adjustment)"
   ]
  },
  {
   "cell_type": "code",
   "execution_count": 19,
   "metadata": {},
   "outputs": [],
   "source": [
    "# Define some helper functions\n",
    "def get_all_historical_holdings(scope, code, as_at = None, effective_at=None):\n",
    "    #Get the \"latest\" view?\n",
    "    return api_factory.build(lusid.api.TransactionPortfoliosApi).get_holdings_adjustment(\n",
    "                scope=scope,\n",
    "                code=code,\n",
    "                effective_at=effective_at,\n",
    "            )\n"
   ]
  },
  {
   "cell_type": "code",
   "execution_count": 20,
   "metadata": {},
   "outputs": [
    {
     "ename": "ApiException",
     "evalue": "(404)\nReason: Not Found\nHTTP response headers: HTTPHeaderDict({'Date': 'Mon, 27 Jun 2022 09:09:33 GMT', 'Content-Type': 'application/problem+json', 'Transfer-Encoding': 'chunked', 'Connection': 'keep-alive', 'Vary': 'Accept-Encoding', 'X-Rate-Limit-Limit': '1m', 'X-Rate-Limit-Remaining': '4994', 'X-Rate-Limit-Reset': '2022-06-27T09:10:20.3442201Z', 'lusid-meta-success': 'False', 'lusid-meta-requestId': '0HMIM4IDJ14NO:00000003', 'lusid-meta-correlationId': '0HMIM4IDJ14NO:00000003', 'lusid-meta-duration': '216', 'Strict-Transport-Security': 'max-age=15724800; includeSubDomains', 'Server': 'FINBOURNE', 'Content-Security-Policy': \"default-src 'self' https://*.lusid.com https://*.finbourne.com; script-src 'unsafe-inline' 'self' https://*.lusid.com https://*.finbourne.com https://editor.swagger.io; font-src 'self' fonts.googleapis.com; img-src data: 'self' https://*.lusid.com https://*.finbourne.com https://validator.swagger.io; style-src 'unsafe-inline' 'self' https://*.lusid.com https://*.finbourne.com; report-uri https://lusid.report-uri.com/r/d/csp/enforce\", 'X-Frame-Options': 'SAMEORIGIN', 'Permissions-Policy': 'accelerometer=(), ambient-light-sensor=(), autoplay=(self), battery=(), camera=(), cross-origin-isolated=(self), display-capture=(), document-domain=*, encrypted-media=(), execution-while-not-rendered=(), execution-while-out-of-viewport=(), fullscreen=(self), geolocation=(self), gyroscope=(), keyboard-map=(), magnetometer=(), microphone=(), midi=(), navigation-override=(), payment=(), picture-in-picture=(), publickey-credentials-get=(), screen-wake-lock=(), sync-xhr=(), usb=(), web-share=(), xr-spatial-tracking=()', 'Referrer-Policy': 'strict-origin-when-cross-origin', 'X-XSS-Protection': '1; mode=block', 'X-Content-Type-Options': 'nosniff', 'Expect-CT': \"max-age=3600, enforce, report-uri='https://lusid.report-uri.com/r/d/ct/enforce'\", 'Access-Control-Max-Age': '600', 'Content-Encoding': 'gzip'})\nHTTP response body: {\"name\":\"HoldingsAdjustmentDoesNotExist\",\"errorDetails\":[],\"code\":211,\"type\":\"https://docs.lusid.com/#section/Error-Codes/211\",\"title\":\"No holdings adjustment exists for portfolio with id PORT_0001 in scope As_at_DEMO-3ad8-26a5-77fa-0c effective 2020-01-01T00:00:00.0000000+00:00, AsAt=2022-06-27T09:09:30.6881810+00:00.\",\"status\":404,\"detail\":\"No holdings adjustment exists for portfolio with id PORT_0001 in scope As_at_DEMO-3ad8-26a5-77fa-0c effective 2020-01-01T00:00:00.0000000+00:00, AsAt=2022-06-27T09:09:30.6881810+00:00.\",\"instance\":\"https://seamus-salt.lusid.com/app/insights/logs/0HMIM4IDJ14NO:00000003\",\"extensions\":{}}\n",
     "output_type": "error",
     "traceback": [
      "\u001b[0;31m---------------------------------------------------------------------------\u001b[0m",
      "\u001b[0;31mApiException\u001b[0m                              Traceback (most recent call last)",
      "\u001b[1;32m/Users/seamussalt/Documents/Finbourne/sample-notebooks/examples/features/core-lusid/Viewing historical holdings.ipynb Cell 8'\u001b[0m in \u001b[0;36m<cell line: 2>\u001b[0;34m()\u001b[0m\n\u001b[1;32m      <a href='vscode-notebook-cell:/Users/seamussalt/Documents/Finbourne/sample-notebooks/examples/features/core-lusid/Viewing%20historical%20holdings.ipynb#ch0000008?line=0'>1</a>\u001b[0m \u001b[39m# get holdings for Day 1 as at Day 1\u001b[39;00m\n\u001b[0;32m----> <a href='vscode-notebook-cell:/Users/seamussalt/Documents/Finbourne/sample-notebooks/examples/features/core-lusid/Viewing%20historical%20holdings.ipynb#ch0000008?line=1'>2</a>\u001b[0m response \u001b[39m=\u001b[39m get_all_historical_holdings(scope, code, effective_at\u001b[39m=\u001b[39;49m\u001b[39m\"\u001b[39;49m\u001b[39m2020-01-01T00:00:00.000000+00:00\u001b[39;49m\u001b[39m\"\u001b[39;49m)\n\u001b[1;32m      <a href='vscode-notebook-cell:/Users/seamussalt/Documents/Finbourne/sample-notebooks/examples/features/core-lusid/Viewing%20historical%20holdings.ipynb#ch0000008?line=3'>4</a>\u001b[0m display(response)\n",
      "\u001b[1;32m/Users/seamussalt/Documents/Finbourne/sample-notebooks/examples/features/core-lusid/Viewing historical holdings.ipynb Cell 7'\u001b[0m in \u001b[0;36mget_all_historical_holdings\u001b[0;34m(scope, code, as_at, effective_at)\u001b[0m\n\u001b[1;32m      <a href='vscode-notebook-cell:/Users/seamussalt/Documents/Finbourne/sample-notebooks/examples/features/core-lusid/Viewing%20historical%20holdings.ipynb#ch0000007?line=1'>2</a>\u001b[0m \u001b[39mdef\u001b[39;00m \u001b[39mget_all_historical_holdings\u001b[39m(scope, code, as_at \u001b[39m=\u001b[39m \u001b[39mNone\u001b[39;00m, effective_at\u001b[39m=\u001b[39m\u001b[39mNone\u001b[39;00m):\n\u001b[1;32m      <a href='vscode-notebook-cell:/Users/seamussalt/Documents/Finbourne/sample-notebooks/examples/features/core-lusid/Viewing%20historical%20holdings.ipynb#ch0000007?line=2'>3</a>\u001b[0m     \u001b[39m#Get the \"latest\" view?\u001b[39;00m\n\u001b[0;32m----> <a href='vscode-notebook-cell:/Users/seamussalt/Documents/Finbourne/sample-notebooks/examples/features/core-lusid/Viewing%20historical%20holdings.ipynb#ch0000007?line=3'>4</a>\u001b[0m     \u001b[39mreturn\u001b[39;00m api_factory\u001b[39m.\u001b[39;49mbuild(lusid\u001b[39m.\u001b[39;49mapi\u001b[39m.\u001b[39;49mTransactionPortfoliosApi)\u001b[39m.\u001b[39;49mget_holdings_adjustment(\n\u001b[1;32m      <a href='vscode-notebook-cell:/Users/seamussalt/Documents/Finbourne/sample-notebooks/examples/features/core-lusid/Viewing%20historical%20holdings.ipynb#ch0000007?line=4'>5</a>\u001b[0m                 scope\u001b[39m=\u001b[39;49mscope,\n\u001b[1;32m      <a href='vscode-notebook-cell:/Users/seamussalt/Documents/Finbourne/sample-notebooks/examples/features/core-lusid/Viewing%20historical%20holdings.ipynb#ch0000007?line=5'>6</a>\u001b[0m                 code\u001b[39m=\u001b[39;49mcode,\n\u001b[1;32m      <a href='vscode-notebook-cell:/Users/seamussalt/Documents/Finbourne/sample-notebooks/examples/features/core-lusid/Viewing%20historical%20holdings.ipynb#ch0000007?line=6'>7</a>\u001b[0m                 effective_at\u001b[39m=\u001b[39;49meffective_at,\n\u001b[1;32m      <a href='vscode-notebook-cell:/Users/seamussalt/Documents/Finbourne/sample-notebooks/examples/features/core-lusid/Viewing%20historical%20holdings.ipynb#ch0000007?line=7'>8</a>\u001b[0m             )\n",
      "File \u001b[0;32m~/opt/anaconda3/lib/python3.9/site-packages/lusid/utilities/lusid_retry.py:22\u001b[0m, in \u001b[0;36mlusidretry.<locals>.__retry\u001b[0;34m(*args, **kwargs)\u001b[0m\n\u001b[1;32m     20\u001b[0m \u001b[39mwhile\u001b[39;00m tries \u001b[39m<\u001b[39m retries\u001b[39m+\u001b[39m\u001b[39m1\u001b[39m:\n\u001b[1;32m     21\u001b[0m     \u001b[39mtry\u001b[39;00m:\n\u001b[0;32m---> 22\u001b[0m         \u001b[39mreturn\u001b[39;00m fn(\u001b[39m*\u001b[39;49margs, \u001b[39m*\u001b[39;49m\u001b[39m*\u001b[39;49mkwargs)\n\u001b[1;32m     23\u001b[0m     \u001b[39mexcept\u001b[39;00m ApiException \u001b[39mas\u001b[39;00m ex:\n\u001b[1;32m     25\u001b[0m         tries \u001b[39m+\u001b[39m\u001b[39m=\u001b[39m \u001b[39m1\u001b[39m\n",
      "File \u001b[0;32m~/opt/anaconda3/lib/python3.9/site-packages/lusid/utilities/api_client_factory.py:110\u001b[0m, in \u001b[0;36mApiClientFactory.build.<locals>.get_attribute_impl.<locals>.wrapper\u001b[0;34m(*args, **kwargs)\u001b[0m\n\u001b[1;32m    107\u001b[0m     \u001b[39mreturn\u001b[39;00m result[\u001b[39m0\u001b[39m]\n\u001b[1;32m    109\u001b[0m \u001b[39melse\u001b[39;00m:\n\u001b[0;32m--> 110\u001b[0m     \u001b[39mreturn\u001b[39;00m attr(\u001b[39m*\u001b[39;49margs, \u001b[39m*\u001b[39;49m\u001b[39m*\u001b[39;49mkwargs)\n",
      "File \u001b[0;32m~/opt/anaconda3/lib/python3.9/site-packages/lusid/api/transaction_portfolios_api.py:2238\u001b[0m, in \u001b[0;36mTransactionPortfoliosApi.get_holdings_adjustment\u001b[0;34m(self, scope, code, effective_at, **kwargs)\u001b[0m\n\u001b[1;32m   2203\u001b[0m \u001b[39m\"\"\"GetHoldingsAdjustment: Get holdings adjustment  # noqa: E501\u001b[39;00m\n\u001b[1;32m   2204\u001b[0m \n\u001b[1;32m   2205\u001b[0m \u001b[39mGet a holdings adjustment made to a transaction portfolio at a specific effective datetime. Note that a  holdings adjustment will only be returned if one exists for the specified effective datetime.  # noqa: E501\u001b[39;00m\n\u001b[0;32m   (...)\u001b[0m\n\u001b[1;32m   2235\u001b[0m \u001b[39m:rtype: HoldingsAdjustment\u001b[39;00m\n\u001b[1;32m   2236\u001b[0m \u001b[39m\"\"\"\u001b[39;00m\n\u001b[1;32m   2237\u001b[0m kwargs[\u001b[39m'\u001b[39m\u001b[39m_return_http_data_only\u001b[39m\u001b[39m'\u001b[39m] \u001b[39m=\u001b[39m \u001b[39mTrue\u001b[39;00m\n\u001b[0;32m-> 2238\u001b[0m \u001b[39mreturn\u001b[39;00m \u001b[39mself\u001b[39;49m\u001b[39m.\u001b[39;49mget_holdings_adjustment_with_http_info(scope, code, effective_at, \u001b[39m*\u001b[39;49m\u001b[39m*\u001b[39;49mkwargs)\n",
      "File \u001b[0;32m~/opt/anaconda3/lib/python3.9/site-packages/lusid/utilities/lusid_retry.py:22\u001b[0m, in \u001b[0;36mlusidretry.<locals>.__retry\u001b[0;34m(*args, **kwargs)\u001b[0m\n\u001b[1;32m     20\u001b[0m \u001b[39mwhile\u001b[39;00m tries \u001b[39m<\u001b[39m retries\u001b[39m+\u001b[39m\u001b[39m1\u001b[39m:\n\u001b[1;32m     21\u001b[0m     \u001b[39mtry\u001b[39;00m:\n\u001b[0;32m---> 22\u001b[0m         \u001b[39mreturn\u001b[39;00m fn(\u001b[39m*\u001b[39;49margs, \u001b[39m*\u001b[39;49m\u001b[39m*\u001b[39;49mkwargs)\n\u001b[1;32m     23\u001b[0m     \u001b[39mexcept\u001b[39;00m ApiException \u001b[39mas\u001b[39;00m ex:\n\u001b[1;32m     25\u001b[0m         tries \u001b[39m+\u001b[39m\u001b[39m=\u001b[39m \u001b[39m1\u001b[39m\n",
      "File \u001b[0;32m~/opt/anaconda3/lib/python3.9/site-packages/lusid/utilities/api_client_factory.py:110\u001b[0m, in \u001b[0;36mApiClientFactory.build.<locals>.get_attribute_impl.<locals>.wrapper\u001b[0;34m(*args, **kwargs)\u001b[0m\n\u001b[1;32m    107\u001b[0m     \u001b[39mreturn\u001b[39;00m result[\u001b[39m0\u001b[39m]\n\u001b[1;32m    109\u001b[0m \u001b[39melse\u001b[39;00m:\n\u001b[0;32m--> 110\u001b[0m     \u001b[39mreturn\u001b[39;00m attr(\u001b[39m*\u001b[39;49margs, \u001b[39m*\u001b[39;49m\u001b[39m*\u001b[39;49mkwargs)\n",
      "File \u001b[0;32m~/opt/anaconda3/lib/python3.9/site-packages/lusid/api/transaction_portfolios_api.py:2370\u001b[0m, in \u001b[0;36mTransactionPortfoliosApi.get_holdings_adjustment_with_http_info\u001b[0;34m(self, scope, code, effective_at, **kwargs)\u001b[0m\n\u001b[1;32m   2363\u001b[0m auth_settings \u001b[39m=\u001b[39m [\u001b[39m'\u001b[39m\u001b[39moauth2\u001b[39m\u001b[39m'\u001b[39m]  \u001b[39m# noqa: E501\u001b[39;00m\n\u001b[1;32m   2365\u001b[0m response_types_map \u001b[39m=\u001b[39m {\n\u001b[1;32m   2366\u001b[0m     \u001b[39m200\u001b[39m: \u001b[39m\"\u001b[39m\u001b[39mHoldingsAdjustment\u001b[39m\u001b[39m\"\u001b[39m,\n\u001b[1;32m   2367\u001b[0m     \u001b[39m400\u001b[39m: \u001b[39m\"\u001b[39m\u001b[39mLusidValidationProblemDetails\u001b[39m\u001b[39m\"\u001b[39m,\n\u001b[1;32m   2368\u001b[0m }\n\u001b[0;32m-> 2370\u001b[0m \u001b[39mreturn\u001b[39;00m \u001b[39mself\u001b[39;49m\u001b[39m.\u001b[39;49mapi_client\u001b[39m.\u001b[39;49mcall_api(\n\u001b[1;32m   2371\u001b[0m     \u001b[39m'\u001b[39;49m\u001b[39m/api/transactionportfolios/\u001b[39;49m\u001b[39m{scope}\u001b[39;49;00m\u001b[39m/\u001b[39;49m\u001b[39m{code}\u001b[39;49;00m\u001b[39m/holdingsadjustments/\u001b[39;49m\u001b[39m{effectiveAt}\u001b[39;49;00m\u001b[39m'\u001b[39;49m, \u001b[39m'\u001b[39;49m\u001b[39mGET\u001b[39;49m\u001b[39m'\u001b[39;49m,\n\u001b[1;32m   2372\u001b[0m     path_params,\n\u001b[1;32m   2373\u001b[0m     query_params,\n\u001b[1;32m   2374\u001b[0m     header_params,\n\u001b[1;32m   2375\u001b[0m     body\u001b[39m=\u001b[39;49mbody_params,\n\u001b[1;32m   2376\u001b[0m     post_params\u001b[39m=\u001b[39;49mform_params,\n\u001b[1;32m   2377\u001b[0m     files\u001b[39m=\u001b[39;49mlocal_var_files,\n\u001b[1;32m   2378\u001b[0m     response_types_map\u001b[39m=\u001b[39;49mresponse_types_map,\n\u001b[1;32m   2379\u001b[0m     auth_settings\u001b[39m=\u001b[39;49mauth_settings,\n\u001b[1;32m   2380\u001b[0m     async_req\u001b[39m=\u001b[39;49mlocal_var_params\u001b[39m.\u001b[39;49mget(\u001b[39m'\u001b[39;49m\u001b[39masync_req\u001b[39;49m\u001b[39m'\u001b[39;49m),\n\u001b[1;32m   2381\u001b[0m     _return_http_data_only\u001b[39m=\u001b[39;49mlocal_var_params\u001b[39m.\u001b[39;49mget(\u001b[39m'\u001b[39;49m\u001b[39m_return_http_data_only\u001b[39;49m\u001b[39m'\u001b[39;49m),  \u001b[39m# noqa: E501\u001b[39;49;00m\n\u001b[1;32m   2382\u001b[0m     _preload_content\u001b[39m=\u001b[39;49mlocal_var_params\u001b[39m.\u001b[39;49mget(\u001b[39m'\u001b[39;49m\u001b[39m_preload_content\u001b[39;49m\u001b[39m'\u001b[39;49m, \u001b[39mTrue\u001b[39;49;00m),\n\u001b[1;32m   2383\u001b[0m     _request_timeout\u001b[39m=\u001b[39;49mlocal_var_params\u001b[39m.\u001b[39;49mget(\u001b[39m'\u001b[39;49m\u001b[39m_request_timeout\u001b[39;49m\u001b[39m'\u001b[39;49m),\n\u001b[1;32m   2384\u001b[0m     collection_formats\u001b[39m=\u001b[39;49mcollection_formats,\n\u001b[1;32m   2385\u001b[0m     _request_auth\u001b[39m=\u001b[39;49mlocal_var_params\u001b[39m.\u001b[39;49mget(\u001b[39m'\u001b[39;49m\u001b[39m_request_auth\u001b[39;49m\u001b[39m'\u001b[39;49m))\n",
      "File \u001b[0;32m~/opt/anaconda3/lib/python3.9/site-packages/lusid/api_client.py:375\u001b[0m, in \u001b[0;36mApiClient.call_api\u001b[0;34m(self, resource_path, method, path_params, query_params, header_params, body, post_params, files, response_types_map, auth_settings, async_req, _return_http_data_only, collection_formats, _preload_content, _request_timeout, _host, _request_auth)\u001b[0m\n\u001b[1;32m    334\u001b[0m \u001b[39m\"\"\"Makes the HTTP request (synchronous) and returns deserialized data.\u001b[39;00m\n\u001b[1;32m    335\u001b[0m \n\u001b[1;32m    336\u001b[0m \u001b[39mTo make an async_req request, set the async_req parameter.\u001b[39;00m\n\u001b[0;32m   (...)\u001b[0m\n\u001b[1;32m    372\u001b[0m \u001b[39m    then the method will return the response directly.\u001b[39;00m\n\u001b[1;32m    373\u001b[0m \u001b[39m\"\"\"\u001b[39;00m\n\u001b[1;32m    374\u001b[0m \u001b[39mif\u001b[39;00m \u001b[39mnot\u001b[39;00m async_req:\n\u001b[0;32m--> 375\u001b[0m     \u001b[39mreturn\u001b[39;00m \u001b[39mself\u001b[39;49m\u001b[39m.\u001b[39;49m__call_api(resource_path, method,\n\u001b[1;32m    376\u001b[0m                            path_params, query_params, header_params,\n\u001b[1;32m    377\u001b[0m                            body, post_params, files,\n\u001b[1;32m    378\u001b[0m                            response_types_map, auth_settings,\n\u001b[1;32m    379\u001b[0m                            _return_http_data_only, collection_formats,\n\u001b[1;32m    380\u001b[0m                            _preload_content, _request_timeout, _host,\n\u001b[1;32m    381\u001b[0m                            _request_auth)\n\u001b[1;32m    383\u001b[0m \u001b[39mreturn\u001b[39;00m \u001b[39mself\u001b[39m\u001b[39m.\u001b[39mpool\u001b[39m.\u001b[39mapply_async(\u001b[39mself\u001b[39m\u001b[39m.\u001b[39m__call_api, (resource_path,\n\u001b[1;32m    384\u001b[0m                                                method, path_params,\n\u001b[1;32m    385\u001b[0m                                                query_params,\n\u001b[0;32m   (...)\u001b[0m\n\u001b[1;32m    393\u001b[0m                                                _request_timeout,\n\u001b[1;32m    394\u001b[0m                                                _host, _request_auth))\n",
      "File \u001b[0;32m~/opt/anaconda3/lib/python3.9/site-packages/lusid/api_client.py:192\u001b[0m, in \u001b[0;36mApiClient.__call_api\u001b[0;34m(self, resource_path, method, path_params, query_params, header_params, body, post_params, files, response_types_map, auth_settings, _return_http_data_only, collection_formats, _preload_content, _request_timeout, _host, _request_auth)\u001b[0m\n\u001b[1;32m    190\u001b[0m \u001b[39mexcept\u001b[39;00m ApiException \u001b[39mas\u001b[39;00m e:\n\u001b[1;32m    191\u001b[0m     e\u001b[39m.\u001b[39mbody \u001b[39m=\u001b[39m e\u001b[39m.\u001b[39mbody\u001b[39m.\u001b[39mdecode(\u001b[39m'\u001b[39m\u001b[39mutf-8\u001b[39m\u001b[39m'\u001b[39m) \u001b[39mif\u001b[39;00m six\u001b[39m.\u001b[39mPY3 \u001b[39melse\u001b[39;00m e\u001b[39m.\u001b[39mbody\n\u001b[0;32m--> 192\u001b[0m     \u001b[39mraise\u001b[39;00m e\n\u001b[1;32m    194\u001b[0m \u001b[39mself\u001b[39m\u001b[39m.\u001b[39mlast_response \u001b[39m=\u001b[39m response_data\n\u001b[1;32m    196\u001b[0m return_data \u001b[39m=\u001b[39m response_data\n",
      "File \u001b[0;32m~/opt/anaconda3/lib/python3.9/site-packages/lusid/api_client.py:185\u001b[0m, in \u001b[0;36mApiClient.__call_api\u001b[0;34m(self, resource_path, method, path_params, query_params, header_params, body, post_params, files, response_types_map, auth_settings, _return_http_data_only, collection_formats, _preload_content, _request_timeout, _host, _request_auth)\u001b[0m\n\u001b[1;32m    181\u001b[0m     url \u001b[39m=\u001b[39m _host \u001b[39m+\u001b[39m resource_path\n\u001b[1;32m    183\u001b[0m \u001b[39mtry\u001b[39;00m:\n\u001b[1;32m    184\u001b[0m     \u001b[39m# perform request and return response\u001b[39;00m\n\u001b[0;32m--> 185\u001b[0m     response_data \u001b[39m=\u001b[39m \u001b[39mself\u001b[39;49m\u001b[39m.\u001b[39;49mrequest(\n\u001b[1;32m    186\u001b[0m         method, url, query_params\u001b[39m=\u001b[39;49mquery_params, headers\u001b[39m=\u001b[39;49mheader_params,\n\u001b[1;32m    187\u001b[0m         post_params\u001b[39m=\u001b[39;49mpost_params, body\u001b[39m=\u001b[39;49mbody,\n\u001b[1;32m    188\u001b[0m         _preload_content\u001b[39m=\u001b[39;49m_preload_content,\n\u001b[1;32m    189\u001b[0m         _request_timeout\u001b[39m=\u001b[39;49m_request_timeout)\n\u001b[1;32m    190\u001b[0m \u001b[39mexcept\u001b[39;00m ApiException \u001b[39mas\u001b[39;00m e:\n\u001b[1;32m    191\u001b[0m     e\u001b[39m.\u001b[39mbody \u001b[39m=\u001b[39m e\u001b[39m.\u001b[39mbody\u001b[39m.\u001b[39mdecode(\u001b[39m'\u001b[39m\u001b[39mutf-8\u001b[39m\u001b[39m'\u001b[39m) \u001b[39mif\u001b[39;00m six\u001b[39m.\u001b[39mPY3 \u001b[39melse\u001b[39;00m e\u001b[39m.\u001b[39mbody\n",
      "File \u001b[0;32m~/opt/anaconda3/lib/python3.9/site-packages/lusid/api_client.py:401\u001b[0m, in \u001b[0;36mApiClient.request\u001b[0;34m(self, method, url, query_params, headers, post_params, body, _preload_content, _request_timeout)\u001b[0m\n\u001b[1;32m    399\u001b[0m \u001b[39m\"\"\"Makes the HTTP request using RESTClient.\"\"\"\u001b[39;00m\n\u001b[1;32m    400\u001b[0m \u001b[39mif\u001b[39;00m method \u001b[39m==\u001b[39m \u001b[39m\"\u001b[39m\u001b[39mGET\u001b[39m\u001b[39m\"\u001b[39m:\n\u001b[0;32m--> 401\u001b[0m     \u001b[39mreturn\u001b[39;00m \u001b[39mself\u001b[39;49m\u001b[39m.\u001b[39;49mrest_client\u001b[39m.\u001b[39;49mGET(url,\n\u001b[1;32m    402\u001b[0m                                 query_params\u001b[39m=\u001b[39;49mquery_params,\n\u001b[1;32m    403\u001b[0m                                 _preload_content\u001b[39m=\u001b[39;49m_preload_content,\n\u001b[1;32m    404\u001b[0m                                 _request_timeout\u001b[39m=\u001b[39;49m_request_timeout,\n\u001b[1;32m    405\u001b[0m                                 headers\u001b[39m=\u001b[39;49mheaders)\n\u001b[1;32m    406\u001b[0m \u001b[39melif\u001b[39;00m method \u001b[39m==\u001b[39m \u001b[39m\"\u001b[39m\u001b[39mHEAD\u001b[39m\u001b[39m\"\u001b[39m:\n\u001b[1;32m    407\u001b[0m     \u001b[39mreturn\u001b[39;00m \u001b[39mself\u001b[39m\u001b[39m.\u001b[39mrest_client\u001b[39m.\u001b[39mHEAD(url,\n\u001b[1;32m    408\u001b[0m                                  query_params\u001b[39m=\u001b[39mquery_params,\n\u001b[1;32m    409\u001b[0m                                  _preload_content\u001b[39m=\u001b[39m_preload_content,\n\u001b[1;32m    410\u001b[0m                                  _request_timeout\u001b[39m=\u001b[39m_request_timeout,\n\u001b[1;32m    411\u001b[0m                                  headers\u001b[39m=\u001b[39mheaders)\n",
      "File \u001b[0;32m~/opt/anaconda3/lib/python3.9/site-packages/lusid/rest.py:256\u001b[0m, in \u001b[0;36mRESTClientObject.GET\u001b[0;34m(self, url, headers, query_params, _preload_content, _request_timeout)\u001b[0m\n\u001b[1;32m    254\u001b[0m \u001b[39mdef\u001b[39;00m \u001b[39mGET\u001b[39m(\u001b[39mself\u001b[39m, url, headers\u001b[39m=\u001b[39m\u001b[39mNone\u001b[39;00m, query_params\u001b[39m=\u001b[39m\u001b[39mNone\u001b[39;00m, _preload_content\u001b[39m=\u001b[39m\u001b[39mTrue\u001b[39;00m,\n\u001b[1;32m    255\u001b[0m         _request_timeout\u001b[39m=\u001b[39m\u001b[39mNone\u001b[39;00m):\n\u001b[0;32m--> 256\u001b[0m     \u001b[39mreturn\u001b[39;00m \u001b[39mself\u001b[39;49m\u001b[39m.\u001b[39;49mrequest(\u001b[39m\"\u001b[39;49m\u001b[39mGET\u001b[39;49m\u001b[39m\"\u001b[39;49m, url,\n\u001b[1;32m    257\u001b[0m                         headers\u001b[39m=\u001b[39;49mheaders,\n\u001b[1;32m    258\u001b[0m                         _preload_content\u001b[39m=\u001b[39;49m_preload_content,\n\u001b[1;32m    259\u001b[0m                         _request_timeout\u001b[39m=\u001b[39;49m_request_timeout,\n\u001b[1;32m    260\u001b[0m                         query_params\u001b[39m=\u001b[39;49mquery_params)\n",
      "File \u001b[0;32m~/opt/anaconda3/lib/python3.9/site-packages/lusid/rest.py:250\u001b[0m, in \u001b[0;36mRESTClientObject.request\u001b[0;34m(self, method, url, query_params, headers, body, post_params, _preload_content, _request_timeout)\u001b[0m\n\u001b[1;32m    247\u001b[0m     logger\u001b[39m.\u001b[39mdebug(\u001b[39m\"\u001b[39m\u001b[39mresponse body: \u001b[39m\u001b[39m%s\u001b[39;00m\u001b[39m\"\u001b[39m, r\u001b[39m.\u001b[39mdata)\n\u001b[1;32m    249\u001b[0m \u001b[39mif\u001b[39;00m \u001b[39mnot\u001b[39;00m \u001b[39m200\u001b[39m \u001b[39m<\u001b[39m\u001b[39m=\u001b[39m r\u001b[39m.\u001b[39mstatus \u001b[39m<\u001b[39m\u001b[39m=\u001b[39m \u001b[39m299\u001b[39m:\n\u001b[0;32m--> 250\u001b[0m     \u001b[39mraise\u001b[39;00m ApiException(http_resp\u001b[39m=\u001b[39mr)\n\u001b[1;32m    252\u001b[0m \u001b[39mreturn\u001b[39;00m r\n",
      "\u001b[0;31mApiException\u001b[0m: (404)\nReason: Not Found\nHTTP response headers: HTTPHeaderDict({'Date': 'Mon, 27 Jun 2022 09:09:33 GMT', 'Content-Type': 'application/problem+json', 'Transfer-Encoding': 'chunked', 'Connection': 'keep-alive', 'Vary': 'Accept-Encoding', 'X-Rate-Limit-Limit': '1m', 'X-Rate-Limit-Remaining': '4994', 'X-Rate-Limit-Reset': '2022-06-27T09:10:20.3442201Z', 'lusid-meta-success': 'False', 'lusid-meta-requestId': '0HMIM4IDJ14NO:00000003', 'lusid-meta-correlationId': '0HMIM4IDJ14NO:00000003', 'lusid-meta-duration': '216', 'Strict-Transport-Security': 'max-age=15724800; includeSubDomains', 'Server': 'FINBOURNE', 'Content-Security-Policy': \"default-src 'self' https://*.lusid.com https://*.finbourne.com; script-src 'unsafe-inline' 'self' https://*.lusid.com https://*.finbourne.com https://editor.swagger.io; font-src 'self' fonts.googleapis.com; img-src data: 'self' https://*.lusid.com https://*.finbourne.com https://validator.swagger.io; style-src 'unsafe-inline' 'self' https://*.lusid.com https://*.finbourne.com; report-uri https://lusid.report-uri.com/r/d/csp/enforce\", 'X-Frame-Options': 'SAMEORIGIN', 'Permissions-Policy': 'accelerometer=(), ambient-light-sensor=(), autoplay=(self), battery=(), camera=(), cross-origin-isolated=(self), display-capture=(), document-domain=*, encrypted-media=(), execution-while-not-rendered=(), execution-while-out-of-viewport=(), fullscreen=(self), geolocation=(self), gyroscope=(), keyboard-map=(), magnetometer=(), microphone=(), midi=(), navigation-override=(), payment=(), picture-in-picture=(), publickey-credentials-get=(), screen-wake-lock=(), sync-xhr=(), usb=(), web-share=(), xr-spatial-tracking=()', 'Referrer-Policy': 'strict-origin-when-cross-origin', 'X-XSS-Protection': '1; mode=block', 'X-Content-Type-Options': 'nosniff', 'Expect-CT': \"max-age=3600, enforce, report-uri='https://lusid.report-uri.com/r/d/ct/enforce'\", 'Access-Control-Max-Age': '600', 'Content-Encoding': 'gzip'})\nHTTP response body: {\"name\":\"HoldingsAdjustmentDoesNotExist\",\"errorDetails\":[],\"code\":211,\"type\":\"https://docs.lusid.com/#section/Error-Codes/211\",\"title\":\"No holdings adjustment exists for portfolio with id PORT_0001 in scope As_at_DEMO-3ad8-26a5-77fa-0c effective 2020-01-01T00:00:00.0000000+00:00, AsAt=2022-06-27T09:09:30.6881810+00:00.\",\"status\":404,\"detail\":\"No holdings adjustment exists for portfolio with id PORT_0001 in scope As_at_DEMO-3ad8-26a5-77fa-0c effective 2020-01-01T00:00:00.0000000+00:00, AsAt=2022-06-27T09:09:30.6881810+00:00.\",\"instance\":\"https://seamus-salt.lusid.com/app/insights/logs/0HMIM4IDJ14NO:00000003\",\"extensions\":{}}\n"
     ]
    }
   ],
   "source": [
    "# get holdings for Day 1 as at Day 1\n",
    "response = get_all_historical_holdings(scope, code, effective_at=\"2020-01-01T00:00:00.000000+00:00\")\n",
    "\n",
    "display(response)"
   ]
  }
 ],
 "metadata": {
  "kernelspec": {
   "display_name": "Python 3.9.12 ('base')",
   "language": "python",
   "name": "python3"
  },
  "language_info": {
   "codemirror_mode": {
    "name": "ipython",
    "version": 3
   },
   "file_extension": ".py",
   "mimetype": "text/x-python",
   "name": "python",
   "nbconvert_exporter": "python",
   "pygments_lexer": "ipython3",
   "version": "3.9.12"
  },
  "orig_nbformat": 4,
  "vscode": {
   "interpreter": {
    "hash": "7394da9150ccc110233f941d3d0b81095e5e357ea5bb5ca1c70ffc133191088b"
   }
  }
 },
 "nbformat": 4,
 "nbformat_minor": 2
}
