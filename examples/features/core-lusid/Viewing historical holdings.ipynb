{
 "cells": [
  {
   "cell_type": "code",
   "execution_count": 1,
   "metadata": {},
   "outputs": [
    {
     "name": "stdout",
     "output_type": "stream",
     "text": [
      "LUSID Environment Initialised\n",
      "LUSID version :  0.6.9549.0\n",
      "Scope: As_at_DEMO-3ada-8fd6-27b6-4e\n",
      "Code: PORT_0001\n"
     ]
    }
   ],
   "source": [
    "import os\n",
    "import lusid\n",
    "import datetime\n",
    "import pandas as pd\n",
    "import lusid.models as models\n",
    "from lusidtools.cocoon import load_from_data_frame\n",
    "from lusidtools.cocoon.utilities import create_scope_id\n",
    "from lusidtools.cocoon.cocoon_printer import (\n",
    "    format_instruments_response,\n",
    "    format_portfolios_response\n",
    ")\n",
    "from lusidjam import RefreshingToken\n",
    "\n",
    "# Authenticate our user and create our API client\n",
    "secrets_path = os.getenv(\"FBN_SECRETS_PATH\")\n",
    "\n",
    "api_factory = lusid.utilities.ApiClientFactory(\n",
    "    token=RefreshingToken(),\n",
    "    api_secrets_filename = secrets_path,\n",
    "    app_name=\"LusidJupyterNotebook\")\n",
    "\n",
    "print('LUSID Environment Initialised')\n",
    "print('LUSID version : ', api_factory.build(lusid.api.ApplicationMetadataApi).get_lusid_versions().build_version)\n",
    "\n",
    "# Define our scope and portfolio code\n",
    "scope = \"As_at_DEMO-\"+ create_scope_id()\n",
    "code = \"PORT_0001\"\n",
    "print(f\"Scope: {scope}\")\n",
    "print(f\"Code: {code}\")"
   ]
  },
  {
   "cell_type": "markdown",
   "metadata": {},
   "source": [
    "# 1. Define Helper Functions\n",
    "\n",
    "Define various helper functions to help us create adjustments, to adjuset and set holdings, and to get holdings as of an effective date"
   ]
  },
  {
   "cell_type": "code",
   "execution_count": 43,
   "metadata": {},
   "outputs": [],
   "source": [
    "def holding_adjustment(instrument_identifier: dict, units: int, price: int, currency : str) -> list:\n",
    "     return [\n",
    "        models.AdjustHoldingRequest(\n",
    "            instrument_identifiers = instrument_identifier,\n",
    "            tax_lots = [\n",
    "                models.TargetTaxLotRequest(\n",
    "                    units = units,\n",
    "                    cost = models.CurrencyAndAmount(\n",
    "                        amount = units,\n",
    "                        currency = currency),\n",
    "                    portfolio_cost = units * price,\n",
    "                    price=price)\n",
    "                    ]\n",
    "        )\n",
    "    ]\n",
    "\n",
    "def adjust_holding(scope: str, code: str, holding_adjustment: list) -> object:\n",
    "    return api_factory.build(lusid.api.TransactionPortfoliosApi).adjust_holdings(\n",
    "        scope=scope,\n",
    "        code=code,\n",
    "        effective_at=datetime.datetime(2022, 3, 3, tzinfo=datetime.timezone.utc),\n",
    "        adjust_holding_request=holding_adjustment)\n",
    "\n",
    "def set_holding(scope: str, code: str, holding_adjustment: list) -> object:\n",
    "    return api_factory.build(lusid.api.TransactionPortfoliosApi).set_holdings(\n",
    "        scope=scope,\n",
    "        code=code,\n",
    "        effective_at=datetime.datetime(2022, 3, 3, tzinfo=datetime.timezone.utc),\n",
    "        adjust_holding_request=holding_adjustment)\n",
    "\n",
    "\n",
    "def get_historical_holdings_view(scope, code, from_date=None):\n",
    "    from_date = from_date or datetime.datetime.now().date()\n",
    "\n",
    "    historical_adjustments = []\n",
    "    as_at = datetime.datetime.now(datetime.timezone.utc)\n",
    "    \n",
    "    get_next_adjustment = True\n",
    "    values = []\n",
    "\n",
    "    while get_next_adjustment:\n",
    "        response = api_factory.build(lusid.api.TransactionPortfoliosApi).list_holdings_adjustments(\n",
    "                    scope=scope,\n",
    "                    code=code,\n",
    "                    as_at=as_at\n",
    "\n",
    "                )\n",
    "        if response.values:\n",
    "            if response.values[-1].version.as_at_date.date() >= from_date:\n",
    "                as_at = response.values[-1].version.as_at_date - datetime.timedelta(microseconds=1)\n",
    "                values.append(response.values[-1])\n",
    "                continue\n",
    "        get_next_adjustment = False\n",
    "\n",
    "    #Grab all of our effective dates in our adjustments\n",
    "    as_at_dates = [value.version.as_at_date for value in values]\n",
    "    effective_at_dates = [value.effective_at for value in values]    \n",
    "\n",
    "    for version, (as_at_date, effective_at_dates) in enumerate(zip(as_at_dates, effective_at_dates)):\n",
    "        if as_at_date.date() >= from_date:\n",
    "            response = api_factory.build(lusid.api.TransactionPortfoliosApi).get_holdings(\n",
    "                        scope=scope,\n",
    "                        code=code,\n",
    "                        as_at=as_at_date,\n",
    "                        property_keys=[\"Instrument/default/Name\"]\n",
    "                    )\n",
    "            historical_adjustments.append((response, effective_at_dates, len(as_at_dates) - version))\n",
    "    return historical_adjustments\n",
    "\n",
    "def display_holdings_summary(response, effective_date, version):\n",
    "    # inspect holdings response for today\n",
    "    hld = [i for i in response.values]\n",
    "    \n",
    "    names=[]\n",
    "    amount=[]\n",
    "    units=[]\n",
    "    price=[]\n",
    "    holding_type=[]\n",
    "    \n",
    "    for item in hld:\n",
    "        \n",
    "        names.append(item.properties['Instrument/default/Name'].value.label_value)\n",
    "        amount.append(item.cost.amount)\n",
    "        units.append(item.units)\n",
    "        holding_type.append(item.holding_type)\n",
    "        \n",
    "    data={\n",
    "        \"version\" : version,\n",
    "        \"names\" : names,\n",
    "        \"amount\" : amount,\n",
    "        \"units\" : units,\n",
    "        \"holding_type\" : holding_type,\n",
    "        \"effective_date\" : effective_date,\n",
    "        \"as_at_date\" : response.version.as_at_date\n",
    "    }\n",
    "    \n",
    "    summary = pd.DataFrame(data=data)\n",
    "    display(summary)\n",
    "\n",
    "\n"
   ]
  },
  {
   "cell_type": "markdown",
   "metadata": {},
   "source": [
    "# 2. Insert Instruments into Instrument Master\n",
    "For this example we are just using a basic GBP cash instrument, so ensure that we master that in LUSID's Instrument Master"
   ]
  },
  {
   "cell_type": "code",
   "execution_count": 3,
   "metadata": {},
   "outputs": [
    {
     "data": {
      "text/html": [
       "<div>\n",
       "<style scoped>\n",
       "    .dataframe tbody tr th:only-of-type {\n",
       "        vertical-align: middle;\n",
       "    }\n",
       "\n",
       "    .dataframe tbody tr th {\n",
       "        vertical-align: top;\n",
       "    }\n",
       "\n",
       "    .dataframe thead th {\n",
       "        text-align: right;\n",
       "    }\n",
       "</style>\n",
       "<table border=\"1\" class=\"dataframe\">\n",
       "  <thead>\n",
       "    <tr style=\"text-align: right;\">\n",
       "      <th></th>\n",
       "      <th>success</th>\n",
       "      <th>failed</th>\n",
       "      <th>errors</th>\n",
       "    </tr>\n",
       "  </thead>\n",
       "  <tbody>\n",
       "    <tr>\n",
       "      <th>0</th>\n",
       "      <td>1</td>\n",
       "      <td>0</td>\n",
       "      <td>0</td>\n",
       "    </tr>\n",
       "  </tbody>\n",
       "</table>\n",
       "</div>"
      ],
      "text/plain": [
       "   success  failed  errors\n",
       "0        1       0       0"
      ]
     },
     "execution_count": 3,
     "metadata": {},
     "output_type": "execute_result"
    }
   ],
   "source": [
    "# Call LUSID to upsert instruments\n",
    "response = load_from_data_frame(\n",
    "        api_factory=api_factory,\n",
    "        scope=scope,\n",
    "        data_frame=pd.DataFrame({\"id\":['GBP'], 'client_id':['GBP']}),\n",
    "        mapping_required={\"name\": \"id\"},\n",
    "        file_type=\"instruments\",\n",
    "        mapping_optional={},\n",
    "        identifier_mapping={\"ClientInternal\": \"client_id\"}\n",
    ")\n",
    "\n",
    "# format response object\n",
    "success, failed, errors = format_instruments_response(response)\n",
    "\n",
    "pd.DataFrame(data=[{\"success\": len(success), \"failed\": len(failed), \"errors\": len(errors)}])"
   ]
  },
  {
   "cell_type": "markdown",
   "metadata": {},
   "source": [
    "# 3. Create our test portfolio\n",
    "Holdings are stored at a portfolio leveling, so create our test portfolio that will hold our holdings."
   ]
  },
  {
   "cell_type": "code",
   "execution_count": 4,
   "metadata": {},
   "outputs": [
    {
     "data": {
      "text/html": [
       "<div>\n",
       "<style scoped>\n",
       "    .dataframe tbody tr th:only-of-type {\n",
       "        vertical-align: middle;\n",
       "    }\n",
       "\n",
       "    .dataframe tbody tr th {\n",
       "        vertical-align: top;\n",
       "    }\n",
       "\n",
       "    .dataframe thead th {\n",
       "        text-align: right;\n",
       "    }\n",
       "</style>\n",
       "<table border=\"1\" class=\"dataframe\">\n",
       "  <thead>\n",
       "    <tr style=\"text-align: right;\">\n",
       "      <th></th>\n",
       "      <th>success</th>\n",
       "      <th>failed</th>\n",
       "      <th>errors</th>\n",
       "    </tr>\n",
       "  </thead>\n",
       "  <tbody>\n",
       "    <tr>\n",
       "      <th>0</th>\n",
       "      <td>1</td>\n",
       "      <td>0</td>\n",
       "      <td>0</td>\n",
       "    </tr>\n",
       "  </tbody>\n",
       "</table>\n",
       "</div>"
      ],
      "text/plain": [
       "   success  failed  errors\n",
       "0        1       0       0"
      ]
     },
     "execution_count": 4,
     "metadata": {},
     "output_type": "execute_result"
    }
   ],
   "source": [
    "# call LUSID to create a portfolio or update details of an existing portfolio\n",
    "mapping = {\n",
    "    \"portfolios\": {\n",
    "        \"required\": {\n",
    "            \"code\": \"Portfolio\",\n",
    "            \"display_name\":  \"$As-at_POC\",\n",
    "            \"base_currency\": \"$GBP\",\n",
    "            \"created\": \"$2018-01-01T00:00:00+00:00\"\n",
    "        },\n",
    "    }\n",
    "}\n",
    "\n",
    "response = load_from_data_frame(\n",
    "        api_factory=api_factory,\n",
    "        scope=scope,\n",
    "        data_frame=pd.DataFrame({'Portfolio':['PORT_0001']}),\n",
    "        mapping_required=mapping[\"portfolios\"][\"required\"],\n",
    "        file_type=\"portfolios\",\n",
    "        mapping_optional={},\n",
    ")\n",
    "# format response object\n",
    "success, errors = format_portfolios_response(response)\n",
    "\n",
    "pd.DataFrame(data=[{\"success\": len(success), \"failed\": len(failed), \"errors\": len(errors)}])"
   ]
  },
  {
   "cell_type": "markdown",
   "metadata": {},
   "source": [
    "# 4. Insert our initial holding\n",
    "The first step is to create our initial holding of 999 GBP Cash in our test portfolio, this uses set_holding instead of adjust holding as to start we have no holdings for this instrument in this portfolio"
   ]
  },
  {
   "cell_type": "code",
   "execution_count": 5,
   "metadata": {},
   "outputs": [],
   "source": [
    "adjustment = holding_adjustment({'Instrument/default/Currency': 'GBP'}, 999, 1, 'GBP')\n",
    "\n",
    "initial_holding = set_holding(scope, code, adjustment)"
   ]
  },
  {
   "cell_type": "markdown",
   "metadata": {},
   "source": [
    "# 5. Update our holding\n",
    "The next step is to keep building our timeline by adjusting our holding to 1100 1 hour later, notice the timestamps here that we are passing to adjust_holding, this is our effective datetime and our adjusted holding becomes effective from this time."
   ]
  },
  {
   "cell_type": "code",
   "execution_count": 6,
   "metadata": {},
   "outputs": [],
   "source": [
    "adjustment = holding_adjustment({'Instrument/default/Currency': 'GBP'}, 1100, 1, 'GBP')\n",
    "\n",
    "holding_amendment_1 = adjust_holding(scope, code, adjustment)"
   ]
  },
  {
   "cell_type": "markdown",
   "metadata": {},
   "source": [
    "# 6. Update our holding \n",
    "As above, keep building our timeline.  This time adjusting our holding to 1300"
   ]
  },
  {
   "cell_type": "code",
   "execution_count": 7,
   "metadata": {},
   "outputs": [],
   "source": [
    "adjustment = holding_adjustment({'Instrument/default/Currency': 'GBP'}, 1300, 1, 'GBP')\n",
    "\n",
    "holding_amendment_2 = adjust_holding(scope, code, adjustment)"
   ]
  },
  {
   "cell_type": "markdown",
   "metadata": {},
   "source": [
    "# 7. View historical holding amounts since SOD\n",
    "Use the list holding adjustment + get holding APIs in order to fetch our holdings as of an effective date to create a historical view of all of our holding from 2022, 3, 3 to present"
   ]
  },
  {
   "cell_type": "code",
   "execution_count": 44,
   "metadata": {},
   "outputs": [
    {
     "data": {
      "text/html": [
       "<div>\n",
       "<style scoped>\n",
       "    .dataframe tbody tr th:only-of-type {\n",
       "        vertical-align: middle;\n",
       "    }\n",
       "\n",
       "    .dataframe tbody tr th {\n",
       "        vertical-align: top;\n",
       "    }\n",
       "\n",
       "    .dataframe thead th {\n",
       "        text-align: right;\n",
       "    }\n",
       "</style>\n",
       "<table border=\"1\" class=\"dataframe\">\n",
       "  <thead>\n",
       "    <tr style=\"text-align: right;\">\n",
       "      <th></th>\n",
       "      <th>version</th>\n",
       "      <th>names</th>\n",
       "      <th>amount</th>\n",
       "      <th>units</th>\n",
       "      <th>holding_type</th>\n",
       "      <th>effective_date</th>\n",
       "      <th>as_at_date</th>\n",
       "    </tr>\n",
       "  </thead>\n",
       "  <tbody>\n",
       "    <tr>\n",
       "      <th>0</th>\n",
       "      <td>3</td>\n",
       "      <td>GBP</td>\n",
       "      <td>1300.0</td>\n",
       "      <td>1300.0</td>\n",
       "      <td>B</td>\n",
       "      <td>2022-03-03 00:00:00+00:00</td>\n",
       "      <td>2022-06-30 10:46:39.696474+00:00</td>\n",
       "    </tr>\n",
       "  </tbody>\n",
       "</table>\n",
       "</div>"
      ],
      "text/plain": [
       "   version names  amount   units holding_type            effective_date  \\\n",
       "0        3   GBP  1300.0  1300.0            B 2022-03-03 00:00:00+00:00   \n",
       "\n",
       "                        as_at_date  \n",
       "0 2022-06-30 10:46:39.696474+00:00  "
      ]
     },
     "metadata": {},
     "output_type": "display_data"
    },
    {
     "data": {
      "text/html": [
       "<div>\n",
       "<style scoped>\n",
       "    .dataframe tbody tr th:only-of-type {\n",
       "        vertical-align: middle;\n",
       "    }\n",
       "\n",
       "    .dataframe tbody tr th {\n",
       "        vertical-align: top;\n",
       "    }\n",
       "\n",
       "    .dataframe thead th {\n",
       "        text-align: right;\n",
       "    }\n",
       "</style>\n",
       "<table border=\"1\" class=\"dataframe\">\n",
       "  <thead>\n",
       "    <tr style=\"text-align: right;\">\n",
       "      <th></th>\n",
       "      <th>version</th>\n",
       "      <th>names</th>\n",
       "      <th>amount</th>\n",
       "      <th>units</th>\n",
       "      <th>holding_type</th>\n",
       "      <th>effective_date</th>\n",
       "      <th>as_at_date</th>\n",
       "    </tr>\n",
       "  </thead>\n",
       "  <tbody>\n",
       "    <tr>\n",
       "      <th>0</th>\n",
       "      <td>2</td>\n",
       "      <td>GBP</td>\n",
       "      <td>1100.0</td>\n",
       "      <td>1100.0</td>\n",
       "      <td>B</td>\n",
       "      <td>2022-03-03 00:00:00+00:00</td>\n",
       "      <td>2022-06-30 10:46:39.348166+00:00</td>\n",
       "    </tr>\n",
       "  </tbody>\n",
       "</table>\n",
       "</div>"
      ],
      "text/plain": [
       "   version names  amount   units holding_type            effective_date  \\\n",
       "0        2   GBP  1100.0  1100.0            B 2022-03-03 00:00:00+00:00   \n",
       "\n",
       "                        as_at_date  \n",
       "0 2022-06-30 10:46:39.348166+00:00  "
      ]
     },
     "metadata": {},
     "output_type": "display_data"
    },
    {
     "data": {
      "text/html": [
       "<div>\n",
       "<style scoped>\n",
       "    .dataframe tbody tr th:only-of-type {\n",
       "        vertical-align: middle;\n",
       "    }\n",
       "\n",
       "    .dataframe tbody tr th {\n",
       "        vertical-align: top;\n",
       "    }\n",
       "\n",
       "    .dataframe thead th {\n",
       "        text-align: right;\n",
       "    }\n",
       "</style>\n",
       "<table border=\"1\" class=\"dataframe\">\n",
       "  <thead>\n",
       "    <tr style=\"text-align: right;\">\n",
       "      <th></th>\n",
       "      <th>version</th>\n",
       "      <th>names</th>\n",
       "      <th>amount</th>\n",
       "      <th>units</th>\n",
       "      <th>holding_type</th>\n",
       "      <th>effective_date</th>\n",
       "      <th>as_at_date</th>\n",
       "    </tr>\n",
       "  </thead>\n",
       "  <tbody>\n",
       "    <tr>\n",
       "      <th>0</th>\n",
       "      <td>1</td>\n",
       "      <td>GBP</td>\n",
       "      <td>999.0</td>\n",
       "      <td>999.0</td>\n",
       "      <td>B</td>\n",
       "      <td>2022-03-03 00:00:00+00:00</td>\n",
       "      <td>2022-06-30 10:46:38.970223+00:00</td>\n",
       "    </tr>\n",
       "  </tbody>\n",
       "</table>\n",
       "</div>"
      ],
      "text/plain": [
       "   version names  amount  units holding_type            effective_date  \\\n",
       "0        1   GBP   999.0  999.0            B 2022-03-03 00:00:00+00:00   \n",
       "\n",
       "                        as_at_date  \n",
       "0 2022-06-30 10:46:38.970223+00:00  "
      ]
     },
     "metadata": {},
     "output_type": "display_data"
    }
   ],
   "source": [
    "historical_holdings = get_historical_holdings_view(scope, code, from_date=datetime.date(2022, 3, 3))\n",
    "\n",
    "for item in historical_holdings:\n",
    "    display_holdings_summary(*item)"
   ]
  },
  {
   "cell_type": "markdown",
   "metadata": {},
   "source": [
    "# 8. Clean up \n",
    "Ensure that we tidy up after the example by deleting the portfolio"
   ]
  },
  {
   "cell_type": "code",
   "execution_count": null,
   "metadata": {},
   "outputs": [],
   "source": [
    "_ = api_factory.build(lusid.api.PortfoliosApi).delete_portfolio(scope, code)"
   ]
  }
 ],
 "metadata": {
  "kernelspec": {
   "display_name": "Python 3.9.12 ('base')",
   "language": "python",
   "name": "python3"
  },
  "language_info": {
   "codemirror_mode": {
    "name": "ipython",
    "version": 3
   },
   "file_extension": ".py",
   "mimetype": "text/x-python",
   "name": "python",
   "nbconvert_exporter": "python",
   "pygments_lexer": "ipython3",
   "version": "3.9.12"
  },
  "orig_nbformat": 4,
  "vscode": {
   "interpreter": {
    "hash": "7394da9150ccc110233f941d3d0b81095e5e357ea5bb5ca1c70ffc133191088b"
   }
  }
 },
 "nbformat": 4,
 "nbformat_minor": 2
}
