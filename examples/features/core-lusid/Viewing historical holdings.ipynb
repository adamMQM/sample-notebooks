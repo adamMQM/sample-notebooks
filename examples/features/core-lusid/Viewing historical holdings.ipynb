{
 "cells": [
  {
   "cell_type": "code",
   "execution_count": 36,
   "metadata": {},
   "outputs": [
    {
     "name": "stdout",
     "output_type": "stream",
     "text": [
      "The nb_black extension is already loaded. To reload it, use:\n",
      "  %reload_ext nb_black\n"
     ]
    },
    {
     "data": {
      "application/javascript": "\n            setTimeout(function() {\n                var nbb_cell_id = 36;\n                var nbb_unformatted_code = \"%load_ext nb_black\";\n                var nbb_formatted_code = \"%load_ext nb_black\";\n                var nbb_cells = Jupyter.notebook.get_cells();\n                for (var i = 0; i < nbb_cells.length; ++i) {\n                    if (nbb_cells[i].input_prompt_number == nbb_cell_id) {\n                        if (nbb_cells[i].get_text() == nbb_unformatted_code) {\n                             nbb_cells[i].set_text(nbb_formatted_code);\n                        }\n                        break;\n                    }\n                }\n            }, 500);\n            ",
      "text/plain": [
       "<IPython.core.display.Javascript object>"
      ]
     },
     "metadata": {},
     "output_type": "display_data"
    }
   ],
   "source": [
    "%load_ext nb_black"
   ]
  },
  {
   "cell_type": "code",
   "execution_count": 37,
   "metadata": {},
   "outputs": [
    {
     "name": "stdout",
     "output_type": "stream",
     "text": [
      "LUSID Environment Initialised\n",
      "LUSID version :  0.6.9530.0\n",
      "Scope: As_at_DEMO-3ad8-ef2f-e72b-7e\n",
      "Code: PORT_0001\n"
     ]
    },
    {
     "data": {
      "application/javascript": "\n            setTimeout(function() {\n                var nbb_cell_id = 37;\n                var nbb_unformatted_code = \"import os\\nimport lusid\\nimport datetime\\nimport pandas as pd\\nimport lusid.models as models\\nfrom lusidtools.cocoon import load_from_data_frame\\nfrom lusidtools.cocoon.utilities import create_scope_id, identify_cash_items\\nfrom lusid.utilities import ApiClientFactory\\nfrom lusidtools.cocoon.transaction_type_upload import (\\n    create_transaction_type_configuration,\\n)\\nfrom lusidtools.cocoon.cocoon_printer import (\\n    format_instruments_response,\\n    format_portfolios_response\\n)\\nfrom lusidjam import RefreshingToken\\n\\n# Authenticate our user and create our API client\\nsecrets_path = os.getenv(\\\"FBN_SECRETS_PATH\\\")\\n\\napi_factory = lusid.utilities.ApiClientFactory(\\n    token=RefreshingToken(),\\n    api_secrets_filename = secrets_path,\\n    app_name=\\\"LusidJupyterNotebook\\\")\\n\\nprint('LUSID Environment Initialised')\\nprint('LUSID version : ', api_factory.build(lusid.api.ApplicationMetadataApi).get_lusid_versions().build_version)\\n\\n# Define our scope and portfolio code\\nscope = \\\"As_at_DEMO-\\\"+ create_scope_id()\\ncode = \\\"PORT_0001\\\"\\nprint(f\\\"Scope: {scope}\\\")\\nprint(f\\\"Code: {code}\\\")\";\n                var nbb_formatted_code = \"import os\\nimport lusid\\nimport datetime\\nimport pandas as pd\\nimport lusid.models as models\\nfrom lusidtools.cocoon import load_from_data_frame\\nfrom lusidtools.cocoon.utilities import create_scope_id, identify_cash_items\\nfrom lusid.utilities import ApiClientFactory\\nfrom lusidtools.cocoon.transaction_type_upload import (\\n    create_transaction_type_configuration,\\n)\\nfrom lusidtools.cocoon.cocoon_printer import (\\n    format_instruments_response,\\n    format_portfolios_response,\\n)\\nfrom lusidjam import RefreshingToken\\n\\n# Authenticate our user and create our API client\\nsecrets_path = os.getenv(\\\"FBN_SECRETS_PATH\\\")\\n\\napi_factory = lusid.utilities.ApiClientFactory(\\n    token=RefreshingToken(),\\n    api_secrets_filename=secrets_path,\\n    app_name=\\\"LusidJupyterNotebook\\\",\\n)\\n\\nprint(\\\"LUSID Environment Initialised\\\")\\nprint(\\n    \\\"LUSID version : \\\",\\n    api_factory.build(lusid.api.ApplicationMetadataApi)\\n    .get_lusid_versions()\\n    .build_version,\\n)\\n\\n# Define our scope and portfolio code\\nscope = \\\"As_at_DEMO-\\\" + create_scope_id()\\ncode = \\\"PORT_0001\\\"\\nprint(f\\\"Scope: {scope}\\\")\\nprint(f\\\"Code: {code}\\\")\";\n                var nbb_cells = Jupyter.notebook.get_cells();\n                for (var i = 0; i < nbb_cells.length; ++i) {\n                    if (nbb_cells[i].input_prompt_number == nbb_cell_id) {\n                        if (nbb_cells[i].get_text() == nbb_unformatted_code) {\n                             nbb_cells[i].set_text(nbb_formatted_code);\n                        }\n                        break;\n                    }\n                }\n            }, 500);\n            ",
      "text/plain": [
       "<IPython.core.display.Javascript object>"
      ]
     },
     "metadata": {},
     "output_type": "display_data"
    }
   ],
   "source": [
    "import os\n",
    "import lusid\n",
    "import datetime\n",
    "import pandas as pd\n",
    "import lusid.models as models\n",
    "from lusidtools.cocoon import load_from_data_frame\n",
    "from lusidtools.cocoon.utilities import create_scope_id\n",
    "from lusidtools.cocoon.cocoon_printer import (\n",
    "    format_instruments_response,\n",
    "    format_portfolios_response\n",
    ")\n",
    "from lusidjam import RefreshingToken\n",
    "\n",
    "# Authenticate our user and create our API client\n",
    "secrets_path = os.getenv(\"FBN_SECRETS_PATH\")\n",
    "\n",
    "api_factory = lusid.utilities.ApiClientFactory(\n",
    "    token=RefreshingToken(),\n",
    "    api_secrets_filename = secrets_path,\n",
    "    app_name=\"LusidJupyterNotebook\")\n",
    "\n",
    "print('LUSID Environment Initialised')\n",
    "print('LUSID version : ', api_factory.build(lusid.api.ApplicationMetadataApi).get_lusid_versions().build_version)\n",
    "\n",
    "# Define our scope and portfolio code\n",
    "scope = \"As_at_DEMO-\"+ create_scope_id()\n",
    "code = \"PORT_0001\"\n",
    "print(f\"Scope: {scope}\")\n",
    "print(f\"Code: {code}\")"
   ]
  },
  {
   "cell_type": "code",
   "execution_count": 38,
   "metadata": {},
   "outputs": [
    {
     "data": {
      "application/javascript": "\n            setTimeout(function() {\n                var nbb_cell_id = 38;\n                var nbb_unformatted_code = \"from IPython.display import display_html\\n\\ndef holding_adjustment(instrument_identifier: dict, units: int, price: int, currency : str) -> list:\\n     return [\\n        models.AdjustHoldingRequest(\\n            instrument_identifiers = instrument_identifier,\\n            tax_lots = [\\n                models.TargetTaxLotRequest(\\n                    units = units,\\n                    cost = models.CurrencyAndAmount(\\n                        amount = units,\\n                        currency = currency),\\n                    portfolio_cost = units * price,\\n                    price=price)\\n                    ]\\n        )\\n    ]\\n\\ndef adjust_holding(scope: str, code: str, effective_at: datetime.datetime, holding_adjustment: list) -> object:\\n    return api_factory.build(lusid.api.TransactionPortfoliosApi).adjust_holdings(\\n        scope=scope,\\n        code=code,\\n        effective_at=effective_at,\\n        adjust_holding_request=holding_adjustment)\\n\\ndef set_holding(scope: str, code: str, effective_at: datetime.datetime, holding_adjustment: list) -> object:\\n    return api_factory.build(lusid.api.TransactionPortfoliosApi).set_holdings(\\n        scope=scope,\\n        code=code,\\n        effective_at=effective_at,\\n        adjust_holding_request=holding_adjustment)\\n\\n\\ndef display_holdings_summary(response, effective_date):\\n    # inspect holdings response for today\\n    hld = [i for i in response.values]\\n    \\n    names=[]\\n    amount=[]\\n    units=[]\\n    price=[]\\n    holding_type=[]\\n    \\n    for item in hld:\\n        \\n        names.append(item.properties['Instrument/default/Name'].value.label_value)\\n        amount.append(item.cost.amount)\\n        units.append(item.units)\\n        holding_type.append(item.holding_type)\\n        \\n    data={\\n        \\\"names\\\" : names,\\n        \\\"amount\\\" : amount,\\n        \\\"units\\\" : units,\\n        \\\"holding_type\\\" : holding_type,\\n        \\\"effective_date\\\" : effective_date\\n    }\\n    \\n    summary = pd.DataFrame(data=data)\\n    display(summary)\\n\\n\\ndef get_historical_holdings_view(scope, code, from_date=None):\\n    from_date = from_date or datetime.datetime.now().date()\\n\\n    historical_adjustments = []\\n\\n    response = api_factory.build(lusid.api.TransactionPortfoliosApi).list_holdings_adjustments(\\n                scope=scope,\\n                code=code,\\n            )\\n    #Grab all of our effective dates in our adjustments\\n    eff_dates = [value.effective_at for value in response.values]    \\n\\n    for eff_date in eff_dates:\\n        if eff_date.date() >= from_date:\\n            response = api_factory.build(lusid.api.TransactionPortfoliosApi).get_holdings(\\n                        scope=scope,\\n                        code=code,\\n                        effective_at=eff_date,\\n                        property_keys=[\\\"Instrument/default/Name\\\"]\\n                    )\\n            historical_adjustments.append((response, eff_date))\\n    return historical_adjustments\";\n                var nbb_formatted_code = \"from IPython.display import display_html\\n\\n\\ndef holding_adjustment(\\n    instrument_identifier: dict, units: int, price: int, currency: str\\n) -> list:\\n    return [\\n        models.AdjustHoldingRequest(\\n            instrument_identifiers=instrument_identifier,\\n            tax_lots=[\\n                models.TargetTaxLotRequest(\\n                    units=units,\\n                    cost=models.CurrencyAndAmount(amount=units, currency=currency),\\n                    portfolio_cost=units * price,\\n                    price=price,\\n                )\\n            ],\\n        )\\n    ]\\n\\n\\ndef adjust_holding(\\n    scope: str, code: str, effective_at: datetime.datetime, holding_adjustment: list\\n) -> object:\\n    return api_factory.build(lusid.api.TransactionPortfoliosApi).adjust_holdings(\\n        scope=scope,\\n        code=code,\\n        effective_at=effective_at,\\n        adjust_holding_request=holding_adjustment,\\n    )\\n\\n\\ndef set_holding(\\n    scope: str, code: str, effective_at: datetime.datetime, holding_adjustment: list\\n) -> object:\\n    return api_factory.build(lusid.api.TransactionPortfoliosApi).set_holdings(\\n        scope=scope,\\n        code=code,\\n        effective_at=effective_at,\\n        adjust_holding_request=holding_adjustment,\\n    )\\n\\n\\ndef display_holdings_summary(response, effective_date):\\n    # inspect holdings response for today\\n    hld = [i for i in response.values]\\n\\n    names = []\\n    amount = []\\n    units = []\\n    price = []\\n    holding_type = []\\n\\n    for item in hld:\\n\\n        names.append(item.properties[\\\"Instrument/default/Name\\\"].value.label_value)\\n        amount.append(item.cost.amount)\\n        units.append(item.units)\\n        holding_type.append(item.holding_type)\\n\\n    data = {\\n        \\\"names\\\": names,\\n        \\\"amount\\\": amount,\\n        \\\"units\\\": units,\\n        \\\"holding_type\\\": holding_type,\\n        \\\"effective_date\\\": effective_date,\\n    }\\n\\n    summary = pd.DataFrame(data=data)\\n    display(summary)\\n\\n\\ndef get_historical_holdings_view(scope, code, from_date=None):\\n    from_date = from_date or datetime.datetime.now().date()\\n\\n    historical_adjustments = []\\n\\n    response = api_factory.build(\\n        lusid.api.TransactionPortfoliosApi\\n    ).list_holdings_adjustments(scope=scope, code=code,)\\n    # Grab all of our effective dates in our adjustments\\n    eff_dates = [value.effective_at for value in response.values]\\n\\n    for eff_date in eff_dates:\\n        if eff_date.date() >= from_date:\\n            response = api_factory.build(\\n                lusid.api.TransactionPortfoliosApi\\n            ).get_holdings(\\n                scope=scope,\\n                code=code,\\n                effective_at=eff_date,\\n                property_keys=[\\\"Instrument/default/Name\\\"],\\n            )\\n            historical_adjustments.append((response, eff_date))\\n    return historical_adjustments\";\n                var nbb_cells = Jupyter.notebook.get_cells();\n                for (var i = 0; i < nbb_cells.length; ++i) {\n                    if (nbb_cells[i].input_prompt_number == nbb_cell_id) {\n                        if (nbb_cells[i].get_text() == nbb_unformatted_code) {\n                             nbb_cells[i].set_text(nbb_formatted_code);\n                        }\n                        break;\n                    }\n                }\n            }, 500);\n            ",
      "text/plain": [
       "<IPython.core.display.Javascript object>"
      ]
     },
     "metadata": {},
     "output_type": "display_data"
    }
   ],
   "source": [
    "def holding_adjustment(instrument_identifier: dict, units: int, price: int, currency : str) -> list:\n",
    "     return [\n",
    "        models.AdjustHoldingRequest(\n",
    "            instrument_identifiers = instrument_identifier,\n",
    "            tax_lots = [\n",
    "                models.TargetTaxLotRequest(\n",
    "                    units = units,\n",
    "                    cost = models.CurrencyAndAmount(\n",
    "                        amount = units,\n",
    "                        currency = currency),\n",
    "                    portfolio_cost = units * price,\n",
    "                    price=price)\n",
    "                    ]\n",
    "        )\n",
    "    ]\n",
    "\n",
    "def adjust_holding(scope: str, code: str, effective_at: datetime.datetime, holding_adjustment: list) -> object:\n",
    "    return api_factory.build(lusid.api.TransactionPortfoliosApi).adjust_holdings(\n",
    "        scope=scope,\n",
    "        code=code,\n",
    "        effective_at=effective_at,\n",
    "        adjust_holding_request=holding_adjustment)\n",
    "\n",
    "def set_holding(scope: str, code: str, effective_at: datetime.datetime, holding_adjustment: list) -> object:\n",
    "    return api_factory.build(lusid.api.TransactionPortfoliosApi).set_holdings(\n",
    "        scope=scope,\n",
    "        code=code,\n",
    "        effective_at=effective_at,\n",
    "        adjust_holding_request=holding_adjustment)\n",
    "\n",
    "\n",
    "def display_holdings_summary(response, effective_date):\n",
    "    # inspect holdings response for today\n",
    "    hld = [i for i in response.values]\n",
    "    \n",
    "    names=[]\n",
    "    amount=[]\n",
    "    units=[]\n",
    "    price=[]\n",
    "    holding_type=[]\n",
    "    \n",
    "    for item in hld:\n",
    "        \n",
    "        names.append(item.properties['Instrument/default/Name'].value.label_value)\n",
    "        amount.append(item.cost.amount)\n",
    "        units.append(item.units)\n",
    "        holding_type.append(item.holding_type)\n",
    "        \n",
    "    data={\n",
    "        \"names\" : names,\n",
    "        \"amount\" : amount,\n",
    "        \"units\" : units,\n",
    "        \"holding_type\" : holding_type,\n",
    "        \"effective_date\" : effective_date\n",
    "    }\n",
    "    \n",
    "    summary = pd.DataFrame(data=data)\n",
    "    display(summary)\n",
    "\n",
    "\n",
    "def get_historical_holdings_view(scope, code, from_date=None):\n",
    "    from_date = from_date or datetime.datetime.now().date()\n",
    "\n",
    "    historical_adjustments = []\n",
    "\n",
    "    response = api_factory.build(lusid.api.TransactionPortfoliosApi).list_holdings_adjustments(\n",
    "                scope=scope,\n",
    "                code=code,\n",
    "            )\n",
    "    #Grab all of our effective dates in our adjustments\n",
    "    eff_dates = [value.effective_at for value in response.values]    \n",
    "\n",
    "    for eff_date in eff_dates:\n",
    "        if eff_date.date() >= from_date:\n",
    "            response = api_factory.build(lusid.api.TransactionPortfoliosApi).get_holdings(\n",
    "                        scope=scope,\n",
    "                        code=code,\n",
    "                        effective_at=eff_date,\n",
    "                        property_keys=[\"Instrument/default/Name\"]\n",
    "                    )\n",
    "            historical_adjustments.append((response, eff_date))\n",
    "    return historical_adjustments\n"
   ]
  },
  {
   "cell_type": "code",
   "execution_count": 39,
   "metadata": {},
   "outputs": [
    {
     "data": {
      "application/javascript": "\n            setTimeout(function() {\n                var nbb_cell_id = 39;\n                var nbb_unformatted_code = \"mapping = {\\n    \\\"instruments\\\" : {\\n        \\\"identifier_mapping\\\": {\\n            \\\"ClientInternal\\\": \\\"Internal_id\\\",\\n        },\\n        \\\"required\\\": {\\n            \\\"name\\\": \\\"instr_id\\\"\\n        },\\n    },\\n    \\\"portfolios\\\": {\\n        \\\"required\\\": {\\n            \\\"code\\\": \\\"Portfolio\\\",\\n            \\\"display_name\\\":  \\\"$As-at_POC\\\",\\n            \\\"base_currency\\\": \\\"$GBP\\\",\\n            \\\"created\\\": \\\"$2018-01-01T00:00:00+00:00\\\"\\n        },\\n    }\\n}\";\n                var nbb_formatted_code = \"mapping = {\\n    \\\"instruments\\\": {\\n        \\\"identifier_mapping\\\": {\\\"ClientInternal\\\": \\\"Internal_id\\\",},\\n        \\\"required\\\": {\\\"name\\\": \\\"instr_id\\\"},\\n    },\\n    \\\"portfolios\\\": {\\n        \\\"required\\\": {\\n            \\\"code\\\": \\\"Portfolio\\\",\\n            \\\"display_name\\\": \\\"$As-at_POC\\\",\\n            \\\"base_currency\\\": \\\"$GBP\\\",\\n            \\\"created\\\": \\\"$2018-01-01T00:00:00+00:00\\\",\\n        },\\n    },\\n}\";\n                var nbb_cells = Jupyter.notebook.get_cells();\n                for (var i = 0; i < nbb_cells.length; ++i) {\n                    if (nbb_cells[i].input_prompt_number == nbb_cell_id) {\n                        if (nbb_cells[i].get_text() == nbb_unformatted_code) {\n                             nbb_cells[i].set_text(nbb_formatted_code);\n                        }\n                        break;\n                    }\n                }\n            }, 500);\n            ",
      "text/plain": [
       "<IPython.core.display.Javascript object>"
      ]
     },
     "metadata": {},
     "output_type": "display_data"
    }
   ],
   "source": [
    "mapping = {\n",
    "    \"instruments\" : {\n",
    "        \"identifier_mapping\": {\n",
    "            \"ClientInternal\": \"Internal_id\",\n",
    "        },\n",
    "        \"required\": {\n",
    "            \"name\": \"instr_id\"\n",
    "        },\n",
    "    },\n",
    "    \"portfolios\": {\n",
    "        \"required\": {\n",
    "            \"code\": \"Portfolio\",\n",
    "            \"display_name\":  \"$As-at_POC\",\n",
    "            \"base_currency\": \"$GBP\",\n",
    "            \"created\": \"$2018-01-01T00:00:00+00:00\"\n",
    "        },\n",
    "    }\n",
    "}"
   ]
  },
  {
   "cell_type": "code",
   "execution_count": 40,
   "metadata": {},
   "outputs": [
    {
     "data": {
      "text/html": [
       "<div>\n",
       "<style scoped>\n",
       "    .dataframe tbody tr th:only-of-type {\n",
       "        vertical-align: middle;\n",
       "    }\n",
       "\n",
       "    .dataframe tbody tr th {\n",
       "        vertical-align: top;\n",
       "    }\n",
       "\n",
       "    .dataframe thead th {\n",
       "        text-align: right;\n",
       "    }\n",
       "</style>\n",
       "<table border=\"1\" class=\"dataframe\">\n",
       "  <thead>\n",
       "    <tr style=\"text-align: right;\">\n",
       "      <th></th>\n",
       "      <th>success</th>\n",
       "      <th>failed</th>\n",
       "      <th>errors</th>\n",
       "    </tr>\n",
       "  </thead>\n",
       "  <tbody>\n",
       "    <tr>\n",
       "      <th>0</th>\n",
       "      <td>1</td>\n",
       "      <td>0</td>\n",
       "      <td>0</td>\n",
       "    </tr>\n",
       "  </tbody>\n",
       "</table>\n",
       "</div>"
      ],
      "text/plain": [
       "   success  failed  errors\n",
       "0        1       0       0"
      ]
     },
     "execution_count": 40,
     "metadata": {},
     "output_type": "execute_result"
    },
    {
     "data": {
      "application/javascript": "\n            setTimeout(function() {\n                var nbb_cell_id = 40;\n                var nbb_unformatted_code = \"# Call LUSID to upsert instruments\\nresponse = load_from_data_frame(\\n        api_factory=api_factory,\\n        scope=scope,\\n        data_frame=pd.DataFrame({\\\"instr_id\\\":['GBP'], 'Internal_id':['GBP']}),\\n        mapping_required=mapping[\\\"instruments\\\"][\\\"required\\\"],\\n        file_type=\\\"instruments\\\",\\n        mapping_optional={},\\n        identifier_mapping=mapping[\\\"instruments\\\"][\\\"identifier_mapping\\\"]\\n)\\n\\n# format response object\\nsuccess, failed, errors = format_instruments_response(response)\\n\\npd.DataFrame(data=[{\\\"success\\\": len(success), \\\"failed\\\": len(failed), \\\"errors\\\": len(errors)}])\";\n                var nbb_formatted_code = \"# Call LUSID to upsert instruments\\nresponse = load_from_data_frame(\\n    api_factory=api_factory,\\n    scope=scope,\\n    data_frame=pd.DataFrame({\\\"instr_id\\\": [\\\"GBP\\\"], \\\"Internal_id\\\": [\\\"GBP\\\"]}),\\n    mapping_required=mapping[\\\"instruments\\\"][\\\"required\\\"],\\n    file_type=\\\"instruments\\\",\\n    mapping_optional={},\\n    identifier_mapping=mapping[\\\"instruments\\\"][\\\"identifier_mapping\\\"],\\n)\\n\\n# format response object\\nsuccess, failed, errors = format_instruments_response(response)\\n\\npd.DataFrame(\\n    data=[{\\\"success\\\": len(success), \\\"failed\\\": len(failed), \\\"errors\\\": len(errors)}]\\n)\";\n                var nbb_cells = Jupyter.notebook.get_cells();\n                for (var i = 0; i < nbb_cells.length; ++i) {\n                    if (nbb_cells[i].input_prompt_number == nbb_cell_id) {\n                        if (nbb_cells[i].get_text() == nbb_unformatted_code) {\n                             nbb_cells[i].set_text(nbb_formatted_code);\n                        }\n                        break;\n                    }\n                }\n            }, 500);\n            ",
      "text/plain": [
       "<IPython.core.display.Javascript object>"
      ]
     },
     "metadata": {},
     "output_type": "display_data"
    }
   ],
   "source": [
    "# Call LUSID to upsert instruments\n",
    "response = load_from_data_frame(\n",
    "        api_factory=api_factory,\n",
    "        scope=scope,\n",
    "        data_frame=pd.DataFrame({\"instr_id\":['GBP'], 'Internal_id':['GBP']}),\n",
    "        mapping_required=mapping[\"instruments\"][\"required\"],\n",
    "        file_type=\"instruments\",\n",
    "        mapping_optional={},\n",
    "        identifier_mapping=mapping[\"instruments\"][\"identifier_mapping\"]\n",
    ")\n",
    "\n",
    "# format response object\n",
    "success, failed, errors = format_instruments_response(response)\n",
    "\n",
    "pd.DataFrame(data=[{\"success\": len(success), \"failed\": len(failed), \"errors\": len(errors)}])"
   ]
  },
  {
   "cell_type": "code",
   "execution_count": 41,
   "metadata": {},
   "outputs": [
    {
     "data": {
      "text/html": [
       "<div>\n",
       "<style scoped>\n",
       "    .dataframe tbody tr th:only-of-type {\n",
       "        vertical-align: middle;\n",
       "    }\n",
       "\n",
       "    .dataframe tbody tr th {\n",
       "        vertical-align: top;\n",
       "    }\n",
       "\n",
       "    .dataframe thead th {\n",
       "        text-align: right;\n",
       "    }\n",
       "</style>\n",
       "<table border=\"1\" class=\"dataframe\">\n",
       "  <thead>\n",
       "    <tr style=\"text-align: right;\">\n",
       "      <th></th>\n",
       "      <th>success</th>\n",
       "      <th>failed</th>\n",
       "      <th>errors</th>\n",
       "    </tr>\n",
       "  </thead>\n",
       "  <tbody>\n",
       "    <tr>\n",
       "      <th>0</th>\n",
       "      <td>1</td>\n",
       "      <td>0</td>\n",
       "      <td>0</td>\n",
       "    </tr>\n",
       "  </tbody>\n",
       "</table>\n",
       "</div>"
      ],
      "text/plain": [
       "   success  failed  errors\n",
       "0        1       0       0"
      ]
     },
     "execution_count": 41,
     "metadata": {},
     "output_type": "execute_result"
    },
    {
     "data": {
      "application/javascript": "\n            setTimeout(function() {\n                var nbb_cell_id = 41;\n                var nbb_unformatted_code = \"# call LUSID to create a portfolio or update details of an existing portfolio\\nresponse = load_from_data_frame(\\n        api_factory=api_factory,\\n        scope=scope,\\n        data_frame=pd.DataFrame({'Portfolio':['PORT_0001']}),\\n        mapping_required=mapping[\\\"portfolios\\\"][\\\"required\\\"],\\n        file_type=\\\"portfolios\\\",\\n        mapping_optional={},\\n)\\n# format response object\\nsuccess, errors = format_portfolios_response(response)\\n\\npd.DataFrame(data=[{\\\"success\\\": len(success), \\\"failed\\\": len(failed), \\\"errors\\\": len(errors)}])\";\n                var nbb_formatted_code = \"# call LUSID to create a portfolio or update details of an existing portfolio\\nresponse = load_from_data_frame(\\n    api_factory=api_factory,\\n    scope=scope,\\n    data_frame=pd.DataFrame({\\\"Portfolio\\\": [\\\"PORT_0001\\\"]}),\\n    mapping_required=mapping[\\\"portfolios\\\"][\\\"required\\\"],\\n    file_type=\\\"portfolios\\\",\\n    mapping_optional={},\\n)\\n# format response object\\nsuccess, errors = format_portfolios_response(response)\\n\\npd.DataFrame(\\n    data=[{\\\"success\\\": len(success), \\\"failed\\\": len(failed), \\\"errors\\\": len(errors)}]\\n)\";\n                var nbb_cells = Jupyter.notebook.get_cells();\n                for (var i = 0; i < nbb_cells.length; ++i) {\n                    if (nbb_cells[i].input_prompt_number == nbb_cell_id) {\n                        if (nbb_cells[i].get_text() == nbb_unformatted_code) {\n                             nbb_cells[i].set_text(nbb_formatted_code);\n                        }\n                        break;\n                    }\n                }\n            }, 500);\n            ",
      "text/plain": [
       "<IPython.core.display.Javascript object>"
      ]
     },
     "metadata": {},
     "output_type": "display_data"
    }
   ],
   "source": [
    "# call LUSID to create a portfolio or update details of an existing portfolio\n",
    "response = load_from_data_frame(\n",
    "        api_factory=api_factory,\n",
    "        scope=scope,\n",
    "        data_frame=pd.DataFrame({'Portfolio':['PORT_0001']}),\n",
    "        mapping_required=mapping[\"portfolios\"][\"required\"],\n",
    "        file_type=\"portfolios\",\n",
    "        mapping_optional={},\n",
    ")\n",
    "# format response object\n",
    "success, errors = format_portfolios_response(response)\n",
    "\n",
    "pd.DataFrame(data=[{\"success\": len(success), \"failed\": len(failed), \"errors\": len(errors)}])"
   ]
  },
  {
   "cell_type": "code",
   "execution_count": 42,
   "metadata": {},
   "outputs": [
    {
     "data": {
      "application/javascript": "\n            setTimeout(function() {\n                var nbb_cell_id = 42;\n                var nbb_unformatted_code = \"adjustment = holding_adjustment({'Instrument/default/Currency': 'GBP'}, 999, 1, 'GBP')\\n\\ninitial_holding = set_holding(scope, code, datetime.datetime(2022, 3, 3, 11, tzinfo=datetime.timezone.utc), adjustment)\";\n                var nbb_formatted_code = \"adjustment = holding_adjustment({\\\"Instrument/default/Currency\\\": \\\"GBP\\\"}, 999, 1, \\\"GBP\\\")\\n\\ninitial_holding = set_holding(\\n    scope,\\n    code,\\n    datetime.datetime(2022, 3, 3, 11, tzinfo=datetime.timezone.utc),\\n    adjustment,\\n)\";\n                var nbb_cells = Jupyter.notebook.get_cells();\n                for (var i = 0; i < nbb_cells.length; ++i) {\n                    if (nbb_cells[i].input_prompt_number == nbb_cell_id) {\n                        if (nbb_cells[i].get_text() == nbb_unformatted_code) {\n                             nbb_cells[i].set_text(nbb_formatted_code);\n                        }\n                        break;\n                    }\n                }\n            }, 500);\n            ",
      "text/plain": [
       "<IPython.core.display.Javascript object>"
      ]
     },
     "metadata": {},
     "output_type": "display_data"
    }
   ],
   "source": [
    "adjustment = holding_adjustment({'Instrument/default/Currency': 'GBP'}, 999, 1, 'GBP')\n",
    "\n",
    "initial_holding = set_holding(scope, code, datetime.datetime(2022, 3, 3, 11, tzinfo=datetime.timezone.utc), adjustment)"
   ]
  },
  {
   "cell_type": "code",
   "execution_count": 43,
   "metadata": {},
   "outputs": [
    {
     "data": {
      "application/javascript": "\n            setTimeout(function() {\n                var nbb_cell_id = 43;\n                var nbb_unformatted_code = \"adjustment = holding_adjustment({'Instrument/default/Currency': 'GBP'}, 1100, 1, 'GBP')\\n\\nholding_amendment_1 = adjust_holding(scope, code, datetime.datetime(2022, 3, 3, 12, 30, tzinfo=datetime.timezone.utc), adjustment)\";\n                var nbb_formatted_code = \"adjustment = holding_adjustment({\\\"Instrument/default/Currency\\\": \\\"GBP\\\"}, 1100, 1, \\\"GBP\\\")\\n\\nholding_amendment_1 = adjust_holding(\\n    scope,\\n    code,\\n    datetime.datetime(2022, 3, 3, 12, 30, tzinfo=datetime.timezone.utc),\\n    adjustment,\\n)\";\n                var nbb_cells = Jupyter.notebook.get_cells();\n                for (var i = 0; i < nbb_cells.length; ++i) {\n                    if (nbb_cells[i].input_prompt_number == nbb_cell_id) {\n                        if (nbb_cells[i].get_text() == nbb_unformatted_code) {\n                             nbb_cells[i].set_text(nbb_formatted_code);\n                        }\n                        break;\n                    }\n                }\n            }, 500);\n            ",
      "text/plain": [
       "<IPython.core.display.Javascript object>"
      ]
     },
     "metadata": {},
     "output_type": "display_data"
    }
   ],
   "source": [
    "adjustment = holding_adjustment({'Instrument/default/Currency': 'GBP'}, 1100, 1, 'GBP')\n",
    "\n",
    "holding_amendment_1 = adjust_holding(scope, code, datetime.datetime(2022, 3, 3, 12, 30, tzinfo=datetime.timezone.utc), adjustment)"
   ]
  },
  {
   "cell_type": "code",
   "execution_count": 44,
   "metadata": {},
   "outputs": [
    {
     "data": {
      "application/javascript": "\n            setTimeout(function() {\n                var nbb_cell_id = 44;\n                var nbb_unformatted_code = \"adjustment = holding_adjustment({'Instrument/default/Currency': 'GBP'}, 1000, 1, 'GBP')\\n\\nholding_amendment_2 = adjust_holding(scope, code, datetime.datetime(2022, 3, 3, 12, tzinfo=datetime.timezone.utc), adjustment)\";\n                var nbb_formatted_code = \"adjustment = holding_adjustment({\\\"Instrument/default/Currency\\\": \\\"GBP\\\"}, 1000, 1, \\\"GBP\\\")\\n\\nholding_amendment_2 = adjust_holding(\\n    scope,\\n    code,\\n    datetime.datetime(2022, 3, 3, 12, tzinfo=datetime.timezone.utc),\\n    adjustment,\\n)\";\n                var nbb_cells = Jupyter.notebook.get_cells();\n                for (var i = 0; i < nbb_cells.length; ++i) {\n                    if (nbb_cells[i].input_prompt_number == nbb_cell_id) {\n                        if (nbb_cells[i].get_text() == nbb_unformatted_code) {\n                             nbb_cells[i].set_text(nbb_formatted_code);\n                        }\n                        break;\n                    }\n                }\n            }, 500);\n            ",
      "text/plain": [
       "<IPython.core.display.Javascript object>"
      ]
     },
     "metadata": {},
     "output_type": "display_data"
    }
   ],
   "source": [
    "adjustment = holding_adjustment({'Instrument/default/Currency': 'GBP'}, 1000, 1, 'GBP')\n",
    "\n",
    "holding_amendment_2 = adjust_holding(scope, code, datetime.datetime(2022, 3, 3, 12, tzinfo=datetime.timezone.utc), adjustment)"
   ]
  },
  {
   "cell_type": "code",
   "execution_count": 45,
   "metadata": {},
   "outputs": [
    {
     "data": {
      "text/html": [
       "<div>\n",
       "<style scoped>\n",
       "    .dataframe tbody tr th:only-of-type {\n",
       "        vertical-align: middle;\n",
       "    }\n",
       "\n",
       "    .dataframe tbody tr th {\n",
       "        vertical-align: top;\n",
       "    }\n",
       "\n",
       "    .dataframe thead th {\n",
       "        text-align: right;\n",
       "    }\n",
       "</style>\n",
       "<table border=\"1\" class=\"dataframe\">\n",
       "  <thead>\n",
       "    <tr style=\"text-align: right;\">\n",
       "      <th></th>\n",
       "      <th>names</th>\n",
       "      <th>amount</th>\n",
       "      <th>units</th>\n",
       "      <th>holding_type</th>\n",
       "      <th>effective_date</th>\n",
       "    </tr>\n",
       "  </thead>\n",
       "  <tbody>\n",
       "    <tr>\n",
       "      <th>0</th>\n",
       "      <td>GBP</td>\n",
       "      <td>999.0</td>\n",
       "      <td>999.0</td>\n",
       "      <td>B</td>\n",
       "      <td>2022-03-03 11:00:00+00:00</td>\n",
       "    </tr>\n",
       "  </tbody>\n",
       "</table>\n",
       "</div>"
      ],
      "text/plain": [
       "  names  amount  units holding_type            effective_date\n",
       "0   GBP   999.0  999.0            B 2022-03-03 11:00:00+00:00"
      ]
     },
     "metadata": {},
     "output_type": "display_data"
    },
    {
     "data": {
      "text/html": [
       "<div>\n",
       "<style scoped>\n",
       "    .dataframe tbody tr th:only-of-type {\n",
       "        vertical-align: middle;\n",
       "    }\n",
       "\n",
       "    .dataframe tbody tr th {\n",
       "        vertical-align: top;\n",
       "    }\n",
       "\n",
       "    .dataframe thead th {\n",
       "        text-align: right;\n",
       "    }\n",
       "</style>\n",
       "<table border=\"1\" class=\"dataframe\">\n",
       "  <thead>\n",
       "    <tr style=\"text-align: right;\">\n",
       "      <th></th>\n",
       "      <th>names</th>\n",
       "      <th>amount</th>\n",
       "      <th>units</th>\n",
       "      <th>holding_type</th>\n",
       "      <th>effective_date</th>\n",
       "    </tr>\n",
       "  </thead>\n",
       "  <tbody>\n",
       "    <tr>\n",
       "      <th>0</th>\n",
       "      <td>GBP</td>\n",
       "      <td>1000.0</td>\n",
       "      <td>1000.0</td>\n",
       "      <td>B</td>\n",
       "      <td>2022-03-03 12:00:00+00:00</td>\n",
       "    </tr>\n",
       "  </tbody>\n",
       "</table>\n",
       "</div>"
      ],
      "text/plain": [
       "  names  amount   units holding_type            effective_date\n",
       "0   GBP  1000.0  1000.0            B 2022-03-03 12:00:00+00:00"
      ]
     },
     "metadata": {},
     "output_type": "display_data"
    },
    {
     "data": {
      "text/html": [
       "<div>\n",
       "<style scoped>\n",
       "    .dataframe tbody tr th:only-of-type {\n",
       "        vertical-align: middle;\n",
       "    }\n",
       "\n",
       "    .dataframe tbody tr th {\n",
       "        vertical-align: top;\n",
       "    }\n",
       "\n",
       "    .dataframe thead th {\n",
       "        text-align: right;\n",
       "    }\n",
       "</style>\n",
       "<table border=\"1\" class=\"dataframe\">\n",
       "  <thead>\n",
       "    <tr style=\"text-align: right;\">\n",
       "      <th></th>\n",
       "      <th>names</th>\n",
       "      <th>amount</th>\n",
       "      <th>units</th>\n",
       "      <th>holding_type</th>\n",
       "      <th>effective_date</th>\n",
       "    </tr>\n",
       "  </thead>\n",
       "  <tbody>\n",
       "    <tr>\n",
       "      <th>0</th>\n",
       "      <td>GBP</td>\n",
       "      <td>1100.0</td>\n",
       "      <td>1100.0</td>\n",
       "      <td>B</td>\n",
       "      <td>2022-03-03 12:30:00+00:00</td>\n",
       "    </tr>\n",
       "  </tbody>\n",
       "</table>\n",
       "</div>"
      ],
      "text/plain": [
       "  names  amount   units holding_type            effective_date\n",
       "0   GBP  1100.0  1100.0            B 2022-03-03 12:30:00+00:00"
      ]
     },
     "metadata": {},
     "output_type": "display_data"
    },
    {
     "data": {
      "application/javascript": "\n            setTimeout(function() {\n                var nbb_cell_id = 45;\n                var nbb_unformatted_code = \"historical_holdings = get_historical_holdings_view(scope, code, from_date=datetime.date(2022, 3, 3))\\n\\nfor holding, eff_date in historical_holdings:\\n    display_holdings_summary(holding, eff_date)\";\n                var nbb_formatted_code = \"historical_holdings = get_historical_holdings_view(\\n    scope, code, from_date=datetime.date(2022, 3, 3)\\n)\\n\\nfor holding, eff_date in historical_holdings:\\n    display_holdings_summary(holding, eff_date)\";\n                var nbb_cells = Jupyter.notebook.get_cells();\n                for (var i = 0; i < nbb_cells.length; ++i) {\n                    if (nbb_cells[i].input_prompt_number == nbb_cell_id) {\n                        if (nbb_cells[i].get_text() == nbb_unformatted_code) {\n                             nbb_cells[i].set_text(nbb_formatted_code);\n                        }\n                        break;\n                    }\n                }\n            }, 500);\n            ",
      "text/plain": [
       "<IPython.core.display.Javascript object>"
      ]
     },
     "metadata": {},
     "output_type": "display_data"
    }
   ],
   "source": [
    "historical_holdings = get_historical_holdings_view(scope, code, from_date=datetime.date(2022, 3, 3))\n",
    "\n",
    "for holding, eff_date in historical_holdings:\n",
    "    display_holdings_summary(holding, eff_date)"
   ]
  },
  {
   "cell_type": "code",
   "execution_count": 46,
   "metadata": {},
   "outputs": [
    {
     "data": {
      "application/javascript": "\n            setTimeout(function() {\n                var nbb_cell_id = 46;\n                var nbb_unformatted_code = \"_ = api_factory.build(lusid.api.PortfoliosApi).delete_portfolio(scope, code)\";\n                var nbb_formatted_code = \"_ = api_factory.build(lusid.api.PortfoliosApi).delete_portfolio(scope, code)\";\n                var nbb_cells = Jupyter.notebook.get_cells();\n                for (var i = 0; i < nbb_cells.length; ++i) {\n                    if (nbb_cells[i].input_prompt_number == nbb_cell_id) {\n                        if (nbb_cells[i].get_text() == nbb_unformatted_code) {\n                             nbb_cells[i].set_text(nbb_formatted_code);\n                        }\n                        break;\n                    }\n                }\n            }, 500);\n            ",
      "text/plain": [
       "<IPython.core.display.Javascript object>"
      ]
     },
     "metadata": {},
     "output_type": "display_data"
    }
   ],
   "source": [
    "_ = api_factory.build(lusid.api.PortfoliosApi).delete_portfolio(scope, code)"
   ]
  }
 ],
 "metadata": {
  "kernelspec": {
   "display_name": "Python 3.9.12 ('base')",
   "language": "python",
   "name": "python3"
  },
  "language_info": {
   "codemirror_mode": {
    "name": "ipython",
    "version": 3
   },
   "file_extension": ".py",
   "mimetype": "text/x-python",
   "name": "python",
   "nbconvert_exporter": "python",
   "pygments_lexer": "ipython3",
   "version": "3.9.12"
  },
  "orig_nbformat": 4,
  "vscode": {
   "interpreter": {
    "hash": "7394da9150ccc110233f941d3d0b81095e5e357ea5bb5ca1c70ffc133191088b"
   }
  }
 },
 "nbformat": 4,
 "nbformat_minor": 2
}
