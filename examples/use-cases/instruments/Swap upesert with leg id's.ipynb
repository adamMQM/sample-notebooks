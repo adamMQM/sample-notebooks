{
 "cells": [
  {
   "cell_type": "code",
   "execution_count": 130,
   "id": "7178acb5",
   "metadata": {},
   "outputs": [
    {
     "data": {
      "text/plain": "<IPython.core.display.HTML object>",
      "text/html": "\n    <form action=\"javascript:code_toggle()\"><input type=\"submit\" id=\"toggleButton\" value=\"Hide docstring\"></form>\n    \n         <script>\n         function code_toggle() {\n             if ($('div.cell.code_cell.rendered.selected div.input').css('display')!='none'){\n                 $('div.cell.code_cell.rendered.selected div.input').hide();\n             } else {\n                 $('div.cell.code_cell.rendered.selected div.input').show();\n             }\n         }\n         </script>\n\n     "
     },
     "metadata": {},
     "output_type": "display_data"
    }
   ],
   "source": [
    "from lusidtools.jupyter_tools import toggle_code\n",
    "\n",
    "\"\"\"Intest Rate Swap with fixed and floating leg\n",
    "\n",
    "Demonstrates creation of an interest rate swap in LUSID with a \n",
    "fixed and floating rate leg.\n",
    "\n",
    "Attributes\n",
    "----------\n",
    "interest rate swap\n",
    "instruments\n",
    "\"\"\"\n",
    "\n",
    "toggle_code(\"Hide docstring\")"
   ]
  },
  {
   "cell_type": "markdown",
   "id": "3d2cec58",
   "metadata": {},
   "source": [
    "## Modelling a swap in LUSID using LUSID instrument model"
   ]
  },
  {
   "cell_type": "markdown",
   "source": [
    "### This notebook demonstrates upserting a swap in LUSID using both the full LUSID instrument model and a simple instrument. We apply this to a case where the source system assigns each swap leg it's own ID"
   ],
   "metadata": {
    "collapsed": false
   }
  },
  {
   "cell_type": "code",
   "execution_count": 131,
   "id": "7c7bc1d8",
   "metadata": {},
   "outputs": [
    {
     "data": {
      "text/plain": "<IPython.core.display.HTML object>",
      "text/html": "<style>.container { width:90% !important; }</style>"
     },
     "metadata": {},
     "output_type": "display_data"
    },
    {
     "data": {
      "text/plain": "  api_version build_version excel_version  \\\n0          v0    0.6.9286.0      0.5.2863   \n\n                                               links  \n0  {'relation': 'RequestLogs', 'href': 'http://fb...  ",
      "text/html": "<div>\n<style scoped>\n    .dataframe tbody tr th:only-of-type {\n        vertical-align: middle;\n    }\n\n    .dataframe tbody tr th {\n        vertical-align: top;\n    }\n\n    .dataframe thead th {\n        text-align: right;\n    }\n</style>\n<table border=\"1\" class=\"dataframe\">\n  <thead>\n    <tr style=\"text-align: right;\">\n      <th></th>\n      <th>api_version</th>\n      <th>build_version</th>\n      <th>excel_version</th>\n      <th>links</th>\n    </tr>\n  </thead>\n  <tbody>\n    <tr>\n      <th>0</th>\n      <td>v0</td>\n      <td>0.6.9286.0</td>\n      <td>0.5.2863</td>\n      <td>{'relation': 'RequestLogs', 'href': 'http://fb...</td>\n    </tr>\n  </tbody>\n</table>\n</div>"
     },
     "metadata": {},
     "output_type": "display_data"
    }
   ],
   "source": [
    "# Use first block to import generic non-LUSID packages\n",
    "import os\n",
    "import pandas as pd\n",
    "import datetime\n",
    "import json\n",
    "import pytz\n",
    "from IPython.core.display import HTML\n",
    "\n",
    "# Then import the key modules from the LUSID package (i.e. The LUSID SDK)\n",
    "import lusid as lu\n",
    "import lusid.api as la\n",
    "import lusid.models as lm\n",
    "\n",
    "# And use absolute imports to import key functions from Lusid-Python-Tools and other helper package\n",
    "\n",
    "from lusid.utilities import ApiClientFactory\n",
    "from lusidjam import RefreshingToken\n",
    "from lusidtools.cocoon.cocoon import load_from_data_frame\n",
    "from lusidtools.pandas_utils.lusid_pandas import lusid_response_to_data_frame\n",
    "from lusidtools.jupyter_tools import StopExecution\n",
    "from datetime import datetime\n",
    "\n",
    "# Set DataFrame display formats\n",
    "pd.set_option(\"display.max_columns\", None)\n",
    "pd.set_option(\"display.max_rows\", None)\n",
    "pd.options.display.float_format = \"${:,.2f}\".format\n",
    "display(HTML(\"<style>.container { width:90% !important; }</style>\"))\n",
    "\n",
    "# Authenticate our user and create our API client\n",
    "secrets_path = os.getenv(\"FBN_SECRETS_PATH\")\n",
    "\n",
    "if secrets_path is None:\n",
    "    secrets_path = os.path.join(os.path.dirname(os.getcwd()), \"secrets.json\")\n",
    "\n",
    "api_factory = ApiClientFactory(\n",
    "    token=RefreshingToken(),\n",
    "    api_secrets_filename=secrets_path,\n",
    "    app_name=\"LusidJupyterNotebook\",\n",
    ")\n",
    "\n",
    "# Setup the apis we'll use in this notebook:\n",
    "instruments_api = api_factory.build(lusid.api.InstrumentsApi)\n",
    "property_definitions_api = api_factory.build(lusid.api.PropertyDefinitionsApi)\n",
    "\n",
    "api_status = pd.DataFrame(\n",
    "    api_factory.build(lu.ApplicationMetadataApi).get_lusid_versions().to_dict()\n",
    ")\n",
    "\n",
    "display(api_status)\n"
   ]
  },
  {
   "cell_type": "code",
   "execution_count": 132,
   "id": "c2e87bf7",
   "metadata": {},
   "outputs": [],
   "source": [
    "#Dates, scopes and market data\n",
    "start = datetime(2022, 1, 4, tzinfo=pytz.utc)\n",
    "maturity = datetime(2023, 1, 4, tzinfo=pytz.utc)\n",
    "scope = \"ExampleIRSUpsert\"\n",
    "ca_code = \"ibor_corp_act\"\n",
    "portfolio_code = \"SwapPortfolio\""
   ]
  },
  {
   "cell_type": "markdown",
   "source": [
    "## 1.Create property defintions for leg ID's"
   ],
   "metadata": {
    "collapsed": false
   }
  },
  {
   "cell_type": "markdown",
   "source": [],
   "metadata": {
    "collapsed": false
   }
  },
  {
   "cell_type": "code",
   "execution_count": 133,
   "outputs": [
    {
     "name": "stdout",
     "output_type": "stream",
     "text": [
      "Error creating Property Definition 'Instrument/ExampleIRSUpsert/payLegId' because it already exists.\n"
     ]
    }
   ],
   "source": [
    "try:\n",
    "    pay_leg_property_request = lm.CreatePropertyDefinitionRequest(\n",
    "        domain=\"Instrument\",\n",
    "        scope=scope,\n",
    "        code=\"payLegId\",\n",
    "        display_name=\"pay LegId\",\n",
    "        data_type_id=lm.ResourceId(\n",
    "            scope=\"system\",\n",
    "            code=\"string\",\n",
    "        ),\n",
    "        life_time=\"Perpetual\",\n",
    "    )\n",
    "\n",
    "    property_definitions_api.create_property_definition(\n",
    "        create_property_definition_request=pay_leg_property_request\n",
    "    )\n",
    "    receive_leg_property_request = lm.CreatePropertyDefinitionRequest(\n",
    "        domain=\"Instrument\",\n",
    "        scope=scope,\n",
    "        code=\"receiveLegID\",\n",
    "        display_name=\"receive LegID\",\n",
    "        data_type_id=lm.ResourceId(\n",
    "            scope=\"system\",\n",
    "            code=\"string\",\n",
    "        ),\n",
    "        life_time=\"Perpetual\",\n",
    "    )\n",
    "\n",
    "    property_definitions_api.create_property_definition(\n",
    "        create_property_definition_request=receive_leg_property_request\n",
    "    )\n",
    "except lusid.ApiException as e:\n",
    "    print(json.loads(e.body)[\"title\"])"
   ],
   "metadata": {
    "collapsed": false,
    "pycharm": {
     "name": "#%%\n"
    }
   }
  },
  {
   "cell_type": "markdown",
   "id": "5159daf4",
   "metadata": {},
   "source": [
    "## 2. Model using full LUSID instrument model"
   ]
  },
  {
   "cell_type": "code",
   "execution_count": 134,
   "id": "43ce4997",
   "metadata": {},
   "outputs": [],
   "source": [
    "## Define flow convention for Fixed Leg\n",
    "\n",
    "flow_conventionFixed = lm.FlowConventions(\n",
    "    currency=\"USD\",\n",
    "    payment_frequency=\"1Y\",\n",
    "    day_count_convention=\"Act360\",\n",
    "    roll_convention=\"ModifiedFollowing\",\n",
    "    settle_days=0,\n",
    "    reset_days=0,\n",
    "    payment_calendars=[],\n",
    "    reset_calendars=[]\n",
    ")\n",
    "\n",
    "## Define flow convention for floating leg\n",
    "\n",
    "flow_conventionFloat = lm.FlowConventions(\n",
    "    currency=\"USD\",\n",
    "    payment_frequency=\"1Y\",\n",
    "    day_count_convention=\"Act360\",\n",
    "    roll_convention=\"ModifiedFollowing\",\n",
    "    settle_days=0,\n",
    "    reset_days=0,\n",
    "    payment_calendars=[],\n",
    "    reset_calendars=[]\n",
    ")\n",
    "\n",
    "float_leg_idx_conv = lm.IndexConvention(\n",
    "    currency=\"USD\",\n",
    "    payment_tenor=\"1D\",\n",
    "    fixing_reference=\"USD.1D.SOFRFIXING\", # this links to instrument_id in quoteseriesID\n",
    "    publication_day_lag=0,\n",
    "    day_count_convention=\"Act360\",\n",
    "    index_name=\"SOFR\"\n",
    ")\n",
    "\n",
    "# Create the leg definitions\n",
    "float_leg_definition = lm.LegDefinition(\n",
    "    index_convention=float_leg_idx_conv,\n",
    "    pay_receive=\"Receive\",\n",
    "    conventions=flow_conventionFloat,\n",
    "    stub_type=\"Both\",\n",
    "    notional_exchange_type=\"None\",\n",
    "    rate_or_spread=0.0025,\n",
    "    reset_convention=\"InArrears\",\n",
    "    compounding = \"\"\n",
    ")\n",
    "\n",
    "fixed_leg_definition = lm.LegDefinition(\n",
    "    rate_or_spread=0.025,\n",
    "    pay_receive=\"Pay\",\n",
    "    conventions=flow_conventionFixed,\n",
    "    stub_type=\"Both\",\n",
    "    notional_exchange_type=\"None\",\n",
    ")\n",
    "\n",
    "# Create the legs\n",
    "fixed_leg = lm.FixedLeg(\n",
    "    start_date=start.isoformat(),\n",
    "    maturity_date=maturity.isoformat(),\n",
    "    notional=10000000,\n",
    "    leg_definition=fixed_leg_definition,\n",
    "    instrument_type=\"FixedLeg\",\n",
    "    overrides={}\n",
    ")\n",
    "\n",
    "floating_leg = lm.FloatingLeg(\n",
    "    start_date=start.isoformat(),\n",
    "    maturity_date=maturity.isoformat(),\n",
    "    notional=10000000,\n",
    "    leg_definition=float_leg_definition,\n",
    "    instrument_type=\"FloatingLeg\",\n",
    "    overrides={}\n",
    ")\n",
    "\n",
    "irs_legs = [\n",
    "    fixed_leg,\n",
    "    floating_leg\n",
    "]\n",
    "\n",
    "payLegIdproperty = lm.ModelProperty(\n",
    "    key=f\"Instrument/{scope}/payLegId\",\n",
    "    value=lm.PropertyValue(label_value= \"12345\"\n",
    "    ),\n",
    ")\n",
    "\n",
    "receiveLegIDproperty = lm.ModelProperty(\n",
    "    key=f\"Instrument/{scope}/receiveLegID\",\n",
    "    value=lm.PropertyValue(label_value=\"12346\"\n",
    "    ),\n",
    ")\n",
    "\n",
    "# create the swap\n",
    "instrument_definition_IRS = lm.InterestRateSwap(\n",
    "    start_date=start.isoformat(),\n",
    "    maturity_date=maturity.isoformat(),\n",
    "    legs=irs_legs,\n",
    "    instrument_type=\"InterestRateSwap\")\n",
    "\n",
    "IRS_definition = lm.InstrumentDefinition(\n",
    "    name=\"InterestRateSwap\",\n",
    "    identifiers={\"ClientInternal\": lm.InstrumentIdValue(\"Swap2\")},\n",
    "    definition=instrument_definition_IRS,\n",
    "    properties=[payLegIdproperty,receiveLegIDproperty],\n",
    ")"
   ]
  },
  {
   "cell_type": "markdown",
   "id": "a02b016d",
   "metadata": {},
   "source": []
  },
  {
   "cell_type": "markdown",
   "id": "e411aeea",
   "metadata": {},
   "source": [
    "## 3. Modelling as simple instrument"
   ]
  },
  {
   "cell_type": "code",
   "execution_count": 135,
   "id": "a8a3ae6e",
   "metadata": {},
   "outputs": [],
   "source": [
    "simpleIRS = lm.SimpleInstrument(\n",
    "        instrument_type=\"SimpleInstrument\",\n",
    "        dom_ccy=\"USD\",\n",
    "        asset_class=\"InterestRates\",\n",
    "        simple_instrument_type=\"InterestRates\",\n",
    "    )\n",
    "\n",
    "payLegIdpropertySimple = lm.ModelProperty(\n",
    "    key=f\"Instrument/{scope}/payLegId\",\n",
    "    value=lm.PropertyValue(label_value=\"99998\"\n",
    "    ),\n",
    ")\n",
    "\n",
    "receiveLegIDpropertySimple = lm.ModelProperty(\n",
    "    key=f\"Instrument/{scope}/receiveLegID\",\n",
    "    value=lm.PropertyValue(label_value=\"99997\"\n",
    "    ),\n",
    ")\n",
    "\n",
    "\n",
    "simple_swap_definition = lm.InstrumentDefinition(\n",
    "    name=\"MySimpleIRS\",\n",
    "    identifiers={\"ClientInternal\": lm.InstrumentIdValue(\"Swap1\")},\n",
    "    definition=simpleIRS,\n",
    "    properties=[payLegIdpropertySimple,receiveLegIDpropertySimple],\n",
    ")"
   ]
  },
  {
   "cell_type": "code",
   "execution_count": 136,
   "outputs": [],
   "source": [
    "# upsert both instruments\n",
    "upsert_request = {\"Swap1\": simple_swap_definition, \"Swap2\" : IRS_definition}\n",
    "upsert_response = instruments_api.upsert_instruments(request_body=upsert_request, scope=scope)"
   ],
   "metadata": {
    "collapsed": false,
    "pycharm": {
     "name": "#%%\n"
    }
   }
  },
  {
   "cell_type": "markdown",
   "id": "1d2fc8a3",
   "metadata": {},
   "source": [
    "## 4.Query swap using individual leg ID's"
   ]
  },
  {
   "cell_type": "code",
   "execution_count": 137,
   "id": "3ea95a88",
   "metadata": {},
   "outputs": [
    {
     "data": {
      "text/plain": "                                                href             scope  \\\n0  https://fbn-ci.lusid.com/api/api/instruments/L...  ExampleIRSUpsert   \n\n  lusid_instrument_id     version.effective_from  \\\n0       LUID_0001M5GZ  0001-01-01 00:00:00+00:00   \n\n                version.as_at_date         name identifiers.LusidInstrumentId  \\\n0 2022-05-23 16:45:37.162967+00:00  MySimpleIRS                 LUID_0001M5GZ   \n\n  identifiers.ClientInternal                          properties.0.key  \\\n0                      Swap1  Instrument/ExampleIRSUpsert/receiveLegID   \n\n  properties.0.value.label_value properties.0.effective_from  \\\n0                          99997   0001-01-01 00:00:00+00:00   \n\n       properties.0.effective_until                      properties.1.key  \\\n0  9999-12-31 23:59:59.999999+00:00  Instrument/ExampleIRSUpsert/payLegId   \n\n  properties.1.value.label_value properties.1.effective_from  \\\n0                          99998   0001-01-01 00:00:00+00:00   \n\n       properties.1.effective_until instrument_definition.maturity_date  \\\n0  9999-12-31 23:59:59.999999+00:00    9999-12-31 23:59:59.999999+00:00   \n\n  instrument_definition.dom_ccy instrument_definition.asset_class  \\\n0                           USD                     InterestRates   \n\n  instrument_definition.fgn_ccys instrument_definition.simple_instrument_type  \\\n0                             []                                InterestRates   \n\n  instrument_definition.instrument_type   state    asset_class dom_ccy  \n0                      SimpleInstrument  Active  InterestRates     USD  ",
      "text/html": "<div>\n<style scoped>\n    .dataframe tbody tr th:only-of-type {\n        vertical-align: middle;\n    }\n\n    .dataframe tbody tr th {\n        vertical-align: top;\n    }\n\n    .dataframe thead th {\n        text-align: right;\n    }\n</style>\n<table border=\"1\" class=\"dataframe\">\n  <thead>\n    <tr style=\"text-align: right;\">\n      <th></th>\n      <th>href</th>\n      <th>scope</th>\n      <th>lusid_instrument_id</th>\n      <th>version.effective_from</th>\n      <th>version.as_at_date</th>\n      <th>name</th>\n      <th>identifiers.LusidInstrumentId</th>\n      <th>identifiers.ClientInternal</th>\n      <th>properties.0.key</th>\n      <th>properties.0.value.label_value</th>\n      <th>properties.0.effective_from</th>\n      <th>properties.0.effective_until</th>\n      <th>properties.1.key</th>\n      <th>properties.1.value.label_value</th>\n      <th>properties.1.effective_from</th>\n      <th>properties.1.effective_until</th>\n      <th>instrument_definition.maturity_date</th>\n      <th>instrument_definition.dom_ccy</th>\n      <th>instrument_definition.asset_class</th>\n      <th>instrument_definition.fgn_ccys</th>\n      <th>instrument_definition.simple_instrument_type</th>\n      <th>instrument_definition.instrument_type</th>\n      <th>state</th>\n      <th>asset_class</th>\n      <th>dom_ccy</th>\n    </tr>\n  </thead>\n  <tbody>\n    <tr>\n      <th>0</th>\n      <td>https://fbn-ci.lusid.com/api/api/instruments/L...</td>\n      <td>ExampleIRSUpsert</td>\n      <td>LUID_0001M5GZ</td>\n      <td>0001-01-01 00:00:00+00:00</td>\n      <td>2022-05-23 16:45:37.162967+00:00</td>\n      <td>MySimpleIRS</td>\n      <td>LUID_0001M5GZ</td>\n      <td>Swap1</td>\n      <td>Instrument/ExampleIRSUpsert/receiveLegID</td>\n      <td>99997</td>\n      <td>0001-01-01 00:00:00+00:00</td>\n      <td>9999-12-31 23:59:59.999999+00:00</td>\n      <td>Instrument/ExampleIRSUpsert/payLegId</td>\n      <td>99998</td>\n      <td>0001-01-01 00:00:00+00:00</td>\n      <td>9999-12-31 23:59:59.999999+00:00</td>\n      <td>9999-12-31 23:59:59.999999+00:00</td>\n      <td>USD</td>\n      <td>InterestRates</td>\n      <td>[]</td>\n      <td>InterestRates</td>\n      <td>SimpleInstrument</td>\n      <td>Active</td>\n      <td>InterestRates</td>\n      <td>USD</td>\n    </tr>\n  </tbody>\n</table>\n</div>"
     },
     "metadata": {},
     "output_type": "display_data"
    }
   ],
   "source": [
    "### Return simple instrument using pay leg ID\n",
    "\n",
    "legfilter = f\"properties[Instrument/{scope}/payLegId] eq '99998'\"\n",
    "listofinstruments = instruments_api.list_instruments(scope=scope, filter=legfilter, instrument_property_keys= [f\"Instrument/{scope}/payLegId\",f\"Instrument/{scope}/receiveLegID\"])\n",
    "\n",
    "display(lusid_response_to_data_frame(listofinstruments))"
   ]
  },
  {
   "cell_type": "code",
   "execution_count": 138,
   "id": "be8f811f",
   "metadata": {},
   "outputs": [
    {
     "data": {
      "text/plain": "                                                href             scope  \\\n0  https://fbn-ci.lusid.com/api/api/instruments/L...  ExampleIRSUpsert   \n\n  lusid_instrument_id     version.effective_from  \\\n0       LUID_0001M5H0  0001-01-01 00:00:00+00:00   \n\n                version.as_at_date              name  \\\n0 2022-05-23 16:45:37.162967+00:00  InterestRateSwap   \n\n  identifiers.LusidInstrumentId identifiers.ClientInternal  \\\n0                 LUID_0001M5H0                      Swap2   \n\n                           properties.0.key properties.0.value.label_value  \\\n0  Instrument/ExampleIRSUpsert/receiveLegID                          12346   \n\n  properties.0.effective_from      properties.0.effective_until  \\\n0   0001-01-01 00:00:00+00:00  9999-12-31 23:59:59.999999+00:00   \n\n                       properties.1.key properties.1.value.label_value  \\\n0  Instrument/ExampleIRSUpsert/payLegId                          12345   \n\n  properties.1.effective_from      properties.1.effective_until  \\\n0   0001-01-01 00:00:00+00:00  9999-12-31 23:59:59.999999+00:00   \n\n  instrument_definition.start_date instrument_definition.maturity_date  \\\n0        2022-01-04 00:00:00+00:00           2023-01-04 00:00:00+00:00   \n\n   instrument_definition.is_non_deliverable  \\\n0                                     False   \n\n  instrument_definition.legs.0.start_date  \\\n0               2022-01-04 00:00:00+00:00   \n\n  instrument_definition.legs.0.maturity_date  \\\n0                  2023-01-04 00:00:00+00:00   \n\n  instrument_definition.legs.0.leg_definition.conventions.currency  \\\n0                                                USD                 \n\n  instrument_definition.legs.0.leg_definition.conventions.payment_frequency  \\\n0                                                 1Y                          \n\n  instrument_definition.legs.0.leg_definition.conventions.day_count_convention  \\\n0                                          Actual360                             \n\n  instrument_definition.legs.0.leg_definition.conventions.roll_convention  \\\n0                                  ModifiedFollowing                        \n\n  instrument_definition.legs.0.leg_definition.conventions.payment_calendars  \\\n0                                                 []                          \n\n  instrument_definition.legs.0.leg_definition.conventions.reset_calendars  \\\n0                                                 []                        \n\n   instrument_definition.legs.0.leg_definition.conventions.settle_days  \\\n0                                                  0                     \n\n   instrument_definition.legs.0.leg_definition.conventions.reset_days  \\\n0                                                  0                    \n\n   instrument_definition.legs.0.leg_definition.conventions.leap_days_included  \\\n0                                               True                            \n\n  instrument_definition.legs.0.leg_definition.notional_exchange_type  \\\n0                                               None                   \n\n  instrument_definition.legs.0.leg_definition.pay_receive  \\\n0                                                Pay        \n\n   instrument_definition.legs.0.leg_definition.rate_or_spread  \\\n0                                              $0.03            \n\n  instrument_definition.legs.0.leg_definition.reset_convention  \\\n0                                          InAdvance             \n\n  instrument_definition.legs.0.leg_definition.stub_type  \\\n0                                          ShortBack      \n\n   instrument_definition.legs.0.notional  \\\n0                         $10,000,000.00   \n\n  instrument_definition.legs.0.instrument_type  \\\n0                                     FixedLeg   \n\n  instrument_definition.legs.1.start_date  \\\n0               2022-01-04 00:00:00+00:00   \n\n  instrument_definition.legs.1.maturity_date  \\\n0                  2023-01-04 00:00:00+00:00   \n\n  instrument_definition.legs.1.leg_definition.conventions.currency  \\\n0                                                USD                 \n\n  instrument_definition.legs.1.leg_definition.conventions.payment_frequency  \\\n0                                                 1Y                          \n\n  instrument_definition.legs.1.leg_definition.conventions.day_count_convention  \\\n0                                          Actual360                             \n\n  instrument_definition.legs.1.leg_definition.conventions.roll_convention  \\\n0                                  ModifiedFollowing                        \n\n  instrument_definition.legs.1.leg_definition.conventions.payment_calendars  \\\n0                                                 []                          \n\n  instrument_definition.legs.1.leg_definition.conventions.reset_calendars  \\\n0                                                 []                        \n\n   instrument_definition.legs.1.leg_definition.conventions.settle_days  \\\n0                                                  0                     \n\n   instrument_definition.legs.1.leg_definition.conventions.reset_days  \\\n0                                                  0                    \n\n   instrument_definition.legs.1.leg_definition.conventions.leap_days_included  \\\n0                                               True                            \n\n  instrument_definition.legs.1.leg_definition.index_convention.fixing_reference  \\\n0                                  USD.1D.SOFRFIXING                              \n\n   instrument_definition.legs.1.leg_definition.index_convention.publication_day_lag  \\\n0                                                  0                                  \n\n  instrument_definition.legs.1.leg_definition.index_convention.payment_tenor  \\\n0                                                 1D                           \n\n  instrument_definition.legs.1.leg_definition.index_convention.day_count_convention  \\\n0                                          Actual360                                  \n\n  instrument_definition.legs.1.leg_definition.index_convention.currency  \\\n0                                                USD                      \n\n  instrument_definition.legs.1.leg_definition.index_convention.index_name  \\\n0                                               SOFR                        \n\n  instrument_definition.legs.1.leg_definition.notional_exchange_type  \\\n0                                               None                   \n\n  instrument_definition.legs.1.leg_definition.pay_receive  \\\n0                                            Receive        \n\n   instrument_definition.legs.1.leg_definition.rate_or_spread  \\\n0                                              $0.00            \n\n  instrument_definition.legs.1.leg_definition.reset_convention  \\\n0                                          InArrears             \n\n  instrument_definition.legs.1.leg_definition.stub_type  \\\n0                                          ShortBack      \n\n   instrument_definition.legs.1.notional  \\\n0                         $10,000,000.00   \n\n  instrument_definition.legs.1.instrument_type  \\\n0                                  FloatingLeg   \n\n  instrument_definition.instrument_type   state    asset_class dom_ccy  \n0                      InterestRateSwap  Active  InterestRates     USD  ",
      "text/html": "<div>\n<style scoped>\n    .dataframe tbody tr th:only-of-type {\n        vertical-align: middle;\n    }\n\n    .dataframe tbody tr th {\n        vertical-align: top;\n    }\n\n    .dataframe thead th {\n        text-align: right;\n    }\n</style>\n<table border=\"1\" class=\"dataframe\">\n  <thead>\n    <tr style=\"text-align: right;\">\n      <th></th>\n      <th>href</th>\n      <th>scope</th>\n      <th>lusid_instrument_id</th>\n      <th>version.effective_from</th>\n      <th>version.as_at_date</th>\n      <th>name</th>\n      <th>identifiers.LusidInstrumentId</th>\n      <th>identifiers.ClientInternal</th>\n      <th>properties.0.key</th>\n      <th>properties.0.value.label_value</th>\n      <th>properties.0.effective_from</th>\n      <th>properties.0.effective_until</th>\n      <th>properties.1.key</th>\n      <th>properties.1.value.label_value</th>\n      <th>properties.1.effective_from</th>\n      <th>properties.1.effective_until</th>\n      <th>instrument_definition.start_date</th>\n      <th>instrument_definition.maturity_date</th>\n      <th>instrument_definition.is_non_deliverable</th>\n      <th>instrument_definition.legs.0.start_date</th>\n      <th>instrument_definition.legs.0.maturity_date</th>\n      <th>instrument_definition.legs.0.leg_definition.conventions.currency</th>\n      <th>instrument_definition.legs.0.leg_definition.conventions.payment_frequency</th>\n      <th>instrument_definition.legs.0.leg_definition.conventions.day_count_convention</th>\n      <th>instrument_definition.legs.0.leg_definition.conventions.roll_convention</th>\n      <th>instrument_definition.legs.0.leg_definition.conventions.payment_calendars</th>\n      <th>instrument_definition.legs.0.leg_definition.conventions.reset_calendars</th>\n      <th>instrument_definition.legs.0.leg_definition.conventions.settle_days</th>\n      <th>instrument_definition.legs.0.leg_definition.conventions.reset_days</th>\n      <th>instrument_definition.legs.0.leg_definition.conventions.leap_days_included</th>\n      <th>instrument_definition.legs.0.leg_definition.notional_exchange_type</th>\n      <th>instrument_definition.legs.0.leg_definition.pay_receive</th>\n      <th>instrument_definition.legs.0.leg_definition.rate_or_spread</th>\n      <th>instrument_definition.legs.0.leg_definition.reset_convention</th>\n      <th>instrument_definition.legs.0.leg_definition.stub_type</th>\n      <th>instrument_definition.legs.0.notional</th>\n      <th>instrument_definition.legs.0.instrument_type</th>\n      <th>instrument_definition.legs.1.start_date</th>\n      <th>instrument_definition.legs.1.maturity_date</th>\n      <th>instrument_definition.legs.1.leg_definition.conventions.currency</th>\n      <th>instrument_definition.legs.1.leg_definition.conventions.payment_frequency</th>\n      <th>instrument_definition.legs.1.leg_definition.conventions.day_count_convention</th>\n      <th>instrument_definition.legs.1.leg_definition.conventions.roll_convention</th>\n      <th>instrument_definition.legs.1.leg_definition.conventions.payment_calendars</th>\n      <th>instrument_definition.legs.1.leg_definition.conventions.reset_calendars</th>\n      <th>instrument_definition.legs.1.leg_definition.conventions.settle_days</th>\n      <th>instrument_definition.legs.1.leg_definition.conventions.reset_days</th>\n      <th>instrument_definition.legs.1.leg_definition.conventions.leap_days_included</th>\n      <th>instrument_definition.legs.1.leg_definition.index_convention.fixing_reference</th>\n      <th>instrument_definition.legs.1.leg_definition.index_convention.publication_day_lag</th>\n      <th>instrument_definition.legs.1.leg_definition.index_convention.payment_tenor</th>\n      <th>instrument_definition.legs.1.leg_definition.index_convention.day_count_convention</th>\n      <th>instrument_definition.legs.1.leg_definition.index_convention.currency</th>\n      <th>instrument_definition.legs.1.leg_definition.index_convention.index_name</th>\n      <th>instrument_definition.legs.1.leg_definition.notional_exchange_type</th>\n      <th>instrument_definition.legs.1.leg_definition.pay_receive</th>\n      <th>instrument_definition.legs.1.leg_definition.rate_or_spread</th>\n      <th>instrument_definition.legs.1.leg_definition.reset_convention</th>\n      <th>instrument_definition.legs.1.leg_definition.stub_type</th>\n      <th>instrument_definition.legs.1.notional</th>\n      <th>instrument_definition.legs.1.instrument_type</th>\n      <th>instrument_definition.instrument_type</th>\n      <th>state</th>\n      <th>asset_class</th>\n      <th>dom_ccy</th>\n    </tr>\n  </thead>\n  <tbody>\n    <tr>\n      <th>0</th>\n      <td>https://fbn-ci.lusid.com/api/api/instruments/L...</td>\n      <td>ExampleIRSUpsert</td>\n      <td>LUID_0001M5H0</td>\n      <td>0001-01-01 00:00:00+00:00</td>\n      <td>2022-05-23 16:45:37.162967+00:00</td>\n      <td>InterestRateSwap</td>\n      <td>LUID_0001M5H0</td>\n      <td>Swap2</td>\n      <td>Instrument/ExampleIRSUpsert/receiveLegID</td>\n      <td>12346</td>\n      <td>0001-01-01 00:00:00+00:00</td>\n      <td>9999-12-31 23:59:59.999999+00:00</td>\n      <td>Instrument/ExampleIRSUpsert/payLegId</td>\n      <td>12345</td>\n      <td>0001-01-01 00:00:00+00:00</td>\n      <td>9999-12-31 23:59:59.999999+00:00</td>\n      <td>2022-01-04 00:00:00+00:00</td>\n      <td>2023-01-04 00:00:00+00:00</td>\n      <td>False</td>\n      <td>2022-01-04 00:00:00+00:00</td>\n      <td>2023-01-04 00:00:00+00:00</td>\n      <td>USD</td>\n      <td>1Y</td>\n      <td>Actual360</td>\n      <td>ModifiedFollowing</td>\n      <td>[]</td>\n      <td>[]</td>\n      <td>0</td>\n      <td>0</td>\n      <td>True</td>\n      <td>None</td>\n      <td>Pay</td>\n      <td>$0.03</td>\n      <td>InAdvance</td>\n      <td>ShortBack</td>\n      <td>$10,000,000.00</td>\n      <td>FixedLeg</td>\n      <td>2022-01-04 00:00:00+00:00</td>\n      <td>2023-01-04 00:00:00+00:00</td>\n      <td>USD</td>\n      <td>1Y</td>\n      <td>Actual360</td>\n      <td>ModifiedFollowing</td>\n      <td>[]</td>\n      <td>[]</td>\n      <td>0</td>\n      <td>0</td>\n      <td>True</td>\n      <td>USD.1D.SOFRFIXING</td>\n      <td>0</td>\n      <td>1D</td>\n      <td>Actual360</td>\n      <td>USD</td>\n      <td>SOFR</td>\n      <td>None</td>\n      <td>Receive</td>\n      <td>$0.00</td>\n      <td>InArrears</td>\n      <td>ShortBack</td>\n      <td>$10,000,000.00</td>\n      <td>FloatingLeg</td>\n      <td>InterestRateSwap</td>\n      <td>Active</td>\n      <td>InterestRates</td>\n      <td>USD</td>\n    </tr>\n  </tbody>\n</table>\n</div>"
     },
     "metadata": {},
     "output_type": "display_data"
    }
   ],
   "source": [
    "## Return full swap instrument using payLegId\n",
    "\n",
    "legfilter = f\"properties[Instrument/{scope}/payLegId] eq '12345'\"\n",
    "listofinstruments = instruments_api.list_instruments(scope=scope, filter=legfilter, instrument_property_keys= [f\"Instrument/{scope}/payLegId\",f\"Instrument/{scope}/receiveLegID\"])\n",
    "display(lusid_response_to_data_frame(listofinstruments))"
   ]
  },
  {
   "cell_type": "code",
   "execution_count": 138,
   "id": "17f777d3",
   "metadata": {},
   "outputs": [],
   "source": []
  }
 ],
 "metadata": {
  "kernelspec": {
   "display_name": "Python 3 (ipykernel)",
   "language": "python",
   "name": "python3"
  },
  "language_info": {
   "codemirror_mode": {
    "name": "ipython",
    "version": 3
   },
   "file_extension": ".py",
   "mimetype": "text/x-python",
   "name": "python",
   "nbconvert_exporter": "python",
   "pygments_lexer": "ipython3",
   "version": "3.9.7"
  }
 },
 "nbformat": 4,
 "nbformat_minor": 5
}