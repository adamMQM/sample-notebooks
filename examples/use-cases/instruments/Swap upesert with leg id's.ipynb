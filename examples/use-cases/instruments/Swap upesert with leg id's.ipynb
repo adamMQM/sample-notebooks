{
 "cells": [
  {
   "cell_type": "code",
   "execution_count": 1,
   "id": "7178acb5",
   "metadata": {},
   "outputs": [
    {
     "name": "stderr",
     "output_type": "stream",
     "text": [
      "/opt/conda/lib/python3.9/site-packages/requests/__init__.py:89: RequestsDependencyWarning: urllib3 (1.26.9) or chardet (3.0.4) doesn't match a supported version!\n",
      "  warnings.warn(\"urllib3 ({}) or chardet ({}) doesn't match a supported \"\n"
     ]
    },
    {
     "data": {
      "text/html": [
       "\n",
       "    <form action=\"javascript:code_toggle()\"><input type=\"submit\" id=\"toggleButton\" value=\"Hide docstring\"></form>\n",
       "    \n",
       "         <script>\n",
       "         function code_toggle() {\n",
       "             if ($('div.cell.code_cell.rendered.selected div.input').css('display')!='none'){\n",
       "                 $('div.cell.code_cell.rendered.selected div.input').hide();\n",
       "             } else {\n",
       "                 $('div.cell.code_cell.rendered.selected div.input').show();\n",
       "             }\n",
       "         }\n",
       "         </script>\n",
       "\n",
       "     "
      ],
      "text/plain": [
       "<IPython.core.display.HTML object>"
      ]
     },
     "metadata": {},
     "output_type": "display_data"
    }
   ],
   "source": [
    "from lusidtools.jupyter_tools import toggle_code\n",
    "\n",
    "\"\"\"Intest Rate Swap with fixed and floating leg\n",
    "\n",
    "Demonstrates creation of an interest rate swap in LUSID with a \n",
    "fixed and floating rate leg.\n",
    "\n",
    "Attributes\n",
    "----------\n",
    "interest rate swap\n",
    "instruments\n",
    "\"\"\"\n",
    "\n",
    "toggle_code(\"Hide docstring\")"
   ]
  },
  {
   "cell_type": "markdown",
   "id": "3d2cec58",
   "metadata": {},
   "source": [
    "## Modelling a swap in LUSID using LUSID instrument model"
   ]
  },
  {
   "cell_type": "code",
   "execution_count": 2,
   "id": "7c7bc1d8",
   "metadata": {},
   "outputs": [
    {
     "name": "stdout",
     "output_type": "stream",
     "text": [
      "LUSID Environment Initialised\n",
      "LUSID SDK Version:  0.6.9157.0\n"
     ]
    }
   ],
   "source": [
    "# Python imports\n",
    "import os\n",
    "from datetime import datetime, timedelta\n",
    "import pytz\n",
    "import json\n",
    "\n",
    "# Lusid imports\n",
    "import lusid\n",
    "from lusid import models\n",
    "from lusid.utilities import ApiClientFactory\n",
    "from lusid.models import flow_conventions\n",
    "from lusidjam import RefreshingToken \n",
    "\n",
    "# comment below for prod\n",
    "secrets_path = os.getenv(\"FBN_SECRETS_PATH\") \n",
    "api_factory = lusid.utilities.ApiClientFactory(\n",
    "    token=RefreshingToken(),\n",
    "    api_secrets_filename=secrets_path,\n",
    "    app_name=\"LusidJupyterNotebook\",\n",
    ")\n",
    "\n",
    "# Setup the apis we'll use in this notebook:\n",
    "instruments_api = api_factory.build(lusid.api.InstrumentsApi)\n",
    "transaction_portfolios_api = api_factory.build(lusid.api.TransactionPortfoliosApi)\n",
    "portfolio_api = api_factory.build(lusid.api.PortfoliosApi)\n",
    "property_definitions_api = api_factory.build(lusid.api.PropertyDefinitionsApi)\n",
    "    \n",
    "\n",
    "print ('LUSID Environment Initialised')\n",
    "print ('LUSID SDK Version: ', api_factory.build(lusid.api.ApplicationMetadataApi).get_lusid_versions().build_version)\n"
   ]
  },
  {
   "cell_type": "code",
   "execution_count": 3,
   "id": "c2e87bf7",
   "metadata": {},
   "outputs": [],
   "source": [
    "#Dates, scopes and market data\n",
    "start = datetime(2022, 1, 4, tzinfo=pytz.utc)\n",
    "maturity = datetime(2023, 1, 4, tzinfo=pytz.utc)\n",
    "scope = \"ExampleIRSUpsert\"\n",
    "ca_code = \"ibor_corp_act\"\n",
    "portfolio_code = \"SwapPortfolio\"\n",
    "\n"
   ]
  },
  {
   "cell_type": "markdown",
   "id": "5159daf4",
   "metadata": {},
   "source": [
    "## (1) Defining the full instrument model"
   ]
  },
  {
   "cell_type": "code",
   "execution_count": 4,
   "id": "43ce4997",
   "metadata": {},
   "outputs": [],
   "source": [
    "## Define flow convention for Fixed LEg\n",
    "\n",
    "flow_conventionFixed = models.FlowConventions(\n",
    "    currency=\"USD\",\n",
    "    payment_frequency=\"1Y\",\n",
    "    day_count_convention=\"Act360\",\n",
    "    roll_convention=\"ModifiedFollowing\",\n",
    "    settle_days=0,\n",
    "    reset_days=0,\n",
    "    payment_calendars=[],\n",
    "    reset_calendars=[]\n",
    ")\n",
    "\n",
    "## Define flow convention for floating leg\n",
    "\n",
    "flow_conventionFloat = models.FlowConventions(\n",
    "    currency=\"USD\",\n",
    "    payment_frequency=\"1Y\",\n",
    "    day_count_convention=\"Act360\",\n",
    "    roll_convention=\"ModifiedFollowing\",\n",
    "    settle_days=0,\n",
    "    reset_days=0,\n",
    "    payment_calendars=[],\n",
    "    reset_calendars=[]\n",
    ")\n",
    "\n",
    "# For projection rates it requires:\n",
    "# ccy/tenor/indexname dependency\n",
    "# For past data:\n",
    "# Looks for quotes in quote store with reference = fixingreference\n",
    "float_leg_idx_conv = models.IndexConvention(\n",
    "    currency=\"USD\",\n",
    "    payment_tenor=\"1D\",\n",
    "    fixing_reference=\"USD.1D.SOFRFIXING\", # this links to instrument_id in quoteseriesID\n",
    "    publication_day_lag=0,\n",
    "    day_count_convention=\"Act360\",\n",
    "    index_name=\"SOFR\"\n",
    ")\n",
    "\n",
    "# Create the leg definitions\n",
    "float_leg_definition = models.LegDefinition(\n",
    "    index_convention=float_leg_idx_conv,\n",
    "    pay_receive=\"Receive\",\n",
    "    conventions=flow_conventionFloat,\n",
    "    stub_type=\"Both\",\n",
    "    notional_exchange_type=\"None\",\n",
    "    rate_or_spread=0.0025,\n",
    "    reset_convention=\"InArrears\",\n",
    "    compounding = \"\"\n",
    ")\n",
    "\n",
    "fixed_leg_definition = models.LegDefinition(\n",
    "    rate_or_spread=0.025,\n",
    "    pay_receive=\"Pay\",\n",
    "    conventions=flow_conventionFixed,\n",
    "    stub_type=\"Both\",\n",
    "    notional_exchange_type=\"None\",\n",
    ")\n",
    "\n",
    "# Create the legs\n",
    "fixed_leg = models.FixedLeg(\n",
    "    start_date=start.isoformat(),\n",
    "    maturity_date=maturity.isoformat(),\n",
    "    notional=10000000,\n",
    "    leg_definition=fixed_leg_definition,\n",
    "    instrument_type=\"FixedLeg\",\n",
    "    overrides={}\n",
    ")\n",
    "\n",
    "floating_leg = models.FloatingLeg(\n",
    "    start_date=start.isoformat(),\n",
    "    maturity_date=maturity.isoformat(),\n",
    "    notional=10000000,\n",
    "    leg_definition=float_leg_definition,\n",
    "    instrument_type=\"FloatingLeg\",\n",
    "    overrides={}\n",
    ")\n",
    "\n",
    "irs_legs = [\n",
    "    fixed_leg,\n",
    "    floating_leg\n",
    "]\n",
    "\n",
    "# create the swap\n",
    "instrument_definition_IRS = models.InterestRateSwap(\n",
    "    start_date=start.isoformat(),\n",
    "    maturity_date=maturity.isoformat(),\n",
    "    legs=irs_legs,\n",
    "    instrument_type=\"InterestRateSwap\")\n",
    "\n"
   ]
  },
  {
   "cell_type": "markdown",
   "id": "a02b016d",
   "metadata": {},
   "source": [
    "## (2) Create property defintions for leg ID's"
   ]
  },
  {
   "cell_type": "code",
   "execution_count": 5,
   "id": "4dfb8724",
   "metadata": {},
   "outputs": [
    {
     "name": "stdout",
     "output_type": "stream",
     "text": [
      "Error creating Property Definition 'Instrument/ExampleIRSUpsert/payLegId' because it already exists.\n"
     ]
    }
   ],
   "source": [
    "try:\n",
    "    property_definition_request = models.CreatePropertyDefinitionRequest(\n",
    "        domain=\"Instrument\",\n",
    "        scope=scope,\n",
    "        code=\"payLegId\",\n",
    "        display_name=\"pay LegId\",\n",
    "        data_type_id=models.ResourceId(\n",
    "            scope=\"system\",\n",
    "            code=\"number\",\n",
    "        ),\n",
    "        life_time=\"Perpetual\",\n",
    "    )\n",
    "\n",
    "    property_definitions_api.create_property_definition(\n",
    "        create_property_definition_request=property_definition_request\n",
    "    )\n",
    "    property_definition_request2 = models.CreatePropertyDefinitionRequest(\n",
    "        domain=\"Instrument\",\n",
    "        scope=scope,\n",
    "        code=\"receiveLegID\",\n",
    "        display_name=\"receive LegID\",\n",
    "        data_type_id=models.ResourceId(\n",
    "            scope=\"system\",\n",
    "            code=\"number\",\n",
    "        ),\n",
    "        life_time=\"Perpetual\",\n",
    "    )\n",
    "\n",
    "    property_definitions_api.create_property_definition(\n",
    "        create_property_definition_request=property_definition_request2\n",
    "    )\n",
    "except lusid.ApiException as e:\n",
    "    print(json.loads(e.body)[\"title\"])"
   ]
  },
  {
   "cell_type": "markdown",
   "id": "e411aeea",
   "metadata": {},
   "source": [
    "## (3) Modelling as simple instrument"
   ]
  },
  {
   "cell_type": "code",
   "execution_count": 6,
   "id": "a8a3ae6e",
   "metadata": {},
   "outputs": [],
   "source": [
    "simpleIRS = models.SimpleInstrument(\n",
    "        instrument_type=\"SimpleInstrument\",\n",
    "        dom_ccy=\"USD\",\n",
    "        asset_class=\"InterestRates\",\n",
    "        simple_instrument_type=\"InterestRates\",\n",
    "    )\n",
    "\n",
    "payLegIdpropertySimple = models.ModelProperty(\n",
    "    key=f\"Instrument/{scope}/payLegId\",\n",
    "    value=models.PropertyValue(\n",
    "        metric_value=models.MetricValue(\n",
    "            value=99998,\n",
    "            #unit=\"Decimal\",\n",
    "        )\n",
    "    ),\n",
    ")\n",
    "\n",
    "receiveLegIDpropertySimple = models.ModelProperty(\n",
    "    key=f\"Instrument/{scope}/receiveLegID\",\n",
    "    value=models.PropertyValue(\n",
    "        metric_value=models.MetricValue(\n",
    "            value=99997,\n",
    "            #unit=\"Decimal\",\n",
    "        )\n",
    "    ),\n",
    ")\n",
    "\n",
    "payLegIdproperty = models.ModelProperty(\n",
    "    key=f\"Instrument/{scope}/payLegId\",\n",
    "    value=models.PropertyValue(\n",
    "        metric_value=models.MetricValue(\n",
    "            value=12345,\n",
    "            #unit=\"Decimal\",\n",
    "        )\n",
    "    ),\n",
    ")\n",
    "\n",
    "receiveLegIDproperty = models.ModelProperty(\n",
    "    key=f\"Instrument/{scope}/receiveLegID\",\n",
    "    value=models.PropertyValue(\n",
    "        metric_value=models.MetricValue(\n",
    "            value=12346,\n",
    "            #unit=\"Decimal\",\n",
    "        )\n",
    "    ),\n",
    ")\n",
    "\n",
    "swap_definition = models.InstrumentDefinition(\n",
    "    name=\"MySimpleIRS\",\n",
    "    identifiers={\"ClientInternal\": models.InstrumentIdValue(\"Swap1\")},\n",
    "    definition=simpleIRS,\n",
    "    properties=[payLegIdpropertySimple,receiveLegIDpropertySimple],\n",
    ")\n",
    "\n",
    "IRS_definition = models.InstrumentDefinition(\n",
    "    name=\"InterestRateSwap\",\n",
    "    identifiers={\"ClientInternal\": models.InstrumentIdValue(\"Swap2\")},\n",
    "    definition=instrument_definition_IRS,\n",
    "    properties=[payLegIdproperty,receiveLegIDproperty],\n",
    ")\n",
    "\n",
    "# upsert the instrument\n",
    "upsert_request = {\"Swap1\": swap_definition, \"Swap2\" : IRS_definition}\n",
    "upsert_response = instruments_api.upsert_instruments(request_body=upsert_request, scope=scope)\n"
   ]
  },
  {
   "cell_type": "markdown",
   "id": "1d2fc8a3",
   "metadata": {},
   "source": [
    "## (4) Query swap using individual leg ID's"
   ]
  },
  {
   "cell_type": "code",
   "execution_count": 7,
   "id": "3ea95a88",
   "metadata": {},
   "outputs": [
    {
     "name": "stdout",
     "output_type": "stream",
     "text": [
      "[{'effective_from': datetime.datetime(1, 1, 1, 0, 0, tzinfo=tzlocal()),\n",
      " 'effective_until': datetime.datetime(9999, 12, 31, 23, 59, 59, 999999, tzinfo=tzlocal()),\n",
      " 'key': 'Instrument/ExampleIRSUpsert/payLegId',\n",
      " 'value': {'label_value': None,\n",
      "           'label_value_set': None,\n",
      "           'metric_value': {'unit': None, 'value': 99998.0}}}, {'effective_from': datetime.datetime(1, 1, 1, 0, 0, tzinfo=tzlocal()),\n",
      " 'effective_until': datetime.datetime(9999, 12, 31, 23, 59, 59, 999999, tzinfo=tzlocal()),\n",
      " 'key': 'Instrument/ExampleIRSUpsert/receiveLegID',\n",
      " 'value': {'label_value': None,\n",
      "           'label_value_set': None,\n",
      "           'metric_value': {'unit': None, 'value': 99997.0}}}]\n"
     ]
    }
   ],
   "source": [
    "legfilter = f\"properties[Instrument/{scope}/payLegId] eq 99998\"\n",
    "listofinstruments = instruments_api.list_instruments(scope=scope, filter=legfilter, instrument_property_keys= [f\"Instrument/{scope}/payLegId\",f\"Instrument/{scope}/receiveLegID\"])\n",
    "print(listofinstruments.values[0].properties)"
   ]
  },
  {
   "cell_type": "code",
   "execution_count": 8,
   "id": "be8f811f",
   "metadata": {},
   "outputs": [
    {
     "name": "stdout",
     "output_type": "stream",
     "text": [
      "[{'effective_from': datetime.datetime(1, 1, 1, 0, 0, tzinfo=tzlocal()),\n",
      " 'effective_until': datetime.datetime(9999, 12, 31, 23, 59, 59, 999999, tzinfo=tzlocal()),\n",
      " 'key': 'Instrument/ExampleIRSUpsert/payLegId',\n",
      " 'value': {'label_value': None,\n",
      "           'label_value_set': None,\n",
      "           'metric_value': {'unit': None, 'value': 12345.0}}}, {'effective_from': datetime.datetime(1, 1, 1, 0, 0, tzinfo=tzlocal()),\n",
      " 'effective_until': datetime.datetime(9999, 12, 31, 23, 59, 59, 999999, tzinfo=tzlocal()),\n",
      " 'key': 'Instrument/ExampleIRSUpsert/receiveLegID',\n",
      " 'value': {'label_value': None,\n",
      "           'label_value_set': None,\n",
      "           'metric_value': {'unit': None, 'value': 12346.0}}}]\n"
     ]
    }
   ],
   "source": [
    "legfilter = f\"properties[Instrument/{scope}/payLegId] eq 12345\"\n",
    "listofinstruments = instruments_api.list_instruments(scope=scope, filter=legfilter, instrument_property_keys= [f\"Instrument/{scope}/payLegId\",f\"Instrument/{scope}/receiveLegID\"])\n",
    "print(listofinstruments.values[0].properties)"
   ]
  },
  {
   "cell_type": "code",
   "execution_count": null,
   "id": "17f777d3",
   "metadata": {},
   "outputs": [],
   "source": []
  }
 ],
 "metadata": {
  "kernelspec": {
   "display_name": "Python 3 (ipykernel)",
   "language": "python",
   "name": "python3"
  },
  "language_info": {
   "codemirror_mode": {
    "name": "ipython",
    "version": 3
   },
   "file_extension": ".py",
   "mimetype": "text/x-python",
   "name": "python",
   "nbconvert_exporter": "python",
   "pygments_lexer": "ipython3",
   "version": "3.9.7"
  }
 },
 "nbformat": 4,
 "nbformat_minor": 5
}
