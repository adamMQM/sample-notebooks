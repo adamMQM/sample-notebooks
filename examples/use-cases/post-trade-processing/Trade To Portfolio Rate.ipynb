{
 "cells": [
  {
   "cell_type": "markdown",
   "metadata": {
    "pycharm": {
     "name": "#%% md\n"
    }
   },
   "source": [
    "# Trade To Portfolio Rate (TTPR) Demo"
   ]
  },
  {
   "cell_type": "markdown",
   "metadata": {},
   "source": [
    "*** DISCLAIMER ***\n",
    "\n",
    "Please contact support@lusid.com if you want FINBOURNE to enable this functionality in your domain."
   ]
  },
  {
   "cell_type": "markdown",
   "metadata": {},
   "source": [
    "This notebook demonstrates how LUSID can resolve the Trade To Portfolio Rate for transactions booked with different currencies to the base portfolio currency.\n",
    "\n",
    "In this example, 5 transactions in 5 different currencies are booked to a GBP portfolio and the associated TTPRs returned."
   ]
  },
  {
   "cell_type": "markdown",
   "metadata": {},
   "source": [
    "## 1. Setup LUSID"
   ]
  },
  {
   "cell_type": "code",
   "execution_count": 1,
   "metadata": {},
   "outputs": [
    {
     "name": "stderr",
     "output_type": "stream",
     "text": [
      "/opt/conda/lib/python3.9/site-packages/requests/__init__.py:89: RequestsDependencyWarning: urllib3 (1.26.8) or chardet (3.0.4) doesn't match a supported version!\n",
      "  warnings.warn(\"urllib3 ({}) or chardet ({}) doesn't match a supported \"\n"
     ]
    }
   ],
   "source": [
    "# Import lusid specific packages\n",
    "# These are the core lusid packages for interacting with the API via Python\n",
    "import lusid\n",
    "import lusid.models as models\n",
    "from lusid.utilities import ApiClientFactory\n",
    "from lusidjam.refreshing_token import RefreshingToken\n",
    "from lusidtools.pandas_utils.lusid_pandas import lusid_response_to_data_frame\n",
    "\n",
    "import os\n",
    "import pandas as pd\n",
    "import json\n",
    "import pytz\n",
    "from datetime import datetime\n",
    "\n",
    "pd.set_option(\"display.max_columns\", None)\n",
    "\n",
    "# Authenticate our user and create our API client\n",
    "secrets_path = os.getenv(\"FBN_SECRETS_PATH\")\n",
    "\n",
    "# Initiate an API Factory which is the client side object for interacting with LUSID APIs\n",
    "api_factory = lusid.utilities.ApiClientFactory(\n",
    "    token=RefreshingToken(),\n",
    "    api_secrets_filename=secrets_path,\n",
    "    app_name=\"LusidJupyterNotebook\",\n",
    ")"
   ]
  },
  {
   "cell_type": "code",
   "execution_count": 2,
   "metadata": {},
   "outputs": [],
   "source": [
    "# Define the apis\n",
    "quotes_api = api_factory.build(lusid.QuotesApi)\n",
    "configuration_recipe_api = api_factory.build(lusid.api.ConfigurationRecipeApi)\n",
    "instruments_api = api_factory.build(lusid.InstrumentsApi)\n",
    "transaction_portfolios_api = api_factory.build(lusid.TransactionPortfoliosApi)"
   ]
  },
  {
   "cell_type": "code",
   "execution_count": 3,
   "metadata": {},
   "outputs": [],
   "source": [
    "# Define variables\n",
    "valuation_date = datetime(year=2022, month=3, day=8, tzinfo=pytz.UTC)\n",
    "settlement_date = datetime(year=2022, month=3, day=12, tzinfo=pytz.UTC)\n",
    "scope = \"TTPR_NB\"\n",
    "portfolio_code = \"TTPR_NB\""
   ]
  },
  {
   "cell_type": "markdown",
   "metadata": {},
   "source": [
    "## 2. Create Portfolio"
   ]
  },
  {
   "cell_type": "code",
   "execution_count": 4,
   "metadata": {},
   "outputs": [
    {
     "name": "stdout",
     "output_type": "stream",
     "text": [
      "Could not create a portfolio with id 'TTPR_NB' because it already exists in scope 'TTPR_NB'.\n"
     ]
    }
   ],
   "source": [
    "try: \n",
    "    transaction_portfolios_api.create_portfolio(\n",
    "        scope=scope,\n",
    "        create_transaction_portfolio_request=models.CreateTransactionPortfolioRequest(\n",
    "            display_name=\"TTPR_NB\",\n",
    "            code=portfolio_code,\n",
    "            created=\"2020-01-01T00:00:00+00:00\",\n",
    "            base_currency=\"GBP\"\n",
    "        )\n",
    "    )\n",
    "    \n",
    "except lusid.ApiException as e:\n",
    "    print(json.loads(e.body)[\"title\"])"
   ]
  },
  {
   "cell_type": "markdown",
   "metadata": {},
   "source": [
    "## 3. Load Instruments"
   ]
  },
  {
   "cell_type": "code",
   "execution_count": 5,
   "metadata": {},
   "outputs": [],
   "source": [
    "# Define 5 example instruments\n",
    "for i in range(1, 6):\n",
    "    instrument_body = models.InstrumentDefinition(\n",
    "        name=f\"instrument_{i}\",\n",
    "        identifiers={\"ClientInternal\": models.InstrumentIdValue(value=f\"client_internal_{i}\")}\n",
    "    )\n",
    "    \n",
    "    reponse = instruments_api.upsert_instruments(\n",
    "        request_body={\n",
    "            \"request_id_1\": instrument_body\n",
    "        }\n",
    "    )"
   ]
  },
  {
   "cell_type": "markdown",
   "metadata": {},
   "source": [
    "## 4. Load Quotes"
   ]
  },
  {
   "cell_type": "markdown",
   "metadata": {},
   "source": [
    "### 4.1 FX Rate Quotes"
   ]
  },
  {
   "cell_type": "code",
   "execution_count": 6,
   "metadata": {},
   "outputs": [],
   "source": [
    "# FX rate quote upsertion function\n",
    "def spot_request(from_ccy, to_ccy, rate, valuation_date):\n",
    "            return models.UpsertQuoteRequest(\n",
    "                       quote_id=models.QuoteId(\n",
    "                           models.QuoteSeriesId(\n",
    "                               provider='Lusid',\n",
    "                               instrument_id=f'{from_ccy}/{to_ccy}',\n",
    "                               instrument_id_type='CurrencyPair',\n",
    "                               quote_type='Rate',\n",
    "                               field='mid'\n",
    "                           ),\n",
    "                           effective_at=valuation_date\n",
    "                       ),\n",
    "                       metric_value=models.MetricValue(\n",
    "                           value=rate,\n",
    "                           unit=f'{from_ccy}/{to_ccy}'\n",
    "                       ),\n",
    "                       lineage='None'\n",
    "            )"
   ]
  },
  {
   "cell_type": "code",
   "execution_count": 7,
   "metadata": {},
   "outputs": [],
   "source": [
    "fx_rates = [[\"USD\", 1.3106], [\"AUD\", 1.7909], [\"JPY\", 151.14], [\"EUR\", 1.2073], [\"CAD\", 1.6803]]\n",
    "\n",
    "for rate in fx_rates:\n",
    "    response = quotes_api.upsert_quotes(scope=scope,\n",
    "                                   request_body={\"1\": spot_request(\"GBP\", rate[0], rate[1], valuation_date)})"
   ]
  },
  {
   "cell_type": "markdown",
   "metadata": {},
   "source": [
    "## 5. Define Default Recipe"
   ]
  },
  {
   "cell_type": "markdown",
   "metadata": {},
   "source": [
    "This is the default valuation recipe definition for the parameter added to the AWS parameter store for this domain enabling TTPR calculation."
   ]
  },
  {
   "cell_type": "code",
   "execution_count": 8,
   "metadata": {},
   "outputs": [],
   "source": [
    "# Create recipes\n",
    "recipe_scope=\"IBOR\"\n",
    "recipe_code=\"StandardMarketValue\"\n",
    "\n",
    "\n",
    "# Create a recipe to perform a valuation\n",
    "configuration_recipe = models.ConfigurationRecipe(\n",
    "    scope=recipe_scope,\n",
    "    code=recipe_code,\n",
    "    market=models.MarketContext(\n",
    "        market_rules=[\n",
    "            # define how to resolve the quotes\n",
    "            models.MarketDataKeyRule(\n",
    "                key='Fx.CurrencyPair.*',\n",
    "                data_scope=scope,\n",
    "                supplier='Lusid',\n",
    "                quote_type='Rate',\n",
    "                quote_interval='1D.0D',\n",
    "                field=\"mid\"\n",
    "            )\n",
    "        ],\n",
    "        options=models.MarketOptions(\n",
    "            default_supplier=\"Lusid\",\n",
    "            default_instrument_code_type=\"ClientInternal\",\n",
    "            default_scope='Lusid',\n",
    "            # This enables FX rate inference\n",
    "            attempt_to_infer_missing_fx=True,\n",
    "\n",
    "        ),\n",
    "    ),\n",
    "    pricing=models.PricingContext(\n",
    "        options={\"AllowPartiallySuccessfulEvaluation\": True},\n",
    "    ),\n",
    ")\n",
    "\n",
    "upsert_configuration_recipe_response = configuration_recipe_api.upsert_configuration_recipe(\n",
    "    upsert_recipe_request=models.UpsertRecipeRequest(\n",
    "        configuration_recipe=configuration_recipe\n",
    "    )\n",
    ")"
   ]
  },
  {
   "cell_type": "markdown",
   "metadata": {},
   "source": [
    "## 6. Load Transactions"
   ]
  },
  {
   "cell_type": "code",
   "execution_count": 9,
   "metadata": {},
   "outputs": [],
   "source": [
    "# Upsert example transaction data for 5 instruments\n",
    "cost = [15.25, 25.70, 57.34, 100.99, 23.19]\n",
    "currency = [\"USD\", \"AUD\", \"JPY\", \"EUR\", \"CAD\"]\n",
    "\n",
    "for i in range(1,6):\n",
    "    transaction_portfolios_api.upsert_transactions(\n",
    "        scope=scope,\n",
    "        code=portfolio_code,\n",
    "        transaction_request=[models.TransactionRequest(\n",
    "            transaction_id=f\"transaction_id_{i}\",\n",
    "            type=\"Buy\",\n",
    "            instrument_identifiers={\n",
    "                \"instrument/default/ClientInternal\" : f\"client_internal_{i}\"\n",
    "            },\n",
    "            transaction_date=valuation_date,\n",
    "            settlement_date=settlement_date,\n",
    "            units=100,\n",
    "            total_consideration = models.CurrencyAndAmount(\n",
    "                amount=cost[i-1],\n",
    "                currency=currency[i-1],\n",
    "            )\n",
    "        )]\n",
    "    )"
   ]
  },
  {
   "cell_type": "markdown",
   "metadata": {},
   "source": [
    "## 7. Get Transactions"
   ]
  },
  {
   "cell_type": "code",
   "execution_count": 10,
   "metadata": {},
   "outputs": [
    {
     "data": {
      "text/html": [
       "<div>\n",
       "<style scoped>\n",
       "    .dataframe tbody tr th:only-of-type {\n",
       "        vertical-align: middle;\n",
       "    }\n",
       "\n",
       "    .dataframe tbody tr th {\n",
       "        vertical-align: top;\n",
       "    }\n",
       "\n",
       "    .dataframe thead th {\n",
       "        text-align: right;\n",
       "    }\n",
       "</style>\n",
       "<table border=\"1\" class=\"dataframe\">\n",
       "  <thead>\n",
       "    <tr style=\"text-align: right;\">\n",
       "      <th></th>\n",
       "      <th>transactionId</th>\n",
       "      <th>type</th>\n",
       "      <th>ClientInternal</th>\n",
       "      <th>LUID</th>\n",
       "      <th>TradeCurrency</th>\n",
       "      <th>PortfolioCurrency</th>\n",
       "      <th>TTPR</th>\n",
       "    </tr>\n",
       "  </thead>\n",
       "  <tbody>\n",
       "    <tr>\n",
       "      <th>0</th>\n",
       "      <td>transaction_id_1</td>\n",
       "      <td>Buy</td>\n",
       "      <td>client_internal_1</td>\n",
       "      <td>LUID_00003EXA</td>\n",
       "      <td>USD</td>\n",
       "      <td>GBP</td>\n",
       "      <td>0.763009</td>\n",
       "    </tr>\n",
       "    <tr>\n",
       "      <th>1</th>\n",
       "      <td>transaction_id_2</td>\n",
       "      <td>Buy</td>\n",
       "      <td>client_internal_2</td>\n",
       "      <td>LUID_00003EXB</td>\n",
       "      <td>AUD</td>\n",
       "      <td>GBP</td>\n",
       "      <td>0.558378</td>\n",
       "    </tr>\n",
       "    <tr>\n",
       "      <th>2</th>\n",
       "      <td>transaction_id_3</td>\n",
       "      <td>Buy</td>\n",
       "      <td>client_internal_3</td>\n",
       "      <td>LUID_00003EXC</td>\n",
       "      <td>JPY</td>\n",
       "      <td>GBP</td>\n",
       "      <td>0.006616</td>\n",
       "    </tr>\n",
       "    <tr>\n",
       "      <th>3</th>\n",
       "      <td>transaction_id_4</td>\n",
       "      <td>Buy</td>\n",
       "      <td>client_internal_4</td>\n",
       "      <td>LUID_00003EXD</td>\n",
       "      <td>EUR</td>\n",
       "      <td>GBP</td>\n",
       "      <td>0.828295</td>\n",
       "    </tr>\n",
       "    <tr>\n",
       "      <th>4</th>\n",
       "      <td>transaction_id_5</td>\n",
       "      <td>Buy</td>\n",
       "      <td>client_internal_5</td>\n",
       "      <td>LUID_00003EXE</td>\n",
       "      <td>CAD</td>\n",
       "      <td>GBP</td>\n",
       "      <td>0.595132</td>\n",
       "    </tr>\n",
       "  </tbody>\n",
       "</table>\n",
       "</div>"
      ],
      "text/plain": [
       "      transactionId type     ClientInternal           LUID TradeCurrency  \\\n",
       "0  transaction_id_1  Buy  client_internal_1  LUID_00003EXA           USD   \n",
       "1  transaction_id_2  Buy  client_internal_2  LUID_00003EXB           AUD   \n",
       "2  transaction_id_3  Buy  client_internal_3  LUID_00003EXC           JPY   \n",
       "3  transaction_id_4  Buy  client_internal_4  LUID_00003EXD           EUR   \n",
       "4  transaction_id_5  Buy  client_internal_5  LUID_00003EXE           CAD   \n",
       "\n",
       "  PortfolioCurrency      TTPR  \n",
       "0               GBP  0.763009  \n",
       "1               GBP  0.558378  \n",
       "2               GBP  0.006616  \n",
       "3               GBP  0.828295  \n",
       "4               GBP  0.595132  "
      ]
     },
     "execution_count": 10,
     "metadata": {},
     "output_type": "execute_result"
    }
   ],
   "source": [
    "get_holdings_reponse = transaction_portfolios_api.get_holdings(\n",
    "    scope = scope,\n",
    "    code = portfolio_code,\n",
    "    effective_at = valuation_date\n",
    ")\n",
    "\n",
    "get_transactions_reponse = transaction_portfolios_api.get_transactions(\n",
    "    scope = scope,\n",
    "    code = portfolio_code,\n",
    ")\n",
    "\n",
    "holdings_df_all = lusid_response_to_data_frame(get_holdings_reponse)\n",
    "transactions_df_all = lusid_response_to_data_frame(get_transactions_reponse)\n",
    "combined_df_all = transactions_df_all.merge(holdings_df_all, on='instrument_uid', how='left')\n",
    "\n",
    "# Column selection\n",
    "transactions_df = combined_df_all[[\n",
    "    \"transaction_id\", \n",
    "    \"type\", \n",
    "    \"instrument_identifiers.Instrument/default/ClientInternal\",\n",
    "    \"instrument_uid\",\n",
    "    \"transaction_currency\",\n",
    "    \"cost_portfolio_ccy.currency\",\n",
    "    \"properties.Transaction/default/TradeToPortfolioRate.value.metric_value.value\"\n",
    "]]\n",
    "\n",
    "# Column renaming\n",
    "transactions_df = transactions_df.rename(\n",
    "    columns={\n",
    "        \"transaction_id\" : \"transactionId\", \n",
    "        \"instrument_identifiers.Instrument/default/ClientInternal\" : \"ClientInternal\",\n",
    "        \"instrument_uid\" : \"LUID\",\n",
    "        \"transaction_currency\" : \"TradeCurrency\",\n",
    "        \"cost_portfolio_ccy.currency\" : \"PortfolioCurrency\",\n",
    "        \"properties.Transaction/default/TradeToPortfolioRate.value.metric_value.value\" : \"TTPR\"\n",
    "    }\n",
    ")\n",
    "\n",
    "transactions_df"
   ]
  }
 ],
 "metadata": {
  "kernelspec": {
   "display_name": "Python 3 (ipykernel)",
   "language": "python",
   "name": "python3"
  },
  "language_info": {
   "codemirror_mode": {
    "name": "ipython",
    "version": 3
   },
   "file_extension": ".py",
   "mimetype": "text/x-python",
   "name": "python",
   "nbconvert_exporter": "python",
   "pygments_lexer": "ipython3",
   "version": "3.9.7"
  }
 },
 "nbformat": 4,
 "nbformat_minor": 2
}
