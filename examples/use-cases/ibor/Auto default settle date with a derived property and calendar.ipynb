{
 "cells": [
  {
   "cell_type": "code",
   "execution_count": 1,
   "id": "b8633b4f",
   "metadata": {},
   "outputs": [
    {
     "data": {
      "text/plain": [
       "'Auto default of settlement dates based on derived properties and calendars\\n\\nThis notebook shows how you can auto default the settlement date onto a transaction based on a derived instrument property and a calendar\\n\\nAttributes\\n----------\\ntransactions\\nderived properties\\ncalendars\\n'"
      ]
     },
     "execution_count": 1,
     "metadata": {},
     "output_type": "execute_result"
    }
   ],
   "source": [
    "\"\"\"Auto default of settlement dates based on derived properties and calendars\n",
    "\n",
    "This notebook shows how you can auto default the settlement date onto a transaction based on a derived instrument property and a calendar\n",
    "\n",
    "Attributes\n",
    "----------\n",
    "transactions\n",
    "derived properties\n",
    "calendars\n",
    "\"\"\""
   ]
  },
  {
   "cell_type": "markdown",
   "id": "86b392a4",
   "metadata": {},
   "source": [
    "# 1. Introduction\n",
    "\n",
    "In this notebook we show how you can auto default the settlement date onto a transaction based on a derived instrument property and a calendar. For the purposes of the demo, we consider a US and UK equity transaction with a trade date of Friday 3 September. "
   ]
  },
  {
   "cell_type": "code",
   "execution_count": 2,
   "id": "2f52800d",
   "metadata": {},
   "outputs": [
    {
     "data": {
      "text/html": [
       "<style>.container { width:90% !important; }</style>"
      ],
      "text/plain": [
       "<IPython.core.display.HTML object>"
      ]
     },
     "metadata": {},
     "output_type": "display_data"
    },
    {
     "name": "stdout",
     "output_type": "stream",
     "text": [
      "LUSID Environment Initialised\n",
      "LUSID version :  0.6.7739.0\n"
     ]
    }
   ],
   "source": [
    "import lusid\n",
    "import lusid.models as models\n",
    "from lusidjam import RefreshingToken\n",
    "\n",
    "from lusidtools.cocoon.cocoon import load_from_data_frame\n",
    "from lusidtools.cocoon.utilities import identify_cash_items\n",
    "from lusidtools.cocoon.transaction_type_upload import upsert_transaction_type_alias\n",
    "from lusidtools.pandas_utils.lusid_pandas import lusid_response_to_data_frame\n",
    "from lusidtools.cocoon.cocoon_printer import (\n",
    "    format_instruments_response,\n",
    "    format_portfolios_response,\n",
    "    format_transactions_response,\n",
    "    format_quotes_response,\n",
    "    format_holdings_response,\n",
    ")\n",
    "\n",
    "# Import Libraries\n",
    "from datetime import datetime, timedelta, time\n",
    "import pytz\n",
    "import uuid\n",
    "from datetime import datetime, timezone\n",
    "import pandas as pd\n",
    "import numpy as np\n",
    "import os\n",
    "import json\n",
    "import requests\n",
    "from IPython.core.display import display, HTML\n",
    "\n",
    "# pandas config\n",
    "pd.set_option(\"display.max_rows\", None)\n",
    "pd.set_option(\"display.max_columns\", None)\n",
    "pd.set_option(\"display.max_colwidth\", None)\n",
    "\n",
    "# Authenticate our user and create our API client\n",
    "secrets_path = os.getenv(\"FBN_SECRETS_PATH\")\n",
    "\n",
    "api_factory = lusid.utilities.ApiClientFactory(\n",
    "    token=RefreshingToken(),\n",
    "    api_secrets_filename=secrets_path,\n",
    "    app_name=\"LusidJupyterNotebook\",\n",
    ")\n",
    "\n",
    "display(HTML(\"<style>.container { width:90% !important; }</style>\"))\n",
    "\n",
    "# pandas config\n",
    "pd.set_option(\"display.max_rows\", None)\n",
    "pd.set_option(\"display.max_columns\", None)\n",
    "pd.set_option(\"display.max_colwidth\", None)\n",
    "\n",
    "\n",
    "print(\"LUSID Environment Initialised\")\n",
    "print(\n",
    "    \"LUSID version : \",\n",
    "    api_factory.build(lusid.api.ApplicationMetadataApi)\n",
    "    .get_lusid_versions()\n",
    "    .build_version,\n",
    ")"
   ]
  },
  {
   "cell_type": "code",
   "execution_count": 3,
   "id": "2e558b02",
   "metadata": {},
   "outputs": [],
   "source": [
    "# Initiate the APIs\n",
    "\n",
    "transaction_portfolios_api = api_factory.build(lusid.api.TransactionPortfoliosApi)\n",
    "portfolios_api = api_factory.build(lusid.api.PortfoliosApi)\n",
    "corporate_actions_sources_api = api_factory.build(lusid.api.CorporateActionSourcesApi)\n",
    "instruments_api = api_factory.build(lusid.api.InstrumentsApi)\n",
    "system_configuration_api = api_factory.build(lusid.api.SystemConfigurationApi)\n",
    "configuration_recipe_api = api_factory.build(lusid.api.ConfigurationRecipeApi)\n",
    "properties_api = api_factory.build(lusid.api.PropertyDefinitionsApi)\n",
    "calendars_api = api_factory.build(lusid.api.CalendarsApi)"
   ]
  },
  {
   "cell_type": "code",
   "execution_count": 4,
   "id": "e68035e1",
   "metadata": {},
   "outputs": [],
   "source": [
    "scope = \"sd-ibor\""
   ]
  },
  {
   "cell_type": "markdown",
   "id": "5c97ef05",
   "metadata": {},
   "source": [
    "# 2. Load data file\n",
    "\n",
    "First we load a file of transaction data."
   ]
  },
  {
   "cell_type": "code",
   "execution_count": 5,
   "id": "1a5db052",
   "metadata": {},
   "outputs": [
    {
     "data": {
      "text/html": [
       "<div>\n",
       "<style scoped>\n",
       "    .dataframe tbody tr th:only-of-type {\n",
       "        vertical-align: middle;\n",
       "    }\n",
       "\n",
       "    .dataframe tbody tr th {\n",
       "        vertical-align: top;\n",
       "    }\n",
       "\n",
       "    .dataframe thead th {\n",
       "        text-align: right;\n",
       "    }\n",
       "</style>\n",
       "<table border=\"1\" class=\"dataframe\">\n",
       "  <thead>\n",
       "    <tr style=\"text-align: right;\">\n",
       "      <th></th>\n",
       "      <th>portfolio_code</th>\n",
       "      <th>portfolio_base_currency</th>\n",
       "      <th>ticker</th>\n",
       "      <th>instrument_type</th>\n",
       "      <th>instrument_id</th>\n",
       "      <th>instrument_currency</th>\n",
       "      <th>name</th>\n",
       "      <th>txn_id</th>\n",
       "      <th>txn_type</th>\n",
       "      <th>txn_trade_date</th>\n",
       "      <th>txn_units</th>\n",
       "      <th>txn_price</th>\n",
       "      <th>txn_consideration</th>\n",
       "    </tr>\n",
       "  </thead>\n",
       "  <tbody>\n",
       "    <tr>\n",
       "      <th>0</th>\n",
       "      <td>GLOBAL_EQ</td>\n",
       "      <td>USD</td>\n",
       "      <td>GB0002162385</td>\n",
       "      <td>equity</td>\n",
       "      <td>D76B447ADA6446878B2BEC9437CF717C</td>\n",
       "      <td>GBP</td>\n",
       "      <td>Aviva</td>\n",
       "      <td>trd_0001</td>\n",
       "      <td>StockIn</td>\n",
       "      <td>2021-09-03T00:00:00</td>\n",
       "      <td>120000</td>\n",
       "      <td>5</td>\n",
       "      <td>600000</td>\n",
       "    </tr>\n",
       "    <tr>\n",
       "      <th>1</th>\n",
       "      <td>GLOBAL_EQ</td>\n",
       "      <td>USD</td>\n",
       "      <td>GB0002162385</td>\n",
       "      <td>equity</td>\n",
       "      <td>8B6F3204021C408B8CE5F7DE465A7046</td>\n",
       "      <td>USD</td>\n",
       "      <td>IBM</td>\n",
       "      <td>trd_0002</td>\n",
       "      <td>StockIn</td>\n",
       "      <td>2021-09-03T00:00:00</td>\n",
       "      <td>12000</td>\n",
       "      <td>5</td>\n",
       "      <td>60000</td>\n",
       "    </tr>\n",
       "  </tbody>\n",
       "</table>\n",
       "</div>"
      ],
      "text/plain": [
       "  portfolio_code portfolio_base_currency        ticker instrument_type  \\\n",
       "0      GLOBAL_EQ                     USD  GB0002162385          equity   \n",
       "1      GLOBAL_EQ                     USD  GB0002162385          equity   \n",
       "\n",
       "                      instrument_id instrument_currency   name    txn_id  \\\n",
       "0  D76B447ADA6446878B2BEC9437CF717C                 GBP  Aviva  trd_0001   \n",
       "1  8B6F3204021C408B8CE5F7DE465A7046                 USD    IBM  trd_0002   \n",
       "\n",
       "  txn_type       txn_trade_date  txn_units  txn_price  txn_consideration  \n",
       "0  StockIn  2021-09-03T00:00:00     120000          5             600000  \n",
       "1  StockIn  2021-09-03T00:00:00      12000          5              60000  "
      ]
     },
     "execution_count": 5,
     "metadata": {},
     "output_type": "execute_result"
    }
   ],
   "source": [
    "transactions_df = pd.read_csv(\"data/equity_txn_sd.csv\")\n",
    "portfolio_code = transactions_df[\"portfolio_code\"].unique()[0]\n",
    "transactions_df[\"txn_trade_date\"] = transactions_df[\"txn_trade_date\"].apply(\n",
    "    lambda x: pd.to_datetime(x).isoformat()\n",
    ")\n",
    "transactions_df"
   ]
  },
  {
   "cell_type": "markdown",
   "id": "0afff69a",
   "metadata": {},
   "source": [
    "# 3. Load instruments\n",
    "\n",
    "Next we create two instruments, which we'll use for demonstration. We have one USD and one GBP instrument."
   ]
  },
  {
   "cell_type": "code",
   "execution_count": 6,
   "id": "40d62010",
   "metadata": {},
   "outputs": [
    {
     "data": {
      "text/html": [
       "<div>\n",
       "<style scoped>\n",
       "    .dataframe tbody tr th:only-of-type {\n",
       "        vertical-align: middle;\n",
       "    }\n",
       "\n",
       "    .dataframe tbody tr th {\n",
       "        vertical-align: top;\n",
       "    }\n",
       "\n",
       "    .dataframe thead th {\n",
       "        text-align: right;\n",
       "    }\n",
       "</style>\n",
       "<table border=\"1\" class=\"dataframe\">\n",
       "  <thead>\n",
       "    <tr style=\"text-align: right;\">\n",
       "      <th></th>\n",
       "      <th>success</th>\n",
       "      <th>failed</th>\n",
       "      <th>errors</th>\n",
       "    </tr>\n",
       "  </thead>\n",
       "  <tbody>\n",
       "    <tr>\n",
       "      <th>0</th>\n",
       "      <td>2</td>\n",
       "      <td>0</td>\n",
       "      <td>0</td>\n",
       "    </tr>\n",
       "  </tbody>\n",
       "</table>\n",
       "</div>"
      ],
      "text/plain": [
       "   success  failed  errors\n",
       "0        2       0       0"
      ]
     },
     "execution_count": 6,
     "metadata": {},
     "output_type": "execute_result"
    }
   ],
   "source": [
    "# Load the instrument into LUSID\n",
    "\n",
    "instrument_identifier_mapping = {\"ClientInternal\": \"instrument_id\"}\n",
    "\n",
    "instrument_mapping_required = {\"name\": \"name\"}\n",
    "\n",
    "responses = load_from_data_frame(\n",
    "    api_factory=api_factory,\n",
    "    scope=scope,\n",
    "    data_frame=transactions_df,\n",
    "    mapping_required=instrument_mapping_required,\n",
    "    mapping_optional={},\n",
    "    file_type=\"instrument\",\n",
    "    identifier_mapping=instrument_identifier_mapping,\n",
    "    property_columns=[\"instrument_currency\", \"instrument_type\"],\n",
    "    properties_scope=scope,\n",
    ")\n",
    "\n",
    "succ, failed, errors = format_instruments_response(responses)\n",
    "pd.DataFrame(\n",
    "    data=[{\"success\": len(succ), \"failed\": len(failed), \"errors\": len(errors)}]\n",
    ")"
   ]
  },
  {
   "cell_type": "markdown",
   "id": "4652d29d",
   "metadata": {},
   "source": [
    "## 3.1 Create derived property\n",
    "\n",
    "Next we create a derived property to represent the `SettleDateOffset` which is the days between trade date and settle date for an instruments. In this example, we derive the settle date from the instrument type and instrument currency. We give the USD equities an offset of 3, and the GBP equities an offset of 2."
   ]
  },
  {
   "cell_type": "code",
   "execution_count": 7,
   "id": "dd535af3",
   "metadata": {},
   "outputs": [],
   "source": [
    "deriv_formula = f\"\"\"\n",
    "                if((Properties[Instrument/{scope}/instrument_type] eq 'equity') and (Properties[Instrument/{scope}/instrument_currency] eq 'GBP')) \n",
    "                then 2 \n",
    "                else if((Properties[Instrument/{scope}/instrument_type] eq 'equity') and (Properties[Instrument/{scope}/instrument_currency] eq 'USD')) \n",
    "                then 3 \n",
    "                else 1\"\"\".replace(\n",
    "    \"\\n\", \"\"\n",
    ")"
   ]
  },
  {
   "cell_type": "code",
   "execution_count": 8,
   "id": "7dad1d8a",
   "metadata": {},
   "outputs": [],
   "source": [
    "try:\n",
    "\n",
    "    properties_api.create_derived_property_definition(\n",
    "        create_derived_property_definition_request=models.CreateDerivedPropertyDefinitionRequest(\n",
    "            domain=\"Instrument\",\n",
    "            scope=scope,\n",
    "            code=\"SettleDateOffset\",\n",
    "            display_name=\"Settle Date offset\",\n",
    "            data_type_id=models.ResourceId(code=\"number\", scope=\"system\"),\n",
    "            property_description=\"Settle Date offset\",\n",
    "            derivation_formula=deriv_formula,\n",
    "        )\n",
    "    )\n",
    "\n",
    "except:\n",
    "    pass"
   ]
  },
  {
   "cell_type": "markdown",
   "id": "a8a1c601",
   "metadata": {},
   "source": [
    "# 4. Create portfolio"
   ]
  },
  {
   "cell_type": "code",
   "execution_count": 9,
   "id": "ad6c8832",
   "metadata": {},
   "outputs": [
    {
     "name": "stdout",
     "output_type": "stream",
     "text": [
      "Could not create a portfolio with id GLOBAL_EQ because it already exists in scope sd-ibor.\n"
     ]
    }
   ],
   "source": [
    "try:\n",
    "\n",
    "    transaction_portfolios_api.create_portfolio(\n",
    "        scope=scope,\n",
    "        create_transaction_portfolio_request=models.CreateTransactionPortfolioRequest(\n",
    "            display_name=portfolio_code,\n",
    "            code=portfolio_code,\n",
    "            base_currency=\"USD\",\n",
    "            created=\"2010-01-01\",\n",
    "            sub_holding_keys=[],\n",
    "        ),\n",
    "    )\n",
    "except lusid.ApiException as e:\n",
    "    print(json.loads(e.body)[\"title\"])"
   ]
  },
  {
   "cell_type": "markdown",
   "id": "2939b18f",
   "metadata": {},
   "source": [
    "# 5. Update transactions\n",
    "\n",
    "In the example below, we use derived properties and calendars to calculate the Settle Date for two transactions booked with a Trade Date of Friday 3 September 2021.\n",
    "\n",
    "* The IBM stock has an instrument currency of USD and therefore we use the US calendar and a settle date offset of 3. Monday September 6 is a public holiday in the US, and therefore the Settle Date of this transaction is <b>9 September</b>.\n",
    "* The Aviva stock has an instrument currency of GBP and therefore we use a UK calendar and a settle date offset of 2. Monday September 6 is not a public holiday, and therefore the Settle Date of this transaction is the <b>7 September</b>.\n"
   ]
  },
  {
   "cell_type": "code",
   "execution_count": 10,
   "id": "c5e101d1",
   "metadata": {},
   "outputs": [],
   "source": [
    "def update_transactions_with_settle_date(\n",
    "    transactions_df, calendar_scope=\"CoppClarkHolidayCalendars\"\n",
    "):\n",
    "    def get_instrument_sd_offset(instrument_id):\n",
    "\n",
    "        instrument = instruments_api.get_instrument(\n",
    "            identifier_type=\"ClientInternal\",\n",
    "            identifier=instrument_id,\n",
    "            property_keys=[f\"Instrument/{scope}/SettleDateOffset\"],\n",
    "        )\n",
    "\n",
    "        sd_offset = instrument.properties[0].value.metric_value.value\n",
    "\n",
    "        return int(sd_offset)\n",
    "\n",
    "    def calc_sd(trade_date, currency, offset, scope=\"CoppClarkHolidayCalendars\"):\n",
    "\n",
    "        sd = calendars_api.add_business_days_to_date(\n",
    "            scope=scope,\n",
    "            add_business_days_to_date_request=models.AddBusinessDaysToDateRequest(\n",
    "                business_day_offset=offset,\n",
    "                holiday_codes=[currency],\n",
    "                start_date=trade_date,\n",
    "            ),\n",
    "        )\n",
    "\n",
    "        return sd.value.isoformat()\n",
    "\n",
    "    settle_dates = []\n",
    "\n",
    "    for index, row in transactions_df.iterrows():\n",
    "\n",
    "        sd_offset = get_instrument_sd_offset(row[\"instrument_id\"])\n",
    "        sd_currency = row[\"instrument_currency\"]\n",
    "        trade_date = row[\"txn_trade_date\"][:10]\n",
    "\n",
    "        settle_date = calc_sd(trade_date, sd_currency, sd_offset)\n",
    "\n",
    "        settle_dates.append(settle_date)\n",
    "\n",
    "    transactions_df[\"settle_date\"] = settle_dates\n",
    "\n",
    "    return transactions_df"
   ]
  },
  {
   "cell_type": "code",
   "execution_count": 11,
   "id": "9e241119",
   "metadata": {},
   "outputs": [],
   "source": [
    "transaction_df = update_transactions_with_settle_date(\n",
    "    transactions_df, calendar_scope=\"CoppClarkHolidayCalendars\"\n",
    ")"
   ]
  },
  {
   "cell_type": "code",
   "execution_count": 12,
   "id": "4302763b",
   "metadata": {},
   "outputs": [
    {
     "data": {
      "text/html": [
       "<div>\n",
       "<style scoped>\n",
       "    .dataframe tbody tr th:only-of-type {\n",
       "        vertical-align: middle;\n",
       "    }\n",
       "\n",
       "    .dataframe tbody tr th {\n",
       "        vertical-align: top;\n",
       "    }\n",
       "\n",
       "    .dataframe thead th {\n",
       "        text-align: right;\n",
       "    }\n",
       "</style>\n",
       "<table border=\"1\" class=\"dataframe\">\n",
       "  <thead>\n",
       "    <tr style=\"text-align: right;\">\n",
       "      <th></th>\n",
       "      <th>name</th>\n",
       "      <th>txn_trade_date</th>\n",
       "      <th>settle_date</th>\n",
       "    </tr>\n",
       "  </thead>\n",
       "  <tbody>\n",
       "    <tr>\n",
       "      <th>0</th>\n",
       "      <td>Aviva</td>\n",
       "      <td>2021-09-03T00:00:00</td>\n",
       "      <td>2021-09-07T00:00:00+00:00</td>\n",
       "    </tr>\n",
       "    <tr>\n",
       "      <th>1</th>\n",
       "      <td>IBM</td>\n",
       "      <td>2021-09-03T00:00:00</td>\n",
       "      <td>2021-09-09T00:00:00+00:00</td>\n",
       "    </tr>\n",
       "  </tbody>\n",
       "</table>\n",
       "</div>"
      ],
      "text/plain": [
       "    name       txn_trade_date                settle_date\n",
       "0  Aviva  2021-09-03T00:00:00  2021-09-07T00:00:00+00:00\n",
       "1    IBM  2021-09-03T00:00:00  2021-09-09T00:00:00+00:00"
      ]
     },
     "execution_count": 12,
     "metadata": {},
     "output_type": "execute_result"
    }
   ],
   "source": [
    "transaction_df[[\"name\", \"txn_trade_date\", \"settle_date\"]]"
   ]
  }
 ],
 "metadata": {
  "kernelspec": {
   "display_name": "Python 3",
   "language": "python",
   "name": "python3"
  },
  "language_info": {
   "codemirror_mode": {
    "name": "ipython",
    "version": 3
   },
   "file_extension": ".py",
   "mimetype": "text/x-python",
   "name": "python",
   "nbconvert_exporter": "python",
   "pygments_lexer": "ipython3",
   "version": "3.8.5"
  }
 },
 "nbformat": 4,
 "nbformat_minor": 5
}
