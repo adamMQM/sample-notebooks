{
 "cells": [
  {
   "cell_type": "code",
   "execution_count": 1,
   "metadata": {},
   "outputs": [
    {
     "data": {
      "text/html": [
       "\n",
       "    <form action=\"javascript:code_toggle()\"><input type=\"submit\" id=\"toggleButton\" value=\"Hide docstring\"></form>\n",
       "    \n",
       "         <script>\n",
       "         function code_toggle() {\n",
       "             if ($('div.cell.code_cell.rendered.selected div.input').css('display')!='none'){\n",
       "                 $('div.cell.code_cell.rendered.selected div.input').hide();\n",
       "             } else {\n",
       "                 $('div.cell.code_cell.rendered.selected div.input').show();\n",
       "             }\n",
       "         }\n",
       "         </script>\n",
       "\n",
       "     "
      ],
      "text/plain": [
       "<IPython.core.display.HTML object>"
      ]
     },
     "metadata": {},
     "output_type": "display_data"
    }
   ],
   "source": [
    "from lusidtools.jupyter_tools import toggle_code\n",
    "\n",
    "\"\"\"Trade To Portfolio Rate (TTPR) Demo\n",
    "\n",
    "This notebook shows you how to complete an inline reconciliation on 2 sets of 5 weighted instruments with different prices.\n",
    "\n",
    "Attributes\n",
    "----------\n",
    "instruments\n",
    "quotes\n",
    "recipes\n",
    "inline reconciliation\n",
    "weighted instruments\n",
    "\"\"\"\n",
    "\n",
    "toggle_code(\"Hide docstring\")"
   ]
  },
  {
   "cell_type": "markdown",
   "metadata": {
    "pycharm": {
     "name": "#%% md\n"
    }
   },
   "source": [
    "# Inline Valuation Reconciliation\n",
    "\n",
    "This notebook shows you how to complete an inline valuation reconciliation on 2 inline portfolios of 5 weighted instruments with different prices.\n",
    "\n",
    "- 2 sets of weighted instruments are defined with the same holding identifiers in their respective inline portfolios but with different prices.\n",
    "- Inline valuations are carried out on both of these inline portfolios and reconciled against each other.\n",
    "\n",
    "For some background, an inline portfolio is not a \"real\" portfolio in LUSID per se. Rather the inline portfolio holdings (instruments and weights) are defined in the inline valuation request. This allows users to run ad-hoc valuations on a set of weighted instruments without requiring a full portfolio setup."
   ]
  },
  {
   "cell_type": "markdown",
   "metadata": {},
   "source": [
    "## 1. Setup LUSID"
   ]
  },
  {
   "cell_type": "code",
   "execution_count": 2,
   "metadata": {},
   "outputs": [],
   "source": [
    "# Import lusid specific packages\n",
    "# These are the core lusid packages for interacting with the API via Python\n",
    "import lusid\n",
    "import lusid.models as models\n",
    "from lusid.utilities import ApiClientFactory\n",
    "from lusidjam.refreshing_token import RefreshingToken\n",
    "from lusidtools.pandas_utils.lusid_pandas import lusid_response_to_data_frame\n",
    "\n",
    "import os\n",
    "import pandas as pd\n",
    "import pytz\n",
    "from datetime import datetime\n",
    "\n",
    "pd.set_option(\"display.max_columns\", None)\n",
    "\n",
    "# Authenticate our user and create our API client\n",
    "secrets_path = os.getenv(\"FBN_SECRETS_PATH\")\n",
    "\n",
    "# Initiate an API Factory which is the client side object for interacting with LUSID APIs\n",
    "api_factory = lusid.utilities.ApiClientFactory(\n",
    "    token=RefreshingToken(),\n",
    "    api_secrets_filename=secrets_path,\n",
    "    app_name=\"LusidJupyterNotebook\",\n",
    ")"
   ]
  },
  {
   "cell_type": "code",
   "execution_count": 3,
   "metadata": {},
   "outputs": [],
   "source": [
    "# define the apis\n",
    "quotes_api = api_factory.build(lusid.QuotesApi)\n",
    "configuration_recipe_api = api_factory.build(lusid.api.ConfigurationRecipeApi)\n",
    "reconciliations_api = api_factory.build(lusid.api.ReconciliationsApi)"
   ]
  },
  {
   "cell_type": "code",
   "execution_count": 4,
   "metadata": {},
   "outputs": [],
   "source": [
    "# Defining variables\n",
    "valuation_date = datetime(year=2022, month=3, day=8, tzinfo=pytz.UTC)\n",
    "scope = \"Ibor\"\n",
    "portfolio_code = \"Inline_Recon_NB\""
   ]
  },
  {
   "cell_type": "markdown",
   "metadata": {},
   "source": [
    "## 2. Load Quotes"
   ]
  },
  {
   "cell_type": "markdown",
   "metadata": {},
   "source": [
    "### 2.1 Instrument Value Quotes"
   ]
  },
  {
   "cell_type": "markdown",
   "metadata": {},
   "source": [
    "Load 10 prices into the quotes store with associated instrument 'ClientInternal' identifiers. These will be linked to the weighted instruments created below in Section 3."
   ]
  },
  {
   "cell_type": "code",
   "execution_count": 5,
   "metadata": {},
   "outputs": [],
   "source": [
    "# Define instrument prices\n",
    "values = [20, 50, 100, 75, 60, 20, 45, 100, 85, 60]\n",
    "\n",
    "# Define empty weighted instrument lists\n",
    "weighted_instruments_a = []\n",
    "weighted_instruments_b = []\n",
    "\n",
    "\n",
    "for i in range(1,11):\n",
    "    \n",
    "    # Upsert quotes\n",
    "    quotes_api.upsert_quotes(\n",
    "        scope = scope,\n",
    "        request_body = {f\"quote_{i}\": models.UpsertQuoteRequest(\n",
    "            quote_id=models.QuoteId(\n",
    "                models.QuoteSeriesId(\n",
    "                    provider=\"Lusid\",\n",
    "                    instrument_id=f\"client_internal_{i}\",\n",
    "                    instrument_id_type=\"ClientInternal\",\n",
    "                    quote_type=\"Price\",\n",
    "                    field=\"mid\"\n",
    "                ),\n",
    "                effective_at = valuation_date\n",
    "            ),\n",
    "            metric_value=models.MetricValue(\n",
    "                value=values[i-1],\n",
    "                unit=\"GBP\"\n",
    "            )\n",
    "        )}\n",
    "        \n",
    "    )    \n",
    "    \n",
    "    # Define 2 sets of 5 weighted instruments with different prices but the same holding identifiers\n",
    "    if i in range(1, 6):\n",
    "        weighted_instrument = lusid.WeightedInstrument(\n",
    "            quantity=1,\n",
    "            holding_identifier=f\"client_internal_{i}\",\n",
    "            instrument=models.Equity(\n",
    "                identifiers= lusid.EquityAllOfIdentifiers(\n",
    "                    client_internal=f\"client_internal_{i}\",\n",
    "                ),\n",
    "                dom_ccy=\"GBP\",\n",
    "                instrument_type=\"Equity\",\n",
    "            ), \n",
    "        )\n",
    "        weighted_instruments_a.append(weighted_instrument)\n",
    "\n",
    "    \n",
    "    if i in range(6, 11):\n",
    "        weighted_instrument = lusid.WeightedInstrument(\n",
    "            quantity=1,\n",
    "            holding_identifier=f\"client_internal_{i-5}\",\n",
    "            instrument=models.Equity(\n",
    "                identifiers= lusid.EquityAllOfIdentifiers(\n",
    "                    client_internal=f\"client_internal_{i}\",\n",
    "                ),\n",
    "                dom_ccy=\"GBP\",\n",
    "                instrument_type=\"Equity\",\n",
    "            ), \n",
    "        )\n",
    "        weighted_instruments_b.append(weighted_instrument)"
   ]
  },
  {
   "cell_type": "markdown",
   "metadata": {},
   "source": [
    "## 3. Inline Valuation"
   ]
  },
  {
   "cell_type": "markdown",
   "metadata": {},
   "source": [
    "### 3.1 Create Valuation Recipe"
   ]
  },
  {
   "cell_type": "markdown",
   "metadata": {},
   "source": [
    "Define and upsert the valuation recipe to be used by the inline valuation request.\n",
    "\n",
    "This recipe determines that equity quotes (mid) loaded into the quotes store in scope \"Ibor\" for datetimes up to 24 hours before the valuation datetime are to be used for valuations.\n",
    "\n",
    "More details on recipes can be found here: https://support.lusid.com/knowledgebase/article/KA-01895/en-us"
   ]
  },
  {
   "cell_type": "code",
   "execution_count": 6,
   "metadata": {},
   "outputs": [],
   "source": [
    "# Create recipes\n",
    "recipe_scope=\"Inline_Recon_NB\"\n",
    "recipe_code=\"Inline_Recon_NB\"\n",
    "\n",
    "\n",
    "# Create a recipe to perform a valuation\n",
    "configuration_recipe = models.ConfigurationRecipe(\n",
    "    scope=recipe_scope,\n",
    "    code=recipe_code,\n",
    "    market=models.MarketContext(\n",
    "        market_rules=[\n",
    "            # define how to resolve the quotes\n",
    "            models.MarketDataKeyRule(\n",
    "                key=\"Equity.ClientInternal.*\",\n",
    "                supplier=\"Lusid\",\n",
    "                data_scope=scope,\n",
    "                quote_type=\"Price\",\n",
    "                field=\"mid\",\n",
    "                quote_interval=\"1D.0D\"\n",
    "            ),\n",
    "        ],\n",
    "        options=models.MarketOptions(\n",
    "            default_supplier=\"Lusid\",\n",
    "            default_instrument_code_type=\"Isin\",\n",
    "            default_scope='Lusid',\n",
    "        ),\n",
    "    ),\n",
    "    pricing=models.PricingContext(\n",
    "        options={\"AllowPartiallySuccessfulEvaluation\": True},\n",
    "    ),\n",
    ")\n",
    "\n",
    "upsert_configuration_recipe_response = configuration_recipe_api.upsert_configuration_recipe(\n",
    "    upsert_recipe_request=models.UpsertRecipeRequest(\n",
    "        configuration_recipe=configuration_recipe\n",
    "    )\n",
    ")"
   ]
  },
  {
   "cell_type": "markdown",
   "metadata": {},
   "source": [
    "### 3.2 Create Valuation Request "
   ]
  },
  {
   "cell_type": "markdown",
   "metadata": {},
   "source": [
    "Create inline valuation request for inline portfolios of weighted instruments for the valuation date (as above) using the recipe defined above and requesting the following 5 metrics:\n",
    "\n",
    "1. PV\n",
    "2. PV Currency\n",
    "3. Holding Units\n",
    "4. InstrumentId\n",
    "5. Quote value\n",
    "\n",
    "More details on valuations can be found here: https://support.lusid.com/knowledgebase/article/KA-01729/en-us"
   ]
  },
  {
   "cell_type": "code",
   "execution_count": 1,
   "metadata": {},
   "outputs": [],
   "source": [
    "def generate_valuation_request(valuation_effectiveAt, instruments):\n",
    "\n",
    "    # Create the valuation request\n",
    "    valuation_request = models.InlineValuationRequest(\n",
    "        recipe_id=models.ResourceId(\n",
    "            scope=recipe_scope, code=recipe_code\n",
    "        ),\n",
    "        metrics=[\n",
    "            models.AggregateSpec(\"Valuation/PV\", \"Value\"),\n",
    "            models.AggregateSpec(\"Valuation/PV/Ccy\", \"Value\"),\n",
    "            models.AggregateSpec(\"Holding/Units\", \"Value\"),\n",
    "            models.AggregateSpec(\"Analytic/default/InstrumentTag\", \"Value\"),\n",
    "            models.AggregateSpec(\"Quotes/Price\", \"Value\"),\n",
    "        ],\n",
    "        group_by=[\"Analytic/default/InstrumentTag\"],\n",
    "        valuation_schedule=models.ValuationSchedule(\n",
    "            effective_at=valuation_effectiveAt.isoformat()\n",
    "        ),\n",
    "        instruments=instruments\n",
    "    )\n",
    "\n",
    "    return valuation_request"
   ]
  },
  {
   "cell_type": "markdown",
   "metadata": {},
   "source": [
    "### 3.3 Valuation Response"
   ]
  },
  {
   "cell_type": "markdown",
   "metadata": {},
   "source": [
    "Complete inline valuation of weighted instrument sets on a given day and combine left side, right side and difference data into a single reconciliation table.\n",
    "\n",
    "The output shows a difference in PV for 'client_internal_2' and 'client_internal_4' weighted instruments which matches up with the price difference between the left and right inline portfolios."
   ]
  },
  {
   "cell_type": "code",
   "execution_count": 8,
   "metadata": {},
   "outputs": [
    {
     "data": {
      "text/html": [
       "<div>\n",
       "<style scoped>\n",
       "    .dataframe tbody tr th:only-of-type {\n",
       "        vertical-align: middle;\n",
       "    }\n",
       "\n",
       "    .dataframe tbody tr th {\n",
       "        vertical-align: top;\n",
       "    }\n",
       "\n",
       "    .dataframe thead th {\n",
       "        text-align: right;\n",
       "    }\n",
       "</style>\n",
       "<table border=\"1\" class=\"dataframe\">\n",
       "  <thead>\n",
       "    <tr style=\"text-align: right;\">\n",
       "      <th></th>\n",
       "      <th>ClientInternal</th>\n",
       "      <th>Ccy</th>\n",
       "      <th>Units</th>\n",
       "      <th>Left Price</th>\n",
       "      <th>Left PV</th>\n",
       "      <th>Right Price</th>\n",
       "      <th>Right PV</th>\n",
       "      <th>PV Diff</th>\n",
       "    </tr>\n",
       "  </thead>\n",
       "  <tbody>\n",
       "    <tr>\n",
       "      <th>0</th>\n",
       "      <td>client_internal_1</td>\n",
       "      <td>GBP</td>\n",
       "      <td>1.0</td>\n",
       "      <td>20.0</td>\n",
       "      <td>20.0</td>\n",
       "      <td>20.0</td>\n",
       "      <td>20.0</td>\n",
       "      <td>0.0</td>\n",
       "    </tr>\n",
       "    <tr>\n",
       "      <th>1</th>\n",
       "      <td>client_internal_2</td>\n",
       "      <td>GBP</td>\n",
       "      <td>1.0</td>\n",
       "      <td>50.0</td>\n",
       "      <td>50.0</td>\n",
       "      <td>45.0</td>\n",
       "      <td>45.0</td>\n",
       "      <td>-5.0</td>\n",
       "    </tr>\n",
       "    <tr>\n",
       "      <th>2</th>\n",
       "      <td>client_internal_3</td>\n",
       "      <td>GBP</td>\n",
       "      <td>1.0</td>\n",
       "      <td>100.0</td>\n",
       "      <td>100.0</td>\n",
       "      <td>100.0</td>\n",
       "      <td>100.0</td>\n",
       "      <td>0.0</td>\n",
       "    </tr>\n",
       "    <tr>\n",
       "      <th>3</th>\n",
       "      <td>client_internal_4</td>\n",
       "      <td>GBP</td>\n",
       "      <td>1.0</td>\n",
       "      <td>75.0</td>\n",
       "      <td>75.0</td>\n",
       "      <td>85.0</td>\n",
       "      <td>85.0</td>\n",
       "      <td>10.0</td>\n",
       "    </tr>\n",
       "    <tr>\n",
       "      <th>4</th>\n",
       "      <td>client_internal_5</td>\n",
       "      <td>GBP</td>\n",
       "      <td>1.0</td>\n",
       "      <td>60.0</td>\n",
       "      <td>60.0</td>\n",
       "      <td>60.0</td>\n",
       "      <td>60.0</td>\n",
       "      <td>0.0</td>\n",
       "    </tr>\n",
       "  </tbody>\n",
       "</table>\n",
       "</div>"
      ],
      "text/plain": [
       "      ClientInternal  Ccy  Units  Left Price  Left PV  Right Price  Right PV  \\\n",
       "0  client_internal_1  GBP    1.0        20.0     20.0         20.0      20.0   \n",
       "1  client_internal_2  GBP    1.0        50.0     50.0         45.0      45.0   \n",
       "2  client_internal_3  GBP    1.0       100.0    100.0        100.0     100.0   \n",
       "3  client_internal_4  GBP    1.0        75.0     75.0         85.0      85.0   \n",
       "4  client_internal_5  GBP    1.0        60.0     60.0         60.0      60.0   \n",
       "\n",
       "   PV Diff  \n",
       "0      0.0  \n",
       "1     -5.0  \n",
       "2      0.0  \n",
       "3     10.0  \n",
       "4      0.0  "
      ]
     },
     "execution_count": 8,
     "metadata": {},
     "output_type": "execute_result"
    }
   ],
   "source": [
    "# Reconcile weighted instruments\n",
    "reconciliation_respose = reconciliations_api.reconcile_inline(\n",
    "    inline_valuations_reconciliation_request=models.InlineValuationsReconciliationRequest(\n",
    "        left=generate_valuation_request(valuation_date, weighted_instruments_a),\n",
    "        right=generate_valuation_request(valuation_date, weighted_instruments_b)))\n",
    "\n",
    "# Format response into dataframe including left side, right side and difference data\n",
    "def format_inline_recon_response(reconciliation_respose):\n",
    "    recs_diff_df = pd.DataFrame(reconciliation_respose.diff)\n",
    "    recs_diff_df = recs_diff_df.rename(columns={\"Valuation/PV\" : \"PV Diff\", \"Analytic/default/InstrumentTag\" : \"ClientInternal\"})\n",
    "    recs_diff_df = recs_diff_df.drop(columns=['Valuation/PV/Ccy','Holding/Units', 'Quotes/Price'])\n",
    "    recs_left_df = pd.DataFrame(reconciliation_respose.left.data)\n",
    "    recs_left_df = recs_left_df.rename(columns={\"Valuation/PV/Ccy\" : \"Ccy\", \"Valuation/PV\" : \"Left PV\", \"Holding/Units\" : \"Units\", \"Analytic/default/InstrumentTag\" : \"ClientInternal\", \"Quotes/Price\" : \"Left Price\"})\n",
    "    recs_right_df = pd.DataFrame(reconciliation_respose.right.data)\n",
    "    recs_right_df = recs_right_df.rename(columns={\"Valuation/PV/Ccy\" : \"Ccy\", \"Valuation/PV\" : \"Right PV\", \"Holding/Units\" : \"Units\", \"Analytic/default/InstrumentTag\" : \"ClientInternal\", \"Quotes/Price\" : \"Right Price\"})\n",
    "    recs_df = pd.merge(recs_left_df, recs_right_df, on='ClientInternal', how='left')\n",
    "    recs_df = pd.merge(recs_df, recs_diff_df, on='ClientInternal', how='left')\n",
    "    recs_df = recs_df.drop(columns=['Units_y','Ccy_y'])\n",
    "    recs_df = recs_df.rename(columns={\"Ccy_x\" : \"Ccy\", \"Units_x\" : \"Units\"})\n",
    "    recs_df = recs_df[['ClientInternal', 'Ccy', 'Units', 'Left Price', 'Left PV', 'Right Price', 'Right PV', 'PV Diff']]\n",
    "    return recs_df\n",
    "\n",
    "recon_output = format_inline_recon_response(reconciliation_respose)\n",
    "\n",
    "# Convert df to csv\n",
    "recon_output.to_csv('inline_rec.csv')\n",
    "\n",
    "recon_output"
   ]
  }
 ],
 "metadata": {
  "kernelspec": {
   "display_name": "Python 3 (ipykernel)",
   "language": "python",
   "name": "python3"
  },
  "language_info": {
   "codemirror_mode": {
    "name": "ipython",
    "version": 3
   },
   "file_extension": ".py",
   "mimetype": "text/x-python",
   "name": "python",
   "nbconvert_exporter": "python",
   "pygments_lexer": "ipython3",
   "version": "3.9.7"
  }
 },
 "nbformat": 4,
 "nbformat_minor": 2
}
