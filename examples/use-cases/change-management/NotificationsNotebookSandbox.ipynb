{
 "cells": [
  {
   "cell_type": "code",
   "execution_count": 1,
   "id": "a8ae1b44",
   "metadata": {},
   "outputs": [
    {
     "name": "stdout",
     "output_type": "stream",
     "text": [
      "Found existing installation: lusid-notifications-sdk-preview 0.1.260\n",
      "Uninstalling lusid-notifications-sdk-preview-0.1.260:\n",
      "  Successfully uninstalled lusid-notifications-sdk-preview-0.1.260\n",
      "\u001b[33mWARNING: Skipping lusid-workflows-sdk-generated-preview as it is not installed.\u001b[0m\n",
      "Found existing installation: finbourne-sdk-utilities 0.0.7\n",
      "Uninstalling finbourne-sdk-utilities-0.0.7:\n",
      "  Successfully uninstalled finbourne-sdk-utilities-0.0.7\n"
     ]
    }
   ],
   "source": [
    "# Uninstall packages to make sure most up to date are imported below\n",
    "import sys\n",
    "!{sys.executable} -m pip uninstall -y lusid-notifications-sdk-preview\n",
    "!{sys.executable} -m pip uninstall -y lusid-workflows-sdk-generated-preview\n",
    "!{sys.executable} -m pip uninstall -y finbourne-sdk-utilities"
   ]
  },
  {
   "cell_type": "markdown",
   "id": "b3c523f8",
   "metadata": {},
   "source": [
    "## Notifications Test\n",
    "\n",
    "This notebook runs through a use case for the notification endpoints. The use case is as follows:\n",
    "* An issue occurs within LUSID\n",
    "* An event in LUSID is created to report the issue (these are manually triggered for now)\n",
    "* An email notification is triggered to report the event\n",
    "* An API call is triggered by the event to create an entity that stores the details of the issue and represents it in LUSID\n",
    "\n",
    "Other limitations include not being able to group multiple issues to a single wokflow. This is because custom entities (used to represent issues) cannot be related."
   ]
  },
  {
   "cell_type": "code",
   "execution_count": 2,
   "id": "525fb531",
   "metadata": {
    "scrolled": true
   },
   "outputs": [
    {
     "name": "stderr",
     "output_type": "stream",
     "text": [
      "/opt/conda/lib/python3.9/site-packages/requests/__init__.py:89: RequestsDependencyWarning: urllib3 (1.26.9) or chardet (3.0.4) doesn't match a supported version!\n",
      "  warnings.warn(\"urllib3 ({}) or chardet ({}) doesn't match a supported \"\n"
     ]
    },
    {
     "name": "stdout",
     "output_type": "stream",
     "text": [
      "Collecting lusid-notifications-sdk-preview\n",
      "  Using cached lusid_notifications_sdk_preview-0.1.260-py3-none-any.whl (93 kB)\n",
      "Requirement already satisfied: urllib3>=1.15 in /opt/conda/lib/python3.9/site-packages (from lusid-notifications-sdk-preview) (1.26.9)\n",
      "Requirement already satisfied: certifi>=14.05.14 in /opt/conda/lib/python3.9/site-packages (from lusid-notifications-sdk-preview) (2021.10.8)\n",
      "Requirement already satisfied: requests>=2.21.0 in /opt/conda/lib/python3.9/site-packages (from lusid-notifications-sdk-preview) (2.26.0)\n",
      "Requirement already satisfied: six>=1.10 in /opt/conda/lib/python3.9/site-packages (from lusid-notifications-sdk-preview) (1.16.0)\n",
      "Requirement already satisfied: python-dateutil>=2.5.3 in /opt/conda/lib/python3.9/site-packages (from lusid-notifications-sdk-preview) (2.8.2)\n",
      "Requirement already satisfied: charset-normalizer~=2.0.0 in /opt/conda/lib/python3.9/site-packages (from requests>=2.21.0->lusid-notifications-sdk-preview) (2.0.0)\n",
      "Requirement already satisfied: idna<4,>=2.5 in /opt/conda/lib/python3.9/site-packages (from requests>=2.21.0->lusid-notifications-sdk-preview) (3.1)\n",
      "Installing collected packages: lusid-notifications-sdk-preview\n",
      "Successfully installed lusid-notifications-sdk-preview-0.1.260\n",
      "Requirement already satisfied: lusid-workflows-sdk-preview in /opt/conda/lib/python3.9/site-packages (0.1.39)\n",
      "Requirement already satisfied: urllib3>=1.15 in /opt/conda/lib/python3.9/site-packages (from lusid-workflows-sdk-preview) (1.26.9)\n",
      "Requirement already satisfied: certifi>=14.05.14 in /opt/conda/lib/python3.9/site-packages (from lusid-workflows-sdk-preview) (2021.10.8)\n",
      "Requirement already satisfied: six>=1.10 in /opt/conda/lib/python3.9/site-packages (from lusid-workflows-sdk-preview) (1.16.0)\n",
      "Requirement already satisfied: requests>=2.21.0 in /opt/conda/lib/python3.9/site-packages (from lusid-workflows-sdk-preview) (2.26.0)\n",
      "Requirement already satisfied: python-dateutil>=2.5.3 in /opt/conda/lib/python3.9/site-packages (from lusid-workflows-sdk-preview) (2.8.2)\n",
      "Requirement already satisfied: charset-normalizer~=2.0.0 in /opt/conda/lib/python3.9/site-packages (from requests>=2.21.0->lusid-workflows-sdk-preview) (2.0.0)\n",
      "Requirement already satisfied: idna<4,>=2.5 in /opt/conda/lib/python3.9/site-packages (from requests>=2.21.0->lusid-workflows-sdk-preview) (3.1)\n",
      "Collecting finbourne-sdk-utilities\n",
      "  Using cached finbourne_sdk_utilities-0.0.7-py3-none-any.whl (16 kB)\n",
      "Requirement already satisfied: urllib3>=1.15.1 in /opt/conda/lib/python3.9/site-packages (from finbourne-sdk-utilities) (1.26.9)\n",
      "Installing collected packages: finbourne-sdk-utilities\n",
      "\u001b[31mERROR: pip's dependency resolver does not currently take into account all the packages that are installed. This behaviour is the source of the following dependency conflicts.\n",
      "dve-lumipy-preview 0.1.150 requires decorator==4.3, but you have decorator 5.1.0 which is incompatible.\n",
      "dve-lumipy-preview 0.1.150 requires networkx==2.5, but you have networkx 2.6.3 which is incompatible.\u001b[0m\n",
      "Successfully installed finbourne-sdk-utilities-0.0.7\n",
      "LUSID Environment Initialised\n",
      "LUSID SDK Version:  0.6.8980.0\n"
     ]
    }
   ],
   "source": [
    "# Import general purpose packages\n",
    "import os\n",
    "import json\n",
    "from datetime import datetime, timedelta\n",
    "import pytz\n",
    "\n",
    "# Import lusid specific packages\n",
    "import lusid\n",
    "import lusid.models as models\n",
    "from lusid.utilities import ApiClientFactory as lusid_factory\n",
    "from lusidjam.refreshing_token import RefreshingToken\n",
    "from lusidtools.pandas_utils.lusid_pandas import lusid_response_to_data_frame\n",
    "from lusidtools.cocoon.seed_sample_data import seed_data\n",
    "from lusidtools.cocoon.utilities import create_scope_id\n",
    "\n",
    "# Import notifications and workflows sdk preview packages\n",
    "import sys\n",
    "!{sys.executable} -m pip install lusid-notifications-sdk-preview\n",
    "!{sys.executable} -m pip install lusid-workflows-sdk-preview\n",
    "!{sys.executable} -m pip install finbourne-sdk-utilities\n",
    "import lusid_notifications as ln\n",
    "import lusid_workflows as lw\n",
    "from fbnsdkutilities import ApiClientFactory\n",
    "# Import data wrangling packages\n",
    "import pandas as pd\n",
    "import numpy as np\n",
    "\n",
    "pd.set_option(\"display.max_columns\", None)\n",
    "\n",
    "# Authenticate our user and create our API client\n",
    "from lusidtools.cocoon import load_from_data_frame\n",
    "secrets_path = os.getenv(\"FBN_SECRETS_PATH\")\n",
    "\n",
    "# Initiate an API Factory which is the client side object for interacting with LUSID APIs\n",
    "lusid_factory = lusid.utilities.ApiClientFactory(\n",
    "    token=RefreshingToken(),\n",
    "    api_secrets_filename=secrets_path,\n",
    "    app_name=\"LusidJupyterNotebook\",\n",
    ")\n",
    "\n",
    "lusid_api_url = lusid_factory.api_client.configuration.host\n",
    "notifications_url = lusid_api_url[: lusid_api_url.rfind(\"/\") + 1] + \"notifications\"\n",
    "workflows_url = lusid_api_url[: lusid_api_url.rfind(\"/\") + 1] + \"workflows\"\n",
    "\n",
    "notifications_factory = ApiClientFactory(\n",
    "    sdk=ln,\n",
    "    token=RefreshingToken(),\n",
    "    api_url=notifications_url\n",
    ")\n",
    "\n",
    "workflows_factory = ApiClientFactory(\n",
    "    sdk=lw,\n",
    "    token=RefreshingToken(),\n",
    "    api_url=workflows_url\n",
    ")\n",
    "\n",
    "# Setup the apis we'll use in this notebook:\n",
    "property_definitions_api = lusid_factory.build(lusid.api.PropertyDefinitionsApi)\n",
    "custom_entity_definitions_api = lusid_factory.build(lusid.api.CustomEntityDefinitionsApi)\n",
    "custom_entity_api = lusid_factory.build(lusid.api.CustomEntitiesApi)\n",
    "subscriptions_api = notifications_factory.build(ln.api.SubscriptionsApi)\n",
    "notifications_api = notifications_factory.build(ln.api.NotificationsApi)\n",
    "events_api = notifications_factory.build(ln.api.EventsApi)\n",
    "workflows_api = workflows_factory.build(lw.api.WorkflowsApi)\n",
    "\n",
    "print ('LUSID Environment Initialised')\n",
    "print ('LUSID SDK Version: ', lusid_factory.build(lusid.api.ApplicationMetadataApi).get_lusid_versions().build_version)"
   ]
  },
  {
   "cell_type": "markdown",
   "id": "0fd60d2f",
   "metadata": {},
   "source": [
    "### Create event subscriptions\n",
    "\n",
    "These cells create subscriptions to the events that will be used in the notebook. From these subscriptions notifications can be set up to alert various users or automically kick off follow on actions. The events that will be used are as follows:\n",
    "* New Issue\n",
    "* Workflow Created\n",
    "* Workflow Assigned\n",
    "* Workflow In Progress\n",
    "* Workflow Completed"
   ]
  },
  {
   "cell_type": "code",
   "execution_count": 3,
   "id": "2e106d56",
   "metadata": {},
   "outputs": [],
   "source": [
    "# create subscriptions to our manual events used in this notebook\n",
    "\n",
    "def create_event_subscriptions(subscription_scope, subscription_code, display_name, event_filter):\n",
    "    event_subscription = ln.CreateSubscription(\n",
    "                id= ln.ResourceId(\n",
    "                    scope=subscription_scope,\n",
    "                    code=subscription_code\n",
    "                ),\n",
    "                display_name=display_name,\n",
    "                description=\"Subscription to a manual event\",\n",
    "                status=\"Active\",\n",
    "                matching_pattern= ln.MatchingPattern(\n",
    "                    event_type=\"Manual\",\n",
    "                    filter=\"Message eq '\"+event_filter+\"'\"\n",
    "                )\n",
    "    )\n",
    "    \n",
    "    # create subscription definition\n",
    "    try:\n",
    "        create_subscription_event = subscriptions_api.create_subscription(\n",
    "            create_subscription=event_subscription\n",
    "        )\n",
    "\n",
    "    except lusid.ApiException as e:\n",
    "        print(json.loads(e.body))\n",
    "\n",
    "    return event_subscription"
   ]
  },
  {
   "cell_type": "code",
   "execution_count": 4,
   "id": "1f873c43",
   "metadata": {},
   "outputs": [],
   "source": [
    "subscription_code = 'AllocationLoadCompleted'\n",
    "subscription_scope = 'subscriptionscope'\n",
    "scope=\"email_scope\"\n",
    "code=\"email_code1\""
   ]
  },
  {
   "cell_type": "code",
   "execution_count": 5,
   "id": "ba2735b5",
   "metadata": {},
   "outputs": [],
   "source": [
    "# Setup the subscription details\n",
    "event_filter ='AllocationLoadCompleted'\n",
    "display_name='AllocationLoadCompleted'\n",
    "event_subscription = create_event_subscriptions(subscription_scope, subscription_code, display_name, event_filter)"
   ]
  },
  {
   "cell_type": "markdown",
   "id": "2982cf75",
   "metadata": {},
   "source": [
    "### Create email notifications\n",
    "\n",
    "This cell sets up email notifications for the events that have been subscribed to above. This means the user will recieve an email for each of the events triggered throughout this notebook."
   ]
  },
  {
   "cell_type": "code",
   "execution_count": 6,
   "id": "8fe351b3",
   "metadata": {},
   "outputs": [
    {
     "name": "stdout",
     "output_type": "stream",
     "text": [
      "{'content': {'HtmlBody': None,\n",
      "             'PlainTextBody': 'Event with message and details',\n",
      "             'Subject': 'Email Event Notification'},\n",
      " 'created_at': datetime.datetime(2022, 4, 7, 16, 50, 38, 307643, tzinfo=tzlocal()),\n",
      " 'created_by': '00uet0ll3vnLqW3SY2p7',\n",
      " 'delivery_channel': 'Email',\n",
      " 'description': 'Email Event Notification',\n",
      " 'id': '67b8c569-970b-4c4f-8f82-dfa3b4ff55d1',\n",
      " 'last_modified_at': datetime.datetime(2022, 4, 7, 16, 50, 38, 307643, tzinfo=tzlocal()),\n",
      " 'last_modified_by': '00uet0ll3vnLqW3SY2p7',\n",
      " 'recipients': {'EmailAddressBcc': [],\n",
      "                'EmailAddressCc': [],\n",
      "                'EmailAddressTo': ['lorenz.declercq@finbourne.com']},\n",
      " 'status': {'last_updated': datetime.datetime(2022, 4, 7, 16, 50, 38, 307643, tzinfo=tzlocal()),\n",
      "            'result': 'Unprocessed'}}\n"
     ]
    }
   ],
   "source": [
    "# create email notifications for each of the subscriptions\n",
    "create_email_notification= ln.CreateEmailNotification(\n",
    "            description=\"Email Event Notification\",\n",
    "            subject=\"Email Event Notification\",\n",
    "            plain_text_body=\"Event with message and details\",\n",
    "            email_address_to=[\"lorenz.declercq@finbourne.com\"]\n",
    "            )\n",
    "\n",
    "# API example\n",
    "# create_api_request_notification=ln.CreateWebhookNotification(\n",
    "#     description=\"Makes an Issue custom entity\",\n",
    "#     http_method=\"Post\",\n",
    "#     path_and_query=\"api/api/customentities/~issue\",\n",
    "#     content = \"example request\")\n",
    "    \n",
    "try:\n",
    "    create_email_notifications_response = notifications_api.create_email_notification(subscription_scope, subscription_code, create_email_notification\n",
    "    )\n",
    "    print(create_email_notifications_response)\n",
    "#   create_api_notification_response = notifications_api.create_api_request_notification(subscription_scope, subscription_code, create_api_request_notification)\n",
    "    notifications_api.list_notifications(subscription_scope, subscription_code)\n",
    "    \n",
    "\n",
    "except lusid.ApiException as e:\n",
    "    print(e)\n"
   ]
  },
  {
   "cell_type": "code",
   "execution_count": 7,
   "id": "49ac9995",
   "metadata": {},
   "outputs": [
    {
     "name": "stdout",
     "output_type": "stream",
     "text": [
      "{}\n"
     ]
    }
   ],
   "source": [
    "# create manual event for a new issue so that it triggers the email notification\n",
    "body= dict(\n",
    "    EventType = \"Manual\",\n",
    "    Id = \"abcdefghijk12345\",\n",
    "    Message = \"AllocationLoadCompleted\",\n",
    "            subject=\"Email Event Notification\",    \n",
    "    Details =\"Test details\",\n",
    "    EventTime =\"2021-08-27T17:39:02.9427036+01:00\"\n",
    ")\n",
    "\n",
    "try:\n",
    "    create_event_response = events_api.create_event(body)\n",
    "    print(create_event_response)\n",
    "except lusid.ApiException as e:\n",
    "    print(json.loads(e.body))"
   ]
  },
  {
   "cell_type": "code",
   "execution_count": 8,
   "id": "2be4651c",
   "metadata": {},
   "outputs": [],
   "source": [
    "# Remove the subscription\n",
    "subscriptions_api.delete_subscription(scope=\"subscriptionscope\", code=\"AllocationLoadCompleted\")"
   ]
  }
 ],
 "metadata": {
  "kernelspec": {
   "display_name": "Python 3 (ipykernel)",
   "language": "python",
   "name": "python3"
  },
  "language_info": {
   "codemirror_mode": {
    "name": "ipython",
    "version": 3
   },
   "file_extension": ".py",
   "mimetype": "text/x-python",
   "name": "python",
   "nbconvert_exporter": "python",
   "pygments_lexer": "ipython3",
   "version": "3.9.7"
  }
 },
 "nbformat": 4,
 "nbformat_minor": 5
}
