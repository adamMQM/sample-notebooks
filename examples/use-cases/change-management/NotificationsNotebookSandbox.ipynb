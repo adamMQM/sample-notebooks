{
 "cells": [
  {
   "cell_type": "code",
   "execution_count": 1,
   "id": "a8ae1b44",
   "metadata": {},
   "outputs": [
    {
     "name": "stdout",
     "output_type": "stream",
     "text": [
      "Found existing installation: lusid-notifications-sdk-preview 0.1.260\n",
      "Uninstalling lusid-notifications-sdk-preview-0.1.260:\n",
      "  Successfully uninstalled lusid-notifications-sdk-preview-0.1.260\n"
     ]
    },
    {
     "name": "stderr",
     "output_type": "stream",
     "text": [
      "WARNING: Skipping lusid-workflows-sdk-generated-preview as it is not installed.\n"
     ]
    },
    {
     "name": "stdout",
     "output_type": "stream",
     "text": [
      "Found existing installation: finbourne-sdk-utilities 0.0.7\n",
      "Uninstalling finbourne-sdk-utilities-0.0.7:\n",
      "  Successfully uninstalled finbourne-sdk-utilities-0.0.7\n"
     ]
    }
   ],
   "source": [
    "# Uninstall packages to make sure most up to date are imported below\n",
    "import sys\n",
    "!{sys.executable} -m pip uninstall -y lusid-notifications-sdk-preview\n",
    "!{sys.executable} -m pip uninstall -y lusid-workflows-sdk-generated-preview\n",
    "!{sys.executable} -m pip uninstall -y finbourne-sdk-utilities"
   ]
  },
  {
   "cell_type": "markdown",
   "id": "b3c523f8",
   "metadata": {},
   "source": [
    "## Notifications Test\n",
    "\n",
    "This notebook runs through a use case for the notification endpoints. The use case is that, following a data load into LUSID (for example daily feed of Transactions) :\n",
    "\n",
    "* A subscription is created to report the upload event\n",
    "* An email notification is added to the subscription to report the event to a set of interested parties\n",
    "* A webhook notification is added to the subscription to continue processing in a downstream system (this is currently disabled)\n",
    "* The event is manually triggered"
   ]
  },
  {
   "cell_type": "code",
   "execution_count": 2,
   "id": "525fb531",
   "metadata": {
    "scrolled": true
   },
   "outputs": [
    {
     "name": "stdout",
     "output_type": "stream",
     "text": [
      "Collecting lusid-notifications-sdk-preview\n",
      "  Using cached lusid_notifications_sdk_preview-0.1.260-py3-none-any.whl (93 kB)\n",
      "Requirement already satisfied: six>=1.10 in c:\\python38\\lib\\site-packages (from lusid-notifications-sdk-preview) (1.16.0)\n",
      "Requirement already satisfied: requests>=2.21.0 in c:\\python38\\lib\\site-packages (from lusid-notifications-sdk-preview) (2.24.0)\n",
      "Requirement already satisfied: urllib3>=1.15.1 in c:\\python38\\lib\\site-packages (from lusid-notifications-sdk-preview) (1.25.11)\n",
      "Requirement already satisfied: certifi>=14.05.14 in c:\\python38\\lib\\site-packages (from lusid-notifications-sdk-preview) (2021.10.8)\n",
      "Requirement already satisfied: python-dateutil>=2.5.3 in c:\\python38\\lib\\site-packages (from lusid-notifications-sdk-preview) (2.8.2)\n",
      "Requirement already satisfied: idna<3,>=2.5 in c:\\python38\\lib\\site-packages (from requests>=2.21.0->lusid-notifications-sdk-preview) (2.10)\n"
     ]
    },
    {
     "name": "stderr",
     "output_type": "stream",
     "text": [
      "WARNING: You are using pip version 21.3.1; however, version 22.0.4 is available.\n",
      "You should consider upgrading via the 'C:\\Python38\\python.exe -m pip install --upgrade pip' command.\n"
     ]
    },
    {
     "name": "stdout",
     "output_type": "stream",
     "text": [
      "Requirement already satisfied: chardet<4,>=3.0.2 in c:\\python38\\lib\\site-packages (from requests>=2.21.0->lusid-notifications-sdk-preview) (3.0.4)\n",
      "Installing collected packages: lusid-notifications-sdk-preview\n",
      "Successfully installed lusid-notifications-sdk-preview-0.1.260\n",
      "Requirement already satisfied: lusid-workflows-sdk-preview in c:\\python38\\lib\\site-packages (0.1.39)\n",
      "Requirement already satisfied: certifi>=14.05.14 in c:\\python38\\lib\\site-packages (from lusid-workflows-sdk-preview) (2021.10.8)\n",
      "Requirement already satisfied: urllib3>=1.15 in c:\\python38\\lib\\site-packages (from lusid-workflows-sdk-preview) (1.25.11)\n",
      "Requirement already satisfied: requests>=2.21.0 in c:\\python38\\lib\\site-packages (from lusid-workflows-sdk-preview) (2.24.0)\n",
      "Requirement already satisfied: six>=1.10 in c:\\python38\\lib\\site-packages (from lusid-workflows-sdk-preview) (1.16.0)\n",
      "Requirement already satisfied: python-dateutil>=2.5.3 in c:\\python38\\lib\\site-packages (from lusid-workflows-sdk-preview) (2.8.2)\n",
      "Requirement already satisfied: idna<3,>=2.5 in c:\\python38\\lib\\site-packages (from requests>=2.21.0->lusid-workflows-sdk-preview) (2.10)\n",
      "Requirement already satisfied: chardet<4,>=3.0.2 in c:\\python38\\lib\\site-packages (from requests>=2.21.0->lusid-workflows-sdk-preview) (3.0.4)\n"
     ]
    },
    {
     "name": "stderr",
     "output_type": "stream",
     "text": [
      "WARNING: You are using pip version 21.3.1; however, version 22.0.4 is available.\n",
      "You should consider upgrading via the 'C:\\Python38\\python.exe -m pip install --upgrade pip' command.\n"
     ]
    },
    {
     "name": "stdout",
     "output_type": "stream",
     "text": [
      "Collecting finbourne-sdk-utilities\n",
      "  Using cached finbourne_sdk_utilities-0.0.7-py3-none-any.whl (16 kB)\n",
      "Requirement already satisfied: urllib3>=1.15.1 in c:\\python38\\lib\\site-packages (from finbourne-sdk-utilities) (1.25.11)\n",
      "Installing collected packages: finbourne-sdk-utilities\n",
      "Successfully installed finbourne-sdk-utilities-0.0.7\n"
     ]
    },
    {
     "name": "stderr",
     "output_type": "stream",
     "text": [
      "WARNING: You are using pip version 21.3.1; however, version 22.0.4 is available.\n",
      "You should consider upgrading via the 'C:\\Python38\\python.exe -m pip install --upgrade pip' command.\n"
     ]
    },
    {
     "ename": "ValueError",
     "evalue": "The fields ['api_url', 'password', 'username', 'client_id', 'client_secret', 'token_url'] on the ApiConfiguration are set to None, please ensure that you have provided them directly, via a secrets file or environment variables",
     "output_type": "error",
     "traceback": [
      "\u001b[1;31m---------------------------------------------------------------------------\u001b[0m",
      "\u001b[1;31mValueError\u001b[0m                                Traceback (most recent call last)",
      "\u001b[1;32mC:\\Users\\LORENZ~1\\AppData\\Local\\Temp/ipykernel_23804/2682190763.py\u001b[0m in \u001b[0;36m<module>\u001b[1;34m\u001b[0m\n\u001b[0;32m     43\u001b[0m \u001b[0mworkflows_url\u001b[0m \u001b[1;33m=\u001b[0m \u001b[0mlusid_api_url\u001b[0m\u001b[1;33m[\u001b[0m\u001b[1;33m:\u001b[0m \u001b[0mlusid_api_url\u001b[0m\u001b[1;33m.\u001b[0m\u001b[0mrfind\u001b[0m\u001b[1;33m(\u001b[0m\u001b[1;34m\"/\"\u001b[0m\u001b[1;33m)\u001b[0m \u001b[1;33m+\u001b[0m \u001b[1;36m1\u001b[0m\u001b[1;33m]\u001b[0m \u001b[1;33m+\u001b[0m \u001b[1;34m\"workflows\"\u001b[0m\u001b[1;33m\u001b[0m\u001b[1;33m\u001b[0m\u001b[0m\n\u001b[0;32m     44\u001b[0m \u001b[1;33m\u001b[0m\u001b[0m\n\u001b[1;32m---> 45\u001b[1;33m notifications_factory = ApiClientFactory(\n\u001b[0m\u001b[0;32m     46\u001b[0m     \u001b[0msdk\u001b[0m\u001b[1;33m=\u001b[0m\u001b[0mln\u001b[0m\u001b[1;33m,\u001b[0m\u001b[1;33m\u001b[0m\u001b[1;33m\u001b[0m\u001b[0m\n\u001b[0;32m     47\u001b[0m     \u001b[0mtoken\u001b[0m\u001b[1;33m=\u001b[0m\u001b[0mRefreshingToken\u001b[0m\u001b[1;33m(\u001b[0m\u001b[1;33m)\u001b[0m\u001b[1;33m,\u001b[0m\u001b[1;33m\u001b[0m\u001b[1;33m\u001b[0m\u001b[0m\n",
      "\u001b[1;32mC:\\Python38\\lib\\site-packages\\fbnsdkutilities\\utilities\\api_client_factory.py\u001b[0m in \u001b[0;36m__init__\u001b[1;34m(self, sdk, **kwargs)\u001b[0m\n\u001b[0;32m     61\u001b[0m \u001b[1;33m\u001b[0m\u001b[0m\n\u001b[0;32m     62\u001b[0m         \u001b[1;31m# Call the client builder, this will result in using either a token, secrets file or environment variables\u001b[0m\u001b[1;33m\u001b[0m\u001b[1;33m\u001b[0m\u001b[1;33m\u001b[0m\u001b[0m\n\u001b[1;32m---> 63\u001b[1;33m         \u001b[0mself\u001b[0m\u001b[1;33m.\u001b[0m\u001b[0mapi_client\u001b[0m \u001b[1;33m=\u001b[0m \u001b[0mApiClientBuilder\u001b[0m\u001b[1;33m.\u001b[0m\u001b[0mbuild\u001b[0m\u001b[1;33m(\u001b[0m\u001b[0mself\u001b[0m\u001b[1;33m.\u001b[0m\u001b[0msdk\u001b[0m\u001b[1;33m,\u001b[0m \u001b[1;33m**\u001b[0m\u001b[0mbuilder_kwargs\u001b[0m\u001b[1;33m)\u001b[0m\u001b[1;33m\u001b[0m\u001b[1;33m\u001b[0m\u001b[0m\n\u001b[0m\u001b[0;32m     64\u001b[0m \u001b[1;33m\u001b[0m\u001b[0m\n\u001b[0;32m     65\u001b[0m     \u001b[1;32mdef\u001b[0m \u001b[0mbuild\u001b[0m\u001b[1;33m(\u001b[0m\u001b[0mself\u001b[0m\u001b[1;33m,\u001b[0m \u001b[0mmetaclass\u001b[0m\u001b[1;33m)\u001b[0m\u001b[1;33m:\u001b[0m\u001b[1;33m\u001b[0m\u001b[1;33m\u001b[0m\u001b[0m\n",
      "\u001b[1;32mC:\\Python38\\lib\\site-packages\\fbnsdkutilities\\utilities\\api_client_builder.py\u001b[0m in \u001b[0;36mbuild\u001b[1;34m(cls, sdk, api_secrets_filename, id_provider_response_handler, api_configuration, token, correlation_id, tcp_keep_alive)\u001b[0m\n\u001b[0;32m     68\u001b[0m         \u001b[1;32melse\u001b[0m\u001b[1;33m:\u001b[0m\u001b[1;33m\u001b[0m\u001b[1;33m\u001b[0m\u001b[0m\n\u001b[0;32m     69\u001b[0m             \u001b[1;31m# Check that all the required fields for generating a token exist\u001b[0m\u001b[1;33m\u001b[0m\u001b[1;33m\u001b[0m\u001b[1;33m\u001b[0m\u001b[0m\n\u001b[1;32m---> 70\u001b[1;33m             cls.__check_required_fields(configuration, [\n\u001b[0m\u001b[0;32m     71\u001b[0m                 \u001b[1;34m\"api_url\"\u001b[0m\u001b[1;33m,\u001b[0m\u001b[1;33m\u001b[0m\u001b[1;33m\u001b[0m\u001b[0m\n\u001b[0;32m     72\u001b[0m                 \u001b[1;34m\"password\"\u001b[0m\u001b[1;33m,\u001b[0m\u001b[1;33m\u001b[0m\u001b[1;33m\u001b[0m\u001b[0m\n",
      "\u001b[1;32mC:\\Python38\\lib\\site-packages\\fbnsdkutilities\\utilities\\api_client_builder.py\u001b[0m in \u001b[0;36m__check_required_fields\u001b[1;34m(object_to_check, fields)\u001b[0m\n\u001b[0;32m     31\u001b[0m         \u001b[1;31m# Raise an error if any fields have a value of None\u001b[0m\u001b[1;33m\u001b[0m\u001b[1;33m\u001b[0m\u001b[1;33m\u001b[0m\u001b[0m\n\u001b[0;32m     32\u001b[0m         \u001b[1;32mif\u001b[0m \u001b[0mlen\u001b[0m\u001b[1;33m(\u001b[0m\u001b[0mmissing_fields\u001b[0m\u001b[1;33m)\u001b[0m \u001b[1;33m>\u001b[0m \u001b[1;36m0\u001b[0m\u001b[1;33m:\u001b[0m\u001b[1;33m\u001b[0m\u001b[1;33m\u001b[0m\u001b[0m\n\u001b[1;32m---> 33\u001b[1;33m             raise ValueError(\n\u001b[0m\u001b[0;32m     34\u001b[0m                 \u001b[1;34mf\"The fields {str(missing_fields)} on the {object_to_check.__class__.__name__} are set to None, \"\u001b[0m\u001b[1;33m\u001b[0m\u001b[1;33m\u001b[0m\u001b[0m\n\u001b[0;32m     35\u001b[0m                 \u001b[1;34mf\"please ensure that you have provided them directly, via a secrets file or environment \"\u001b[0m\u001b[1;33m\u001b[0m\u001b[1;33m\u001b[0m\u001b[0m\n",
      "\u001b[1;31mValueError\u001b[0m: The fields ['api_url', 'password', 'username', 'client_id', 'client_secret', 'token_url'] on the ApiConfiguration are set to None, please ensure that you have provided them directly, via a secrets file or environment variables"
     ]
    }
   ],
   "source": [
    "# Import general purpose packages\n",
    "import os\n",
    "import json\n",
    "from datetime import datetime, timedelta\n",
    "import pytz\n",
    "\n",
    "# Import lusid specific packages\n",
    "import lusid\n",
    "import lusid.models as models\n",
    "from lusid.utilities import ApiClientFactory as lusid_factory\n",
    "from lusidjam.refreshing_token import RefreshingToken\n",
    "from lusidtools.pandas_utils.lusid_pandas import lusid_response_to_data_frame\n",
    "from lusidtools.cocoon.seed_sample_data import seed_data\n",
    "from lusidtools.cocoon.utilities import create_scope_id\n",
    "\n",
    "# Import notifications and workflows sdk preview packages\n",
    "import sys\n",
    "!{sys.executable} -m pip install lusid-notifications-sdk-preview\n",
    "!{sys.executable} -m pip install lusid-workflows-sdk-preview\n",
    "!{sys.executable} -m pip install finbourne-sdk-utilities\n",
    "import lusid_notifications as ln\n",
    "import lusid_workflows as lw\n",
    "from fbnsdkutilities import ApiClientFactory\n",
    "# Import data wrangling packages\n",
    "import pandas as pd\n",
    "import numpy as np\n",
    "\n",
    "pd.set_option(\"display.max_columns\", None)\n",
    "\n",
    "# Authenticate our user and create our API client\n",
    "from lusidtools.cocoon import load_from_data_frame\n",
    "secrets_path = os.getenv(\"FBN_SECRETS_PATH\")\n",
    "\n",
    "# Initiate an API Factory which is the client side object for interacting with LUSID APIs\n",
    "lusid_factory = lusid.utilities.ApiClientFactory(\n",
    "    token=RefreshingToken(),\n",
    "    api_secrets_filename=secrets_path,\n",
    "    app_name=\"LusidJupyterNotebook\",\n",
    ")\n",
    "\n",
    "lusid_api_url = lusid_factory.api_client.configuration.host\n",
    "notifications_url = lusid_api_url[: lusid_api_url.rfind(\"/\") + 1] + \"notifications\"\n",
    "workflows_url = lusid_api_url[: lusid_api_url.rfind(\"/\") + 1] + \"workflows\"\n",
    "\n",
    "notifications_factory = ApiClientFactory(\n",
    "    sdk=ln,\n",
    "    token=RefreshingToken(),\n",
    "    api_url=notifications_url\n",
    ")\n",
    "\n",
    "workflows_factory = ApiClientFactory(\n",
    "    sdk=lw,\n",
    "    token=RefreshingToken(),\n",
    "    api_url=workflows_url\n",
    ")\n",
    "\n",
    "# Setup the apis we'll use in this notebook:\n",
    "subscriptions_api = notifications_factory.build(ln.api.SubscriptionsApi)\n",
    "notifications_api = notifications_factory.build(ln.api.NotificationsApi)\n",
    "events_api = notifications_factory.build(ln.api.EventsApi)\n",
    "\n",
    "\n",
    "print ('LUSID Environment Initialised')\n",
    "print ('LUSID SDK Version: ', lusid_factory.build(lusid.api.ApplicationMetadataApi).get_lusid_versions().build_version)"
   ]
  },
  {
   "cell_type": "markdown",
   "id": "0fd60d2f",
   "metadata": {},
   "source": [
    "### Create event subscriptions\n",
    "\n",
    "These cells create subscriptions to the events that will be used in the notebook. From these subscriptions notifications can be set up to alert various users or automically kick off follow on actions."
   ]
  },
  {
   "cell_type": "code",
   "execution_count": null,
   "id": "2e106d56",
   "metadata": {},
   "outputs": [],
   "source": [
    "# create subscriptions to our manual events used in this notebook\n",
    "\n",
    "def create_event_subscriptions(subscription_scope, subscription_code, display_name, event_filter):\n",
    "    event_subscription = ln.CreateSubscription(\n",
    "                id= ln.ResourceId(\n",
    "                    scope=subscription_scope,\n",
    "                    code=subscription_code\n",
    "                ),\n",
    "                display_name=display_name,\n",
    "                description=\"Subscription to a manual event\",\n",
    "                status=\"Active\",\n",
    "                matching_pattern= ln.MatchingPattern(\n",
    "                    event_type=\"Manual\",\n",
    "                    filter=\"Message eq '\"+event_filter+\"'\"\n",
    "                )\n",
    "    )\n",
    "    \n",
    "    # create subscription definition\n",
    "    try:\n",
    "        create_subscription_event = subscriptions_api.create_subscription(\n",
    "            create_subscription=event_subscription\n",
    "        )\n",
    "\n",
    "    except lusid.ApiException as e:\n",
    "        print(json.loads(e.body))\n",
    "\n",
    "    return event_subscription"
   ]
  },
  {
   "cell_type": "code",
   "execution_count": null,
   "id": "5d0864d3",
   "metadata": {},
   "outputs": [],
   "source": [
    "subscription_scope = 'subscriptionscope'\n",
    "subscription_code = 'TransactionsLoaded'"
   ]
  },
  {
   "cell_type": "code",
   "execution_count": null,
   "id": "ba2735b5",
   "metadata": {},
   "outputs": [],
   "source": [
    "# Setup the subscription details\n",
    "event_filter ='TransactionsLoaded'\n",
    "display_name='TransactionsLoaded'\n",
    "event_subscription = create_event_subscriptions(subscription_scope, subscription_code, display_name, event_filter)"
   ]
  },
  {
   "cell_type": "markdown",
   "id": "2982cf75",
   "metadata": {},
   "source": [
    "### Create email notifications\n",
    "\n",
    "This cell sets up email notifications for the events that have been subscribed to above. This means the user will recieve an email for each of the events triggered throughout this notebook."
   ]
  },
  {
   "cell_type": "code",
   "execution_count": null,
   "id": "8fe351b3",
   "metadata": {},
   "outputs": [],
   "source": [
    "# create email notifications for the subscription\n",
    "create_email_notification= ln.CreateEmailNotification(\n",
    "            description=\"Email Event Notification\",\n",
    "            subject=\"Email Event Notification\",\n",
    "            plain_text_body=\"Event with message and details\",\n",
    "            email_address_to=[\"lorenz.declercq@finbourne.com\"]\n",
    "            )\n",
    "\n",
    "# Create a Webhook notification for the subscription\n",
    "#\n",
    "# create_api_request_notification=ln.CreateWebhookNotification(\n",
    "#     description=\"Makes an Issue custom entity\",\n",
    "#     http_method=\"Post\",\n",
    "#     path_and_query=\"api/api/customentities/~issue\",\n",
    "#     content = \"example request\")\n",
    "    \n",
    "try:\n",
    "    create_email_notifications_response = notifications_api.create_email_notification(subscription_scope, subscription_code, create_email_notification\n",
    "    )\n",
    "#   create_api_notification_response = notifications_api.create_api_request_notification(subscription_scope, subscription_code, create_api_request_notification)\n",
    "    notifications = notifications_api.list_notifications(subscription_scope, subscription_code)\n",
    "    print(notifications)\n",
    "\n",
    "except lusid.ApiException as e:\n",
    "    print(e)\n"
   ]
  },
  {
   "cell_type": "code",
   "execution_count": null,
   "id": "49ac9995",
   "metadata": {},
   "outputs": [],
   "source": [
    "# create manual event for a new issue so that it triggers the email notification\n",
    "body= dict(\n",
    "    EventType = \"Manual\",\n",
    "    Id = \"abcdefghijk12345\",\n",
    "    Message = \"TransactionsLoaded\",\n",
    "            subject=\"Email Event Notification\",    \n",
    "    Details =\"Test details\",\n",
    "    EventTime =\"2021-08-27T17:39:02.9427036+01:00\"\n",
    ")\n",
    "\n",
    "try:\n",
    "    create_event_response = events_api.create_event(body)\n",
    "    print(create_event_response)\n",
    "except lusid.ApiException as e:\n",
    "    print(json.loads(e.body))"
   ]
  },
  {
   "cell_type": "code",
   "execution_count": null,
   "id": "89976d2e",
   "metadata": {},
   "outputs": [],
   "source": [
    "# Remove the subscription\n",
    "subscriptions_api.delete_subscription(scope=subscription_scope, code=subscription_code)"
   ]
  }
 ],
 "metadata": {
  "kernelspec": {
   "display_name": "Python 3 (ipykernel)",
   "language": "python",
   "name": "python3"
  },
  "language_info": {
   "codemirror_mode": {
    "name": "ipython",
    "version": 3
   },
   "file_extension": ".py",
   "mimetype": "text/x-python",
   "name": "python",
   "nbconvert_exporter": "python",
   "pygments_lexer": "ipython3",
   "version": "3.8.0"
  }
 },
 "nbformat": 4,
 "nbformat_minor": 5
}
