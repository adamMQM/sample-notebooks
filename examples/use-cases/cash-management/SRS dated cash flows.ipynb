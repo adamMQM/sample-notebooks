{
 "cells": [
  {
   "cell_type": "code",
   "execution_count": 1,
   "id": "3489976a",
   "metadata": {},
   "outputs": [
    {
     "data": {
      "text/html": [
       "<style>.container { width:90% !important; }</style>"
      ],
      "text/plain": [
       "<IPython.core.display.HTML object>"
      ]
     },
     "metadata": {},
     "output_type": "display_data"
    },
    {
     "name": "stderr",
     "output_type": "stream",
     "text": [
      "WARNING:root:Provided secrets file of /home/jovyan/Code/Fidelity/secrets.json can not be found, please ensure you have correctly specified the full path to the file or don't provide a secrets file to use environment variables instead.\n"
     ]
    }
   ],
   "source": [
    "# Use first block to import generic non-LUSID packages\n",
    "import io\n",
    "import os\n",
    "import pandas as pd\n",
    "import numpy as np\n",
    "import json\n",
    "import pytz\n",
    "from IPython.core.display import HTML\n",
    "from datetime import datetime\n",
    "\n",
    "# Then import the key modules from the LUSID package (i.e. The LUSID SDK)\n",
    "import lusid as lu\n",
    "import lusid.api as la\n",
    "import lusid.models as lm\n",
    "\n",
    "# And use absolute imports to import key functions from Lusid-Python-Tools and other helper package\n",
    "\n",
    "from lusid.utilities import ApiClientFactory\n",
    "from lusidjam import RefreshingToken\n",
    "\n",
    "# Set DataFrame display formats\n",
    "pd.set_option(\"display.max_columns\", None)\n",
    "pd.set_option(\"display.max_rows\", None)\n",
    "pd.options.display.float_format = \"{:.2f}\".format\n",
    "display(HTML(\"<style>.container { width:90% !important; }</style>\"))\n",
    "\n",
    "# Authenticate our user and create our API client\n",
    "secrets_path = os.getenv(\"FBN_SECRETS_PATH\")\n",
    "\n",
    "if secrets_path is None:\n",
    "    secrets_path = os.path.join(os.path.dirname(os.getcwd()), \"secrets.json\")\n",
    "\n",
    "api_factory = ApiClientFactory(\n",
    "    token=RefreshingToken(),\n",
    "    api_secrets_filename=secrets_path,\n",
    "    app_name=\"LusidJupyterNotebook\",\n",
    ")\n",
    "\n",
    "api_status=pd.DataFrame(\n",
    "    api_factory.build(lu.ApplicationMetadataApi).get_lusid_versions().to_dict()\n",
    ")\n",
    "\n",
    "\n",
    "scope = \"srs-example\""
   ]
  },
  {
   "cell_type": "code",
   "execution_count": 2,
   "id": "b35bff98",
   "metadata": {},
   "outputs": [],
   "source": [
    "df= pd.read_csv('data/Cash_Example.csv')"
   ]
  },
  {
   "cell_type": "code",
   "execution_count": 3,
   "id": "8635fc61",
   "metadata": {},
   "outputs": [],
   "source": [
    "srs_api=api_factory.build(lu.StructuredResultDataApi)\n",
    "instruments_api=api_factory.build(lu.InstrumentsApi)"
   ]
  },
  {
   "cell_type": "code",
   "execution_count": 4,
   "id": "0f58d952",
   "metadata": {},
   "outputs": [
    {
     "data": {
      "text/plain": [
       "{'name': 'StandardResourceConflict',\n",
       " 'errorDetails': [],\n",
       " 'code': 461,\n",
       " 'type': 'https://docs.lusid.com/#section/Error-Codes/461',\n",
       " 'title': 'Could not validate command. Reason given: DataMap exists',\n",
       " 'status': 404,\n",
       " 'detail': 'Could not validate command. Reason given: DataMap exists',\n",
       " 'instance': 'https://omar.lusid.com/app/insights/logs/0HMC1QPUMOTQK:0000000B',\n",
       " 'extensions': {}}"
      ]
     },
     "metadata": {},
     "output_type": "display_data"
    }
   ],
   "source": [
    "### Not required for retrival\n",
    "\n",
    "srs_data_map=lm.DataMapping(\n",
    "    data_definitions=[\n",
    "\n",
    "\n",
    "        lm.DataDefinition(address=\"UnitResult/Portfolio/Portfolio_Code\", name=\"Portfolio\", data_type=\"string\", key_type=\"Leaf\"),\n",
    "        lm.DataDefinition(address=\"UnitResult/Portfolio/Currency\", name = \"Currency\", data_type=\"string\", key_type=\"Leaf\"),\n",
    "        lm.DataDefinition(address=\"UnitResult/Portfolio/Class\", name = \"Class\", data_type=\"string\", key_type=\"Leaf\"),\n",
    "        lm.DataDefinition(address=\"UnitResult/Instrument/default/LusidInstrumentId\", name=\"Identifier\", data_type=\"string\", key_type=\"Leaf\"),\n",
    "        lm.DataDefinition(address=\"UnitResult/Units\", name=\"Units\", data_type=\"decimal\", key_type=\"Leaf\"),\n",
    "    ]\n",
    ")\n",
    "\n",
    "srs_data_map_key = lm.DataMapKey(version=\"0.006\", code = \"cash-flow-map\")\n",
    "\n",
    "# display(srs_data_map)\n",
    "\n",
    "try:    \n",
    "    srs_api.create_data_map(\n",
    "        scope=scope, \n",
    "        request_body={\n",
    "            \"market-valuation-map\": lm.CreateDataMapRequest(\n",
    "                id=srs_data_map_key,\n",
    "                data=srs_data_map\n",
    "            )\n",
    "        }\n",
    "    )\n",
    "except lu.ApiException as e:\n",
    "    display(json.loads(e.body))"
   ]
  },
  {
   "cell_type": "markdown",
   "id": "7738a741",
   "metadata": {},
   "source": [
    "## Upload all records effective 9am"
   ]
  },
  {
   "cell_type": "code",
   "execution_count": 5,
   "id": "2ea6b390",
   "metadata": {
    "scrolled": true
   },
   "outputs": [
    {
     "data": {
      "text/plain": [
       "{'failed': {},\n",
       " 'href': None,\n",
       " 'links': [{'description': 'A link to the LUSID Insights website showing all '\n",
       "                           'logs related to this request',\n",
       "            'href': 'http://omar.lusid.com/app/insights/logs/0HMC1QPTTKVHU:00000016',\n",
       "            'method': 'GET',\n",
       "            'relation': 'RequestLogs'}],\n",
       " 'values': {'data': datetime.datetime(2021, 9, 27, 17, 12, 11, 811455, tzinfo=tzlocal())}}"
      ]
     },
     "execution_count": 5,
     "metadata": {},
     "output_type": "execute_result"
    }
   ],
   "source": [
    "effective_date=datetime(2021, 9, 20,9, tzinfo=pytz.utc)\n",
    "\n",
    "srs_data_id=lm.StructuredResultDataId(\n",
    "        source = \"Client\",\n",
    "        code = \"CashData\",\n",
    "        effective_at = effective_date,\n",
    "        result_type = \"cashflow\"\n",
    "    )\n",
    "\n",
    "srs_df=df\n",
    "    \n",
    "s=io.StringIO()\n",
    "srs_df.to_csv(s)\n",
    "    \n",
    "srs_data=lm.StructuredResultData(\n",
    "        document_format=\"Csv\",\n",
    "        version=\"0.1.1\",\n",
    "        name=\"Market valuations\",\n",
    "        data_map_key=srs_data_map_key,\n",
    "        document=s.getvalue()        \n",
    ")\n",
    "    \n",
    "srs_api.upsert_structured_result_data(\n",
    "    scope=scope, \n",
    "    request_body={ \n",
    "        \"data\": lm.UpsertStructuredResultDataRequest(\n",
    "            id=srs_data_id, \n",
    "                data=srs_data\n",
    "        )\n",
    "    }\n",
    ")"
   ]
  },
  {
   "cell_type": "markdown",
   "id": "bc0e62fd",
   "metadata": {},
   "source": [
    "## See result ouput"
   ]
  },
  {
   "cell_type": "code",
   "execution_count": 6,
   "id": "bc5afbc9",
   "metadata": {},
   "outputs": [
    {
     "data": {
      "text/html": [
       "<div>\n",
       "<style scoped>\n",
       "    .dataframe tbody tr th:only-of-type {\n",
       "        vertical-align: middle;\n",
       "    }\n",
       "\n",
       "    .dataframe tbody tr th {\n",
       "        vertical-align: top;\n",
       "    }\n",
       "\n",
       "    .dataframe thead th {\n",
       "        text-align: right;\n",
       "    }\n",
       "</style>\n",
       "<table border=\"1\" class=\"dataframe\">\n",
       "  <thead>\n",
       "    <tr style=\"text-align: right;\">\n",
       "      <th></th>\n",
       "      <th>Unnamed: 0</th>\n",
       "      <th>Identifier</th>\n",
       "      <th>Portfolio_Code</th>\n",
       "      <th>Currency</th>\n",
       "      <th>Class</th>\n",
       "      <th>Units</th>\n",
       "    </tr>\n",
       "  </thead>\n",
       "  <tbody>\n",
       "    <tr>\n",
       "      <th>0</th>\n",
       "      <td>0</td>\n",
       "      <td>AV_CASH</td>\n",
       "      <td>port_1</td>\n",
       "      <td>USD</td>\n",
       "      <td>Available</td>\n",
       "      <td>10,000</td>\n",
       "    </tr>\n",
       "    <tr>\n",
       "      <th>1</th>\n",
       "      <td>1</td>\n",
       "      <td>COM_CASH</td>\n",
       "      <td>port_1</td>\n",
       "      <td>USD</td>\n",
       "      <td>Committed Cash</td>\n",
       "      <td>15,000</td>\n",
       "    </tr>\n",
       "    <tr>\n",
       "      <th>2</th>\n",
       "      <td>2</td>\n",
       "      <td>SET_CASH</td>\n",
       "      <td>port_1</td>\n",
       "      <td>USD</td>\n",
       "      <td>CashAtBroker</td>\n",
       "      <td>1000</td>\n",
       "    </tr>\n",
       "  </tbody>\n",
       "</table>\n",
       "</div>"
      ],
      "text/plain": [
       "   Unnamed: 0 Identifier Portfolio_Code Currency           Class   Units\n",
       "0           0    AV_CASH         port_1      USD       Available  10,000\n",
       "1           1   COM_CASH         port_1      USD  Committed Cash  15,000\n",
       "2           2   SET_CASH         port_1      USD    CashAtBroker    1000"
      ]
     },
     "metadata": {},
     "output_type": "display_data"
    }
   ],
   "source": [
    "key='key'\n",
    "\n",
    "values=srs_api.get_structured_result_data(\n",
    "        scope=scope, \n",
    "        request_body={\n",
    "            key: srs_data_id\n",
    "    }\n",
    ")\n",
    "    \n",
    "s=io.StringIO(values.values[key].document)\n",
    "values_df = pd.read_csv(s)\n",
    "    \n",
    "display(values_df)"
   ]
  },
  {
   "cell_type": "markdown",
   "id": "6ee56d83",
   "metadata": {},
   "source": [
    "## Update record for midday - Reuplaod entire data set"
   ]
  },
  {
   "cell_type": "code",
   "execution_count": 7,
   "id": "aab8bcb7",
   "metadata": {},
   "outputs": [],
   "source": [
    "df_2=df\n",
    "df_2.loc[0,'Units']=20000"
   ]
  },
  {
   "cell_type": "code",
   "execution_count": 8,
   "id": "b3caf19c",
   "metadata": {},
   "outputs": [
    {
     "data": {
      "text/plain": [
       "{'failed': {},\n",
       " 'href': None,\n",
       " 'links': [{'description': 'A link to the LUSID Insights website showing all '\n",
       "                           'logs related to this request',\n",
       "            'href': 'http://omar.lusid.com/app/insights/logs/0HMC1QPTTKVHU:00000018',\n",
       "            'method': 'GET',\n",
       "            'relation': 'RequestLogs'}],\n",
       " 'values': {'data': datetime.datetime(2021, 9, 27, 17, 12, 12, 85185, tzinfo=tzlocal())}}"
      ]
     },
     "execution_count": 8,
     "metadata": {},
     "output_type": "execute_result"
    }
   ],
   "source": [
    "effective_date=datetime(2021, 9, 20,12, tzinfo=pytz.utc)\n",
    "\n",
    "srs_data_id=lm.StructuredResultDataId(\n",
    "        source=\"Client\",\n",
    "        code=\"CashData\",\n",
    "        effective_at=effective_date,\n",
    "        result_type = \"cashflow\"\n",
    "    )\n",
    "\n",
    "srs_df=df_2\n",
    "    \n",
    "s = io.StringIO()\n",
    "srs_df.to_csv(s)\n",
    "    \n",
    "srs_data=lm.StructuredResultData(\n",
    "        document_format=\"Csv\",\n",
    "        version=\"0.1.1\",\n",
    "        name=\"Market valuations\",\n",
    "        data_map_key=srs_data_map_key,\n",
    "        document = s.getvalue()\n",
    ")\n",
    "    \n",
    "srs_api.upsert_structured_result_data(\n",
    "    scope = scope,\n",
    "    request_body = {\n",
    "        \"data\": lm.UpsertStructuredResultDataRequest(\n",
    "            id = srs_data_id,\n",
    "                data = srs_data\n",
    "        )\n",
    "    }\n",
    ")"
   ]
  },
  {
   "cell_type": "code",
   "execution_count": 9,
   "id": "54bf3460",
   "metadata": {},
   "outputs": [
    {
     "data": {
      "text/html": [
       "<div>\n",
       "<style scoped>\n",
       "    .dataframe tbody tr th:only-of-type {\n",
       "        vertical-align: middle;\n",
       "    }\n",
       "\n",
       "    .dataframe tbody tr th {\n",
       "        vertical-align: top;\n",
       "    }\n",
       "\n",
       "    .dataframe thead th {\n",
       "        text-align: right;\n",
       "    }\n",
       "</style>\n",
       "<table border=\"1\" class=\"dataframe\">\n",
       "  <thead>\n",
       "    <tr style=\"text-align: right;\">\n",
       "      <th></th>\n",
       "      <th>Unnamed: 0</th>\n",
       "      <th>Identifier</th>\n",
       "      <th>Portfolio_Code</th>\n",
       "      <th>Currency</th>\n",
       "      <th>Class</th>\n",
       "      <th>Units</th>\n",
       "    </tr>\n",
       "  </thead>\n",
       "  <tbody>\n",
       "    <tr>\n",
       "      <th>0</th>\n",
       "      <td>0</td>\n",
       "      <td>AV_CASH</td>\n",
       "      <td>port_1</td>\n",
       "      <td>USD</td>\n",
       "      <td>Available</td>\n",
       "      <td>20000</td>\n",
       "    </tr>\n",
       "    <tr>\n",
       "      <th>1</th>\n",
       "      <td>1</td>\n",
       "      <td>COM_CASH</td>\n",
       "      <td>port_1</td>\n",
       "      <td>USD</td>\n",
       "      <td>Committed Cash</td>\n",
       "      <td>15,000</td>\n",
       "    </tr>\n",
       "    <tr>\n",
       "      <th>2</th>\n",
       "      <td>2</td>\n",
       "      <td>SET_CASH</td>\n",
       "      <td>port_1</td>\n",
       "      <td>USD</td>\n",
       "      <td>CashAtBroker</td>\n",
       "      <td>1000</td>\n",
       "    </tr>\n",
       "  </tbody>\n",
       "</table>\n",
       "</div>"
      ],
      "text/plain": [
       "   Unnamed: 0 Identifier Portfolio_Code Currency           Class   Units\n",
       "0           0    AV_CASH         port_1      USD       Available   20000\n",
       "1           1   COM_CASH         port_1      USD  Committed Cash  15,000\n",
       "2           2   SET_CASH         port_1      USD    CashAtBroker    1000"
      ]
     },
     "metadata": {},
     "output_type": "display_data"
    }
   ],
   "source": [
    "effective_date=datetime(2021, 9, 20,12, tzinfo=pytz.utc)\n",
    "\n",
    "srs_data_id=lm.StructuredResultDataId(\n",
    "        source=\"Client\",\n",
    "        code=\"CashData\",\n",
    "        effective_at=effective_date,\n",
    "        result_type = \"cashflow\"\n",
    "    )\n",
    "\n",
    "\n",
    "key='key'\n",
    "\n",
    "values=srs_api.get_structured_result_data(\n",
    "        scope=scope, \n",
    "        request_body={\n",
    "            key: srs_data_id\n",
    "    }\n",
    ")\n",
    "    \n",
    "s=io.StringIO(values.values[key].document)\n",
    "values_df = pd.read_csv(s)\n",
    "    \n",
    "display(values_df)"
   ]
  },
  {
   "cell_type": "code",
   "execution_count": 10,
   "id": "76253f97",
   "metadata": {},
   "outputs": [
    {
     "data": {
      "text/plain": [
       "{'failed': {},\n",
       " 'href': None,\n",
       " 'links': [{'description': 'A link to the LUSID Insights website showing all '\n",
       "                           'logs related to this request',\n",
       "            'href': 'http://omar.lusid.com/app/insights/logs/0HMC1QQ5MR4FO:00000005',\n",
       "            'method': 'GET',\n",
       "            'relation': 'RequestLogs'}],\n",
       " 'values': {'key': {'data_map_key': {'code': 'cash-flow-map',\n",
       "                                     'version': '0.006'},\n",
       "                    'document': ',Identifier,Portfolio_Code,Currency,Class,Units\\n'\n",
       "                                '0,AV_CASH,port_1,USD,Available,20000\\n'\n",
       "                                '1,COM_CASH,port_1,USD,Committed '\n",
       "                                'Cash,\"15,000\"\\n'\n",
       "                                '2,SET_CASH,port_1,USD,CashAtBroker,1000\\n',\n",
       "                    'document_format': 'Csv',\n",
       "                    'name': 'Market valuations',\n",
       "                    'version': '0.1.1'}}}"
      ]
     },
     "execution_count": 10,
     "metadata": {},
     "output_type": "execute_result"
    }
   ],
   "source": [
    "values"
   ]
  },
  {
   "cell_type": "markdown",
   "id": "290f257f",
   "metadata": {},
   "source": [
    "# Add records for T+1"
   ]
  },
  {
   "cell_type": "code",
   "execution_count": 11,
   "id": "87084e5b",
   "metadata": {},
   "outputs": [],
   "source": [
    "## Remove one line from df\n",
    "\n",
    "df_t2=df.drop(1,axis=0)"
   ]
  },
  {
   "cell_type": "code",
   "execution_count": 13,
   "id": "8751366c",
   "metadata": {},
   "outputs": [
    {
     "data": {
      "text/plain": [
       "{'failed': {},\n",
       " 'href': None,\n",
       " 'links': [{'description': 'A link to the LUSID Insights website showing all '\n",
       "                           'logs related to this request',\n",
       "            'href': 'http://omar.lusid.com/app/insights/logs/0HMC1QPUMOTQK:0000000C',\n",
       "            'method': 'GET',\n",
       "            'relation': 'RequestLogs'}],\n",
       " 'values': {'data': datetime.datetime(2021, 9, 27, 17, 12, 12, 501448, tzinfo=tzlocal())}}"
      ]
     },
     "execution_count": 13,
     "metadata": {},
     "output_type": "execute_result"
    }
   ],
   "source": [
    "effective_date=datetime(2021, 9, 21, tzinfo=pytz.utc)\n",
    "\n",
    "srs_data_id=lm.StructuredResultDataId(\n",
    "        source=\"Client\",\n",
    "        code=\"CashData\",\n",
    "        effective_at=effective_date,\n",
    "        result_type = \"cashflow\"\n",
    "    )\n",
    "\n",
    "srs_df=df_t2\n",
    "    \n",
    "s=io.StringIO()\n",
    "srs_df.to_csv(s)\n",
    "    \n",
    "srs_data=lm.StructuredResultData(\n",
    "        document_format=\"Csv\",\n",
    "        version=\"0.1.1\",\n",
    "        name=\"Market valuations\",\n",
    "        data_map_key=srs_data_map_key,\n",
    "        document=s.getvalue()        \n",
    ")\n",
    "    \n",
    "srs_api.upsert_structured_result_data(\n",
    "    scope=scope, \n",
    "    request_body={ \n",
    "        \"data\": lm.UpsertStructuredResultDataRequest(\n",
    "            id=srs_data_id, \n",
    "                data=srs_data\n",
    "        )\n",
    "    }\n",
    ")"
   ]
  },
  {
   "cell_type": "markdown",
   "id": "3c5a39f5",
   "metadata": {},
   "source": [
    "## Querying data T+1"
   ]
  },
  {
   "cell_type": "code",
   "execution_count": 14,
   "id": "d2d85afb",
   "metadata": {},
   "outputs": [
    {
     "data": {
      "text/html": [
       "<div>\n",
       "<style scoped>\n",
       "    .dataframe tbody tr th:only-of-type {\n",
       "        vertical-align: middle;\n",
       "    }\n",
       "\n",
       "    .dataframe tbody tr th {\n",
       "        vertical-align: top;\n",
       "    }\n",
       "\n",
       "    .dataframe thead th {\n",
       "        text-align: right;\n",
       "    }\n",
       "</style>\n",
       "<table border=\"1\" class=\"dataframe\">\n",
       "  <thead>\n",
       "    <tr style=\"text-align: right;\">\n",
       "      <th></th>\n",
       "      <th>Unnamed: 0</th>\n",
       "      <th>Identifier</th>\n",
       "      <th>Portfolio_Code</th>\n",
       "      <th>Currency</th>\n",
       "      <th>Class</th>\n",
       "      <th>Units</th>\n",
       "    </tr>\n",
       "  </thead>\n",
       "  <tbody>\n",
       "    <tr>\n",
       "      <th>0</th>\n",
       "      <td>0</td>\n",
       "      <td>AV_CASH</td>\n",
       "      <td>port_1</td>\n",
       "      <td>USD</td>\n",
       "      <td>Available</td>\n",
       "      <td>20000</td>\n",
       "    </tr>\n",
       "    <tr>\n",
       "      <th>1</th>\n",
       "      <td>2</td>\n",
       "      <td>SET_CASH</td>\n",
       "      <td>port_1</td>\n",
       "      <td>USD</td>\n",
       "      <td>CashAtBroker</td>\n",
       "      <td>1000</td>\n",
       "    </tr>\n",
       "  </tbody>\n",
       "</table>\n",
       "</div>"
      ],
      "text/plain": [
       "   Unnamed: 0 Identifier Portfolio_Code Currency         Class  Units\n",
       "0           0    AV_CASH         port_1      USD     Available  20000\n",
       "1           2   SET_CASH         port_1      USD  CashAtBroker   1000"
      ]
     },
     "metadata": {},
     "output_type": "display_data"
    }
   ],
   "source": [
    "effective_date=datetime(2021, 9, 21, tzinfo=pytz.utc)\n",
    "\n",
    "srs_data_id=lm.StructuredResultDataId(\n",
    "        source=\"Client\",\n",
    "        code=\"CashData\",\n",
    "        effective_at=effective_date,\n",
    "        result_type = \"cashflow\"\n",
    "    )\n",
    "\n",
    "\n",
    "key='key'\n",
    "\n",
    "values=srs_api.get_structured_result_data(\n",
    "        scope=scope, \n",
    "        request_body={\n",
    "            key: srs_data_id\n",
    "    }\n",
    ")\n",
    "    \n",
    "s=io.StringIO(values.values[key].document)\n",
    "values_df = pd.read_csv(s)\n",
    "    \n",
    "display(values_df)"
   ]
  },
  {
   "cell_type": "markdown",
   "id": "ad9e7e77",
   "metadata": {},
   "source": [
    "## Querying data for T"
   ]
  },
  {
   "cell_type": "code",
   "execution_count": 15,
   "id": "74bef792",
   "metadata": {},
   "outputs": [
    {
     "data": {
      "text/html": [
       "<div>\n",
       "<style scoped>\n",
       "    .dataframe tbody tr th:only-of-type {\n",
       "        vertical-align: middle;\n",
       "    }\n",
       "\n",
       "    .dataframe tbody tr th {\n",
       "        vertical-align: top;\n",
       "    }\n",
       "\n",
       "    .dataframe thead th {\n",
       "        text-align: right;\n",
       "    }\n",
       "</style>\n",
       "<table border=\"1\" class=\"dataframe\">\n",
       "  <thead>\n",
       "    <tr style=\"text-align: right;\">\n",
       "      <th></th>\n",
       "      <th>Unnamed: 0</th>\n",
       "      <th>Identifier</th>\n",
       "      <th>Portfolio_Code</th>\n",
       "      <th>Currency</th>\n",
       "      <th>Class</th>\n",
       "      <th>Units</th>\n",
       "    </tr>\n",
       "  </thead>\n",
       "  <tbody>\n",
       "    <tr>\n",
       "      <th>0</th>\n",
       "      <td>0</td>\n",
       "      <td>AV_CASH</td>\n",
       "      <td>port_1</td>\n",
       "      <td>USD</td>\n",
       "      <td>Available</td>\n",
       "      <td>10,000</td>\n",
       "    </tr>\n",
       "    <tr>\n",
       "      <th>1</th>\n",
       "      <td>1</td>\n",
       "      <td>COM_CASH</td>\n",
       "      <td>port_1</td>\n",
       "      <td>USD</td>\n",
       "      <td>Committed Cash</td>\n",
       "      <td>15,000</td>\n",
       "    </tr>\n",
       "    <tr>\n",
       "      <th>2</th>\n",
       "      <td>2</td>\n",
       "      <td>SET_CASH</td>\n",
       "      <td>port_1</td>\n",
       "      <td>USD</td>\n",
       "      <td>CashAtBroker</td>\n",
       "      <td>1000</td>\n",
       "    </tr>\n",
       "  </tbody>\n",
       "</table>\n",
       "</div>"
      ],
      "text/plain": [
       "   Unnamed: 0 Identifier Portfolio_Code Currency           Class   Units\n",
       "0           0    AV_CASH         port_1      USD       Available  10,000\n",
       "1           1   COM_CASH         port_1      USD  Committed Cash  15,000\n",
       "2           2   SET_CASH         port_1      USD    CashAtBroker    1000"
      ]
     },
     "metadata": {},
     "output_type": "display_data"
    }
   ],
   "source": [
    "effective_date=datetime(2021, 9, 20,9, tzinfo=pytz.utc)\n",
    "\n",
    "srs_data_id=lm.StructuredResultDataId(\n",
    "        source=\"Client\",\n",
    "        code=\"CashData\",\n",
    "        effective_at=effective_date,\n",
    "        result_type = \"cashflow\"\n",
    "    )\n",
    "\n",
    "\n",
    "key='key'\n",
    "\n",
    "values=srs_api.get_structured_result_data(\n",
    "        scope=scope, \n",
    "        request_body={\n",
    "            key: srs_data_id\n",
    "    }\n",
    ")\n",
    "    \n",
    "s=io.StringIO(values.values[key].document)\n",
    "values_df=pd.read_csv(s)\n",
    "    \n",
    "display(values_df)"
   ]
  },
  {
   "cell_type": "code",
   "execution_count": null,
   "id": "fee9d567",
   "metadata": {},
   "outputs": [],
   "source": []
  }
 ],
 "metadata": {
  "kernelspec": {
   "display_name": "Python 3 (ipykernel)",
   "language": "python",
   "name": "python3"
  },
  "language_info": {
   "codemirror_mode": {
    "name": "ipython",
    "version": 3
   },
   "file_extension": ".py",
   "mimetype": "text/x-python",
   "name": "python",
   "nbconvert_exporter": "python",
   "pygments_lexer": "ipython3",
   "version": "3.7.3"
  }
 },
 "nbformat": 4,
 "nbformat_minor": 5
}