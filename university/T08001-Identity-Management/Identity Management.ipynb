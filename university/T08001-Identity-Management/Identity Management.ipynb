{
 "cells": [
  {
   "cell_type": "markdown",
   "metadata": {
    "slideshow": {
     "slide_type": "slide"
    }
   },
   "source": [
    "# Identity Management in LUSID\n"
   ]
  },
  {
   "cell_type": "markdown",
   "metadata": {
    "slideshow": {
     "slide_type": "fragment"
    }
   },
   "source": [
    "In this part of the course, we will describe the processes of:\n",
    "- Setting up personal accounts in LUSID.\n",
    "- Setting up service accounts in LUSID.\n",
    "- Getting and using your access tokens."
   ]
  },
  {
   "cell_type": "markdown",
   "metadata": {
    "slideshow": {
     "slide_type": "subslide"
    }
   },
   "source": [
    "## Setting up personal accounts in LUSID"
   ]
  },
  {
   "cell_type": "markdown",
   "metadata": {
    "slideshow": {
     "slide_type": "fragment"
    }
   },
   "source": [
    "Personal accounts can be set up to interact with FINBOURNE applications.\n",
    "We provide the FINBOURNE identity SDKs which can be used to set up personal accounts in LUSID."
   ]
  },
  {
   "cell_type": "markdown",
   "metadata": {
    "slideshow": {
     "slide_type": "fragment"
    }
   },
   "source": [
    "Let's create a personal account using the FINBOURNE identity SDK."
   ]
  },
  {
   "cell_type": "code",
   "execution_count": 2,
   "metadata": {
    "slideshow": {
     "slide_type": "skip"
    }
   },
   "outputs": [
    {
     "data": {
      "text/html": [
       "<div>\n",
       "<style scoped>\n",
       "    .dataframe tbody tr th:only-of-type {\n",
       "        vertical-align: middle;\n",
       "    }\n",
       "\n",
       "    .dataframe tbody tr th {\n",
       "        vertical-align: top;\n",
       "    }\n",
       "\n",
       "    .dataframe thead th {\n",
       "        text-align: right;\n",
       "    }\n",
       "</style>\n",
       "<table border=\"1\" class=\"dataframe\">\n",
       "  <thead>\n",
       "    <tr style=\"text-align: right;\">\n",
       "      <th></th>\n",
       "      <th>api_version</th>\n",
       "      <th>build_version</th>\n",
       "      <th>excel_version</th>\n",
       "      <th>links</th>\n",
       "    </tr>\n",
       "  </thead>\n",
       "  <tbody>\n",
       "    <tr>\n",
       "      <th>0</th>\n",
       "      <td>v0</td>\n",
       "      <td>0.6.10447.0</td>\n",
       "      <td>0.5.3125</td>\n",
       "      <td>{'relation': 'RequestLogs', 'href': 'http://fb...</td>\n",
       "    </tr>\n",
       "  </tbody>\n",
       "</table>\n",
       "</div>"
      ],
      "text/plain": [
       "  api_version build_version excel_version  \\\n",
       "0          v0   0.6.10447.0      0.5.3125   \n",
       "\n",
       "                                               links  \n",
       "0  {'relation': 'RequestLogs', 'href': 'http://fb...  "
      ]
     },
     "metadata": {},
     "output_type": "display_data"
    }
   ],
   "source": [
    "from lusid.utilities import ApiClientFactory\n",
    "import lusid as lu\n",
    "import pandas as pd\n",
    "from pprint import pprint\n",
    "import json\n",
    "\n",
    "api_factory = ApiClientFactory()\n",
    "\n",
    "# Confirm success by printing SDK version\n",
    "api_status = pd.DataFrame(api_factory.build(lu.ApplicationMetadataApi).get_lusid_versions().to_dict())\n",
    "display(api_status)"
   ]
  },
  {
   "cell_type": "code",
   "execution_count": 3,
   "metadata": {
    "slideshow": {
     "slide_type": "skip"
    }
   },
   "outputs": [],
   "source": [
    "import finbourne_identity as identity\n",
    "from finbourne_identity.rest import ApiException\n",
    "\n",
    "configuration = identity.Configuration(\n",
    "    host = f'{api_factory.api_client.configuration.host[:-4]}/identity'\n",
    ")\n",
    "configuration.access_token = api_factory.api_client.configuration.access_token\n",
    "\n",
    "api_client = identity.ApiClient(configuration)"
   ]
  },
  {
   "cell_type": "code",
   "execution_count": 4,
   "metadata": {
    "slideshow": {
     "slide_type": "skip"
    }
   },
   "outputs": [],
   "source": [
    "# don't show exception if error is due to upsert\n",
    "def exception_guard(e, code):\n",
    "    return e.status and e.status != '400 Bad Request' and e.body and json.loads(e.body)[\"code\"] == code"
   ]
  },
  {
   "cell_type": "code",
   "execution_count": 6,
   "metadata": {
    "slideshow": {
     "slide_type": "fragment"
    }
   },
   "outputs": [],
   "source": [
    "api_instance = identity.UsersApi(api_client)\n",
    "create_user_request = {\"firstName\":\"Joe\",\"lastName\":\"Bloggs\",\"emailAddress\":\"joe.bloggs@myco.com\",\"login\":\"joe.bloggs@myco.com\",\"type\":\"Personal\"} # CreateUserRequest | Details of the User to be created\n",
    "wait_for_reindex = True # bool | Should the request wait until the newly created User is indexed (available in List) before returning (optional) (default to False)\n",
    "try:\n",
    "    api_response = api_instance.create_user(create_user_request, wait_for_reindex=wait_for_reindex)\n",
    "    pprint(api_response)\n",
    "except ApiException as e:\n",
    "    if not exception_guard(e, 658):\n",
    "        print(\"Exception when calling UsersApi->create_user: %s\\n\" % e)"
   ]
  },
  {
   "cell_type": "markdown",
   "metadata": {
    "slideshow": {
     "slide_type": "notes"
    }
   },
   "source": [
    "Here we create a user called \"Joe Bloggs\", with their own email and login, by sending a request to the `createUser` endpoint.\n",
    "They'll be sent an email to activate their account and to set up login credentials."
   ]
  },
  {
   "cell_type": "markdown",
   "metadata": {
    "slideshow": {
     "slide_type": "subslide"
    }
   },
   "source": [
    "## Setting up service accounts in LUSID."
   ]
  },
  {
   "cell_type": "markdown",
   "metadata": {
    "slideshow": {
     "slide_type": "fragment"
    }
   },
   "source": [
    "We can also use the FINBOURNE identity SDKs to set up service accounts, for your services to use to authenticate to make LUSID API calls.\n",
    "To call the LUSID API, a service user must supply a valid username, password, client ID and client secret in order to obtain an API access token, which enables API calls for one hour. After this time, a new token is required."
   ]
  },
  {
   "cell_type": "markdown",
   "metadata": {
    "slideshow": {
     "slide_type": "fragment"
    }
   },
   "source": [
    "Here's an example of creating a service account using the FINBOURNE identity SDK:"
   ]
  },
  {
   "cell_type": "code",
   "execution_count": 7,
   "metadata": {
    "slideshow": {
     "slide_type": "fragment"
    }
   },
   "outputs": [],
   "source": [
    "create_user_request = {\"firstName\":\"service_account@myco.com\",\"lastName\":\"ServiceAccount\",\"emailAddress\":\"service_account@myco.com\",\"secondEmailAddress\":\"service_account_backup@myco.com\",\"login\":\"service_account@myco.com\",\"type\":\"Service\"} # CreateUserRequest | Details of the User to be created\n",
    "wait_for_reindex = True # bool | Should the request wait until the newly created User is indexed (available in List) before returning (optional) (default to False)\n",
    "try:\n",
    "    api_response = api_instance.create_user(create_user_request, wait_for_reindex=wait_for_reindex)\n",
    "    pprint(api_response)\n",
    "except ApiException as e:\n",
    "    if not exception_guard(e, 658):\n",
    "        print(\"Exception when calling UsersApi->create_user: %s\\n\" % e)"
   ]
  },
  {
   "cell_type": "markdown",
   "metadata": {
    "slideshow": {
     "slide_type": "notes"
    }
   },
   "source": [
    "Here we've created a service account, with a backup email address."
   ]
  },
  {
   "cell_type": "markdown",
   "metadata": {
    "slideshow": {
     "slide_type": "subslide"
    }
   },
   "source": [
    "## Getting and using your access tokens."
   ]
  },
  {
   "cell_type": "markdown",
   "metadata": {
    "slideshow": {
     "slide_type": "fragment"
    }
   },
   "source": [
    "The recommended way to get an access token to query LUSID's APIs is to create an application in LUSID, and use the access token of the application."
   ]
  },
  {
   "cell_type": "markdown",
   "metadata": {
    "slideshow": {
     "slide_type": "fragment"
    }
   },
   "source": [
    "Let's create an application and get its access token."
   ]
  },
  {
   "cell_type": "code",
   "execution_count": 8,
   "metadata": {
    "slideshow": {
     "slide_type": "fragment"
    }
   },
   "outputs": [],
   "source": [
    "api_instance = identity.ApplicationsApi(api_client)\n",
    "create_application_request = {\"displayName\":\"IAM example application\",\"clientId\":\"IAM-example\",\"type\":\"Native\"} # CreateApplicationRequest | Details of the application to be created (optional)\n",
    "\n",
    "try:\n",
    "    # [EARLY ACCESS] CreateApplication: Create Application\n",
    "    api_response = api_instance.create_application(create_application_request=create_application_request)\n",
    "    pprint(api_response)\n",
    "except ApiException as e:\n",
    "    if not exception_guard(e, 157):\n",
    "        print(\"Exception when calling ApplicationsApi->create_application: %s\\n\" % e)"
   ]
  },
  {
   "cell_type": "markdown",
   "metadata": {
    "slideshow": {
     "slide_type": "notes"
    }
   },
   "source": [
    "We can then use your username, password, client_id and secret to obtain a short-lived API access token from Okta. The LUSID SDKs can be provided with these as parameters in the api clients, in a secrets JSON file, or as environment variables."
   ]
  },
  {
   "cell_type": "markdown",
   "metadata": {
    "slideshow": {
     "slide_type": "subslide"
    }
   },
   "source": [
    "### Personal Access Tokens"
   ]
  },
  {
   "cell_type": "markdown",
   "metadata": {
    "slideshow": {
     "slide_type": "fragment"
    }
   },
   "source": [
    "Every call made to the LUSID API must be authorised by an API access token. "
   ]
  },
  {
   "cell_type": "markdown",
   "metadata": {
    "slideshow": {
     "slide_type": "fragment"
    }
   },
   "source": [
    "The recommended and most secure option is to obtain a short-lived OAuth2.0-compliant token from LUSID’s identity provider, Okta, on demand. "
   ]
  },
  {
   "cell_type": "markdown",
   "metadata": {
    "slideshow": {
     "slide_type": "fragment"
    }
   },
   "source": [
    "There may be scenarios where this is not possible, for example if your system does not support Open ID Connect authentication flows. You can create a long-lived personal access token within LUSID and use this to call the API instead. "
   ]
  },
  {
   "cell_type": "markdown",
   "metadata": {
    "slideshow": {
     "slide_type": "fragment"
    }
   },
   "source": [
    "We'll now create a Personal Access Token."
   ]
  },
  {
   "cell_type": "code",
   "execution_count": 5,
   "metadata": {
    "slideshow": {
     "slide_type": "skip"
    }
   },
   "outputs": [],
   "source": [
    "from datetime import datetime\n",
    "from datetime import timedelta\n",
    "tomorrow = datetime.today() + timedelta(days = 1)\n",
    "tomorrow = f'{tomorrow.isoformat()}+00:00'"
   ]
  },
  {
   "cell_type": "code",
   "execution_count": 10,
   "metadata": {
    "slideshow": {
     "slide_type": "fragment"
    }
   },
   "outputs": [],
   "source": [
    "api_instance = identity.PersonalAuthenticationTokensApi(api_client)\n",
    "create_api_key = {\"displayName\":\"Example key\",\"deactivationDate\":tomorrow} # CreateApiKey | The request to create a new Personal Access Token\n",
    "\n",
    "try:\n",
    "    # [EARLY ACCESS] CreateApiKey: Create a Personal Access Token\n",
    "    api_response = api_instance.create_api_key(create_api_key)\n",
    "    pprint(api_response)\n",
    "except ApiException as e:\n",
    "    if not exception_guard(e, 659):\n",
    "        print(\"Exception when calling PersonalAuthenticationTokensApi->create_api_key: %s\\n\" % e)"
   ]
  },
  {
   "cell_type": "markdown",
   "metadata": {
    "slideshow": {
     "slide_type": "notes"
    }
   },
   "source": [
    "We've created a Personal Access Token we can use to authenticate to LUSID"
   ]
  }
 ],
 "metadata": {
  "celltoolbar": "Slideshow",
  "kernelspec": {
   "display_name": "Python 3 (ipykernel)",
   "language": "python",
   "name": "python3"
  },
  "language_info": {
   "codemirror_mode": {
    "name": "ipython",
    "version": 3
   },
   "file_extension": ".py",
   "mimetype": "text/x-python",
   "name": "python",
   "nbconvert_exporter": "python",
   "pygments_lexer": "ipython3",
   "version": "3.9.7"
  },
  "vscode": {
   "interpreter": {
    "hash": "b0fa6594d8f4cbf19f97940f81e996739fb7646882a419484c72d19e05852a7e"
   }
  }
 },
 "nbformat": 4,
 "nbformat_minor": 2
}
