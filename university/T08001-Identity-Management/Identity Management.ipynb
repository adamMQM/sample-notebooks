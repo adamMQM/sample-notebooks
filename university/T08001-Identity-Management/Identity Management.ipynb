{
 "cells": [
  {
   "cell_type": "markdown",
   "metadata": {},
   "source": [
    "# Identity Management in LUSID\n",
    "In this part of the course, we will describe the processes of:\n",
    "- Setting up personal accounts in LUSID.\n",
    "- Setting up service accounts in LUSID.\n",
    "- Getting and using your access tokens."
   ]
  },
  {
   "cell_type": "markdown",
   "metadata": {},
   "source": [
    "## Setting up personal accounts in LUSID\n",
    "To set up a personal account in LUSID, navigate to the users page:\n",
    "- Sign into LUSID.\n",
    "- Click on the hamburger in the top left corner of LUSID. A context menu should appear.\n",
    "- Navigate to the \"Identity and Access\" menu item. A sub-menu should appear.\n",
    "- Click on Users.\n",
    "\n",
    "This page contains a table with all information about currently registered user accounts.\n",
    "\n",
    "To create a new personal account:\n",
    "- Click the \"create user\" button. A dialog box will appear.\n",
    "- Fill out the \"First name\", \"Last name\" and \"Email address\" fields.\n",
    "- You can optionally assign roles to users. Roles are explored in more detail later in this course.\n",
    "\n",
    "Upon creation of the account, the user will be sent an email with a link which will instruct them on how to activiate their account, and provide credentials to sign into LUSID.\n",
    "\n",
    "\n"
   ]
  },
  {
   "cell_type": "markdown",
   "metadata": {},
   "source": [
    "## Setting up service accounts in LUSID.\n",
    "To set up a service account, first navigate to the Users page as we did in the previous section, then:\n",
    "- Click the \"create user\" button. A dialog box will appear.\n",
    "- Select the \"Service\" option in the \"Account type\" select box.\n",
    "- Fill out the \"Login\" field. Note, this login must look like an email address, even though no emails are currently sent this address.\n",
    "- Fill out the \"Email address\" and optionally the \"Secondary email address\" fields.\n",
    "- You can also add roles to service accounts."
   ]
  },
  {
   "cell_type": "markdown",
   "metadata": {},
   "source": [
    "## Getting and using your access tokens."
   ]
  },
  {
   "cell_type": "markdown",
   "metadata": {},
   "source": []
  }
 ],
 "metadata": {
  "kernelspec": {
   "display_name": "Python 3.10.8 64-bit",
   "language": "python",
   "name": "python3"
  },
  "language_info": {
   "name": "python",
   "version": "3.10.8"
  },
  "orig_nbformat": 4,
  "vscode": {
   "interpreter": {
    "hash": "b0fa6594d8f4cbf19f97940f81e996739fb7646882a419484c72d19e05852a7e"
   }
  }
 },
 "nbformat": 4,
 "nbformat_minor": 2
}
