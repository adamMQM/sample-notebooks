{
 "cells": [
  {
   "cell_type": "markdown",
   "metadata": {},
   "source": [
    "# Introduction to LUMINESCE\n",
    "\n",
    "In this part of the course, we will introduce the different tools that can be used to interact with LUMINESCE:\n",
    "- Finbourne's LUMINESCE query editor.\n",
    "- Finbourne's Lumipy Python package.\n",
    "- Finbourne's LUMINESCE SDK Python package.\n",
    "- Using PowerBI via ODBC"
   ]
  },
  {
   "cell_type": "markdown",
   "metadata": {},
   "source": [
    "The LUMINESCE query editor has two main components:\n",
    " - The LUMINESCE query editor viewport.\n",
    " - The available catalogues viewport."
   ]
  },
  {
   "cell_type": "markdown",
   "metadata": {},
   "source": [
    "### The LUMINESCE query editor viewport\n",
    "In this viewport you can write and run LUMINESCE queries. You can save your created queries using the \"Save\" button, and schedule query runs using the \"Schedule query\" button.\n",
    "You can also create several tabs, enabling development of multiple queries in parallel."
   ]
  },
  {
   "cell_type": "markdown",
   "metadata": {},
   "source": [
    "### The available catalogues viewport\n",
    "This viewport shows a filterable list of all catalogues, Providers and Fields for all of your data sources.\n"
   ]
  },
  {
   "cell_type": "markdown",
   "metadata": {},
   "source": [
    "## Finbourne's Lumipy Python package.\n",
    "Lumipy enables you to build queries in Python, with a similar syntax to pandas and pyspark, returning data in easy-to-maniuplate pandas dataframes.\n",
    "To get started using lumipy, install the `dve-lumipy-preview` package using `pip install dve-lumipy-preview`"
   ]
  },
  {
   "cell_type": "code",
   "execution_count": 2,
   "metadata": {},
   "outputs": [
    {
     "ename": "SyntaxError",
     "evalue": "invalid syntax (3849934737.py, line 5)",
     "output_type": "error",
     "traceback": [
      "\u001b[0;36m  Cell \u001b[0;32mIn [2], line 5\u001b[0;36m\u001b[0m\n\u001b[0;31m    p = atlas.\u001b[0m\n\u001b[0m              ^\u001b[0m\n\u001b[0;31mSyntaxError\u001b[0m\u001b[0;31m:\u001b[0m invalid syntax\n"
     ]
    }
   ],
   "source": [
    "from lumipy.client import Client\n",
    "\n",
    "lm_client = Client()\n",
    "query = \"SELECT 'HELLO WORLD' AS TEST_QUERY_RESULT\"\n",
    "df = lm_client.query_and_fetch(query)"
   ]
  },
  {
   "cell_type": "markdown",
   "metadata": {},
   "source": [
    "## Finbourne's Luminesce SDK Python package.\n",
    "The luminesce sdk allows you to interact with the Luminesce API endpoints without writing any RESTful request code.\n",
    "To install, run `pip install luminesce-sdk-preview`.\n"
   ]
  },
  {
   "cell_type": "code",
   "execution_count": null,
   "metadata": {},
   "outputs": [],
   "source": [
    "  "
   ]
  },
  {
   "cell_type": "markdown",
   "metadata": {},
   "source": [
    "## Using PowerBI via ODBC\n",
    "not sure how to do thIS?"
   ]
  },
  {
   "cell_type": "code",
   "execution_count": null,
   "metadata": {},
   "outputs": [],
   "source": []
  }
 ],
 "metadata": {
  "kernelspec": {
   "display_name": "Python 3 (ipykernel)",
   "language": "python",
   "name": "python3"
  },
  "language_info": {
   "codemirror_mode": {
    "name": "ipython",
    "version": 3
   },
   "file_extension": ".py",
   "mimetype": "text/x-python",
   "name": "python",
   "nbconvert_exporter": "python",
   "pygments_lexer": "ipython3",
   "version": "3.9.7"
  },
  "vscode": {
   "interpreter": {
    "hash": "b0fa6594d8f4cbf19f97940f81e996739fb7646882a419484c72d19e05852a7e"
   }
  }
 },
 "nbformat": 4,
 "nbformat_minor": 2
}
