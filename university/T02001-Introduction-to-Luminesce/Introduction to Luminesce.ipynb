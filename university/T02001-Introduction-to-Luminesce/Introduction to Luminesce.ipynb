{
 "cells": [
  {
   "cell_type": "markdown",
   "metadata": {},
   "source": [
    "# Introduction to Luminesce\n",
    "\n",
    "In this part of the course, we will introduce the different tools that can be used to interact with Luminesce:\n",
    "- Finbourne's Luminesce query editor.\n",
    "- Finbourne's Lumipy Python package.\n",
    "- Finbourne's Luminesce SDK Python package.\n",
    "- Using PowerBI via ODBC"
   ]
  },
  {
   "cell_type": "markdown",
   "metadata": {},
   "source": [
    "The Luminesce query editor has two main components:\n",
    " - The Luminesce query editor viewport.\n",
    " - The available catalogues viewport."
   ]
  },
  {
   "cell_type": "markdown",
   "metadata": {},
   "source": [
    "### The Luminesce query editor viewport\n",
    "In this viewport you can write and run Luminesce queries. You can save your created queries using the \"save\" button, and schedule query runs using the \"Schedule query\" button.\n",
    "You can also create several tabs, enabling development of multiple queries in parallel."
   ]
  },
  {
   "cell_type": "markdown",
   "metadata": {},
   "source": [
    "### The available catalogues viewport\n",
    "This viewport shows a filterable list of all catalogues, Providers and fields for all of your data sources.\n"
   ]
  },
  {
   "cell_type": "markdown",
   "metadata": {},
   "source": [
    "## Finbourne's Lumipy Python package.\n",
    "Lumipy enables you to build queries in Python, with a similar syntax to Object-Relational-Mappers, returning data in easy-to-maniuplate pandas dataframes.\n",
    "To get started using lumipy, install the `dve-lumipy-preview` package using `pip install dve-lumipy-preview`"
   ]
  },
  {
   "cell_type": "code",
   "execution_count": 6,
   "metadata": {},
   "outputs": [
    {
     "name": "stdout",
     "output_type": "stream",
     "text": [
      "Name: dve-lumipy-preview\n",
      "Version: 0.1.329\n",
      "Summary: Python library for Luminesce\n",
      "Home-page: UNKNOWN\n",
      "Author: FINBOURNE Technology\n",
      "Author-email: engineering@finbourne.com\n",
      "License: UNKNOWN\n",
      "Location: /Users/adammassoud/anaconda3/lib/python3.9/site-packages\n",
      "Requires: finbourne-sdk-utilities, flask, luminesce-sdk-preview, networkx, numpy, pandas, requests, termcolor\n",
      "Required-by: \n"
     ]
    }
   ],
   "source": [
    "!pip show dve-lumipy-preview"
   ]
  },
  {
   "cell_type": "code",
   "execution_count": 2,
   "metadata": {},
   "outputs": [
    {
     "ename": "ModuleNotFoundError",
     "evalue": "No module named 'lumipy'",
     "output_type": "error",
     "traceback": [
      "\u001b[0;31m---------------------------------------------------------------------------\u001b[0m",
      "\u001b[0;31mModuleNotFoundError\u001b[0m                       Traceback (most recent call last)",
      "Cell \u001b[0;32mIn [2], line 1\u001b[0m\n\u001b[0;32m----> 1\u001b[0m \u001b[39mimport\u001b[39;00m \u001b[39mlumipy\u001b[39;00m \u001b[39mas\u001b[39;00m \u001b[39mlm\u001b[39;00m\n\u001b[1;32m      4\u001b[0m atlas \u001b[39m=\u001b[39m lm\u001b[39m.\u001b[39mget_atlas()\n\u001b[1;32m      5\u001b[0m p \u001b[39m=\u001b[39m atlas\u001b[39m.\u001b[39mmy_cool_provider(p1\u001b[39m=\u001b[39m\u001b[39m'\u001b[39m\u001b[39mA\u001b[39m\u001b[39m'\u001b[39m, p2\u001b[39m=\u001b[39m\u001b[39m123\u001b[39m)\n",
      "\u001b[0;31mModuleNotFoundError\u001b[0m: No module named 'lumipy'"
     ]
    }
   ],
   "source": [
    "import lumipy as lm\n",
    "\n",
    "\n",
    "atlas = lm.get_atlas()\n",
    "p = atlas.my_cool_provider(p1='A', p2=123)\n",
    "df = p.select('*').go()\n",
    "\n",
    "ng a"
   ]
  },
  {
   "cell_type": "markdown",
   "metadata": {},
   "source": [
    "## Finbourne's Luminesce SDK Python package.\n",
    "The luminesce sdk allows you to interact with the Luminesce API endpoints without writing any RESTful request code.\n",
    "To install, run `pip install luminesce-sdk-preview`.\n"
   ]
  },
  {
   "cell_type": "code",
   "execution_count": null,
   "metadata": {},
   "outputs": [],
   "source": [
    "  "
   ]
  },
  {
   "cell_type": "markdown",
   "metadata": {},
   "source": [
    "## Using PowerBI via ODBC\n",
    "not sure how to do thIS?"
   ]
  },
  {
   "cell_type": "code",
   "execution_count": null,
   "metadata": {},
   "outputs": [],
   "source": []
  },
  {
   "cell_type": "code",
   "execution_count": null,
   "metadata": {},
   "outputs": [],
   "source": []
  }
 ],
 "metadata": {
  "kernelspec": {
   "display_name": "Python 3.10.8 64-bit",
   "language": "python",
   "name": "python3"
  },
  "language_info": {
   "codemirror_mode": {
    "name": "ipython",
    "version": 3
   },
   "file_extension": ".py",
   "mimetype": "text/x-python",
   "name": "python",
   "nbconvert_exporter": "python",
   "pygments_lexer": "ipython3",
   "version": "3.10.8"
  },
  "orig_nbformat": 4,
  "vscode": {
   "interpreter": {
    "hash": "b0fa6594d8f4cbf19f97940f81e996739fb7646882a419484c72d19e05852a7e"
   }
  }
 },
 "nbformat": 4,
 "nbformat_minor": 2
}
