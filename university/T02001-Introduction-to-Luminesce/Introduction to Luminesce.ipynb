{
 "cells": [
  {
   "cell_type": "code",
   "execution_count": null,
   "metadata": {
    "slideshow": {
     "slide_type": "skip"
    }
   },
   "outputs": [],
   "source": [
    "from lusidtools.jupyter_tools import toggle_code\n",
    "\n",
    "\"\"\"Introduction to Luminesce\n",
    "\n",
    "Attributes\n",
    "----------\n",
    "\n",
    "\"\"\"\n",
    "\n",
    "toggle_code(\"Toggle Docstring\")\n"
   ]
  },
  {
   "cell_type": "code",
   "execution_count": 2,
   "metadata": {
    "slideshow": {
     "slide_type": "skip"
    }
   },
   "outputs": [],
   "source": [
    "from lusid.utilities import ApiClientFactory\n",
    "import lusid as lu\n",
    "import pandas as pd\n",
    "import json\n",
    "from __future__ import print_function\n",
    "import time\n",
    "\n",
    "from pprint import pprint\n",
    "\n",
    "api_factory = ApiClientFactory()\n",
    "host = api_factory.api_client.configuration.host[:-4]\n",
    "access_token = api_factory.api_client.configuration.access_token"
   ]
  },
  {
   "cell_type": "markdown",
   "metadata": {
    "slideshow": {
     "slide_type": "slide"
    }
   },
   "source": [
    "# Introduction to Luminesce"
   ]
  },
  {
   "cell_type": "markdown",
   "metadata": {
    "slideshow": {
     "slide_type": "fragment"
    }
   },
   "source": [
    "In this part of the course, we will introduce the different tools that can be used to interact with Luminesce:\n",
    "- Finbourne's Luminesce query editor.\n",
    "- Finbourne's Lumipy Python package.\n",
    "- Finbourne's Luminesce SDK Python package.\n",
    "- Using PowerBI via ODBC"
   ]
  },
  {
   "cell_type": "markdown",
   "metadata": {
    "slideshow": {
     "slide_type": "subslide"
    }
   },
   "source": [
    "## Finbourne's Luminesce query editor."
   ]
  },
  {
   "cell_type": "markdown",
   "metadata": {
    "slideshow": {
     "slide_type": "fragment"
    }
   },
   "source": [
    "The Luminesce query editor has two main components:\n",
    " - The Luminesce query editor viewport.\n",
    " - The available catalogues viewport."
   ]
  },
  {
   "cell_type": "markdown",
   "metadata": {
    "slideshow": {
     "slide_type": "notes"
    }
   },
   "source": [
    "### The Luminesce query editor viewport\n",
    "In this viewport you can write and run Luminesce queries. You can save your created queries using the \"Save\" button, and schedule query runs using the \"Schedule query\" button.\n",
    "You can also create several tabs, enabling development of multiple queries in parallel.\n",
    "\n",
    "### The available catalogues viewport\n",
    "This viewport shows a filterable list of all catalogues, Providers and Fields for all of your data sources."
   ]
  },
  {
   "cell_type": "markdown",
   "metadata": {
    "slideshow": {
     "slide_type": "subslide"
    }
   },
   "source": [
    "## Finbourne's Lumipy Python package."
   ]
  },
  {
   "cell_type": "markdown",
   "metadata": {
    "slideshow": {
     "slide_type": "fragment"
    }
   },
   "source": [
    "Lumipy enables you to build queries in Python, with a similar syntax to pandas and pyspark, returning data in easy-to-manipulate pandas dataframes.\n",
    "To get started using lumipy, install the `dve-lumipy-preview` package using `pip install dve-lumipy-preview`"
   ]
  },
  {
   "cell_type": "code",
   "execution_count": null,
   "metadata": {
    "slideshow": {
     "slide_type": "fragment"
    }
   },
   "outputs": [],
   "source": [
    "from lumipy.client import Client\n",
    "\n",
    "lm_client = Client()\n",
    "query = \"SELECT 'HELLO WORLD' AS TEST_QUERY_RESULT\"\n",
    "df = lm_client.query_and_fetch(query)\n",
    "df"
   ]
  },
  {
   "cell_type": "markdown",
   "metadata": {
    "slideshow": {
     "slide_type": "notes"
    }
   },
   "source": [
    "Here we send a simple Luminesce query using Lumipy. Lumipy will be covered in further detail in a separate course."
   ]
  },
  {
   "cell_type": "markdown",
   "metadata": {
    "slideshow": {
     "slide_type": "subslide"
    }
   },
   "source": [
    "## Finbourne's Luminesce SDK Python package."
   ]
  },
  {
   "cell_type": "markdown",
   "metadata": {
    "slideshow": {
     "slide_type": "fragment"
    }
   },
   "source": [
    "The Luminesce sdk allows you to interact with the Luminesce API endpoints without writing any RESTful request code.\n",
    "To install, run `pip install luminesce-sdk-preview`."
   ]
  },
  {
   "cell_type": "code",
   "execution_count": 3,
   "metadata": {
    "slideshow": {
     "slide_type": "fragment"
    }
   },
   "outputs": [
    {
     "name": "stdout",
     "output_type": "stream",
     "text": [
      "'[\\n  {\\n    \"VALUE\": \"HELLO WORLD\"\\n  }\\n]'\n"
     ]
    }
   ],
   "source": [
    "import luminesce\n",
    "from luminesce.rest import ApiException\n",
    "\n",
    "configuration = luminesce.Configuration(\n",
    "    host = f'{host}/honeycomb'\n",
    ")\n",
    "configuration.access_token = access_token\n",
    "\n",
    "# Enter a context with an instance of the API client\n",
    "with luminesce.ApiClient(configuration) as api_client:\n",
    "    # Create an instance of the API class\n",
    "    api_instance = luminesce.SqlExecutionApi(api_client)\n",
    "    query = \"SELECT 'HELLO WORLD' AS VALUE\" # str | LuminesceSql to Execute (must be one line only)\n",
    "    query_name = 'Get tables/fields' # str | Name to apply to the query in logs and `Sys.Logs.HcQueryStart` (optional)\n",
    "    timeout = 0 # int | In seconds: <0 → ∞, 0 → 120s (optional) (default to 0)\n",
    "    json_proper = False # bool | Should this be text/json (not json-encoded-as-a-string) (optional) (default to False)\n",
    "\n",
    "    try:\n",
    "        # GetByQueryJson: Executes Sql, returned in JSON format, where the sql is simply in the url.\n",
    "        api_response = api_instance.get_by_query_json(query, query_name=query_name, timeout=timeout, json_proper=json_proper)\n",
    "        pprint(api_response)\n",
    "    except ApiException as e:\n",
    "        print(\"Exception when calling SqlExecutionApi->get_by_query_json: %s\\n\" % e)"
   ]
  },
  {
   "cell_type": "markdown",
   "metadata": {
    "slideshow": {
     "slide_type": "notes"
    }
   },
   "source": [
    "We've executed a simple query using the Luminesce SDK, getting the result as a JSON string."
   ]
  },
  {
   "cell_type": "markdown",
   "metadata": {
    "slideshow": {
     "slide_type": "subslide"
    }
   },
   "source": [
    "## Using PowerBI via ODBC"
   ]
  }
 ],
 "metadata": {
  "celltoolbar": "Slideshow",
  "kernelspec": {
   "display_name": "Python 3 (ipykernel)",
   "language": "python",
   "name": "python3"
  },
  "language_info": {
   "codemirror_mode": {
    "name": "ipython",
    "version": 3
   },
   "file_extension": ".py",
   "mimetype": "text/x-python",
   "name": "python",
   "nbconvert_exporter": "python",
   "pygments_lexer": "ipython3",
   "version": "3.9.7"
  },
  "toc": {
   "base_numbering": 1,
   "nav_menu": {},
   "number_sections": true,
   "sideBar": true,
   "skip_h1_title": false,
   "title_cell": "Table of Contents",
   "title_sidebar": "Contents",
   "toc_cell": false,
   "toc_position": {},
   "toc_section_display": true,
   "toc_window_display": false
  },
  "varInspector": {
   "cols": {
    "lenName": 16,
    "lenType": 16,
    "lenVar": 40
   },
   "kernels_config": {
    "python": {
     "delete_cmd_postfix": "",
     "delete_cmd_prefix": "del ",
     "library": "var_list.py",
     "varRefreshCmd": "print(var_dic_list())"
    },
    "r": {
     "delete_cmd_postfix": ") ",
     "delete_cmd_prefix": "rm(",
     "library": "var_list.r",
     "varRefreshCmd": "cat(var_dic_list()) "
    }
   },
   "types_to_exclude": [
    "module",
    "function",
    "builtin_function_or_method",
    "instance",
    "_Feature"
   ],
   "window_display": false
  },
  "vscode": {
   "interpreter": {
    "hash": "b0fa6594d8f4cbf19f97940f81e996739fb7646882a419484c72d19e05852a7e"
   }
  }
 },
 "nbformat": 4,
 "nbformat_minor": 2
}
