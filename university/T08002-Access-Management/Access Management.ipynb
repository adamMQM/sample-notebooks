{
 "cells": [
  {
   "cell_type": "code",
   "execution_count": 1,
   "metadata": {
    "slideshow": {
     "slide_type": "skip"
    }
   },
   "outputs": [
    {
     "data": {
      "text/html": [
       "\n",
       "    <form action=\"javascript:code_toggle()\"><input type=\"submit\" id=\"toggleButton\" value=\"Toggle Docstring\"></form>\n",
       "    \n",
       "         <script>\n",
       "         function code_toggle() {\n",
       "             if ($('div.cell.code_cell.rendered.selected div.input').css('display')!='none'){\n",
       "                 $('div.cell.code_cell.rendered.selected div.input').hide();\n",
       "             } else {\n",
       "                 $('div.cell.code_cell.rendered.selected div.input').show();\n",
       "             }\n",
       "         }\n",
       "         </script>\n",
       "\n",
       "     "
      ],
      "text/plain": [
       "<IPython.core.display.HTML object>"
      ]
     },
     "metadata": {},
     "output_type": "display_data"
    }
   ],
   "source": [
    "from lusidtools.jupyter_tools import toggle_code\n",
    "\n",
    "\"\"\"Access Management in LUSID\n",
    "\n",
    "Attributes\n",
    "----------\n",
    "IAM\n",
    "Access Management\n",
    "Policies\n",
    "\"\"\"\n",
    "\n",
    "toggle_code(\"Toggle Docstring\")"
   ]
  },
  {
   "cell_type": "code",
   "execution_count": 114,
   "metadata": {
    "slideshow": {
     "slide_type": "skip"
    }
   },
   "outputs": [
    {
     "data": {
      "text/html": [
       "<div>\n",
       "<style scoped>\n",
       "    .dataframe tbody tr th:only-of-type {\n",
       "        vertical-align: middle;\n",
       "    }\n",
       "\n",
       "    .dataframe tbody tr th {\n",
       "        vertical-align: top;\n",
       "    }\n",
       "\n",
       "    .dataframe thead th {\n",
       "        text-align: right;\n",
       "    }\n",
       "</style>\n",
       "<table border=\"1\" class=\"dataframe\">\n",
       "  <thead>\n",
       "    <tr style=\"text-align: right;\">\n",
       "      <th></th>\n",
       "      <th>api_version</th>\n",
       "      <th>build_version</th>\n",
       "      <th>excel_version</th>\n",
       "      <th>links</th>\n",
       "    </tr>\n",
       "  </thead>\n",
       "  <tbody>\n",
       "    <tr>\n",
       "      <th>0</th>\n",
       "      <td>v0</td>\n",
       "      <td>0.6.10456.0</td>\n",
       "      <td>0.5.3126</td>\n",
       "      <td>{'relation': 'RequestLogs', 'href': 'http://fb...</td>\n",
       "    </tr>\n",
       "  </tbody>\n",
       "</table>\n",
       "</div>"
      ],
      "text/plain": [
       "  api_version build_version excel_version  \\\n",
       "0          v0   0.6.10456.0      0.5.3126   \n",
       "\n",
       "                                               links  \n",
       "0  {'relation': 'RequestLogs', 'href': 'http://fb...  "
      ]
     },
     "metadata": {},
     "output_type": "display_data"
    }
   ],
   "source": [
    "from lusid.utilities import ApiClientFactory\n",
    "import lusid as lu\n",
    "import pandas as pd\n",
    "from pprint import pprint\n",
    "import json\n",
    "\n",
    "api_factory = ApiClientFactory()\n",
    "\n",
    "# Confirm success by printing SDK version\n",
    "api_status = pd.DataFrame(api_factory.build(lu.ApplicationMetadataApi).get_lusid_versions().to_dict())\n",
    "display(api_status)"
   ]
  },
  {
   "cell_type": "code",
   "execution_count": 115,
   "metadata": {
    "slideshow": {
     "slide_type": "skip"
    }
   },
   "outputs": [],
   "source": [
    "import finbourne_identity as identity\n",
    "import finbourne_identity.rest\n",
    "\n",
    "configuration = identity.Configuration(\n",
    "    host = f'{api_factory.api_client.configuration.host[:-4]}/identity'\n",
    ")\n",
    "configuration.access_token = api_factory.api_client.configuration.access_token\n",
    "\n",
    "identity_client = identity.ApiClient(configuration)"
   ]
  },
  {
   "cell_type": "code",
   "execution_count": 116,
   "metadata": {
    "slideshow": {
     "slide_type": "skip"
    }
   },
   "outputs": [],
   "source": [
    "import finbourne_access as access\n",
    "configuration = access.Configuration(\n",
    "    host = f'{api_factory.api_client.configuration.host[:-4]}/access'\n",
    ")\n",
    "\n",
    "configuration.access_token = api_factory.api_client.configuration.access_token\n",
    "access_client = access.ApiClient(configuration)"
   ]
  },
  {
   "cell_type": "code",
   "execution_count": 117,
   "metadata": {
    "slideshow": {
     "slide_type": "skip"
    }
   },
   "outputs": [],
   "source": [
    "from datetime import datetime\n",
    "from datetime import timedelta\n",
    "today = f'{datetime.today().isoformat()}+00:00'\n",
    "tomorrow = datetime.today() + timedelta(days = 1)\n",
    "tomorrow = f'{tomorrow.isoformat()}+00:00'"
   ]
  },
  {
   "cell_type": "code",
   "execution_count": 118,
   "metadata": {
    "slideshow": {
     "slide_type": "skip"
    }
   },
   "outputs": [],
   "source": [
    "# don't show exception if error is due to upsert\n",
    "def exception_guard(e, code):\n",
    "    return e.status and e.status != '400 Bad Request' and e.body and json.loads(e.body)[\"code\"] == code"
   ]
  },
  {
   "cell_type": "markdown",
   "metadata": {
    "slideshow": {
     "slide_type": "skip"
    }
   },
   "source": [
    "set up an example user."
   ]
  },
  {
   "cell_type": "code",
   "execution_count": 119,
   "metadata": {
    "slideshow": {
     "slide_type": "skip"
    }
   },
   "outputs": [],
   "source": [
    "api_instance = identity.UsersApi(identity_client)\n",
    "create_user_request = {\"firstName\":\"Joe\",\"lastName\":\"Bloggs\",\"emailAddress\":\"joe.bloggs@myco.com\",\"login\":\"joe.bloggs@myco.com\",\"type\":\"Personal\"} # CreateUserRequest | Details of the User to be created\n",
    "wait_for_reindex = True # bool | Should the request wait until the newly created User is indexed (available in List) before returning (optional) (default to False)\n",
    "try:\n",
    "    api_response = api_instance.create_user(create_user_request, wait_for_reindex=wait_for_reindex)\n",
    "    pprint(api_response)\n",
    "except identity.rest.ApiException as e:\n",
    "    if not exception_guard(e, 658):\n",
    "        print(\"Exception when calling UsersApi->create_user: %s\\n\" % e)"
   ]
  },
  {
   "cell_type": "markdown",
   "metadata": {
    "slideshow": {
     "slide_type": "slide"
    }
   },
   "source": [
    "# Access Management"
   ]
  },
  {
   "cell_type": "markdown",
   "metadata": {
    "slideshow": {
     "slide_type": "subslide"
    }
   },
   "source": [
    "In this part of the course, we will introduce aspects of access management in LUSID, and demonstrate the process of:\n",
    "\n",
    "- Creating roles\n",
    "- Writing simple policies\n",
    "- Creating policy collections\n",
    "- Assinging roles to users\n",
    "- Building more complex policies\n",
    "- Querying policy logs using Luminesce"
   ]
  },
  {
   "cell_type": "markdown",
   "metadata": {
    "slideshow": {
     "slide_type": "subslide"
    }
   },
   "source": [
    "## CREATING ROLES"
   ]
  },
  {
   "cell_type": "markdown",
   "metadata": {
    "slideshow": {
     "slide_type": "fragment"
    }
   },
   "source": [
    "A role models a real-world job function or responsibility within LUSID.\n"
   ]
  },
  {
   "cell_type": "markdown",
   "metadata": {
    "slideshow": {
     "slide_type": "fragment"
    }
   },
   "source": [
    "For example:  \n",
    "\n",
    "A data controller might require write access to all the data in LUSID.  \n",
    "A portfolio manager might require write access to certain portfolios. \n",
    "A risk manager might require read-only access to all portfolios.  "
   ]
  },
  {
   "cell_type": "markdown",
   "metadata": {
    "slideshow": {
     "slide_type": "fragment"
    }
   },
   "source": [
    "Each role has one or more policies, each of which grants (or denies) access to a particular feature or dataset. You can combine policies in any way you like to precisely model the professional duties of a role, and edit policies as these professional duties evolve over time."
   ]
  },
  {
   "cell_type": "markdown",
   "metadata": {
    "slideshow": {
     "slide_type": "fragment"
    }
   },
   "source": [
    "You assign a role to one or more LUSID users. A user with that role inherits all the access rights granted by its policies. A user can have multiple roles. "
   ]
  },
  {
   "cell_type": "markdown",
   "metadata": {
    "slideshow": {
     "slide_type": "fragment"
    }
   },
   "source": [
    "You must create a role using both the Identity API and the Access API. We have different APIs for identity management and access control to securely separate these concerns; roles are the link between the two systems."
   ]
  },
  {
   "cell_type": "markdown",
   "metadata": {
    "slideshow": {
     "slide_type": "fragment"
    }
   },
   "source": [
    "Let's create a role!"
   ]
  },
  {
   "cell_type": "code",
   "execution_count": 120,
   "metadata": {
    "slideshow": {
     "slide_type": "fragment"
    }
   },
   "outputs": [],
   "source": [
    "api_instance = identity.RolesApi(identity_client)\n",
    "create_role_request = {\"name\":\"ResearchAnalyst\",\"description\":\"Associates which require trading data\"} # CreateRoleRequest | Details of the role to be created\n",
    "\n",
    "try:\n",
    "    # [EARLY ACCESS] CreateRole: Create Role\n",
    "    api_response = api_instance.create_role(create_role_request)\n",
    "    pprint(api_response)\n",
    "except finbourne_identity.rest.ApiException as e:\n",
    "    if not exception_guard(e, 157):\n",
    "        print(\"Exception when calling RolesApi->create_role: %s\\n\" % e)"
   ]
  },
  {
   "cell_type": "code",
   "execution_count": 121,
   "metadata": {
    "slideshow": {
     "slide_type": "fragment"
    }
   },
   "outputs": [],
   "source": [
    "api_instance = access.RolesApi(access_client)\n",
    "role_creation_request = {\"code\":\"ResearchAnalyst\",\"description\":\"Associates which require trading data\", \"resource\":{\n",
    "    \"policyIdRoleResource\":{\"policies\":[]}\n",
    "    },\"when\":{\"activate\":today,\"deactivate\":tomorrow}}\n",
    "\n",
    "\n",
    "try:\n",
    "    # [EARLY ACCESS] CreateRole: Create Role\n",
    "    api_response = api_instance.create_role(role_creation_request)\n",
    "    pprint(api_response)\n",
    "except access.rest.ApiException as e:\n",
    "    if not exception_guard(e, 615):\n",
    "        print(\"Exception when calling RolesApi->create_role: %s\\n\" % e)"
   ]
  },
  {
   "cell_type": "markdown",
   "metadata": {
    "slideshow": {
     "slide_type": "notes"
    }
   },
   "source": [
    "We created a new ResearchAnalyst role."
   ]
  },
  {
   "cell_type": "markdown",
   "metadata": {
    "slideshow": {
     "slide_type": "subslide"
    }
   },
   "source": [
    "## Writing simple policies"
   ]
  },
  {
   "cell_type": "markdown",
   "metadata": {
    "slideshow": {
     "slide_type": "fragment"
    }
   },
   "source": [
    "Even once authenticated, a user cannot access data or perform operations within LUSID until all access control checks have been performed."
   ]
  },
  {
   "cell_type": "markdown",
   "metadata": {
    "slideshow": {
     "slide_type": "fragment"
    }
   },
   "source": [
    "A policy is a grant or denial of access to either a particular entity dataset or to a particular feature."
   ]
  },
  {
   "cell_type": "markdown",
   "metadata": {
    "slideshow": {
     "slide_type": "fragment"
    }
   },
   "source": [
    "Upon each access request, LUSID checks each policy in every role for the calling user:\n",
    "- First, LUSID checks a user’s feature policies. A feature policy allows (or denies) access to one or more API endpoints, for example to the ListPortfolios endpoint.\n",
    "- Next, LUSID checks a user’s data policies. A data policy allows (or denies) access to one or more entity datasets, for example to portfolio data.\n",
    "- Finally, for each data policy, LUSID checks whether a user is permitted to access properties decorated onto entities that support properties. "
   ]
  },
  {
   "cell_type": "markdown",
   "metadata": {
    "slideshow": {
     "slide_type": "fragment"
    }
   },
   "source": [
    "Let's write a simple policy."
   ]
  },
  {
   "cell_type": "code",
   "execution_count": 122,
   "metadata": {
    "slideshow": {
     "slide_type": "fragment"
    }
   },
   "outputs": [],
   "source": [
    "api_instance = access.PoliciesApi(access_client)\n",
    "policy_creation_request = {\n",
    "    \"code\":\"Instruments-iam-example\",\n",
    "    \"applications\": [\n",
    "        \"LUSID\"\n",
    "    ],\n",
    "    \"grant\": \"Allow\",\n",
    "    \"selectors\": [\n",
    "        {\n",
    "            \"idSelectorDefinition\": {\n",
    "                \"identifier\": {\n",
    "                    \"code\": \"api-instruments-listinstruments\",\n",
    "                    \"scope\": \"LUSID\"\n",
    "                },\n",
    "                \"actions\": [\n",
    "                    {\n",
    "                        \"scope\": \"LUSID\",\n",
    "                        \"activity\": \"Execute\",\n",
    "                        \"entity\": \"Feature\"\n",
    "                    }\n",
    "                ],\n",
    "                \"name\": \"Run ListInstruments\",\n",
    "                \"description\": \"Run the ListInstruments API endpoint\"\n",
    "            }\n",
    "        }\n",
    "    ], \n",
    "    \"when\": {\n",
    "        \"activate\": today,\n",
    "        \"deactivate\": tomorrow\n",
    "    }\n",
    "} # PolicyCreationRequest | The definition of the Policy\n",
    "\n",
    "try:\n",
    "    # [EARLY ACCESS] CreatePolicy: Create Policy\n",
    "    api_response = api_instance.create_policy(policy_creation_request)\n",
    "    pprint(api_response)\n",
    "except access.rest.ApiException as e:\n",
    "    if not exception_guard(e, 613):\n",
    "        print(\"Exception when calling PoliciesApi->create_policy: %s\\n\" % e)"
   ]
  },
  {
   "cell_type": "markdown",
   "metadata": {
    "slideshow": {
     "slide_type": "notes"
    }
   },
   "source": [
    "We've created a simple policy with this request. This policy grants a user access to run the List Instruments endpoint within LUSID."
   ]
  },
  {
   "cell_type": "markdown",
   "metadata": {
    "slideshow": {
     "slide_type": "subslide"
    }
   },
   "source": [
    "## Creating policy collections"
   ]
  },
  {
   "cell_type": "markdown",
   "metadata": {
    "slideshow": {
     "slide_type": "fragment"
    }
   },
   "source": [
    "A policy can be grouped in a policy collection for logical convenience, and policy collections may themselves contain policy collections. You can create a policy collection to group logically similar policies together."
   ]
  },
  {
   "cell_type": "code",
   "execution_count": 123,
   "metadata": {
    "slideshow": {
     "slide_type": "fragment"
    }
   },
   "outputs": [],
   "source": [
    "policy_collection_creation_request = {\"code\":\"example-policy-collection\",\n",
    "                                      \"policies\":[\n",
    "                                          {\"scope\":\"default\",\n",
    "                                           \"code\":\"Instruments-iam-example\"}]\n",
    "                                     }\n",
    "                                      # PolicyCollectionCreationRequest | The definition of the PolicyCollection\n",
    "\n",
    "try:\n",
    "    # [EARLY ACCESS]  CreatePolicyCollection: Create PolicyCollection\n",
    "    api_response = api_instance.create_policy_collection(policy_collection_creation_request)\n",
    "    pprint(api_response)\n",
    "except access.rest.ApiException as e: \n",
    "    if not exception_guard(e, 612):\n",
    "        print(\"Exception when calling PoliciesApi->create_policy_collection: %s\\n\" % e)"
   ]
  },
  {
   "cell_type": "markdown",
   "metadata": {
    "slideshow": {
     "slide_type": "notes"
    }
   },
   "source": [
    "We've created a new policy collection containing the policy we created earlier."
   ]
  },
  {
   "cell_type": "markdown",
   "metadata": {
    "slideshow": {
     "slide_type": "subslide"
    }
   },
   "source": [
    "## Assinging roles to users"
   ]
  },
  {
   "cell_type": "markdown",
   "metadata": {
    "slideshow": {
     "slide_type": "fragment"
    }
   },
   "source": [
    "You can assign a user many roles, and a role many policies. "
   ]
  },
  {
   "cell_type": "markdown",
   "metadata": {
    "slideshow": {
     "slide_type": "fragment"
    }
   },
   "source": [
    "We've created a research analyst role. Now let's assign the role to a user!"
   ]
  },
  {
   "cell_type": "code",
   "execution_count": null,
   "metadata": {
    "scrolled": true,
    "slideshow": {
     "slide_type": "skip"
    }
   },
   "outputs": [],
   "source": [
    "# Create an instance of the API class\n",
    "api_instance = identity.RolesApi(identity_client)\n",
    "try:\n",
    "    # [EARLY ACCESS] ListRoles: List Roles\n",
    "    api_response = api_instance.list_roles()\n",
    "    matching_role_filter = filter(lambda role: role.name == 'ResearchAnalyst', api_response)\n",
    "    matching_role = next(matching_role_filter)\n",
    "    role_id = matching_role.id\n",
    "except ApiException as e:\n",
    "    print(\"Exception when calling RolesApi->list_roles: %s\\n\" % e)"
   ]
  },
  {
   "cell_type": "code",
   "execution_count": null,
   "metadata": {
    "slideshow": {
     "slide_type": "skip"
    }
   },
   "outputs": [],
   "source": [
    "# Create an instance of the API class\n",
    "api_instance = identity.UsersApi(identity_client)\n",
    "include_roles = False # bool | Flag indicating that the users roles should be included in the response (optional) (default to False)\n",
    "include_deactivated = False # bool | Include previously deleted (not purged) users (optional) (default to False)\n",
    "\n",
    "try:\n",
    "    # [EARLY ACCESS] ListUsers: List Users\n",
    "    api_response = api_instance.list_users(include_roles=include_roles, include_deactivated=include_deactivated)\n",
    "    matching_user_filter = filter(lambda role: role.email_address == \"joe.bloggs@myco.com\", api_response)\n",
    "    matching_user = next(matching_user_filter)\n",
    "    user_id = matching_user.id\n",
    "except ApiException as e:\n",
    "    print(\"Exception when calling UsersApi->list_users: %s\\n\" % e)"
   ]
  },
  {
   "cell_type": "code",
   "execution_count": 124,
   "metadata": {
    "slideshow": {
     "slide_type": "fragment"
    }
   },
   "outputs": [],
   "source": [
    "api_instance = identity.RolesApi(identity_client)\n",
    "\n",
    "_id = role_id # str | The unique identifier for the Role\n",
    "user_id = user_id # str | The unique identifier for the User\n",
    "try:\n",
    "    # [EARLY ACCESS] AddUserToRole: Add User to Role\n",
    "    api_instance.add_user_to_role(_id, user_id)\n",
    "except ApiException as e:\n",
    "    print(\"Exception when calling RolesApi->add_user_to_role: %s\\n\" % e)"
   ]
  },
  {
   "cell_type": "markdown",
   "metadata": {
    "slideshow": {
     "slide_type": "notes"
    }
   },
   "source": [
    "We've assigned our user the role we created earlier!"
   ]
  },
  {
   "cell_type": "markdown",
   "metadata": {
    "slideshow": {
     "slide_type": "subslide"
    }
   },
   "source": [
    "## Building more complex policies"
   ]
  },
  {
   "cell_type": "markdown",
   "metadata": {
    "slideshow": {
     "slide_type": "fragment"
    }
   },
   "source": [
    "Let's create a more complicated policy. We'll build up the policy using the FINBOURNE Access SDK, and take a look at the corresponding JSON."
   ]
  },
  {
   "cell_type": "markdown",
   "metadata": {
    "slideshow": {
     "slide_type": "subslide"
    }
   },
   "source": [
    "Let's take a look at the create_policy method to see what's needed to build this request in Python"
   ]
  },
  {
   "cell_type": "code",
   "execution_count": 125,
   "metadata": {
    "scrolled": true,
    "slideshow": {
     "slide_type": "fragment"
    }
   },
   "outputs": [
    {
     "name": "stdout",
     "output_type": "stream",
     "text": [
      "Help on method create_policy in module finbourne_access.api.policies_api:\n",
      "\n",
      "create_policy(policy_creation_request, **kwargs) method of finbourne_access.api.policies_api.PoliciesApi instance\n",
      "    [EARLY ACCESS] CreatePolicy: Create Policy  # noqa: E501\n",
      "    \n",
      "    Creates a Policy  # noqa: E501\n",
      "    This method makes a synchronous HTTP request by default. To make an\n",
      "    asynchronous HTTP request, please pass async_req=True\n",
      "    \n",
      "    >>> thread = api.create_policy(policy_creation_request, async_req=True)\n",
      "    >>> result = thread.get()\n",
      "    \n",
      "    :param policy_creation_request: The definition of the Policy (required)\n",
      "    :type policy_creation_request: PolicyCreationRequest\n",
      "    :param async_req: Whether to execute the request asynchronously.\n",
      "    :type async_req: bool, optional\n",
      "    :param _preload_content: if False, the urllib3.HTTPResponse object will\n",
      "                             be returned without reading/decoding response\n",
      "                             data. Default is True.\n",
      "    :type _preload_content: bool, optional\n",
      "    :param _request_timeout: timeout setting for this request. If one\n",
      "                             number provided, it will be total request\n",
      "                             timeout. It can also be a pair (tuple) of\n",
      "                             (connection, read) timeouts.\n",
      "    :return: Returns the result object.\n",
      "             If the method is called asynchronously,\n",
      "             returns the request thread.\n",
      "    :rtype: PolicyResponse\n",
      "\n"
     ]
    }
   ],
   "source": [
    "api_instance = access.PoliciesApi(access_client)\n",
    "help(api_instance.create_policy)"
   ]
  },
  {
   "cell_type": "markdown",
   "metadata": {
    "slideshow": {
     "slide_type": "notes"
    }
   },
   "source": [
    "We need a `PolicyCreationRequest` object for this function. Lets build one."
   ]
  },
  {
   "cell_type": "code",
   "execution_count": 126,
   "metadata": {
    "slideshow": {
     "slide_type": "subslide"
    }
   },
   "outputs": [
    {
     "name": "stdout",
     "output_type": "stream",
     "text": [
      "Help on class PolicyCreationRequest in module finbourne_access.models.policy_creation_request:\n",
      "\n",
      "class PolicyCreationRequest(builtins.object)\n",
      " |  PolicyCreationRequest(code=None, description=None, applications=None, grant=None, selectors=None, _for=None, _if=None, when=None, how=None, local_vars_configuration=None)\n",
      " |  \n",
      " |  NOTE: This class is auto generated by OpenAPI Generator.\n",
      " |  Ref: https://openapi-generator.tech\n",
      " |  \n",
      " |  Do not edit the class manually.\n",
      " |  \n",
      " |  Methods defined here:\n",
      " |  \n",
      " |  __eq__(self, other)\n",
      " |      Returns true if both objects are equal\n",
      " |  \n",
      " |  __init__(self, code=None, description=None, applications=None, grant=None, selectors=None, _for=None, _if=None, when=None, how=None, local_vars_configuration=None)\n",
      " |      PolicyCreationRequest - a model defined in OpenAPI\"\n",
      " |      \n",
      " |      :param code:  Code of the policy being created (required)\n",
      " |      :type code: str\n",
      " |      :param description:  Description of what the policy will be used for\n",
      " |      :type description: str\n",
      " |      :param applications:  Applications this policy is used with\n",
      " |      :type applications: list[str]\n",
      " |      :param grant:  (required)\n",
      " |      :type grant: finbourne_access.Grant\n",
      " |      :param selectors:  Selectors that identify what resources this policy qualifies for (required)\n",
      " |      :type selectors: list[finbourne_access.SelectorDefinition]\n",
      " |      :param _for:  \"For Specification\" for when the policy is to be applied\n",
      " |      :type _for: list[finbourne_access.ForSpec]\n",
      " |      :param _if:  \"If Specification\" for when the policy is to be applied\n",
      " |      :type _if: list[finbourne_access.IfExpression]\n",
      " |      :param when:  (required)\n",
      " |      :type when: finbourne_access.WhenSpec\n",
      " |      :param how: \n",
      " |      :type how: finbourne_access.HowSpec\n",
      " |  \n",
      " |  __ne__(self, other)\n",
      " |      Returns true if both objects are not equal\n",
      " |  \n",
      " |  __repr__(self)\n",
      " |      For `print` and `pprint`\n",
      " |  \n",
      " |  to_dict(self, serialize=False)\n",
      " |      Returns the model properties as a dict\n",
      " |  \n",
      " |  to_str(self)\n",
      " |      Returns the string representation of the model\n",
      " |  \n",
      " |  ----------------------------------------------------------------------\n",
      " |  Data descriptors defined here:\n",
      " |  \n",
      " |  __dict__\n",
      " |      dictionary for instance variables (if defined)\n",
      " |  \n",
      " |  __weakref__\n",
      " |      list of weak references to the object (if defined)\n",
      " |  \n",
      " |  applications\n",
      " |      Gets the applications of this PolicyCreationRequest.  # noqa: E501\n",
      " |      \n",
      " |      Applications this policy is used with  # noqa: E501\n",
      " |      \n",
      " |      :return: The applications of this PolicyCreationRequest.  # noqa: E501\n",
      " |      :rtype: list[str]\n",
      " |  \n",
      " |  code\n",
      " |      Gets the code of this PolicyCreationRequest.  # noqa: E501\n",
      " |      \n",
      " |      Code of the policy being created  # noqa: E501\n",
      " |      \n",
      " |      :return: The code of this PolicyCreationRequest.  # noqa: E501\n",
      " |      :rtype: str\n",
      " |  \n",
      " |  description\n",
      " |      Gets the description of this PolicyCreationRequest.  # noqa: E501\n",
      " |      \n",
      " |      Description of what the policy will be used for  # noqa: E501\n",
      " |      \n",
      " |      :return: The description of this PolicyCreationRequest.  # noqa: E501\n",
      " |      :rtype: str\n",
      " |  \n",
      " |  grant\n",
      " |      Gets the grant of this PolicyCreationRequest.  # noqa: E501\n",
      " |      \n",
      " |      \n",
      " |      :return: The grant of this PolicyCreationRequest.  # noqa: E501\n",
      " |      :rtype: finbourne_access.Grant\n",
      " |  \n",
      " |  how\n",
      " |      Gets the how of this PolicyCreationRequest.  # noqa: E501\n",
      " |      \n",
      " |      \n",
      " |      :return: The how of this PolicyCreationRequest.  # noqa: E501\n",
      " |      :rtype: finbourne_access.HowSpec\n",
      " |  \n",
      " |  selectors\n",
      " |      Gets the selectors of this PolicyCreationRequest.  # noqa: E501\n",
      " |      \n",
      " |      Selectors that identify what resources this policy qualifies for  # noqa: E501\n",
      " |      \n",
      " |      :return: The selectors of this PolicyCreationRequest.  # noqa: E501\n",
      " |      :rtype: list[finbourne_access.SelectorDefinition]\n",
      " |  \n",
      " |  when\n",
      " |      Gets the when of this PolicyCreationRequest.  # noqa: E501\n",
      " |      \n",
      " |      \n",
      " |      :return: The when of this PolicyCreationRequest.  # noqa: E501\n",
      " |      :rtype: finbourne_access.WhenSpec\n",
      " |  \n",
      " |  ----------------------------------------------------------------------\n",
      " |  Data and other attributes defined here:\n",
      " |  \n",
      " |  __hash__ = None\n",
      " |  \n",
      " |  attribute_map = {'_for': 'for', '_if': 'if', 'applications': 'applicat...\n",
      " |  \n",
      " |  openapi_types = {'_for': 'list[ForSpec]', '_if': 'list[IfExpression]',...\n",
      " |  \n",
      " |  required_map = {'_for': 'optional', '_if': 'optional', 'applications':...\n",
      "\n"
     ]
    }
   ],
   "source": [
    "help(access.PolicyCreationRequest)"
   ]
  },
  {
   "cell_type": "markdown",
   "metadata": {
    "slideshow": {
     "slide_type": "notes"
    }
   },
   "source": [
    "We can see we need a code, description and grant as a string. We also need a `SelectorDefinition` and a `WhenSpec`. We can optionally add an `IfExpression`, `ForSpec` and a `HowSpec`."
   ]
  },
  {
   "cell_type": "markdown",
   "metadata": {
    "slideshow": {
     "slide_type": "subslide"
    }
   },
   "source": [
    "Lets get started building this request."
   ]
  },
  {
   "cell_type": "code",
   "execution_count": 127,
   "metadata": {
    "slideshow": {
     "slide_type": "fragment"
    }
   },
   "outputs": [],
   "source": [
    "code = \"complex-policy-example\"\n",
    "description = \"A policy which...\"\n",
    "applications = ['LUSID']\n",
    "grant = \"Allow\""
   ]
  },
  {
   "cell_type": "markdown",
   "metadata": {
    "slideshow": {
     "slide_type": "notes"
    }
   },
   "source": [
    "We've created some of the less complex variables required in a `PolicyCreationRequest`."
   ]
  },
  {
   "cell_type": "markdown",
   "metadata": {
    "slideshow": {
     "slide_type": "subslide"
    }
   },
   "source": [
    "Now let's build the `IdSelectorDefinition`, a more complex type."
   ]
  },
  {
   "cell_type": "code",
   "execution_count": 128,
   "metadata": {
    "scrolled": true,
    "slideshow": {
     "slide_type": "fragment"
    }
   },
   "outputs": [
    {
     "name": "stdout",
     "output_type": "stream",
     "text": [
      "Help on class IdSelectorDefinition in module finbourne_access.models.id_selector_definition:\n",
      "\n",
      "class IdSelectorDefinition(builtins.object)\n",
      " |  IdSelectorDefinition(identifier=None, actions=None, name=None, description=None, local_vars_configuration=None)\n",
      " |  \n",
      " |  NOTE: This class is auto generated by OpenAPI Generator.\n",
      " |  Ref: https://openapi-generator.tech\n",
      " |  \n",
      " |  Do not edit the class manually.\n",
      " |  \n",
      " |  Methods defined here:\n",
      " |  \n",
      " |  __eq__(self, other)\n",
      " |      Returns true if both objects are equal\n",
      " |  \n",
      " |  __init__(self, identifier=None, actions=None, name=None, description=None, local_vars_configuration=None)\n",
      " |      IdSelectorDefinition - a model defined in OpenAPI\"\n",
      " |      \n",
      " |      :param identifier:  (required)\n",
      " |      :type identifier: dict(str, str)\n",
      " |      :param actions:  (required)\n",
      " |      :type actions: list[finbourne_access.ActionId]\n",
      " |      :param name: \n",
      " |      :type name: str\n",
      " |      :param description: \n",
      " |      :type description: str\n",
      " |  \n",
      " |  __ne__(self, other)\n",
      " |      Returns true if both objects are not equal\n",
      " |  \n",
      " |  __repr__(self)\n",
      " |      For `print` and `pprint`\n",
      " |  \n",
      " |  to_dict(self, serialize=False)\n",
      " |      Returns the model properties as a dict\n",
      " |  \n",
      " |  to_str(self)\n",
      " |      Returns the string representation of the model\n",
      " |  \n",
      " |  ----------------------------------------------------------------------\n",
      " |  Data descriptors defined here:\n",
      " |  \n",
      " |  __dict__\n",
      " |      dictionary for instance variables (if defined)\n",
      " |  \n",
      " |  __weakref__\n",
      " |      list of weak references to the object (if defined)\n",
      " |  \n",
      " |  actions\n",
      " |      Gets the actions of this IdSelectorDefinition.  # noqa: E501\n",
      " |      \n",
      " |      \n",
      " |      :return: The actions of this IdSelectorDefinition.  # noqa: E501\n",
      " |      :rtype: list[finbourne_access.ActionId]\n",
      " |  \n",
      " |  description\n",
      " |      Gets the description of this IdSelectorDefinition.  # noqa: E501\n",
      " |      \n",
      " |      \n",
      " |      :return: The description of this IdSelectorDefinition.  # noqa: E501\n",
      " |      :rtype: str\n",
      " |  \n",
      " |  identifier\n",
      " |      Gets the identifier of this IdSelectorDefinition.  # noqa: E501\n",
      " |      \n",
      " |      \n",
      " |      :return: The identifier of this IdSelectorDefinition.  # noqa: E501\n",
      " |      :rtype: dict(str, str)\n",
      " |  \n",
      " |  name\n",
      " |      Gets the name of this IdSelectorDefinition.  # noqa: E501\n",
      " |      \n",
      " |      \n",
      " |      :return: The name of this IdSelectorDefinition.  # noqa: E501\n",
      " |      :rtype: str\n",
      " |  \n",
      " |  ----------------------------------------------------------------------\n",
      " |  Data and other attributes defined here:\n",
      " |  \n",
      " |  __hash__ = None\n",
      " |  \n",
      " |  attribute_map = {'actions': 'actions', 'description': 'description', '...\n",
      " |  \n",
      " |  openapi_types = {'actions': 'list[ActionId]', 'description': 'str', 'i...\n",
      " |  \n",
      " |  required_map = {'actions': 'required', 'description': 'optional', 'ide...\n",
      "\n"
     ]
    }
   ],
   "source": [
    "help(access.IdSelectorDefinition)"
   ]
  },
  {
   "cell_type": "markdown",
   "metadata": {
    "slideshow": {
     "slide_type": "notes"
    }
   },
   "source": [
    "We'll use this definition to build an `IdSelectorDefinition`."
   ]
  },
  {
   "cell_type": "code",
   "execution_count": 129,
   "metadata": {
    "scrolled": true,
    "slideshow": {
     "slide_type": "subslide"
    }
   },
   "outputs": [
    {
     "name": "stdout",
     "output_type": "stream",
     "text": [
      "{\n",
      "  \"metadata_selector_definition\": null,\n",
      "  \"id_selector_definition\": {\n",
      "    \"identifier\": {\n",
      "      \"code\": \"api-instruments-listinstruments\",\n",
      "      \"scope\": \"LUSID\"\n",
      "    },\n",
      "    \"actions\": [\n",
      "      {\n",
      "        \"scope\": \"LUSID\",\n",
      "        \"activity\": \"Execute\",\n",
      "        \"entity\": \"Feature\"\n",
      "      }\n",
      "    ],\n",
      "    \"name\": null,\n",
      "    \"description\": null\n",
      "  },\n",
      "  \"match_all_selector_definition\": null,\n",
      "  \"policy_selector_definition\": null\n",
      "}\n"
     ]
    }
   ],
   "source": [
    "import json\n",
    "identifier = {\n",
    "    \"code\": \"api-instruments-listinstruments\",\n",
    "    \"scope\": \"LUSID\"\n",
    "}\n",
    "action_id = access.ActionId(scope= \"LUSID\", activity = \"Execute\", entity= \"Feature\")\n",
    "\n",
    "execute_list_instruments_selector = access.IdSelectorDefinition(identifier = identifier, actions= [action_id])\n",
    "execute_list_instruments_selector_definition = access.SelectorDefinition(id_selector_definition=execute_list_instruments_selector)\n",
    "\n",
    "print(json.dumps(execute_list_instruments_selector_definition.to_dict(), indent = 2))"
   ]
  },
  {
   "cell_type": "markdown",
   "metadata": {
    "slideshow": {
     "slide_type": "notes"
    }
   },
   "source": [
    "Great! We've built our definition, which selects the `ListInstruments` endpoint and the json output looks similar to the previous example!"
   ]
  },
  {
   "cell_type": "markdown",
   "metadata": {
    "slideshow": {
     "slide_type": "subslide"
    }
   },
   "source": [
    "We'll create a selector so we can grant access to read instrument data."
   ]
  },
  {
   "cell_type": "code",
   "execution_count": 130,
   "metadata": {
    "slideshow": {
     "slide_type": "fragment"
    }
   },
   "outputs": [
    {
     "name": "stdout",
     "output_type": "stream",
     "text": [
      "{\n",
      "  \"metadata_selector_definition\": null,\n",
      "  \"id_selector_definition\": {\n",
      "    \"identifier\": {\n",
      "      \"scope\": \"*\"\n",
      "    },\n",
      "    \"actions\": [\n",
      "      {\n",
      "        \"scope\": \"default\",\n",
      "        \"activity\": \"Read\",\n",
      "        \"entity\": \"Instrument\"\n",
      "      }\n",
      "    ],\n",
      "    \"name\": null,\n",
      "    \"description\": null\n",
      "  },\n",
      "  \"match_all_selector_definition\": null,\n",
      "  \"policy_selector_definition\": null\n",
      "}\n"
     ]
    }
   ],
   "source": [
    "identifier = {\n",
    "    \"scope\": \"*\"\n",
    "}\n",
    "\n",
    "action_id = access.ActionId(scope= \"default\", activity = \"Read\", entity= \"Instrument\")\n",
    "\n",
    "instrument_read_data_selector = access.IdSelectorDefinition(identifier = identifier, actions= [action_id])\n",
    "\n",
    "instrument_read_data_selector_definition = access.SelectorDefinition(id_selector_definition=instrument_read_data_selector)\n",
    "\n",
    "\n",
    "print(json.dumps(instrument_read_data_selector_definition.to_dict(), indent = 2))"
   ]
  },
  {
   "cell_type": "markdown",
   "metadata": {
    "slideshow": {
     "slide_type": "notes"
    }
   },
   "source": [
    "We've now created a selector to grant access to instrument data."
   ]
  },
  {
   "cell_type": "markdown",
   "metadata": {
    "slideshow": {
     "slide_type": "subslide"
    }
   },
   "source": [
    "Let's now create a `WhenSpec` and a `ForSpec`."
   ]
  },
  {
   "cell_type": "code",
   "execution_count": 131,
   "metadata": {
    "slideshow": {
     "slide_type": "fragment"
    }
   },
   "outputs": [],
   "source": [
    "when = access.WhenSpec(activate= today,deactivate = tomorrow)\n",
    "effective_date_relative = access.EffectiveDateRelative(\n",
    "    date = 'Now',\n",
    "    adjustment=-7,\n",
    "    unit='Day',\n",
    "    relative_to_date_time='BeforeOrOn'\n",
    ")\n",
    "_for = access.ForSpec(effective_date_relative = effective_date_relative)"
   ]
  },
  {
   "cell_type": "markdown",
   "metadata": {
    "slideshow": {
     "slide_type": "notes"
    }
   },
   "source": [
    "The `WhenSpec` allows us to specify an activation and deactivation date for the Policy. \n",
    "\n",
    "`ForSpec` allows you to specify a rolling validity date for a data policy. This means the policy only takes effect a set date before or after a relative point in time, such as ‘now’ or the ‘first business day of the month’.\n",
    "\n",
    "You can use this feature to restrict access to the latest data, or conversely to only allow access to the latest data. We've decided not to let our ResearchAnalyst role to not see any Instruments until 7 days after they've been created."
   ]
  },
  {
   "cell_type": "markdown",
   "metadata": {
    "slideshow": {
     "slide_type": "subslide"
    }
   },
   "source": [
    "We can now assemble our `PolicyCreationRequest`."
   ]
  },
  {
   "cell_type": "code",
   "execution_count": 132,
   "metadata": {
    "scrolled": true,
    "slideshow": {
     "slide_type": "fragment"
    }
   },
   "outputs": [
    {
     "name": "stdout",
     "output_type": "stream",
     "text": [
      "{\n",
      "  \"code\": \"complex-policy-example\",\n",
      "  \"description\": \"A policy which...\",\n",
      "  \"applications\": [\n",
      "    \"LUSID\"\n",
      "  ],\n",
      "  \"grant\": \"Allow\",\n",
      "  \"selectors\": [\n",
      "    {\n",
      "      \"metadata_selector_definition\": null,\n",
      "      \"id_selector_definition\": {\n",
      "        \"identifier\": {\n",
      "          \"scope\": \"*\"\n",
      "        },\n",
      "        \"actions\": [\n",
      "          {\n",
      "            \"scope\": \"default\",\n",
      "            \"activity\": \"Read\",\n",
      "            \"entity\": \"Instrument\"\n",
      "          }\n",
      "        ],\n",
      "        \"name\": null,\n",
      "        \"description\": null\n",
      "      },\n",
      "      \"match_all_selector_definition\": null,\n",
      "      \"policy_selector_definition\": null\n",
      "    },\n",
      "    {\n",
      "      \"metadata_selector_definition\": null,\n",
      "      \"id_selector_definition\": {\n",
      "        \"identifier\": {\n",
      "          \"code\": \"api-instruments-listinstruments\",\n",
      "          \"scope\": \"LUSID\"\n",
      "        },\n",
      "        \"actions\": [\n",
      "          {\n",
      "            \"scope\": \"LUSID\",\n",
      "            \"activity\": \"Execute\",\n",
      "            \"entity\": \"Feature\"\n",
      "          }\n",
      "        ],\n",
      "        \"name\": null,\n",
      "        \"description\": null\n",
      "      },\n",
      "      \"match_all_selector_definition\": null,\n",
      "      \"policy_selector_definition\": null\n",
      "    }\n",
      "  ],\n",
      "  \"_for\": [\n",
      "    {\n",
      "      \"as_at_range_for_spec\": null,\n",
      "      \"as_at_relative\": null,\n",
      "      \"effective_date_has_quality\": null,\n",
      "      \"effective_date_relative\": {\n",
      "        \"date\": \"Now\",\n",
      "        \"adjustment\": -7,\n",
      "        \"unit\": \"Day\",\n",
      "        \"relative_to_date_time\": \"BeforeOrOn\"\n",
      "      },\n",
      "      \"effective_range\": null\n",
      "    }\n",
      "  ],\n",
      "  \"_if\": null,\n",
      "  \"when\": {\n",
      "    \"activate\": \"2022-12-14T09:45:40.547390+00:00\",\n",
      "    \"deactivate\": \"2022-12-15T09:45:40.547791+00:00\"\n",
      "  },\n",
      "  \"how\": null\n",
      "}\n"
     ]
    }
   ],
   "source": [
    "\n",
    "\n",
    "policy_creation_request = access.PolicyCreationRequest(code = code,\n",
    "                                                       description=description,\n",
    "                                                       applications=applications, \n",
    "                                                       grant=grant,\n",
    "                                                       selectors=[instrument_read_data_selector_definition, execute_list_instruments_selector_definition],\n",
    "                                                       _for = [_for],\n",
    "                                                       when = when\n",
    "                                                      )\n",
    "print(json.dumps(policy_creation_request.to_dict(), indent = 2))\n"
   ]
  },
  {
   "cell_type": "markdown",
   "metadata": {
    "slideshow": {
     "slide_type": "subslide"
    }
   },
   "source": [
    "We've built our `PolicyCreationRequest` in Python, and we can see this creates a JSON similar to before.\n",
    "This Policy allows Read access to instruments older than 7 days.\n",
    "Let's now upload this policy to LUSID."
   ]
  },
  {
   "cell_type": "code",
   "execution_count": 133,
   "metadata": {
    "slideshow": {
     "slide_type": "fragment"
    }
   },
   "outputs": [],
   "source": [
    "try:\n",
    "    # [EARLY ACCESS] CreatePolicy: Create Policy\n",
    "    api_response = api_instance.create_policy(policy_creation_request)\n",
    "    pprint(api_response)\n",
    "except access.rest.ApiException as e:\n",
    "    if not exception_guard(e, 613):\n",
    "        print(\"Exception when calling PoliciesApi->create_policy: %s\\n\" % e)"
   ]
  },
  {
   "cell_type": "markdown",
   "metadata": {
    "slideshow": {
     "slide_type": "notes"
    }
   },
   "source": [
    "We've built a more complex policy in Python."
   ]
  },
  {
   "cell_type": "markdown",
   "metadata": {
    "slideshow": {
     "slide_type": "subslide"
    }
   },
   "source": [
    "## Querying policy logs using Luminesce"
   ]
  },
  {
   "cell_type": "markdown",
   "metadata": {
    "slideshow": {
     "slide_type": "fragment"
    }
   },
   "source": [
    "We can use Luminesce to query access logs, seeing what users have accessed, whether they were successful or whether they did not have the correct entitlements to the LUSID feature."
   ]
  },
  {
   "cell_type": "code",
   "execution_count": 134,
   "metadata": {
    "slideshow": {
     "slide_type": "fragment"
    }
   },
   "outputs": [
    {
     "data": {
      "text/html": [
       "<div>\n",
       "<style scoped>\n",
       "    .dataframe tbody tr th:only-of-type {\n",
       "        vertical-align: middle;\n",
       "    }\n",
       "\n",
       "    .dataframe tbody tr th {\n",
       "        vertical-align: top;\n",
       "    }\n",
       "\n",
       "    .dataframe thead th {\n",
       "        text-align: right;\n",
       "    }\n",
       "</style>\n",
       "<table border=\"1\" class=\"dataframe\">\n",
       "  <thead>\n",
       "    <tr style=\"text-align: right;\">\n",
       "      <th></th>\n",
       "      <th>Client</th>\n",
       "      <th>User</th>\n",
       "      <th>Action</th>\n",
       "      <th>Application</th>\n",
       "      <th>Detail</th>\n",
       "      <th>ResourceId</th>\n",
       "      <th>Result</th>\n",
       "    </tr>\n",
       "  </thead>\n",
       "  <tbody>\n",
       "    <tr>\n",
       "      <th>0</th>\n",
       "      <td>fbn-uni</td>\n",
       "      <td>00uj5ppmtezKb0DPC2p7</td>\n",
       "      <td>Feature/LUSID/Execute</td>\n",
       "      <td>lydia</td>\n",
       "      <td>NaN</td>\n",
       "      <td>scope:Lydia|code:api-users-createuser</td>\n",
       "      <td>Success</td>\n",
       "    </tr>\n",
       "    <tr>\n",
       "      <th>1</th>\n",
       "      <td>fbn-uni</td>\n",
       "      <td>00uj5ppmtezKb0DPC2p7</td>\n",
       "      <td>Feature/LUSID/Execute</td>\n",
       "      <td>lydia</td>\n",
       "      <td>NaN</td>\n",
       "      <td>scope:Lydia|code:api-users-createuser</td>\n",
       "      <td>Success</td>\n",
       "    </tr>\n",
       "    <tr>\n",
       "      <th>2</th>\n",
       "      <td>fbn-uni</td>\n",
       "      <td>00uj5ppmtezKb0DPC2p7</td>\n",
       "      <td>User/default/Add</td>\n",
       "      <td>lydia</td>\n",
       "      <td>NaN</td>\n",
       "      <td>login:947d083ac6df49b4a55f7afb625af2a2</td>\n",
       "      <td>Success</td>\n",
       "    </tr>\n",
       "    <tr>\n",
       "      <th>3</th>\n",
       "      <td>fbn-uni</td>\n",
       "      <td>00uj5ppmtezKb0DPC2p7</td>\n",
       "      <td>Feature/LUSID/Execute</td>\n",
       "      <td>lydia</td>\n",
       "      <td>NaN</td>\n",
       "      <td>scope:Lydia|code:api-roles-listroles</td>\n",
       "      <td>Success</td>\n",
       "    </tr>\n",
       "    <tr>\n",
       "      <th>4</th>\n",
       "      <td>fbn-uni</td>\n",
       "      <td>00uj5ppmtezKb0DPC2p7</td>\n",
       "      <td>Role/default/List</td>\n",
       "      <td>lydia</td>\n",
       "      <td>NaN</td>\n",
       "      <td>scope:default|code:ResearchAnalyst</td>\n",
       "      <td>Success</td>\n",
       "    </tr>\n",
       "    <tr>\n",
       "      <th>...</th>\n",
       "      <td>...</td>\n",
       "      <td>...</td>\n",
       "      <td>...</td>\n",
       "      <td>...</td>\n",
       "      <td>...</td>\n",
       "      <td>...</td>\n",
       "      <td>...</td>\n",
       "    </tr>\n",
       "    <tr>\n",
       "      <th>95</th>\n",
       "      <td>fbn-uni</td>\n",
       "      <td>00uihwl5ljacZQhq92p7</td>\n",
       "      <td>Feature/LUSID/Execute</td>\n",
       "      <td>shrine</td>\n",
       "      <td>NaN</td>\n",
       "      <td>licensedfeature:system-licence-check-notificat...</td>\n",
       "      <td>Success</td>\n",
       "    </tr>\n",
       "    <tr>\n",
       "      <th>96</th>\n",
       "      <td>fbn-uni</td>\n",
       "      <td>00uihwl5ljacZQhq92p7</td>\n",
       "      <td>Feature/LUSID/Execute</td>\n",
       "      <td>shrine</td>\n",
       "      <td>NaN</td>\n",
       "      <td>licensedfeature:system-licence-check-horizonst...</td>\n",
       "      <td>DoesNotHaveRequiredLicence</td>\n",
       "    </tr>\n",
       "    <tr>\n",
       "      <th>97</th>\n",
       "      <td>fbn-uni</td>\n",
       "      <td>00uihwl5ljacZQhq92p7</td>\n",
       "      <td>Feature/LUSID/Execute</td>\n",
       "      <td>shrine</td>\n",
       "      <td>NaN</td>\n",
       "      <td>licensedfeature:system-licence-check-horizonco...</td>\n",
       "      <td>DoesNotHaveRequiredLicence</td>\n",
       "    </tr>\n",
       "    <tr>\n",
       "      <th>98</th>\n",
       "      <td>fbn-uni</td>\n",
       "      <td>00uihwl5ljacZQhq92p7</td>\n",
       "      <td>Feature/LUSID/Execute</td>\n",
       "      <td>shrine</td>\n",
       "      <td>NaN</td>\n",
       "      <td>licensedfeature:system-licence-check-horizonsix</td>\n",
       "      <td>DoesNotHaveRequiredLicence</td>\n",
       "    </tr>\n",
       "    <tr>\n",
       "      <th>99</th>\n",
       "      <td>fbn-uni</td>\n",
       "      <td>00uihwl5ljacZQhq92p7</td>\n",
       "      <td>Feature/LUSID/Execute</td>\n",
       "      <td>shrine</td>\n",
       "      <td>NaN</td>\n",
       "      <td>licensedfeature:system-licence-check-driveaccess</td>\n",
       "      <td>Success</td>\n",
       "    </tr>\n",
       "  </tbody>\n",
       "</table>\n",
       "<p>100 rows × 7 columns</p>\n",
       "</div>"
      ],
      "text/plain": [
       "     Client                  User                 Action Application  Detail  \\\n",
       "0   fbn-uni  00uj5ppmtezKb0DPC2p7  Feature/LUSID/Execute       lydia     NaN   \n",
       "1   fbn-uni  00uj5ppmtezKb0DPC2p7  Feature/LUSID/Execute       lydia     NaN   \n",
       "2   fbn-uni  00uj5ppmtezKb0DPC2p7       User/default/Add       lydia     NaN   \n",
       "3   fbn-uni  00uj5ppmtezKb0DPC2p7  Feature/LUSID/Execute       lydia     NaN   \n",
       "4   fbn-uni  00uj5ppmtezKb0DPC2p7      Role/default/List       lydia     NaN   \n",
       "..      ...                   ...                    ...         ...     ...   \n",
       "95  fbn-uni  00uihwl5ljacZQhq92p7  Feature/LUSID/Execute      shrine     NaN   \n",
       "96  fbn-uni  00uihwl5ljacZQhq92p7  Feature/LUSID/Execute      shrine     NaN   \n",
       "97  fbn-uni  00uihwl5ljacZQhq92p7  Feature/LUSID/Execute      shrine     NaN   \n",
       "98  fbn-uni  00uihwl5ljacZQhq92p7  Feature/LUSID/Execute      shrine     NaN   \n",
       "99  fbn-uni  00uihwl5ljacZQhq92p7  Feature/LUSID/Execute      shrine     NaN   \n",
       "\n",
       "                                           ResourceId  \\\n",
       "0               scope:Lydia|code:api-users-createuser   \n",
       "1               scope:Lydia|code:api-users-createuser   \n",
       "2              login:947d083ac6df49b4a55f7afb625af2a2   \n",
       "3                scope:Lydia|code:api-roles-listroles   \n",
       "4                  scope:default|code:ResearchAnalyst   \n",
       "..                                                ...   \n",
       "95  licensedfeature:system-licence-check-notificat...   \n",
       "96  licensedfeature:system-licence-check-horizonst...   \n",
       "97  licensedfeature:system-licence-check-horizonco...   \n",
       "98    licensedfeature:system-licence-check-horizonsix   \n",
       "99   licensedfeature:system-licence-check-driveaccess   \n",
       "\n",
       "                        Result  \n",
       "0                      Success  \n",
       "1                      Success  \n",
       "2                      Success  \n",
       "3                      Success  \n",
       "4                      Success  \n",
       "..                         ...  \n",
       "95                     Success  \n",
       "96  DoesNotHaveRequiredLicence  \n",
       "97  DoesNotHaveRequiredLicence  \n",
       "98  DoesNotHaveRequiredLicence  \n",
       "99                     Success  \n",
       "\n",
       "[100 rows x 7 columns]"
      ]
     },
     "execution_count": 134,
     "metadata": {},
     "output_type": "execute_result"
    }
   ],
   "source": [
    "%%luminesce \n",
    "SELECT ^ FROM Lusid.Logs.Metrics.Entitlement LIMIT 100;"
   ]
  },
  {
   "cell_type": "markdown",
   "metadata": {
    "slideshow": {
     "slide_type": "notes"
    }
   },
   "source": [
    "Here we see a list of recent access requests, providing the User id, the ActionId of the policy that was applied, the id of the resource requested, and the outcome of the access request."
   ]
  }
 ],
 "metadata": {
  "celltoolbar": "Slideshow",
  "kernelspec": {
   "display_name": "Python 3 (ipykernel)",
   "language": "python",
   "name": "python3"
  },
  "language_info": {
   "codemirror_mode": {
    "name": "ipython",
    "version": 3
   },
   "file_extension": ".py",
   "mimetype": "text/x-python",
   "name": "python",
   "nbconvert_exporter": "python",
   "pygments_lexer": "ipython3",
   "version": "3.9.7"
  },
  "toc": {
   "base_numbering": 1,
   "nav_menu": {},
   "number_sections": false,
   "sideBar": true,
   "skip_h1_title": false,
   "title_cell": "Table of Contents",
   "title_sidebar": "Contents",
   "toc_cell": false,
   "toc_position": {},
   "toc_section_display": true,
   "toc_window_display": false
  },
  "varInspector": {
   "cols": {
    "lenName": 16,
    "lenType": 16,
    "lenVar": 40
   },
   "kernels_config": {
    "python": {
     "delete_cmd_postfix": "",
     "delete_cmd_prefix": "del ",
     "library": "var_list.py",
     "varRefreshCmd": "print(var_dic_list())"
    },
    "r": {
     "delete_cmd_postfix": ") ",
     "delete_cmd_prefix": "rm(",
     "library": "var_list.r",
     "varRefreshCmd": "cat(var_dic_list()) "
    }
   },
   "types_to_exclude": [
    "module",
    "function",
    "builtin_function_or_method",
    "instance",
    "_Feature"
   ],
   "window_display": false
  },
  "vscode": {
   "interpreter": {
    "hash": "b0fa6594d8f4cbf19f97940f81e996739fb7646882a419484c72d19e05852a7e"
   }
  }
 },
 "nbformat": 4,
 "nbformat_minor": 2
}
