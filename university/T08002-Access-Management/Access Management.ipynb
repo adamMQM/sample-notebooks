{
 "cells": [
  {
   "cell_type": "code",
   "execution_count": null,
   "metadata": {
    "slideshow": {
     "slide_type": "skip"
    }
   },
   "outputs": [],
   "source": [
    "from lusid.utilities import ApiClientFactory\n",
    "import lusid as lu\n",
    "import pandas as pd\n",
    "from pprint import pprint\n",
    "import json\n",
    "\n",
    "api_factory = ApiClientFactory()\n",
    "\n",
    "# Confirm success by printing SDK version\n",
    "api_status = pd.DataFrame(api_factory.build(lu.ApplicationMetadataApi).get_lusid_versions().to_dict())\n",
    "display(api_status)"
   ]
  },
  {
   "cell_type": "code",
   "execution_count": null,
   "metadata": {
    "slideshow": {
     "slide_type": "skip"
    }
   },
   "outputs": [],
   "source": [
    "import finbourne_identity as identity\n",
    "import finbourne_identity.rest\n",
    "\n",
    "configuration = identity.Configuration(\n",
    "    host = f'{api_factory.api_client.configuration.host[:-4]}/identity'\n",
    ")\n",
    "configuration.access_token = api_factory.api_client.configuration.access_token\n",
    "\n",
    "identity_client = identity.ApiClient(configuration)"
   ]
  },
  {
   "cell_type": "code",
   "execution_count": null,
   "metadata": {
    "slideshow": {
     "slide_type": "skip"
    }
   },
   "outputs": [],
   "source": [
    "import finbourne_access as access\n",
    "configuration = access.Configuration(\n",
    "    host = f'{api_factory.api_client.configuration.host[:-4]}/access'\n",
    ")\n",
    "\n",
    "configuration.access_token = api_factory.api_client.configuration.access_token\n",
    "access_client = access.ApiClient(configuration)"
   ]
  },
  {
   "cell_type": "code",
   "execution_count": null,
   "metadata": {
    "slideshow": {
     "slide_type": "skip"
    }
   },
   "outputs": [],
   "source": [
    "from datetime import datetime\n",
    "from datetime import timedelta\n",
    "today = f'{datetime.today().isoformat()}+00:00'\n",
    "tomorrow = datetime.today() + timedelta(days = 1)\n",
    "tomorrow = f'{tomorrow.isoformat()}+00:00'"
   ]
  },
  {
   "cell_type": "code",
   "execution_count": null,
   "metadata": {
    "slideshow": {
     "slide_type": "skip"
    }
   },
   "outputs": [],
   "source": [
    "# don't show exception if error is due to upsert\n",
    "def exception_guard(e, code):\n",
    "    return e.status and e.status != '400 Bad Request' and e.body and json.loads(e.body)[\"code\"] == code"
   ]
  },
  {
   "cell_type": "markdown",
   "metadata": {
    "slideshow": {
     "slide_type": "skip"
    }
   },
   "source": [
    "set up an example user."
   ]
  },
  {
   "cell_type": "code",
   "execution_count": null,
   "metadata": {
    "slideshow": {
     "slide_type": "skip"
    }
   },
   "outputs": [],
   "source": [
    "api_instance = identity.UsersApi(identity_client)\n",
    "create_user_request = {\"firstName\":\"Joe\",\"lastName\":\"Bloggs\",\"emailAddress\":\"joe.bloggs@myco.com\",\"login\":\"joe.bloggs@myco.com\",\"type\":\"Personal\"} # CreateUserRequest | Details of the User to be created\n",
    "wait_for_reindex = True # bool | Should the request wait until the newly created User is indexed (available in List) before returning (optional) (default to False)\n",
    "try:\n",
    "    api_response = api_instance.create_user(create_user_request, wait_for_reindex=wait_for_reindex)\n",
    "    pprint(api_response)\n",
    "except identity.rest.ApiException as e:\n",
    "    if not exception_guard(e, 658):\n",
    "        print(\"Exception when calling UsersApi->create_user: %s\\n\" % e)"
   ]
  },
  {
   "cell_type": "markdown",
   "metadata": {
    "slideshow": {
     "slide_type": "slide"
    }
   },
   "source": [
    "# Access Management"
   ]
  },
  {
   "cell_type": "markdown",
   "metadata": {
    "slideshow": {
     "slide_type": "subslide"
    }
   },
   "source": [
    "In this part of the course, we will introduce aspects of access management in LUSID, and demonstrate the process of:\n",
    "\n",
    "- Creating roles\n",
    "- Writing simple policies\n",
    "- Creating policy collections\n",
    "- Assinging roles to users\n",
    "- Building more complex policies\n",
    "- Querying policy logs using LUMINESCE"
   ]
  },
  {
   "cell_type": "markdown",
   "metadata": {
    "slideshow": {
     "slide_type": "subslide"
    }
   },
   "source": [
    "## CREATING ROLES"
   ]
  },
  {
   "cell_type": "markdown",
   "metadata": {
    "slideshow": {
     "slide_type": "fragment"
    }
   },
   "source": [
    "A role models a real-world job function or responsibility within LUSID.\n"
   ]
  },
  {
   "cell_type": "markdown",
   "metadata": {
    "slideshow": {
     "slide_type": "fragment"
    }
   },
   "source": [
    "For example:  \n",
    "\n",
    "A data controller might require write access to all the data in LUSID.  \n",
    "A portfolio manager might require write access to certain portfolios. \n",
    "A risk manager might require read-only access to all portfolios.  "
   ]
  },
  {
   "cell_type": "markdown",
   "metadata": {
    "slideshow": {
     "slide_type": "fragment"
    }
   },
   "source": [
    "Each role has one or more policies, each of which grants (or denies) access to a particular feature or dataset. You can combine policies in any way you like to precisely model the professional duties of a role, and edit policies as these professional duties evolve over time."
   ]
  },
  {
   "cell_type": "markdown",
   "metadata": {
    "slideshow": {
     "slide_type": "fragment"
    }
   },
   "source": [
    "You assign a role to one or more LUSID users. A user with that role inherits all the access rights granted by its policies. A user can have multiple roles. "
   ]
  },
  {
   "cell_type": "markdown",
   "metadata": {
    "slideshow": {
     "slide_type": "fragment"
    }
   },
   "source": [
    "You must create a role using both the Identity API and the Access API. We have different APIs for identity management and access control to securely separate these concerns; roles are the link between the two systems."
   ]
  },
  {
   "cell_type": "markdown",
   "metadata": {
    "slideshow": {
     "slide_type": "fragment"
    }
   },
   "source": [
    "Let's create a role!"
   ]
  },
  {
   "cell_type": "code",
   "execution_count": null,
   "metadata": {
    "slideshow": {
     "slide_type": "fragment"
    }
   },
   "outputs": [],
   "source": [
    "api_instance = identity.RolesApi(identity_client)\n",
    "create_role_request = {\"name\":\"ResearchAnalyst\",\"description\":\"Associates which require trading data\"} # CreateRoleRequest | Details of the role to be created\n",
    "\n",
    "try:\n",
    "    # [EARLY ACCESS] CreateRole: Create Role\n",
    "    api_response = api_instance.create_role(create_role_request)\n",
    "    pprint(api_response)\n",
    "except finbourne_identity.rest.ApiException as e:\n",
    "    if not exception_guard(e, 157):\n",
    "        print(\"Exception when calling RolesApi->create_role: %s\\n\" % e)"
   ]
  },
  {
   "cell_type": "code",
   "execution_count": null,
   "metadata": {
    "slideshow": {
     "slide_type": "fragment"
    }
   },
   "outputs": [],
   "source": [
    "api_instance = access.RolesApi(access_client)\n",
    "role_creation_request = {\"code\":\"ResearchAnalyst\",\"description\":\"Associates which require trading data\", \"resource\":{\n",
    "    \"policyIdRoleResource\":{\"policies\":[]}\n",
    "    },\"when\":{\"activate\":today,\"deactivate\":tomorrow}}\n",
    "\n",
    "\n",
    "try:\n",
    "    # [EARLY ACCESS] CreateRole: Create Role\n",
    "    api_response = api_instance.create_role(role_creation_request)\n",
    "    pprint(api_response)\n",
    "except access.rest.ApiException as e:\n",
    "    if not exception_guard(e, 615):\n",
    "        print(\"Exception when calling RolesApi->create_role: %s\\n\" % e)"
   ]
  },
  {
   "cell_type": "markdown",
   "metadata": {
    "slideshow": {
     "slide_type": "notes"
    }
   },
   "source": [
    "We created a new ResearchAnalyst role."
   ]
  },
  {
   "cell_type": "markdown",
   "metadata": {
    "slideshow": {
     "slide_type": "subslide"
    }
   },
   "source": [
    "## Writing simple policies"
   ]
  },
  {
   "cell_type": "markdown",
   "metadata": {
    "slideshow": {
     "slide_type": "fragment"
    }
   },
   "source": [
    "Even once authenticated, a user cannot access data or perform operations within LUSID until all access control checks have been performed."
   ]
  },
  {
   "cell_type": "markdown",
   "metadata": {
    "slideshow": {
     "slide_type": "fragment"
    }
   },
   "source": [
    "A policy is a grant or denial of access to either a particular entity dataset or to a particular feature."
   ]
  },
  {
   "cell_type": "markdown",
   "metadata": {
    "slideshow": {
     "slide_type": "fragment"
    }
   },
   "source": [
    "Upon each access request, LUSID checks each policy in every role for the calling user:\n",
    "- First, LUSID checks a user’s feature policies. A feature policy allows (or denies) access to one or more API endpoints, for example to the ListPortfolios endpoint.\n",
    "- Next, LUSID checks a user’s data policies. A data policy allows (or denies) access to one or more entity datasets, for example to portfolio data.\n",
    "- Finally, for each data policy, LUSID checks whether a user is permitted to access properties decorated onto entities that support properties. "
   ]
  },
  {
   "cell_type": "markdown",
   "metadata": {
    "slideshow": {
     "slide_type": "fragment"
    }
   },
   "source": [
    "Let's write a simple policy."
   ]
  },
  {
   "cell_type": "code",
   "execution_count": null,
   "metadata": {
    "slideshow": {
     "slide_type": "fragment"
    }
   },
   "outputs": [],
   "source": [
    "api_instance = access.PoliciesApi(access_client)\n",
    "policy_creation_request = {\n",
    "    \"code\":\"Instruments-iam-example\",\n",
    "    \"applications\": [\n",
    "        \"LUSID\"\n",
    "    ],\n",
    "    \"grant\": \"Allow\",\n",
    "    \"selectors\": [\n",
    "        {\n",
    "            \"idSelectorDefinition\": {\n",
    "                \"identifier\": {\n",
    "                    \"code\": \"api-instruments-listinstruments\",\n",
    "                    \"scope\": \"LUSID\"\n",
    "                },\n",
    "                \"actions\": [\n",
    "                    {\n",
    "                        \"scope\": \"LUSID\",\n",
    "                        \"activity\": \"Execute\",\n",
    "                        \"entity\": \"Feature\"\n",
    "                    }\n",
    "                ],\n",
    "                \"name\": \"Run ListInstruments\",\n",
    "                \"description\": \"Run the ListInstruments API endpoint\"\n",
    "            }\n",
    "        }\n",
    "    ], \n",
    "    \"when\": {\n",
    "        \"activate\": today,\n",
    "        \"deactivate\": tomorrow\n",
    "    }\n",
    "} # PolicyCreationRequest | The definition of the Policy\n",
    "\n",
    "try:\n",
    "    # [EARLY ACCESS] CreatePolicy: Create Policy\n",
    "    api_response = api_instance.create_policy(policy_creation_request)\n",
    "    pprint(api_response)\n",
    "except access.rest.ApiException as e:\n",
    "    if not exception_guard(e, 613):\n",
    "        print(\"Exception when calling PoliciesApi->create_policy: %s\\n\" % e)"
   ]
  },
  {
   "cell_type": "markdown",
   "metadata": {
    "slideshow": {
     "slide_type": "notes"
    }
   },
   "source": [
    "We've created a simple policy with this request. This policy grants a user access to run the List Instruments endpoint within LUSID."
   ]
  },
  {
   "cell_type": "markdown",
   "metadata": {
    "slideshow": {
     "slide_type": "subslide"
    }
   },
   "source": [
    "## Creating policy collections"
   ]
  },
  {
   "cell_type": "markdown",
   "metadata": {
    "slideshow": {
     "slide_type": "fragment"
    }
   },
   "source": [
    "A policy can be grouped in a policy collection for logical convenience, and policy collections may themselves contain policy collections. You can create a policy collection to group logically similar policies together."
   ]
  },
  {
   "cell_type": "code",
   "execution_count": null,
   "metadata": {
    "slideshow": {
     "slide_type": "fragment"
    }
   },
   "outputs": [],
   "source": [
    "policy_collection_creation_request = {\"code\":\"example-policy-collection\",\n",
    "                                      \"policies\":[\n",
    "                                          {\"scope\":\"default\",\n",
    "                                           \"code\":\"Instruments-iam-example\"}]\n",
    "                                     }\n",
    "                                      # PolicyCollectionCreationRequest | The definition of the PolicyCollection\n",
    "\n",
    "try:\n",
    "    # [EARLY ACCESS]  CreatePolicyCollection: Create PolicyCollection\n",
    "    api_response = api_instance.create_policy_collection(policy_collection_creation_request)\n",
    "    pprint(api_response)\n",
    "except access.rest.ApiException as e:\n",
    "    if not exception_guard(e, 612):\n",
    "        print(\"Exception when calling PoliciesApi->create_policy_collection: %s\\n\" % e)"
   ]
  },
  {
   "cell_type": "markdown",
   "metadata": {
    "slideshow": {
     "slide_type": "notes"
    }
   },
   "source": [
    "We've created a new policy collection containing the policy we created earlier."
   ]
  },
  {
   "cell_type": "markdown",
   "metadata": {
    "slideshow": {
     "slide_type": "subslide"
    }
   },
   "source": [
    "## Assinging roles to users"
   ]
  },
  {
   "cell_type": "markdown",
   "metadata": {
    "slideshow": {
     "slide_type": "fragment"
    }
   },
   "source": [
    "You can assign a user many roles, and a role many policies. "
   ]
  },
  {
   "cell_type": "markdown",
   "metadata": {
    "slideshow": {
     "slide_type": "fragment"
    }
   },
   "source": [
    "We've created a risk analyst role. Now let's assign the role to a user!"
   ]
  },
  {
   "cell_type": "code",
   "execution_count": null,
   "metadata": {
    "scrolled": true,
    "slideshow": {
     "slide_type": "skip"
    }
   },
   "outputs": [],
   "source": [
    "# Create an instance of the API class\n",
    "api_instance = identity.RolesApi(identity_client)\n",
    "try:\n",
    "    # [EARLY ACCESS] ListRoles: List Roles\n",
    "    api_response = api_instance.list_roles()\n",
    "    matching_role_filter = filter(lambda role: role.name == 'ResearchAnalyst', api_response)\n",
    "    matching_role = next(matching_role_filter)\n",
    "    role_id = matching_role.id\n",
    "except ApiException as e:\n",
    "    print(\"Exception when calling RolesApi->list_roles: %s\\n\" % e)"
   ]
  },
  {
   "cell_type": "code",
   "execution_count": null,
   "metadata": {
    "slideshow": {
     "slide_type": "skip"
    }
   },
   "outputs": [],
   "source": [
    "# Create an instance of the API class\n",
    "api_instance = identity.UsersApi(identity_client)\n",
    "include_roles = False # bool | Flag indicating that the users roles should be included in the response (optional) (default to False)\n",
    "include_deactivated = False # bool | Include previously deleted (not purged) users (optional) (default to False)\n",
    "\n",
    "try:\n",
    "    # [EARLY ACCESS] ListUsers: List Users\n",
    "    api_response = api_instance.list_users(include_roles=include_roles, include_deactivated=include_deactivated)\n",
    "    matching_user_filter = filter(lambda role: role.email_address == \"joe.bloggs@myco.com\", api_response)\n",
    "    matching_user = next(matching_user_filter)\n",
    "    user_id = matching_user.id\n",
    "except ApiException as e:\n",
    "    print(\"Exception when calling UsersApi->list_users: %s\\n\" % e)"
   ]
  },
  {
   "cell_type": "code",
   "execution_count": null,
   "metadata": {
    "slideshow": {
     "slide_type": "fragment"
    }
   },
   "outputs": [],
   "source": [
    "api_instance = identity.RolesApi(identity_client)\n",
    "\n",
    "_id = role_id # str | The unique identifier for the Role\n",
    "user_id = user_id # str | The unique identifier for the User\n",
    "try:\n",
    "    # [EARLY ACCESS] AddUserToRole: Add User to Role\n",
    "    api_instance.add_user_to_role(_id, user_id)\n",
    "except ApiException as e:\n",
    "    print(\"Exception when calling RolesApi->add_user_to_role: %s\\n\" % e)"
   ]
  },
  {
   "cell_type": "markdown",
   "metadata": {
    "slideshow": {
     "slide_type": "notes"
    }
   },
   "source": [
    "We've assigned our user the role we created earlier!"
   ]
  },
  {
   "cell_type": "markdown",
   "metadata": {
    "slideshow": {
     "slide_type": "subslide"
    }
   },
   "source": [
    "## Building more complex policies"
   ]
  },
  {
   "cell_type": "markdown",
   "metadata": {
    "slideshow": {
     "slide_type": "fragment"
    }
   },
   "source": [
    "Let's create a more complicated policy. We'll build up the policy using the FINBOURNE Access SDK, and take a look at the corresponding JSON."
   ]
  },
  {
   "cell_type": "markdown",
   "metadata": {
    "slideshow": {
     "slide_type": "subslide"
    }
   },
   "source": [
    "Let's take a look at the create_policy method to see what's needed to build this request in Python"
   ]
  },
  {
   "cell_type": "code",
   "execution_count": null,
   "metadata": {
    "scrolled": true,
    "slideshow": {
     "slide_type": "fragment"
    }
   },
   "outputs": [],
   "source": [
    "api_instance = access.PoliciesApi(access_client)\n",
    "help(api_instance.create_policy)"
   ]
  },
  {
   "cell_type": "markdown",
   "metadata": {
    "slideshow": {
     "slide_type": "notes"
    }
   },
   "source": [
    "We need a `PolicyCreationRequest` object for this function. Lets build one."
   ]
  },
  {
   "cell_type": "code",
   "execution_count": null,
   "metadata": {
    "slideshow": {
     "slide_type": "subslide"
    }
   },
   "outputs": [],
   "source": [
    "help(access.PolicyCreationRequest)"
   ]
  },
  {
   "cell_type": "markdown",
   "metadata": {
    "slideshow": {
     "slide_type": "notes"
    }
   },
   "source": [
    "We can see we need a code, description and grant as a string. We also need a `SelectorDefinition` and a `WhenSpec`. We can optionally add an `IfExpression`, `ForSpec` and a `HowSpec`."
   ]
  },
  {
   "cell_type": "markdown",
   "metadata": {
    "slideshow": {
     "slide_type": "subslide"
    }
   },
   "source": [
    "Lets get started building this request."
   ]
  },
  {
   "cell_type": "code",
   "execution_count": null,
   "metadata": {
    "slideshow": {
     "slide_type": "fragment"
    }
   },
   "outputs": [],
   "source": [
    "code = \"complex-policy-example\"\n",
    "description = \"A policy which...\"\n",
    "applications = ['LUSID']\n",
    "grant = \"Allow\""
   ]
  },
  {
   "cell_type": "markdown",
   "metadata": {
    "slideshow": {
     "slide_type": "notes"
    }
   },
   "source": [
    "We've created some of the less complex variables required in a `PolicyCreationRequest`."
   ]
  },
  {
   "cell_type": "markdown",
   "metadata": {
    "slideshow": {
     "slide_type": "subslide"
    }
   },
   "source": [
    "Now let's build the `IdSelectorDefinition`, a more complex type."
   ]
  },
  {
   "cell_type": "code",
   "execution_count": null,
   "metadata": {
    "scrolled": true,
    "slideshow": {
     "slide_type": "fragment"
    }
   },
   "outputs": [],
   "source": [
    "help(access.IdSelectorDefinition)"
   ]
  },
  {
   "cell_type": "markdown",
   "metadata": {
    "slideshow": {
     "slide_type": "notes"
    }
   },
   "source": [
    "We'll use this definition to build an `IdSelectorDefinition`."
   ]
  },
  {
   "cell_type": "code",
   "execution_count": null,
   "metadata": {
    "scrolled": true,
    "slideshow": {
     "slide_type": "subslide"
    }
   },
   "outputs": [],
   "source": [
    "import json\n",
    "identifier = {\n",
    "    \"code\": \"api-instruments-listinstruments\",\n",
    "    \"scope\": \"LUSID\"\n",
    "}\n",
    "action_id = access.ActionId(scope= \"LUSID\", activity = \"Execute\", entity= \"Feature\")\n",
    "\n",
    "execute_list_instruments_selector = access.IdSelectorDefinition(identifier = identifier, actions= [action_id])\n",
    "execute_list_instruments_selector_definition = access.SelectorDefinition(id_selector_definition=execute_list_instruments_selector)\n",
    "\n",
    "print(json.dumps(execute_list_instruments_selector_definition.to_dict(), indent = 2))"
   ]
  },
  {
   "cell_type": "markdown",
   "metadata": {
    "slideshow": {
     "slide_type": "notes"
    }
   },
   "source": [
    "Great! We've built our definition, which selects the `ListInstruments` endpoint and the json output looks similar to the previous example!"
   ]
  },
  {
   "cell_type": "markdown",
   "metadata": {
    "slideshow": {
     "slide_type": "subslide"
    }
   },
   "source": [
    "We'll create a selector so we can grant access to read instrument data."
   ]
  },
  {
   "cell_type": "code",
   "execution_count": null,
   "metadata": {
    "slideshow": {
     "slide_type": "fragment"
    }
   },
   "outputs": [],
   "source": [
    "identifier = {\n",
    "    \"scope\": \"*\"\n",
    "}\n",
    "\n",
    "action_id = access.ActionId(scope= \"default\", activity = \"Read\", entity= \"Instrument\")\n",
    "\n",
    "instrument_read_data_selector = access.IdSelectorDefinition(identifier = identifier, actions= [action_id])\n",
    "\n",
    "instrument_read_data_selector_definition = access.SelectorDefinition(id_selector_definition=instrument_read_data_selector)\n",
    "\n",
    "\n",
    "print(json.dumps(instrument_read_data_selector_definition.to_dict(), indent = 2))"
   ]
  },
  {
   "cell_type": "markdown",
   "metadata": {
    "slideshow": {
     "slide_type": "notes"
    }
   },
   "source": [
    "We've now created a selector to grant access to instrument data."
   ]
  },
  {
   "cell_type": "markdown",
   "metadata": {
    "slideshow": {
     "slide_type": "subslide"
    }
   },
   "source": [
    "Let's now create a `WhenSpec` and a `ForSpec`."
   ]
  },
  {
   "cell_type": "code",
   "execution_count": null,
   "metadata": {
    "slideshow": {
     "slide_type": "fragment"
    }
   },
   "outputs": [],
   "source": [
    "when = access.WhenSpec(activate= today,deactivate = tomorrow)\n",
    "effective_date_relative = access.EffectiveDateRelative(\n",
    "    date = 'Now',\n",
    "    adjustment=-7,\n",
    "    unit='Day',\n",
    "    relative_to_date_time='BeforeOrOn'\n",
    ")\n",
    "_for = access.ForSpec(effective_date_relative = effective_date_relative)"
   ]
  },
  {
   "cell_type": "markdown",
   "metadata": {
    "slideshow": {
     "slide_type": "notes"
    }
   },
   "source": [
    "The `WhenSpec` allows us to specify an activation and deactivation date for the Policy. \n",
    "\n",
    "`ForSpec` allows you to specify a rolling validity date for a data policy. This means the policy only takes effect a set date before or after a relative point in time, such as ‘now’ or the ‘first business day of the month’.\n",
    "\n",
    "You can use this feature to restrict access to the latest data, or conversely to only allow access to the latest data. We've decided not to let our ResearchAnalyst role to not see any Instruments until 7 days after they've been created."
   ]
  },
  {
   "cell_type": "markdown",
   "metadata": {
    "slideshow": {
     "slide_type": "subslide"
    }
   },
   "source": [
    "We can now assemble our `PolicyCreationRequest`."
   ]
  },
  {
   "cell_type": "code",
   "execution_count": null,
   "metadata": {
    "scrolled": true,
    "slideshow": {
     "slide_type": "fragment"
    }
   },
   "outputs": [],
   "source": [
    "\n",
    "\n",
    "policy_creation_request = access.PolicyCreationRequest(code = code,\n",
    "                                                       description=description,\n",
    "                                                       applications=applications, \n",
    "                                                       grant=grant,\n",
    "                                                       selectors=[instrument_read_data_selector_definition, execute_list_instruments_selector_definition],\n",
    "                                                       _for = [_for],\n",
    "                                                       when = when\n",
    "                                                      )\n",
    "print(json.dumps(policy_creation_request.to_dict(), indent = 2))\n"
   ]
  },
  {
   "cell_type": "markdown",
   "metadata": {
    "slideshow": {
     "slide_type": "subslide"
    }
   },
   "source": [
    "We've built our `PolicyCreationRequest` in Python, and we can see this creates a JSON similar to before.\n",
    "This Policy allows Read access to instruments older than 7 days.\n",
    "Let's now upload this policy to LUSID."
   ]
  },
  {
   "cell_type": "code",
   "execution_count": null,
   "metadata": {
    "slideshow": {
     "slide_type": "fragment"
    }
   },
   "outputs": [],
   "source": [
    "try:\n",
    "    # [EARLY ACCESS] CreatePolicy: Create Policy\n",
    "    api_response = api_instance.create_policy(policy_creation_request)\n",
    "    pprint(api_response)\n",
    "except access.rest.ApiException as e:\n",
    "    if not exception_guard(e, 613):\n",
    "        print(\"Exception when calling PoliciesApi->create_policy: %s\\n\" % e)"
   ]
  },
  {
   "cell_type": "markdown",
   "metadata": {
    "slideshow": {
     "slide_type": "notes"
    }
   },
   "source": [
    "We've built a more complex policy in Python."
   ]
  },
  {
   "cell_type": "markdown",
   "metadata": {
    "slideshow": {
     "slide_type": "subslide"
    }
   },
   "source": [
    "## Querying policy logs using LUMINESCE"
   ]
  },
  {
   "cell_type": "markdown",
   "metadata": {
    "slideshow": {
     "slide_type": "fragment"
    }
   },
   "source": [
    "We can use LUMINESCE to query access logs, seeing what users have accessed, whether they were successful or whether they did not have the correct entitlements to the LUSID feature."
   ]
  },
  {
   "cell_type": "code",
   "execution_count": null,
   "metadata": {
    "slideshow": {
     "slide_type": "fragment"
    }
   },
   "outputs": [],
   "source": [
    "%%luminesce \n",
    "SELECT ^ FROM Lusid.Logs.Metrics.Entitlement LIMIT 100;"
   ]
  },
  {
   "cell_type": "markdown",
   "metadata": {
    "slideshow": {
     "slide_type": "notes"
    }
   },
   "source": [
    "Here we see a list of recent access requests, providing the User id, the ActionId of the policy that was applied, the id of the resource requested, and the outcome of the access request."
   ]
  }
 ],
 "metadata": {
  "celltoolbar": "Slideshow",
  "kernelspec": {
   "display_name": "Python 3 (ipykernel)",
   "language": "python",
   "name": "python3"
  },
  "language_info": {
   "codemirror_mode": {
    "name": "ipython",
    "version": 3
   },
   "file_extension": ".py",
   "mimetype": "text/x-python",
   "name": "python",
   "nbconvert_exporter": "python",
   "pygments_lexer": "ipython3",
   "version": "3.9.7"
  },
  "vscode": {
   "interpreter": {
    "hash": "b0fa6594d8f4cbf19f97940f81e996739fb7646882a419484c72d19e05852a7e"
   }
  }
 },
 "nbformat": 4,
 "nbformat_minor": 2
}
